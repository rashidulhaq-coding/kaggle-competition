{
 "cells": [
  {
   "cell_type": "code",
   "execution_count": 1,
   "id": "322b4ecc",
   "metadata": {
    "_cell_guid": "b1076dfc-b9ad-4769-8c92-a6c4dae69d19",
    "_uuid": "8f2839f25d086af736a60e9eeb907d3b93b6e0e5",
    "execution": {
     "iopub.execute_input": "2024-08-05T17:04:51.922063Z",
     "iopub.status.busy": "2024-08-05T17:04:51.921686Z",
     "iopub.status.idle": "2024-08-05T17:05:06.320415Z",
     "shell.execute_reply": "2024-08-05T17:05:06.319595Z"
    },
    "papermill": {
     "duration": 14.421732,
     "end_time": "2024-08-05T17:05:06.322885",
     "exception": false,
     "start_time": "2024-08-05T17:04:51.901153",
     "status": "completed"
    },
    "tags": []
   },
   "outputs": [
    {
     "name": "stderr",
     "output_type": "stream",
     "text": [
      "2024-08-05 17:04:54.372079: E external/local_xla/xla/stream_executor/cuda/cuda_dnn.cc:9261] Unable to register cuDNN factory: Attempting to register factory for plugin cuDNN when one has already been registered\n",
      "2024-08-05 17:04:54.372219: E external/local_xla/xla/stream_executor/cuda/cuda_fft.cc:607] Unable to register cuFFT factory: Attempting to register factory for plugin cuFFT when one has already been registered\n",
      "2024-08-05 17:04:54.490704: E external/local_xla/xla/stream_executor/cuda/cuda_blas.cc:1515] Unable to register cuBLAS factory: Attempting to register factory for plugin cuBLAS when one has already been registered\n"
     ]
    }
   ],
   "source": [
    "import random\n",
    "import numpy as np\n",
    "import pandas as pd\n",
    "import matplotlib.pyplot as plt\n",
    "import matplotlib.image as mpimg\n",
    "\n",
    "import tensorflow as tf\n",
    "import tensorflow_hub as hub\n",
    "from tensorflow import keras\n",
    "from tensorflow.keras import layers\n",
    "\n",
    "\n",
    "from sklearn.model_selection import train_test_split\n",
    "from sklearn.preprocessing import StandardScaler\n",
    "from sklearn.model_selection import StratifiedKFold\n",
    "from sklearn.utils import resample\n",
    "from sklearn.utils import shuffle\n",
    "     \n",
    "import os\n",
    "# for dirname, _, filenames in os.walk('/kaggle/input'):\n",
    "#     for filename in filenames:\n",
    "#         print(os.path.join(dirname, filename))\n",
    "pd.set_option('display.max_columns', None)\n",
    "pd.set_option('display.max_rows', None)"
   ]
  },
  {
   "cell_type": "code",
   "execution_count": 2,
   "id": "5facea55",
   "metadata": {
    "execution": {
     "iopub.execute_input": "2024-08-05T17:05:06.363537Z",
     "iopub.status.busy": "2024-08-05T17:05:06.362440Z",
     "iopub.status.idle": "2024-08-05T17:05:13.423625Z",
     "shell.execute_reply": "2024-08-05T17:05:13.422719Z"
    },
    "papermill": {
     "duration": 7.084483,
     "end_time": "2024-08-05T17:05:13.426347",
     "exception": false,
     "start_time": "2024-08-05T17:05:06.341864",
     "status": "completed"
    },
    "tags": []
   },
   "outputs": [
    {
     "name": "stderr",
     "output_type": "stream",
     "text": [
      "/tmp/ipykernel_24/2653809078.py:1: DtypeWarning: Columns (51,52) have mixed types. Specify dtype option on import or set low_memory=False.\n",
      "  df = pd.read_csv('/kaggle/input/isic-2024-challenge/train-metadata.csv')\n"
     ]
    }
   ],
   "source": [
    "df = pd.read_csv('/kaggle/input/isic-2024-challenge/train-metadata.csv')\n",
    "df_test = pd.read_csv('/kaggle/input/isic-2024-challenge/test-metadata.csv')"
   ]
  },
  {
   "cell_type": "code",
   "execution_count": 3,
   "id": "ac15f6ca",
   "metadata": {
    "execution": {
     "iopub.execute_input": "2024-08-05T17:05:13.466213Z",
     "iopub.status.busy": "2024-08-05T17:05:13.465891Z",
     "iopub.status.idle": "2024-08-05T17:05:13.520668Z",
     "shell.execute_reply": "2024-08-05T17:05:13.519677Z"
    },
    "papermill": {
     "duration": 0.076936,
     "end_time": "2024-08-05T17:05:13.522895",
     "exception": false,
     "start_time": "2024-08-05T17:05:13.445959",
     "status": "completed"
    },
    "tags": []
   },
   "outputs": [
    {
     "data": {
      "text/html": [
       "<div>\n",
       "<style scoped>\n",
       "    .dataframe tbody tr th:only-of-type {\n",
       "        vertical-align: middle;\n",
       "    }\n",
       "\n",
       "    .dataframe tbody tr th {\n",
       "        vertical-align: top;\n",
       "    }\n",
       "\n",
       "    .dataframe thead th {\n",
       "        text-align: right;\n",
       "    }\n",
       "</style>\n",
       "<table border=\"1\" class=\"dataframe\">\n",
       "  <thead>\n",
       "    <tr style=\"text-align: right;\">\n",
       "      <th></th>\n",
       "      <th>isic_id</th>\n",
       "      <th>target</th>\n",
       "      <th>patient_id</th>\n",
       "      <th>age_approx</th>\n",
       "      <th>sex</th>\n",
       "      <th>anatom_site_general</th>\n",
       "      <th>clin_size_long_diam_mm</th>\n",
       "      <th>image_type</th>\n",
       "      <th>tbp_tile_type</th>\n",
       "      <th>tbp_lv_A</th>\n",
       "      <th>tbp_lv_Aext</th>\n",
       "      <th>tbp_lv_B</th>\n",
       "      <th>tbp_lv_Bext</th>\n",
       "      <th>tbp_lv_C</th>\n",
       "      <th>tbp_lv_Cext</th>\n",
       "      <th>tbp_lv_H</th>\n",
       "      <th>tbp_lv_Hext</th>\n",
       "      <th>tbp_lv_L</th>\n",
       "      <th>tbp_lv_Lext</th>\n",
       "      <th>tbp_lv_areaMM2</th>\n",
       "      <th>tbp_lv_area_perim_ratio</th>\n",
       "      <th>tbp_lv_color_std_mean</th>\n",
       "      <th>tbp_lv_deltaA</th>\n",
       "      <th>tbp_lv_deltaB</th>\n",
       "      <th>tbp_lv_deltaL</th>\n",
       "      <th>tbp_lv_deltaLB</th>\n",
       "      <th>tbp_lv_deltaLBnorm</th>\n",
       "      <th>tbp_lv_eccentricity</th>\n",
       "      <th>tbp_lv_location</th>\n",
       "      <th>tbp_lv_location_simple</th>\n",
       "      <th>tbp_lv_minorAxisMM</th>\n",
       "      <th>tbp_lv_nevi_confidence</th>\n",
       "      <th>tbp_lv_norm_border</th>\n",
       "      <th>tbp_lv_norm_color</th>\n",
       "      <th>tbp_lv_perimeterMM</th>\n",
       "      <th>tbp_lv_radial_color_std_max</th>\n",
       "      <th>tbp_lv_stdL</th>\n",
       "      <th>tbp_lv_stdLExt</th>\n",
       "      <th>tbp_lv_symm_2axis</th>\n",
       "      <th>tbp_lv_symm_2axis_angle</th>\n",
       "      <th>tbp_lv_x</th>\n",
       "      <th>tbp_lv_y</th>\n",
       "      <th>tbp_lv_z</th>\n",
       "      <th>attribution</th>\n",
       "      <th>copyright_license</th>\n",
       "      <th>lesion_id</th>\n",
       "      <th>iddx_full</th>\n",
       "      <th>iddx_1</th>\n",
       "      <th>iddx_2</th>\n",
       "      <th>iddx_3</th>\n",
       "      <th>iddx_4</th>\n",
       "      <th>iddx_5</th>\n",
       "      <th>mel_mitotic_index</th>\n",
       "      <th>mel_thick_mm</th>\n",
       "      <th>tbp_lv_dnn_lesion_confidence</th>\n",
       "    </tr>\n",
       "  </thead>\n",
       "  <tbody>\n",
       "    <tr>\n",
       "      <th>0</th>\n",
       "      <td>ISIC_0015670</td>\n",
       "      <td>0</td>\n",
       "      <td>IP_1235828</td>\n",
       "      <td>60.0</td>\n",
       "      <td>male</td>\n",
       "      <td>lower extremity</td>\n",
       "      <td>3.04</td>\n",
       "      <td>TBP tile: close-up</td>\n",
       "      <td>3D: white</td>\n",
       "      <td>20.244422</td>\n",
       "      <td>16.261975</td>\n",
       "      <td>26.922447</td>\n",
       "      <td>23.954773</td>\n",
       "      <td>33.684638</td>\n",
       "      <td>28.953117</td>\n",
       "      <td>53.058545</td>\n",
       "      <td>55.828924</td>\n",
       "      <td>54.367448</td>\n",
       "      <td>62.025701</td>\n",
       "      <td>3.152561</td>\n",
       "      <td>27.476170</td>\n",
       "      <td>0.00000</td>\n",
       "      <td>3.982447</td>\n",
       "      <td>2.967674</td>\n",
       "      <td>-7.658253</td>\n",
       "      <td>8.360566</td>\n",
       "      <td>5.784302</td>\n",
       "      <td>0.901302</td>\n",
       "      <td>Right Leg - Upper</td>\n",
       "      <td>Right Leg</td>\n",
       "      <td>1.543016</td>\n",
       "      <td>2.628592e-03</td>\n",
       "      <td>7.091360</td>\n",
       "      <td>0.000000</td>\n",
       "      <td>9.307003</td>\n",
       "      <td>0.00000</td>\n",
       "      <td>2.036195</td>\n",
       "      <td>2.637780</td>\n",
       "      <td>0.590476</td>\n",
       "      <td>85</td>\n",
       "      <td>-182.703552</td>\n",
       "      <td>613.493652</td>\n",
       "      <td>-42.427948</td>\n",
       "      <td>Memorial Sloan Kettering Cancer Center</td>\n",
       "      <td>CC-BY</td>\n",
       "      <td>NaN</td>\n",
       "      <td>Benign</td>\n",
       "      <td>Benign</td>\n",
       "      <td>NaN</td>\n",
       "      <td>NaN</td>\n",
       "      <td>NaN</td>\n",
       "      <td>NaN</td>\n",
       "      <td>NaN</td>\n",
       "      <td>NaN</td>\n",
       "      <td>97.517282</td>\n",
       "    </tr>\n",
       "    <tr>\n",
       "      <th>1</th>\n",
       "      <td>ISIC_0015845</td>\n",
       "      <td>0</td>\n",
       "      <td>IP_8170065</td>\n",
       "      <td>60.0</td>\n",
       "      <td>male</td>\n",
       "      <td>head/neck</td>\n",
       "      <td>1.10</td>\n",
       "      <td>TBP tile: close-up</td>\n",
       "      <td>3D: white</td>\n",
       "      <td>31.712570</td>\n",
       "      <td>25.364740</td>\n",
       "      <td>26.331000</td>\n",
       "      <td>24.549290</td>\n",
       "      <td>41.219030</td>\n",
       "      <td>35.299260</td>\n",
       "      <td>39.702910</td>\n",
       "      <td>44.064040</td>\n",
       "      <td>48.861520</td>\n",
       "      <td>55.362360</td>\n",
       "      <td>0.919497</td>\n",
       "      <td>12.235290</td>\n",
       "      <td>0.00000</td>\n",
       "      <td>6.347830</td>\n",
       "      <td>1.781713</td>\n",
       "      <td>-6.500838</td>\n",
       "      <td>6.839008</td>\n",
       "      <td>4.987244</td>\n",
       "      <td>0.639885</td>\n",
       "      <td>Head &amp; Neck</td>\n",
       "      <td>Head &amp; Neck</td>\n",
       "      <td>0.821918</td>\n",
       "      <td>1.334303e-07</td>\n",
       "      <td>2.116402</td>\n",
       "      <td>0.000000</td>\n",
       "      <td>3.354148</td>\n",
       "      <td>0.00000</td>\n",
       "      <td>0.853227</td>\n",
       "      <td>3.912844</td>\n",
       "      <td>0.285714</td>\n",
       "      <td>55</td>\n",
       "      <td>-0.078308</td>\n",
       "      <td>1575.687000</td>\n",
       "      <td>57.174500</td>\n",
       "      <td>Memorial Sloan Kettering Cancer Center</td>\n",
       "      <td>CC-BY</td>\n",
       "      <td>IL_6727506</td>\n",
       "      <td>Benign</td>\n",
       "      <td>Benign</td>\n",
       "      <td>NaN</td>\n",
       "      <td>NaN</td>\n",
       "      <td>NaN</td>\n",
       "      <td>NaN</td>\n",
       "      <td>NaN</td>\n",
       "      <td>NaN</td>\n",
       "      <td>3.141455</td>\n",
       "    </tr>\n",
       "    <tr>\n",
       "      <th>2</th>\n",
       "      <td>ISIC_0015864</td>\n",
       "      <td>0</td>\n",
       "      <td>IP_6724798</td>\n",
       "      <td>60.0</td>\n",
       "      <td>male</td>\n",
       "      <td>posterior torso</td>\n",
       "      <td>3.40</td>\n",
       "      <td>TBP tile: close-up</td>\n",
       "      <td>3D: XP</td>\n",
       "      <td>22.575830</td>\n",
       "      <td>17.128170</td>\n",
       "      <td>37.970460</td>\n",
       "      <td>33.485410</td>\n",
       "      <td>44.174920</td>\n",
       "      <td>37.611800</td>\n",
       "      <td>59.265850</td>\n",
       "      <td>62.909730</td>\n",
       "      <td>53.961180</td>\n",
       "      <td>61.670520</td>\n",
       "      <td>3.265153</td>\n",
       "      <td>24.184620</td>\n",
       "      <td>0.00000</td>\n",
       "      <td>5.447655</td>\n",
       "      <td>4.485044</td>\n",
       "      <td>-7.709336</td>\n",
       "      <td>9.092376</td>\n",
       "      <td>6.290359</td>\n",
       "      <td>0.932147</td>\n",
       "      <td>Torso Back Top Third</td>\n",
       "      <td>Torso Back</td>\n",
       "      <td>1.194905</td>\n",
       "      <td>2.959177e-04</td>\n",
       "      <td>4.798335</td>\n",
       "      <td>0.000000</td>\n",
       "      <td>8.886309</td>\n",
       "      <td>0.00000</td>\n",
       "      <td>1.743651</td>\n",
       "      <td>1.950777</td>\n",
       "      <td>0.361905</td>\n",
       "      <td>105</td>\n",
       "      <td>123.649700</td>\n",
       "      <td>1472.010000</td>\n",
       "      <td>232.908900</td>\n",
       "      <td>Memorial Sloan Kettering Cancer Center</td>\n",
       "      <td>CC-BY</td>\n",
       "      <td>NaN</td>\n",
       "      <td>Benign</td>\n",
       "      <td>Benign</td>\n",
       "      <td>NaN</td>\n",
       "      <td>NaN</td>\n",
       "      <td>NaN</td>\n",
       "      <td>NaN</td>\n",
       "      <td>NaN</td>\n",
       "      <td>NaN</td>\n",
       "      <td>99.804040</td>\n",
       "    </tr>\n",
       "    <tr>\n",
       "      <th>3</th>\n",
       "      <td>ISIC_0015902</td>\n",
       "      <td>0</td>\n",
       "      <td>IP_4111386</td>\n",
       "      <td>65.0</td>\n",
       "      <td>male</td>\n",
       "      <td>anterior torso</td>\n",
       "      <td>3.22</td>\n",
       "      <td>TBP tile: close-up</td>\n",
       "      <td>3D: XP</td>\n",
       "      <td>14.242329</td>\n",
       "      <td>12.164757</td>\n",
       "      <td>21.448144</td>\n",
       "      <td>21.121356</td>\n",
       "      <td>25.746200</td>\n",
       "      <td>24.374023</td>\n",
       "      <td>56.414429</td>\n",
       "      <td>60.060388</td>\n",
       "      <td>18.649518</td>\n",
       "      <td>23.314841</td>\n",
       "      <td>6.079940</td>\n",
       "      <td>14.889242</td>\n",
       "      <td>0.51452</td>\n",
       "      <td>2.077572</td>\n",
       "      <td>0.326788</td>\n",
       "      <td>-4.665323</td>\n",
       "      <td>4.783413</td>\n",
       "      <td>6.400196</td>\n",
       "      <td>0.654458</td>\n",
       "      <td>Torso Front Top Half</td>\n",
       "      <td>Torso Front</td>\n",
       "      <td>2.481328</td>\n",
       "      <td>2.198945e+01</td>\n",
       "      <td>1.975874</td>\n",
       "      <td>1.771705</td>\n",
       "      <td>9.514499</td>\n",
       "      <td>0.66469</td>\n",
       "      <td>1.258541</td>\n",
       "      <td>1.573733</td>\n",
       "      <td>0.209581</td>\n",
       "      <td>130</td>\n",
       "      <td>-141.024780</td>\n",
       "      <td>1442.185791</td>\n",
       "      <td>58.359802</td>\n",
       "      <td>ACEMID MIA</td>\n",
       "      <td>CC-0</td>\n",
       "      <td>NaN</td>\n",
       "      <td>Benign</td>\n",
       "      <td>Benign</td>\n",
       "      <td>NaN</td>\n",
       "      <td>NaN</td>\n",
       "      <td>NaN</td>\n",
       "      <td>NaN</td>\n",
       "      <td>NaN</td>\n",
       "      <td>NaN</td>\n",
       "      <td>99.989998</td>\n",
       "    </tr>\n",
       "    <tr>\n",
       "      <th>4</th>\n",
       "      <td>ISIC_0024200</td>\n",
       "      <td>0</td>\n",
       "      <td>IP_8313778</td>\n",
       "      <td>55.0</td>\n",
       "      <td>male</td>\n",
       "      <td>anterior torso</td>\n",
       "      <td>2.73</td>\n",
       "      <td>TBP tile: close-up</td>\n",
       "      <td>3D: white</td>\n",
       "      <td>24.725520</td>\n",
       "      <td>20.057470</td>\n",
       "      <td>26.464900</td>\n",
       "      <td>25.710460</td>\n",
       "      <td>36.217980</td>\n",
       "      <td>32.608740</td>\n",
       "      <td>46.946070</td>\n",
       "      <td>52.041180</td>\n",
       "      <td>46.276310</td>\n",
       "      <td>54.855740</td>\n",
       "      <td>2.101708</td>\n",
       "      <td>19.902560</td>\n",
       "      <td>0.00000</td>\n",
       "      <td>4.668053</td>\n",
       "      <td>0.754434</td>\n",
       "      <td>-8.579431</td>\n",
       "      <td>9.148495</td>\n",
       "      <td>6.531302</td>\n",
       "      <td>0.946448</td>\n",
       "      <td>Torso Front Top Half</td>\n",
       "      <td>Torso Front</td>\n",
       "      <td>0.929916</td>\n",
       "      <td>1.378832e-03</td>\n",
       "      <td>3.658854</td>\n",
       "      <td>0.000000</td>\n",
       "      <td>6.467562</td>\n",
       "      <td>0.00000</td>\n",
       "      <td>2.085409</td>\n",
       "      <td>2.480509</td>\n",
       "      <td>0.313433</td>\n",
       "      <td>20</td>\n",
       "      <td>-72.315640</td>\n",
       "      <td>1488.720000</td>\n",
       "      <td>21.428960</td>\n",
       "      <td>Memorial Sloan Kettering Cancer Center</td>\n",
       "      <td>CC-BY</td>\n",
       "      <td>NaN</td>\n",
       "      <td>Benign</td>\n",
       "      <td>Benign</td>\n",
       "      <td>NaN</td>\n",
       "      <td>NaN</td>\n",
       "      <td>NaN</td>\n",
       "      <td>NaN</td>\n",
       "      <td>NaN</td>\n",
       "      <td>NaN</td>\n",
       "      <td>70.442510</td>\n",
       "    </tr>\n",
       "  </tbody>\n",
       "</table>\n",
       "</div>"
      ],
      "text/plain": [
       "        isic_id  target  patient_id  age_approx   sex anatom_site_general  \\\n",
       "0  ISIC_0015670       0  IP_1235828        60.0  male     lower extremity   \n",
       "1  ISIC_0015845       0  IP_8170065        60.0  male           head/neck   \n",
       "2  ISIC_0015864       0  IP_6724798        60.0  male     posterior torso   \n",
       "3  ISIC_0015902       0  IP_4111386        65.0  male      anterior torso   \n",
       "4  ISIC_0024200       0  IP_8313778        55.0  male      anterior torso   \n",
       "\n",
       "   clin_size_long_diam_mm          image_type tbp_tile_type   tbp_lv_A  \\\n",
       "0                    3.04  TBP tile: close-up     3D: white  20.244422   \n",
       "1                    1.10  TBP tile: close-up     3D: white  31.712570   \n",
       "2                    3.40  TBP tile: close-up        3D: XP  22.575830   \n",
       "3                    3.22  TBP tile: close-up        3D: XP  14.242329   \n",
       "4                    2.73  TBP tile: close-up     3D: white  24.725520   \n",
       "\n",
       "   tbp_lv_Aext   tbp_lv_B  tbp_lv_Bext   tbp_lv_C  tbp_lv_Cext   tbp_lv_H  \\\n",
       "0    16.261975  26.922447    23.954773  33.684638    28.953117  53.058545   \n",
       "1    25.364740  26.331000    24.549290  41.219030    35.299260  39.702910   \n",
       "2    17.128170  37.970460    33.485410  44.174920    37.611800  59.265850   \n",
       "3    12.164757  21.448144    21.121356  25.746200    24.374023  56.414429   \n",
       "4    20.057470  26.464900    25.710460  36.217980    32.608740  46.946070   \n",
       "\n",
       "   tbp_lv_Hext   tbp_lv_L  tbp_lv_Lext  tbp_lv_areaMM2  \\\n",
       "0    55.828924  54.367448    62.025701        3.152561   \n",
       "1    44.064040  48.861520    55.362360        0.919497   \n",
       "2    62.909730  53.961180    61.670520        3.265153   \n",
       "3    60.060388  18.649518    23.314841        6.079940   \n",
       "4    52.041180  46.276310    54.855740        2.101708   \n",
       "\n",
       "   tbp_lv_area_perim_ratio  tbp_lv_color_std_mean  tbp_lv_deltaA  \\\n",
       "0                27.476170                0.00000       3.982447   \n",
       "1                12.235290                0.00000       6.347830   \n",
       "2                24.184620                0.00000       5.447655   \n",
       "3                14.889242                0.51452       2.077572   \n",
       "4                19.902560                0.00000       4.668053   \n",
       "\n",
       "   tbp_lv_deltaB  tbp_lv_deltaL  tbp_lv_deltaLB  tbp_lv_deltaLBnorm  \\\n",
       "0       2.967674      -7.658253        8.360566            5.784302   \n",
       "1       1.781713      -6.500838        6.839008            4.987244   \n",
       "2       4.485044      -7.709336        9.092376            6.290359   \n",
       "3       0.326788      -4.665323        4.783413            6.400196   \n",
       "4       0.754434      -8.579431        9.148495            6.531302   \n",
       "\n",
       "   tbp_lv_eccentricity       tbp_lv_location tbp_lv_location_simple  \\\n",
       "0             0.901302     Right Leg - Upper              Right Leg   \n",
       "1             0.639885           Head & Neck            Head & Neck   \n",
       "2             0.932147  Torso Back Top Third             Torso Back   \n",
       "3             0.654458  Torso Front Top Half            Torso Front   \n",
       "4             0.946448  Torso Front Top Half            Torso Front   \n",
       "\n",
       "   tbp_lv_minorAxisMM  tbp_lv_nevi_confidence  tbp_lv_norm_border  \\\n",
       "0            1.543016            2.628592e-03            7.091360   \n",
       "1            0.821918            1.334303e-07            2.116402   \n",
       "2            1.194905            2.959177e-04            4.798335   \n",
       "3            2.481328            2.198945e+01            1.975874   \n",
       "4            0.929916            1.378832e-03            3.658854   \n",
       "\n",
       "   tbp_lv_norm_color  tbp_lv_perimeterMM  tbp_lv_radial_color_std_max  \\\n",
       "0           0.000000            9.307003                      0.00000   \n",
       "1           0.000000            3.354148                      0.00000   \n",
       "2           0.000000            8.886309                      0.00000   \n",
       "3           1.771705            9.514499                      0.66469   \n",
       "4           0.000000            6.467562                      0.00000   \n",
       "\n",
       "   tbp_lv_stdL  tbp_lv_stdLExt  tbp_lv_symm_2axis  tbp_lv_symm_2axis_angle  \\\n",
       "0     2.036195        2.637780           0.590476                       85   \n",
       "1     0.853227        3.912844           0.285714                       55   \n",
       "2     1.743651        1.950777           0.361905                      105   \n",
       "3     1.258541        1.573733           0.209581                      130   \n",
       "4     2.085409        2.480509           0.313433                       20   \n",
       "\n",
       "     tbp_lv_x     tbp_lv_y    tbp_lv_z  \\\n",
       "0 -182.703552   613.493652  -42.427948   \n",
       "1   -0.078308  1575.687000   57.174500   \n",
       "2  123.649700  1472.010000  232.908900   \n",
       "3 -141.024780  1442.185791   58.359802   \n",
       "4  -72.315640  1488.720000   21.428960   \n",
       "\n",
       "                              attribution copyright_license   lesion_id  \\\n",
       "0  Memorial Sloan Kettering Cancer Center             CC-BY         NaN   \n",
       "1  Memorial Sloan Kettering Cancer Center             CC-BY  IL_6727506   \n",
       "2  Memorial Sloan Kettering Cancer Center             CC-BY         NaN   \n",
       "3                              ACEMID MIA              CC-0         NaN   \n",
       "4  Memorial Sloan Kettering Cancer Center             CC-BY         NaN   \n",
       "\n",
       "  iddx_full  iddx_1 iddx_2 iddx_3 iddx_4 iddx_5 mel_mitotic_index  \\\n",
       "0    Benign  Benign    NaN    NaN    NaN    NaN               NaN   \n",
       "1    Benign  Benign    NaN    NaN    NaN    NaN               NaN   \n",
       "2    Benign  Benign    NaN    NaN    NaN    NaN               NaN   \n",
       "3    Benign  Benign    NaN    NaN    NaN    NaN               NaN   \n",
       "4    Benign  Benign    NaN    NaN    NaN    NaN               NaN   \n",
       "\n",
       "   mel_thick_mm  tbp_lv_dnn_lesion_confidence  \n",
       "0           NaN                     97.517282  \n",
       "1           NaN                      3.141455  \n",
       "2           NaN                     99.804040  \n",
       "3           NaN                     99.989998  \n",
       "4           NaN                     70.442510  "
      ]
     },
     "execution_count": 3,
     "metadata": {},
     "output_type": "execute_result"
    }
   ],
   "source": [
    "df.head()"
   ]
  },
  {
   "cell_type": "markdown",
   "id": "f592d1f1",
   "metadata": {
    "papermill": {
     "duration": 0.019005,
     "end_time": "2024-08-05T17:05:13.562052",
     "exception": false,
     "start_time": "2024-08-05T17:05:13.543047",
     "status": "completed"
    },
    "tags": []
   },
   "source": [
    "## Constants"
   ]
  },
  {
   "cell_type": "code",
   "execution_count": 4,
   "id": "ffc89e64",
   "metadata": {
    "execution": {
     "iopub.execute_input": "2024-08-05T17:05:13.602195Z",
     "iopub.status.busy": "2024-08-05T17:05:13.601840Z",
     "iopub.status.idle": "2024-08-05T17:05:14.299623Z",
     "shell.execute_reply": "2024-08-05T17:05:14.298573Z"
    },
    "papermill": {
     "duration": 0.720913,
     "end_time": "2024-08-05T17:05:14.302136",
     "exception": false,
     "start_time": "2024-08-05T17:05:13.581223",
     "status": "completed"
    },
    "tags": []
   },
   "outputs": [],
   "source": [
    "RANDOM_STATE = 42\n",
    "IMAGE_SIZE=(224, 224)\n",
    "BATCH_SIZE = 32\n",
    "METRICS = [\n",
    "      keras.metrics.TruePositives(name='tp'),\n",
    "      keras.metrics.FalsePositives(name='fp'),\n",
    "      keras.metrics.TrueNegatives(name='tn'),\n",
    "      keras.metrics.FalseNegatives(name='fn'),\n",
    "      keras.metrics.AUC(name='auc'),\n",
    "      keras.metrics.AUC(name='prc', curve='PR'), # precision-recall curve\n",
    "]\n",
    "\n",
    "\n",
    "img_augmentation_layers = [\n",
    "    layers.RandomRotation(factor=0.15),\n",
    "    layers.RandomTranslation(height_factor=0.1, width_factor=0.1),\n",
    "    layers.RandomFlip(),\n",
    "    layers.RandomContrast(factor=0.1),\n",
    "]\n",
    "\n",
    "\n"
   ]
  },
  {
   "cell_type": "markdown",
   "id": "dbe0ee19",
   "metadata": {
    "papermill": {
     "duration": 0.019314,
     "end_time": "2024-08-05T17:05:14.341311",
     "exception": false,
     "start_time": "2024-08-05T17:05:14.321997",
     "status": "completed"
    },
    "tags": []
   },
   "source": [
    "## Helper functions"
   ]
  },
  {
   "cell_type": "code",
   "execution_count": 5,
   "id": "0ce9a416",
   "metadata": {
    "execution": {
     "iopub.execute_input": "2024-08-05T17:05:14.381512Z",
     "iopub.status.busy": "2024-08-05T17:05:14.381179Z",
     "iopub.status.idle": "2024-08-05T17:05:14.401663Z",
     "shell.execute_reply": "2024-08-05T17:05:14.400811Z"
    },
    "papermill": {
     "duration": 0.043042,
     "end_time": "2024-08-05T17:05:14.403914",
     "exception": false,
     "start_time": "2024-08-05T17:05:14.360872",
     "status": "completed"
    },
    "tags": []
   },
   "outputs": [],
   "source": [
    "import tensorflow as tf\n",
    "from typing import NamedTuple, Optional\n",
    "from sklearn import preprocessing \n",
    "\n",
    "\n",
    "def add_path(path):\n",
    "    return \"/kaggle/input/isic-2024-challenge/train-image/image/\"+path+'.jpg'\n",
    "\n",
    "def get_sample():\n",
    "    df_positive = df[df['target']==1].reset_index(drop=True)\n",
    "    df_negative = df[df['target']==0].reset_index(drop=True)\n",
    "    df_negative= resample(df_negative,n_samples=len(df_positive)*20,random_state=RANDOM_STATE)\n",
    "#     df_positive = resample(df_positive,n_samples=len(df_positive),random_state=RANDOM_STATE)\n",
    "    \n",
    "    df_concat = pd.concat([df_positive,df_negative])\n",
    "    df_concat = shuffle(df_concat).reset_index(drop=True)\n",
    "    \n",
    "    print(f'positive shape: {df_positive.shape}, negative shape: {df_negative.shape}')\n",
    "    print(f'Full dataset shape: {df_concat.shape}')\n",
    "    \n",
    "    return df_concat\n",
    "\n",
    "def visualize(df,idx):\n",
    "    images = []\n",
    "    labels = []\n",
    "    for id in idx:\n",
    "        current_row = df.iloc[id]\n",
    "        images.append(plt.imread(current_row[\"file_path\"]))\n",
    "        labels.append(current_row[\"target\"])\n",
    "    \n",
    "    for i, (image, label) in enumerate(zip(images, labels), start=1):\n",
    "        plt.subplot(3, 3, i)  # Adjusted to start from 1\n",
    "        plt.imshow(image)\n",
    "        plt.axis(\"off\")\n",
    "        plt.title(label)\n",
    "    plt.show()\n",
    "\n",
    "def encode(df, columns):\n",
    "    label_encoder = preprocessing.LabelEncoder() \n",
    "    for col in columns:\n",
    "        df[col]= label_encoder.fit_transform(df[col])\n",
    "    return df\n",
    "\n",
    "def scale_columns(df, columns):\n",
    "    scaler = preprocessing.StandardScaler()\n",
    "    \n",
    "    # Transform each specified column\n",
    "    for col in columns:\n",
    "        df[col] = scaler.fit_transform(df[[col]])\n",
    "        \n",
    "    return df\n",
    "\n",
    "class Metadata(NamedTuple):\n",
    "    image: Optional[tf.Tensor] = None\n",
    "    metadata: Optional[tf.Tensor] = None\n",
    "\n",
    "\n",
    "\n",
    "def img_augmentation(images):\n",
    "    for layer in img_augmentation_layers:\n",
    "        images = layer(images)\n",
    "    return images\n",
    "\n",
    "def preprocess_image(path):\n",
    "    image = tf.io.read_file(path)\n",
    "    image = tf.image.decode_jpeg(image, channels=3)\n",
    "    image = tf.image.resize(image, IMAGE_SIZE)\n",
    "    image = image / 255.0\n",
    "    image = img_augmentation(image)\n",
    "    return image\n",
    "\n",
    "\n",
    "\n",
    "\n",
    "\n",
    "def preprocess_metadata(filtered_dict):\n",
    "    # Convert metadata to tensor\n",
    "    tensor_dict = tf.stack(list(filtered_dict.values()), axis=-1)\n",
    "    return tensor_dict\n",
    "\n",
    "def load_image_and_metadata(metadata, image_size):\n",
    "    image = preprocess_image(metadata['file_path'], image_size)\n",
    "    filtered_dict = {k: v for k, v in metadata.items() if k != 'file_path'}\n",
    "    metadata_tensor = preprocess_metadata(filtered_dict)\n",
    "    return Metadata(image=image, metadata=metadata_tensor)\n",
    "\n",
    "\n",
    "def unbatch_test_dataset(test_dataset,model):\n",
    "    unbatched_dataset = test_dataset.unbatch()\n",
    "\n",
    "    # Initialize lists to store true labels and predictions\n",
    "    images = []\n",
    "    labels = []\n",
    "\n",
    "\n",
    "    # Iterate over the unbatched dataset to get predictions and true labels\n",
    "    for img_batch, label_batch in test_dataset:\n",
    "        images.append(img_batch)\n",
    "        labels.append(label_batch)\n",
    "\n",
    "    # Convert lists to numpy arrays\n",
    "    images = np.concatenate(images, axis=0)\n",
    "    labels = np.concatenate(labels, axis=0)\n",
    "\n",
    "    # Make predictions on the entire dataset\n",
    "    y_pred = model.predict(images).ravel()  # Flatten predictions if necessary\n",
    "\n",
    "    # Convert labels to a flat array\n",
    "    y_true = labels.ravel()\n",
    "    # Convert lists to numpy arrays\n",
    "    y_true = np.array(y_true)\n",
    "    y_pred = np.array(y_pred)\n",
    "    return y_true, y_pred\n"
   ]
  },
  {
   "cell_type": "code",
   "execution_count": 6,
   "id": "613de02b",
   "metadata": {
    "execution": {
     "iopub.execute_input": "2024-08-05T17:05:14.443629Z",
     "iopub.status.busy": "2024-08-05T17:05:14.443311Z",
     "iopub.status.idle": "2024-08-05T17:05:14.448920Z",
     "shell.execute_reply": "2024-08-05T17:05:14.447989Z"
    },
    "papermill": {
     "duration": 0.027437,
     "end_time": "2024-08-05T17:05:14.450709",
     "exception": false,
     "start_time": "2024-08-05T17:05:14.423272",
     "status": "completed"
    },
    "tags": []
   },
   "outputs": [],
   "source": [
    "def calculate_weight(pos,neg):\n",
    "\n",
    "    # Total number of samples\n",
    "    total = pos + neg\n",
    "\n",
    "    # Calculate class weights\n",
    "    weight_for_0 = (1 / neg) * (total / 2.0)\n",
    "    weight_for_1 = (1 / pos) * (total / 2.0)\n",
    "\n",
    "    class_weight = {0: weight_for_0, 1: weight_for_1}\n",
    "\n",
    "    print('Weight for class 0 (Negative): {:.2f}'.format(weight_for_0))\n",
    "    print('Weight for class 1 (Positive): {:.2f}'.format(weight_for_1))\n",
    "    return class_weight"
   ]
  },
  {
   "cell_type": "code",
   "execution_count": 7,
   "id": "6fb7d07d",
   "metadata": {
    "execution": {
     "iopub.execute_input": "2024-08-05T17:05:14.489903Z",
     "iopub.status.busy": "2024-08-05T17:05:14.489607Z",
     "iopub.status.idle": "2024-08-05T17:05:14.493576Z",
     "shell.execute_reply": "2024-08-05T17:05:14.492666Z"
    },
    "papermill": {
     "duration": 0.026009,
     "end_time": "2024-08-05T17:05:14.495579",
     "exception": false,
     "start_time": "2024-08-05T17:05:14.469570",
     "status": "completed"
    },
    "tags": []
   },
   "outputs": [],
   "source": [
    "# random_choices = random.choices(list(range(df.shape[0])), k=9)\n",
    "# visualize(df,random_choices)"
   ]
  },
  {
   "cell_type": "code",
   "execution_count": 8,
   "id": "b489dc37",
   "metadata": {
    "execution": {
     "iopub.execute_input": "2024-08-05T17:05:14.535137Z",
     "iopub.status.busy": "2024-08-05T17:05:14.534854Z",
     "iopub.status.idle": "2024-08-05T17:05:14.544751Z",
     "shell.execute_reply": "2024-08-05T17:05:14.543882Z"
    },
    "papermill": {
     "duration": 0.031945,
     "end_time": "2024-08-05T17:05:14.546637",
     "exception": false,
     "start_time": "2024-08-05T17:05:14.514692",
     "status": "completed"
    },
    "tags": []
   },
   "outputs": [],
   "source": [
    "def create_dataset(df, image_size=(139, 139), batch_size=32, training=False, return_type='both'):\n",
    "    labels = df[['target']]\n",
    "\n",
    "    dataset = tf.data.Dataset.from_tensor_slices((df['file_path'].values, labels))\n",
    "    dataset = dataset.map(lambda x, y: (preprocess_image(x, image_size), y),\n",
    "                              num_parallel_calls=tf.data.experimental.AUTOTUNE)\n",
    "    # Shuffle and batch the dataset\n",
    "    if training:\n",
    "        dataset = dataset.shuffle(len(df))\n",
    "    dataset = dataset.batch(batch_size)\n",
    "    dataset = dataset.prefetch(buffer_size=tf.data.experimental.AUTOTUNE)\n",
    "    \n",
    "    return dataset\n",
    "\n",
    "from sklearn.metrics import roc_auc_score\n",
    "import numpy as np\n",
    "\n",
    "def compute_partial_auc(y_true, y_pred, min_tpr):\n",
    "    \"\"\"\n",
    "    Computes the partial AUC score given true labels, predicted scores, and minimum TPR.\n",
    "\n",
    "    Parameters:\n",
    "    y_true (np.array): True binary labels.\n",
    "    y_pred (np.array): Predicted probabilities or scores.\n",
    "    min_tpr (float): Minimum true positive rate (TPR) to consider for partial AUC.\n",
    "\n",
    "    Returns:\n",
    "    partial_auc (float): The computed partial AUC score.\n",
    "    \"\"\"\n",
    "    # Compute the transformed ground truth and predictions\n",
    "    v_gt = np.abs(y_true - 1)\n",
    "    v_pred = 1.0 - y_pred\n",
    "\n",
    "    # Compute the maximum false positive rate (FPR) based on the minimum TPR\n",
    "    max_fpr = 1 - min_tpr\n",
    "\n",
    "    # Compute the partial AUC using roc_auc_score\n",
    "    partial_auc_scaled = roc_auc_score(v_gt, v_pred, max_fpr=max_fpr)\n",
    "\n",
    "    # Rescale the partial AUC\n",
    "    partial_auc = 0.5 * max_fpr**2 + (max_fpr - 0.5 * max_fpr**2) * (partial_auc_scaled - 0.5)\n",
    "\n",
    "    return partial_auc\n",
    "\n",
    "# Example usage\n",
    "# y_true = np.array([...])  # Replace with your true labels\n",
    "# y_pred = np.array([...])  # Replace with your predicted scores\n",
    "# min_tpr = 0.9  # Example minimum TPR value\n",
    "# partial_auc = compute_partial_auc(y_true, y_pred, min_tpr)\n",
    "# print(f\"Partial AUC: {partial_auc:.4f}\")\n"
   ]
  },
  {
   "cell_type": "code",
   "execution_count": 9,
   "id": "1f907b77",
   "metadata": {
    "execution": {
     "iopub.execute_input": "2024-08-05T17:05:14.586159Z",
     "iopub.status.busy": "2024-08-05T17:05:14.585868Z",
     "iopub.status.idle": "2024-08-05T17:05:14.598243Z",
     "shell.execute_reply": "2024-08-05T17:05:14.597381Z"
    },
    "papermill": {
     "duration": 0.034545,
     "end_time": "2024-08-05T17:05:14.600205",
     "exception": false,
     "start_time": "2024-08-05T17:05:14.565660",
     "status": "completed"
    },
    "tags": []
   },
   "outputs": [],
   "source": [
    "def create_dataset(df, image_size=(139, 139), batch_size=32, training=False, return_type='both'):\n",
    "    # Extract labels\n",
    "    labels = df[['target']]\n",
    "    \n",
    "    # Depending on the return type, prepare the dataset accordingly\n",
    "    if return_type == 'both':\n",
    "        dataset = tf.data.Dataset.from_tensor_slices((dict(df.drop(columns=['target'])), labels))\n",
    "        dataset = dataset.map(lambda x, y: (load_image_and_metadata(x, image_size), y),\n",
    "                              num_parallel_calls=tf.data.experimental.AUTOTUNE)\n",
    "    elif return_type == 'metadata':\n",
    "        dataset = tf.data.Dataset.from_tensor_slices((dict(df.drop(columns=['target'])), labels))\n",
    "        dataset = dataset.map(lambda x, y: (preprocess_metadata({k: v for k, v in x.items() if k != 'file_path'}), y),\n",
    "                              num_parallel_calls=tf.data.experimental.AUTOTUNE)\n",
    "    elif return_type == 'images':\n",
    "        dataset = tf.data.Dataset.from_tensor_slices((df['file_path'].values, labels))\n",
    "        dataset = dataset.map(lambda x, y: (preprocess_image(x, image_size), y),\n",
    "                              num_parallel_calls=tf.data.experimental.AUTOTUNE)\n",
    "    else:\n",
    "        raise ValueError(\"Invalid return_type. Must be one of ['both', 'metadata', 'images']\")\n",
    "    \n",
    "    # Shuffle and batch the dataset\n",
    "    if training:\n",
    "        dataset = dataset.shuffle(len(df))\n",
    "    dataset = dataset.batch(batch_size)\n",
    "    dataset = dataset.prefetch(buffer_size=tf.data.experimental.AUTOTUNE)\n",
    "    \n",
    "    return dataset\n",
    "\n",
    "from sklearn.metrics import roc_auc_score\n",
    "import numpy as np\n",
    "\n",
    "def compute_partial_auc(y_true, y_pred, min_tpr):\n",
    "    \"\"\"\n",
    "    Computes the partial AUC score given true labels, predicted scores, and minimum TPR.\n",
    "\n",
    "    Parameters:\n",
    "    y_true (np.array): True binary labels.\n",
    "    y_pred (np.array): Predicted probabilities or scores.\n",
    "    min_tpr (float): Minimum true positive rate (TPR) to consider for partial AUC.\n",
    "\n",
    "    Returns:\n",
    "    partial_auc (float): The computed partial AUC score.\n",
    "    \"\"\"\n",
    "    # Compute the transformed ground truth and predictions\n",
    "    v_gt = np.abs(y_true - 1)\n",
    "    v_pred = 1.0 - y_pred\n",
    "\n",
    "    # Compute the maximum false positive rate (FPR) based on the minimum TPR\n",
    "    max_fpr = 1 - min_tpr\n",
    "\n",
    "    # Compute the partial AUC using roc_auc_score\n",
    "    partial_auc_scaled = roc_auc_score(v_gt, v_pred, max_fpr=max_fpr)\n",
    "\n",
    "    # Rescale the partial AUC\n",
    "    partial_auc = 0.5 * max_fpr**2 + (max_fpr - 0.5 * max_fpr**2) * (partial_auc_scaled - 0.5)\n",
    "\n",
    "    return partial_auc\n",
    "\n",
    "# Example usage\n",
    "# y_true = np.array([...])  # Replace with your true labels\n",
    "# y_pred = np.array([...])  # Replace with your predicted scores\n",
    "# min_tpr = 0.9  # Example minimum TPR value\n",
    "# partial_auc = compute_partial_auc(y_true, y_pred, min_tpr)\n",
    "# print(f\"Partial AUC: {partial_auc:.4f}\")\n"
   ]
  },
  {
   "cell_type": "code",
   "execution_count": 10,
   "id": "581a6cf1",
   "metadata": {
    "execution": {
     "iopub.execute_input": "2024-08-05T17:05:14.640073Z",
     "iopub.status.busy": "2024-08-05T17:05:14.639317Z",
     "iopub.status.idle": "2024-08-05T17:05:14.970668Z",
     "shell.execute_reply": "2024-08-05T17:05:14.969204Z"
    },
    "papermill": {
     "duration": 0.353701,
     "end_time": "2024-08-05T17:05:14.972981",
     "exception": false,
     "start_time": "2024-08-05T17:05:14.619280",
     "status": "completed"
    },
    "tags": []
   },
   "outputs": [
    {
     "name": "stdout",
     "output_type": "stream",
     "text": [
      "positive shape: (393, 55), negative shape: (7860, 55)\n",
      "Full dataset shape: (8253, 55)\n"
     ]
    }
   ],
   "source": [
    "df_concat = get_sample()"
   ]
  },
  {
   "cell_type": "code",
   "execution_count": 11,
   "id": "a4997491",
   "metadata": {
    "execution": {
     "iopub.execute_input": "2024-08-05T17:05:15.012802Z",
     "iopub.status.busy": "2024-08-05T17:05:15.012451Z",
     "iopub.status.idle": "2024-08-05T17:05:15.023379Z",
     "shell.execute_reply": "2024-08-05T17:05:15.022431Z"
    },
    "papermill": {
     "duration": 0.033188,
     "end_time": "2024-08-05T17:05:15.025480",
     "exception": false,
     "start_time": "2024-08-05T17:05:14.992292",
     "status": "completed"
    },
    "tags": []
   },
   "outputs": [],
   "source": [
    "df_concat['file_path'] = df_concat['isic_id'].apply(add_path)"
   ]
  },
  {
   "cell_type": "markdown",
   "id": "34b9fd35",
   "metadata": {
    "papermill": {
     "duration": 0.019028,
     "end_time": "2024-08-05T17:05:15.063891",
     "exception": false,
     "start_time": "2024-08-05T17:05:15.044863",
     "status": "completed"
    },
    "tags": []
   },
   "source": [
    "## Vision Model"
   ]
  },
  {
   "cell_type": "code",
   "execution_count": 12,
   "id": "f960bf8a",
   "metadata": {
    "execution": {
     "iopub.execute_input": "2024-08-05T17:05:15.103645Z",
     "iopub.status.busy": "2024-08-05T17:05:15.103279Z",
     "iopub.status.idle": "2024-08-05T17:05:15.109603Z",
     "shell.execute_reply": "2024-08-05T17:05:15.108665Z"
    },
    "papermill": {
     "duration": 0.028682,
     "end_time": "2024-08-05T17:05:15.111557",
     "exception": false,
     "start_time": "2024-08-05T17:05:15.082875",
     "status": "completed"
    },
    "tags": []
   },
   "outputs": [],
   "source": [
    "positive = df_concat[df_concat['target']==1]"
   ]
  },
  {
   "cell_type": "code",
   "execution_count": 13,
   "id": "bd350b80",
   "metadata": {
    "execution": {
     "iopub.execute_input": "2024-08-05T17:05:15.153551Z",
     "iopub.status.busy": "2024-08-05T17:05:15.153175Z",
     "iopub.status.idle": "2024-08-05T17:05:15.157716Z",
     "shell.execute_reply": "2024-08-05T17:05:15.156887Z"
    },
    "papermill": {
     "duration": 0.028704,
     "end_time": "2024-08-05T17:05:15.159541",
     "exception": false,
     "start_time": "2024-08-05T17:05:15.130837",
     "status": "completed"
    },
    "tags": []
   },
   "outputs": [],
   "source": [
    "ones = np.ones(positive.shape[0],dtype=np.float32)"
   ]
  },
  {
   "cell_type": "code",
   "execution_count": 14,
   "id": "03c01c65",
   "metadata": {
    "execution": {
     "iopub.execute_input": "2024-08-05T17:05:15.200518Z",
     "iopub.status.busy": "2024-08-05T17:05:15.199974Z",
     "iopub.status.idle": "2024-08-05T17:05:15.512070Z",
     "shell.execute_reply": "2024-08-05T17:05:15.510948Z"
    },
    "papermill": {
     "duration": 0.335401,
     "end_time": "2024-08-05T17:05:15.514771",
     "exception": false,
     "start_time": "2024-08-05T17:05:15.179370",
     "status": "completed"
    },
    "tags": []
   },
   "outputs": [],
   "source": [
    "\n",
    "augmented_positive = tf.data.Dataset.from_tensor_slices((positive['file_path'].values, positive['target'].values))\n",
    "augmented_positive = augmented_positive.map(lambda x, y: (preprocess_image(x), y),\n",
    "                              num_parallel_calls=tf.data.experimental.AUTOTUNE)"
   ]
  },
  {
   "cell_type": "code",
   "execution_count": 15,
   "id": "47b1cc8d",
   "metadata": {
    "execution": {
     "iopub.execute_input": "2024-08-05T17:05:15.555356Z",
     "iopub.status.busy": "2024-08-05T17:05:15.555008Z",
     "iopub.status.idle": "2024-08-05T17:05:15.738384Z",
     "shell.execute_reply": "2024-08-05T17:05:15.737281Z"
    },
    "papermill": {
     "duration": 0.206491,
     "end_time": "2024-08-05T17:05:15.741149",
     "exception": false,
     "start_time": "2024-08-05T17:05:15.534658",
     "status": "completed"
    },
    "tags": []
   },
   "outputs": [],
   "source": [
    "\n",
    "augmented_positive1 = tf.data.Dataset.from_tensor_slices((positive['file_path'].values, positive['target'].values))\n",
    "augmented_positive1 = augmented_positive1.map(lambda x, y: (preprocess_image(x), y),\n",
    "                              num_parallel_calls=tf.data.experimental.AUTOTUNE)"
   ]
  },
  {
   "cell_type": "code",
   "execution_count": 16,
   "id": "fd89bc0a",
   "metadata": {
    "execution": {
     "iopub.execute_input": "2024-08-05T17:05:15.834515Z",
     "iopub.status.busy": "2024-08-05T17:05:15.834166Z",
     "iopub.status.idle": "2024-08-05T17:05:16.063331Z",
     "shell.execute_reply": "2024-08-05T17:05:16.062533Z"
    },
    "papermill": {
     "duration": 0.25229,
     "end_time": "2024-08-05T17:05:16.065860",
     "exception": false,
     "start_time": "2024-08-05T17:05:15.813570",
     "status": "completed"
    },
    "tags": []
   },
   "outputs": [],
   "source": [
    "# df_concat['image'] = df_concat['file_path'].apply(preprocess_image)\n",
    "\n",
    "dataset = tf.data.Dataset.from_tensor_slices((df_concat['file_path'].values, df_concat['target']))\n",
    "dataset = dataset.map(lambda x, y: (preprocess_image(x), y),\n",
    "                              num_parallel_calls=tf.data.experimental.AUTOTUNE)"
   ]
  },
  {
   "cell_type": "code",
   "execution_count": 17,
   "id": "4a303b95",
   "metadata": {
    "execution": {
     "iopub.execute_input": "2024-08-05T17:05:16.106269Z",
     "iopub.status.busy": "2024-08-05T17:05:16.105941Z",
     "iopub.status.idle": "2024-08-05T17:05:16.117164Z",
     "shell.execute_reply": "2024-08-05T17:05:16.116432Z"
    },
    "papermill": {
     "duration": 0.033615,
     "end_time": "2024-08-05T17:05:16.119108",
     "exception": false,
     "start_time": "2024-08-05T17:05:16.085493",
     "status": "completed"
    },
    "tags": []
   },
   "outputs": [],
   "source": [
    "dataset = dataset.concatenate(augmented_positive,name='first')\n",
    "dataset = dataset.concatenate(augmented_positive1,name='version2')"
   ]
  },
  {
   "cell_type": "code",
   "execution_count": 18,
   "id": "e5627de5",
   "metadata": {
    "execution": {
     "iopub.execute_input": "2024-08-05T17:05:16.160705Z",
     "iopub.status.busy": "2024-08-05T17:05:16.160338Z",
     "iopub.status.idle": "2024-08-05T17:05:16.173554Z",
     "shell.execute_reply": "2024-08-05T17:05:16.172789Z"
    },
    "papermill": {
     "duration": 0.037051,
     "end_time": "2024-08-05T17:05:16.175628",
     "exception": false,
     "start_time": "2024-08-05T17:05:16.138577",
     "status": "completed"
    },
    "tags": []
   },
   "outputs": [],
   "source": [
    "dataset = dataset.shuffle(len(dataset))\n",
    "dataset = dataset.batch(BATCH_SIZE)\n",
    "dataset = dataset.prefetch(buffer_size=tf.data.experimental.AUTOTUNE)"
   ]
  },
  {
   "cell_type": "code",
   "execution_count": 19,
   "id": "3dd7b51e",
   "metadata": {
    "execution": {
     "iopub.execute_input": "2024-08-05T17:05:16.228435Z",
     "iopub.status.busy": "2024-08-05T17:05:16.228047Z",
     "iopub.status.idle": "2024-08-05T17:05:16.234737Z",
     "shell.execute_reply": "2024-08-05T17:05:16.233765Z"
    },
    "papermill": {
     "duration": 0.037279,
     "end_time": "2024-08-05T17:05:16.237860",
     "exception": false,
     "start_time": "2024-08-05T17:05:16.200581",
     "status": "completed"
    },
    "tags": []
   },
   "outputs": [
    {
     "data": {
      "text/plain": [
       "224"
      ]
     },
     "execution_count": 19,
     "metadata": {},
     "output_type": "execute_result"
    }
   ],
   "source": [
    "IMAGE_SIZE[0]"
   ]
  },
  {
   "cell_type": "code",
   "execution_count": 20,
   "id": "cea97306",
   "metadata": {
    "execution": {
     "iopub.execute_input": "2024-08-05T17:05:16.282430Z",
     "iopub.status.busy": "2024-08-05T17:05:16.282092Z",
     "iopub.status.idle": "2024-08-05T17:05:17.383933Z",
     "shell.execute_reply": "2024-08-05T17:05:17.383064Z"
    },
    "papermill": {
     "duration": 1.124985,
     "end_time": "2024-08-05T17:05:17.386377",
     "exception": false,
     "start_time": "2024-08-05T17:05:16.261392",
     "status": "completed"
    },
    "tags": []
   },
   "outputs": [],
   "source": [
    "efficient = keras.applications.EfficientNetB0(include_top=True, weights=None,input_shape=(IMAGE_SIZE[0], IMAGE_SIZE[0], 3),)"
   ]
  },
  {
   "cell_type": "code",
   "execution_count": 21,
   "id": "7e989a0b",
   "metadata": {
    "execution": {
     "iopub.execute_input": "2024-08-05T17:05:17.427646Z",
     "iopub.status.busy": "2024-08-05T17:05:17.427263Z",
     "iopub.status.idle": "2024-08-05T17:05:17.433648Z",
     "shell.execute_reply": "2024-08-05T17:05:17.432710Z"
    },
    "papermill": {
     "duration": 0.029047,
     "end_time": "2024-08-05T17:05:17.435678",
     "exception": false,
     "start_time": "2024-08-05T17:05:17.406631",
     "status": "completed"
    },
    "tags": []
   },
   "outputs": [
    {
     "data": {
      "text/plain": [
       "240"
      ]
     },
     "execution_count": 21,
     "metadata": {},
     "output_type": "execute_result"
    }
   ],
   "source": [
    "len(efficient.layers)"
   ]
  },
  {
   "cell_type": "code",
   "execution_count": 22,
   "id": "98919d86",
   "metadata": {
    "execution": {
     "iopub.execute_input": "2024-08-05T17:05:17.476488Z",
     "iopub.status.busy": "2024-08-05T17:05:17.475933Z",
     "iopub.status.idle": "2024-08-05T17:05:17.482158Z",
     "shell.execute_reply": "2024-08-05T17:05:17.481304Z"
    },
    "papermill": {
     "duration": 0.028663,
     "end_time": "2024-08-05T17:05:17.484232",
     "exception": false,
     "start_time": "2024-08-05T17:05:17.455569",
     "status": "completed"
    },
    "tags": []
   },
   "outputs": [
    {
     "data": {
      "text/plain": [
       "<KerasTensor shape=(None, 14, 14, 80), dtype=float32, sparse=False, name=keras_tensor_118>"
      ]
     },
     "execution_count": 22,
     "metadata": {},
     "output_type": "execute_result"
    }
   ],
   "source": [
    "efficient.get_layer(name='block4c_add').output"
   ]
  },
  {
   "cell_type": "code",
   "execution_count": 23,
   "id": "525af3ca",
   "metadata": {
    "execution": {
     "iopub.execute_input": "2024-08-05T17:05:17.524504Z",
     "iopub.status.busy": "2024-08-05T17:05:17.524199Z",
     "iopub.status.idle": "2024-08-05T17:05:17.529115Z",
     "shell.execute_reply": "2024-08-05T17:05:17.528284Z"
    },
    "papermill": {
     "duration": 0.027317,
     "end_time": "2024-08-05T17:05:17.530966",
     "exception": false,
     "start_time": "2024-08-05T17:05:17.503649",
     "status": "completed"
    },
    "tags": []
   },
   "outputs": [],
   "source": [
    "layer_index = None\n",
    "for i, layer in enumerate(efficient.layers):\n",
    "    if layer.name == 'block4c_add':\n",
    "        layer_index = i\n",
    "        break"
   ]
  },
  {
   "cell_type": "code",
   "execution_count": 24,
   "id": "4aea74d9",
   "metadata": {
    "execution": {
     "iopub.execute_input": "2024-08-05T17:05:17.571568Z",
     "iopub.status.busy": "2024-08-05T17:05:17.571254Z",
     "iopub.status.idle": "2024-08-05T17:05:17.577222Z",
     "shell.execute_reply": "2024-08-05T17:05:17.576345Z"
    },
    "papermill": {
     "duration": 0.02851,
     "end_time": "2024-08-05T17:05:17.579221",
     "exception": false,
     "start_time": "2024-08-05T17:05:17.550711",
     "status": "completed"
    },
    "tags": []
   },
   "outputs": [
    {
     "data": {
      "text/plain": [
       "'block4c_add'"
      ]
     },
     "execution_count": 24,
     "metadata": {},
     "output_type": "execute_result"
    }
   ],
   "source": [
    "efficient.layers[118].name"
   ]
  },
  {
   "cell_type": "code",
   "execution_count": 25,
   "id": "12147394",
   "metadata": {
    "execution": {
     "iopub.execute_input": "2024-08-05T17:05:17.620214Z",
     "iopub.status.busy": "2024-08-05T17:05:17.619903Z",
     "iopub.status.idle": "2024-08-05T17:05:17.627081Z",
     "shell.execute_reply": "2024-08-05T17:05:17.626222Z"
    },
    "papermill": {
     "duration": 0.029977,
     "end_time": "2024-08-05T17:05:17.629028",
     "exception": false,
     "start_time": "2024-08-05T17:05:17.599051",
     "status": "completed"
    },
    "tags": []
   },
   "outputs": [],
   "source": [
    "def create_vision_encoder(trainable_layer,trainable=False,input_shape=(139,139,3)):\n",
    "    \n",
    "#     resnet_v2 = keras.applications.ResNet50V2(include_top=False, weights=\"imagenet\", pooling=\"max\")\n",
    "    model = keras.applications.EfficientNetB0(include_top=True, weights='imagenet',input_shape=(IMAGE_SIZE[0], IMAGE_SIZE[0], 3),pooling='avg')\n",
    "    if trainable:\n",
    "        for layer in model.layers[:trainable_layer]:\n",
    "            layer.trainable = trainable\n",
    "    \n",
    "    \n",
    "    \n",
    "    image = keras.Input(shape=input_shape, name=\"image\")\n",
    "    \n",
    "    preprocessed = keras.applications.efficientnet.preprocess_input(image)\n",
    "    \n",
    "    \n",
    "    outputs = model(preprocessed)\n",
    "#     outputs = model.get_layer(name='block4c_add').output\n",
    "    outputs = model.layers[118].output\n",
    "#     outputs = layers.GlobalAveragePooling2D()(outputs)\n",
    "    return keras.Model([image], outputs, name=\"vision_encoder\")"
   ]
  },
  {
   "cell_type": "code",
   "execution_count": 26,
   "id": "f1ba19e8",
   "metadata": {
    "execution": {
     "iopub.execute_input": "2024-08-05T17:05:17.669943Z",
     "iopub.status.busy": "2024-08-05T17:05:17.669618Z",
     "iopub.status.idle": "2024-08-05T17:05:19.095468Z",
     "shell.execute_reply": "2024-08-05T17:05:19.094670Z"
    },
    "papermill": {
     "duration": 1.448975,
     "end_time": "2024-08-05T17:05:19.097919",
     "exception": false,
     "start_time": "2024-08-05T17:05:17.648944",
     "status": "completed"
    },
    "tags": []
   },
   "outputs": [
    {
     "name": "stdout",
     "output_type": "stream",
     "text": [
      "Downloading data from https://storage.googleapis.com/keras-applications/efficientnetb0.h5\n",
      "\u001b[1m21834768/21834768\u001b[0m \u001b[32m━━━━━━━━━━━━━━━━━━━━\u001b[0m\u001b[37m\u001b[0m \u001b[1m0s\u001b[0m 0us/step\n"
     ]
    }
   ],
   "source": [
    "vision_encoder = create_vision_encoder(trainable_layer=100,input_shape=(IMAGE_SIZE[0],IMAGE_SIZE[0],3),trainable=True)\n",
    "# vision_encoder.summary()"
   ]
  },
  {
   "cell_type": "code",
   "execution_count": 27,
   "id": "c990b0cf",
   "metadata": {
    "execution": {
     "iopub.execute_input": "2024-08-05T17:05:19.140928Z",
     "iopub.status.busy": "2024-08-05T17:05:19.140595Z",
     "iopub.status.idle": "2024-08-05T17:05:19.147149Z",
     "shell.execute_reply": "2024-08-05T17:05:19.146276Z"
    },
    "papermill": {
     "duration": 0.030338,
     "end_time": "2024-08-05T17:05:19.149082",
     "exception": false,
     "start_time": "2024-08-05T17:05:19.118744",
     "status": "completed"
    },
    "tags": []
   },
   "outputs": [],
   "source": [
    "def vision_model():\n",
    "    vision_encoder = create_vision_encoder(trainable_layer=100,input_shape=(IMAGE_SIZE[0],IMAGE_SIZE[0],3),trainable=True)\n",
    "#     x = layers.Dense(128,activation='relu')(vision_encoder.output)\n",
    "#     x = layers.GlobalAveragePooling2D()(vision_encoder.output)\n",
    "    x = layers.Dense(64,activation='relu')(vision_encoder.output)\n",
    "    x = layers.Dense(1,activation='sigmoid')(x)\n",
    "\n",
    "    vision_model = keras.Model(inputs = vision_encoder.input, outputs=x)\n",
    "    vision_model.compile(optimizer=\"adam\", loss=\"binary_crossentropy\", metrics=METRICS)\n",
    "    return vision_model"
   ]
  },
  {
   "cell_type": "code",
   "execution_count": 28,
   "id": "36901f18",
   "metadata": {
    "execution": {
     "iopub.execute_input": "2024-08-05T17:05:19.193144Z",
     "iopub.status.busy": "2024-08-05T17:05:19.192835Z",
     "iopub.status.idle": "2024-08-05T17:05:20.613178Z",
     "shell.execute_reply": "2024-08-05T17:05:20.612080Z"
    },
    "papermill": {
     "duration": 1.44455,
     "end_time": "2024-08-05T17:05:20.615666",
     "exception": false,
     "start_time": "2024-08-05T17:05:19.171116",
     "status": "completed"
    },
    "tags": []
   },
   "outputs": [],
   "source": [
    "model = vision_model()"
   ]
  },
  {
   "cell_type": "code",
   "execution_count": 29,
   "id": "f392defd",
   "metadata": {
    "execution": {
     "iopub.execute_input": "2024-08-05T17:05:20.658535Z",
     "iopub.status.busy": "2024-08-05T17:05:20.658174Z",
     "iopub.status.idle": "2024-08-05T17:05:20.662335Z",
     "shell.execute_reply": "2024-08-05T17:05:20.661430Z"
    },
    "papermill": {
     "duration": 0.02785,
     "end_time": "2024-08-05T17:05:20.664284",
     "exception": false,
     "start_time": "2024-08-05T17:05:20.636434",
     "status": "completed"
    },
    "tags": []
   },
   "outputs": [],
   "source": [
    "# model.summary()"
   ]
  },
  {
   "cell_type": "code",
   "execution_count": 30,
   "id": "92569d49",
   "metadata": {
    "execution": {
     "iopub.execute_input": "2024-08-05T17:05:20.706924Z",
     "iopub.status.busy": "2024-08-05T17:05:20.706644Z",
     "iopub.status.idle": "2024-08-05T17:05:20.712676Z",
     "shell.execute_reply": "2024-08-05T17:05:20.711794Z"
    },
    "papermill": {
     "duration": 0.029607,
     "end_time": "2024-08-05T17:05:20.714556",
     "exception": false,
     "start_time": "2024-08-05T17:05:20.684949",
     "status": "completed"
    },
    "tags": []
   },
   "outputs": [
    {
     "data": {
      "text/plain": [
       "<_PrefetchDataset element_spec=(TensorSpec(shape=(None, 224, 224, 3), dtype=tf.float32, name=None), TensorSpec(shape=(None,), dtype=tf.int64, name=None))>"
      ]
     },
     "execution_count": 30,
     "metadata": {},
     "output_type": "execute_result"
    }
   ],
   "source": [
    "dataset"
   ]
  },
  {
   "cell_type": "code",
   "execution_count": 31,
   "id": "b44e3b00",
   "metadata": {
    "execution": {
     "iopub.execute_input": "2024-08-05T17:05:20.756801Z",
     "iopub.status.busy": "2024-08-05T17:05:20.756460Z",
     "iopub.status.idle": "2024-08-05T17:05:20.763595Z",
     "shell.execute_reply": "2024-08-05T17:05:20.762681Z"
    },
    "papermill": {
     "duration": 0.030813,
     "end_time": "2024-08-05T17:05:20.765580",
     "exception": false,
     "start_time": "2024-08-05T17:05:20.734767",
     "status": "completed"
    },
    "tags": []
   },
   "outputs": [],
   "source": [
    "shuffled_dataset = dataset.shuffle(len(dataset))\n",
    "# num_test_samples = int(len(dataset) * 0.2)  # Assuming 20% of the dataset for testing\n",
    "# test_dataset = shuffled_dataset.take(num_test_samples)\n",
    "# train_dataset = shuffled_dataset.take(int(len(dataset) * 0.8))"
   ]
  },
  {
   "cell_type": "code",
   "execution_count": 32,
   "id": "f8773943",
   "metadata": {
    "execution": {
     "iopub.execute_input": "2024-08-05T17:05:20.806808Z",
     "iopub.status.busy": "2024-08-05T17:05:20.806485Z",
     "iopub.status.idle": "2024-08-05T17:05:20.810359Z",
     "shell.execute_reply": "2024-08-05T17:05:20.809505Z"
    },
    "papermill": {
     "duration": 0.026556,
     "end_time": "2024-08-05T17:05:20.812209",
     "exception": false,
     "start_time": "2024-08-05T17:05:20.785653",
     "status": "completed"
    },
    "tags": []
   },
   "outputs": [],
   "source": [
    "# len(test_dataset)"
   ]
  },
  {
   "cell_type": "code",
   "execution_count": 33,
   "id": "04dfc2a5",
   "metadata": {
    "execution": {
     "iopub.execute_input": "2024-08-05T17:05:20.853925Z",
     "iopub.status.busy": "2024-08-05T17:05:20.853611Z",
     "iopub.status.idle": "2024-08-05T17:05:20.857286Z",
     "shell.execute_reply": "2024-08-05T17:05:20.856487Z"
    },
    "papermill": {
     "duration": 0.026774,
     "end_time": "2024-08-05T17:05:20.859186",
     "exception": false,
     "start_time": "2024-08-05T17:05:20.832412",
     "status": "completed"
    },
    "tags": []
   },
   "outputs": [],
   "source": [
    "# for image, label in dataset.take(1):\n",
    "#     print(label)"
   ]
  },
  {
   "cell_type": "code",
   "execution_count": 34,
   "id": "0f66856c",
   "metadata": {
    "execution": {
     "iopub.execute_input": "2024-08-05T17:05:20.901165Z",
     "iopub.status.busy": "2024-08-05T17:05:20.900881Z",
     "iopub.status.idle": "2024-08-05T17:05:20.905670Z",
     "shell.execute_reply": "2024-08-05T17:05:20.904939Z"
    },
    "papermill": {
     "duration": 0.027687,
     "end_time": "2024-08-05T17:05:20.907517",
     "exception": false,
     "start_time": "2024-08-05T17:05:20.879830",
     "status": "completed"
    },
    "tags": []
   },
   "outputs": [],
   "source": [
    "# model = vision_model()\n",
    "# history = model.fit(dataset, epochs=1)"
   ]
  },
  {
   "cell_type": "code",
   "execution_count": 35,
   "id": "a0509be2",
   "metadata": {
    "execution": {
     "iopub.execute_input": "2024-08-05T17:05:20.949476Z",
     "iopub.status.busy": "2024-08-05T17:05:20.949181Z",
     "iopub.status.idle": "2024-08-05T17:05:20.955752Z",
     "shell.execute_reply": "2024-08-05T17:05:20.954829Z"
    },
    "papermill": {
     "duration": 0.03,
     "end_time": "2024-08-05T17:05:20.957773",
     "exception": false,
     "start_time": "2024-08-05T17:05:20.927773",
     "status": "completed"
    },
    "tags": []
   },
   "outputs": [
    {
     "name": "stdout",
     "output_type": "stream",
     "text": [
      "Weight for class 0 (Negative): 0.83\n",
      "Weight for class 1 (Positive): 1.25\n"
     ]
    },
    {
     "data": {
      "text/plain": [
       "{0: 0.8333333333333334, 1: 1.25}"
      ]
     },
     "execution_count": 35,
     "metadata": {},
     "output_type": "execute_result"
    }
   ],
   "source": [
    "class_weight = calculate_weight(7860,11790)\n",
    "class_weight"
   ]
  },
  {
   "cell_type": "code",
   "execution_count": 36,
   "id": "4a19338f",
   "metadata": {
    "execution": {
     "iopub.execute_input": "2024-08-05T17:05:20.999596Z",
     "iopub.status.busy": "2024-08-05T17:05:20.999259Z",
     "iopub.status.idle": "2024-08-05T17:05:21.004594Z",
     "shell.execute_reply": "2024-08-05T17:05:21.003721Z"
    },
    "papermill": {
     "duration": 0.028449,
     "end_time": "2024-08-05T17:05:21.006376",
     "exception": false,
     "start_time": "2024-08-05T17:05:20.977927",
     "status": "completed"
    },
    "tags": []
   },
   "outputs": [],
   "source": [
    "# skf = StratifiedKFold(n_splits=5)\n",
    "# fold_no = 1\n",
    "# results = []\n",
    "# images = df_concat[['file_path']]\n",
    "# target = df_concat[['target']]\n",
    "\n",
    "# for train_index, val_index in skf.split(images, target):\n",
    "#     print(f'Fold {fold_no}...')\n",
    "    \n",
    "#     X_train, X_val = images.iloc[train_index], images.iloc[val_index]\n",
    "#     y_train, y_val = target.iloc[train_index], target.iloc[val_index]\n",
    "    \n",
    "#     train_df = pd.concat([X_train, y_train],axis=1)\n",
    "#     test_df = pd.concat([X_val, y_val],axis=1)\n",
    "#     print(train_df.shape,test_df.shape)\n",
    "    \n",
    "#     vision_train_ds = create_dataset(train_df, IMAGE_SIZE, BATCH_SIZE,training=True,return_type='images')\n",
    "#     vision_test_ds = create_dataset(test_df, IMAGE_SIZE, BATCH_SIZE,return_type='images')\n",
    "#     # Instantiate the model for each fold\n",
    "#     model = vision_model()\n",
    "    \n",
    "#     # Train the model\n",
    "#     history = model.fit(vision_train_ds, epochs=2, validation_data=vision_test_ds,class_weight=class_weight)\n",
    "    \n",
    "#     # Evaluate the model on the validation set\n",
    "#     y_true,y_pred = unbatch_test_dataset(vision_test_ds,model)\n",
    "#     score = compute_partial_auc(y_true,y_pred, min_tpr=0.80)\n",
    "# #     scores = model.evaluate(vision_test_ds, verbose=0)\n",
    "#     print(f'Validation auc: {score}')\n",
    "    \n",
    "#     results.append(score)\n",
    "#     fold_no += 1\n",
    "\n",
    "# # Calculate the average performance\n",
    "# # average_score = np.mean(results, axis=0)\n",
    "# # print(f'\\nAverage validation loss: {average_score[0]} - Average validation accuracy: {average_score[1]}')\n"
   ]
  },
  {
   "cell_type": "markdown",
   "id": "00046c0c",
   "metadata": {
    "papermill": {
     "duration": 0.020259,
     "end_time": "2024-08-05T17:05:21.047060",
     "exception": false,
     "start_time": "2024-08-05T17:05:21.026801",
     "status": "completed"
    },
    "tags": []
   },
   "source": [
    "### Metadata Transformations "
   ]
  },
  {
   "cell_type": "code",
   "execution_count": 37,
   "id": "de73737d",
   "metadata": {
    "execution": {
     "iopub.execute_input": "2024-08-05T17:05:21.089144Z",
     "iopub.status.busy": "2024-08-05T17:05:21.088783Z",
     "iopub.status.idle": "2024-08-05T17:05:21.095237Z",
     "shell.execute_reply": "2024-08-05T17:05:21.094403Z"
    },
    "papermill": {
     "duration": 0.029952,
     "end_time": "2024-08-05T17:05:21.097308",
     "exception": false,
     "start_time": "2024-08-05T17:05:21.067356",
     "status": "completed"
    },
    "tags": []
   },
   "outputs": [
    {
     "data": {
      "text/plain": [
       "Index(['isic_id', 'target', 'patient_id', 'age_approx', 'sex',\n",
       "       'anatom_site_general', 'clin_size_long_diam_mm', 'image_type',\n",
       "       'tbp_tile_type', 'tbp_lv_A', 'tbp_lv_Aext', 'tbp_lv_B', 'tbp_lv_Bext',\n",
       "       'tbp_lv_C', 'tbp_lv_Cext', 'tbp_lv_H', 'tbp_lv_Hext', 'tbp_lv_L',\n",
       "       'tbp_lv_Lext', 'tbp_lv_areaMM2', 'tbp_lv_area_perim_ratio',\n",
       "       'tbp_lv_color_std_mean', 'tbp_lv_deltaA', 'tbp_lv_deltaB',\n",
       "       'tbp_lv_deltaL', 'tbp_lv_deltaLB', 'tbp_lv_deltaLBnorm',\n",
       "       'tbp_lv_eccentricity', 'tbp_lv_location', 'tbp_lv_location_simple',\n",
       "       'tbp_lv_minorAxisMM', 'tbp_lv_nevi_confidence', 'tbp_lv_norm_border',\n",
       "       'tbp_lv_norm_color', 'tbp_lv_perimeterMM',\n",
       "       'tbp_lv_radial_color_std_max', 'tbp_lv_stdL', 'tbp_lv_stdLExt',\n",
       "       'tbp_lv_symm_2axis', 'tbp_lv_symm_2axis_angle', 'tbp_lv_x', 'tbp_lv_y',\n",
       "       'tbp_lv_z', 'attribution', 'copyright_license', 'lesion_id',\n",
       "       'iddx_full', 'iddx_1', 'iddx_2', 'iddx_3', 'iddx_4', 'iddx_5',\n",
       "       'mel_mitotic_index', 'mel_thick_mm', 'tbp_lv_dnn_lesion_confidence',\n",
       "       'file_path'],\n",
       "      dtype='object')"
      ]
     },
     "execution_count": 37,
     "metadata": {},
     "output_type": "execute_result"
    }
   ],
   "source": [
    "df_concat.columns"
   ]
  },
  {
   "cell_type": "code",
   "execution_count": 38,
   "id": "4e130225",
   "metadata": {
    "execution": {
     "iopub.execute_input": "2024-08-05T17:05:21.139438Z",
     "iopub.status.busy": "2024-08-05T17:05:21.138902Z",
     "iopub.status.idle": "2024-08-05T17:05:21.146863Z",
     "shell.execute_reply": "2024-08-05T17:05:21.146059Z"
    },
    "papermill": {
     "duration": 0.031368,
     "end_time": "2024-08-05T17:05:21.149001",
     "exception": false,
     "start_time": "2024-08-05T17:05:21.117633",
     "status": "completed"
    },
    "tags": []
   },
   "outputs": [],
   "source": [
    "drop_columns = [\n",
    "    'isic_id', 'patient_id', 'image_type', 'tbp_tile_type', 'attribution', \n",
    "    'copyright_license', 'lesion_id', 'iddx_full', 'iddx_1', 'iddx_2', \n",
    "    'iddx_3', 'iddx_4', 'iddx_5', 'mel_mitotic_index', 'mel_thick_mm', \n",
    "    'tbp_lv_dnn_lesion_confidence'\n",
    "]\n",
    "df_concat = df_concat.drop(drop_columns,axis=1)"
   ]
  },
  {
   "cell_type": "code",
   "execution_count": 39,
   "id": "b8504b99",
   "metadata": {
    "execution": {
     "iopub.execute_input": "2024-08-05T17:05:21.193191Z",
     "iopub.status.busy": "2024-08-05T17:05:21.192884Z",
     "iopub.status.idle": "2024-08-05T17:05:21.198436Z",
     "shell.execute_reply": "2024-08-05T17:05:21.197596Z"
    },
    "papermill": {
     "duration": 0.029946,
     "end_time": "2024-08-05T17:05:21.200486",
     "exception": false,
     "start_time": "2024-08-05T17:05:21.170540",
     "status": "completed"
    },
    "tags": []
   },
   "outputs": [
    {
     "data": {
      "text/plain": [
       "(8253, 40)"
      ]
     },
     "execution_count": 39,
     "metadata": {},
     "output_type": "execute_result"
    }
   ],
   "source": [
    "df_concat.shape"
   ]
  },
  {
   "cell_type": "code",
   "execution_count": 40,
   "id": "be5d5cb8",
   "metadata": {
    "execution": {
     "iopub.execute_input": "2024-08-05T17:05:21.243373Z",
     "iopub.status.busy": "2024-08-05T17:05:21.242777Z",
     "iopub.status.idle": "2024-08-05T17:05:21.276172Z",
     "shell.execute_reply": "2024-08-05T17:05:21.275278Z"
    },
    "papermill": {
     "duration": 0.057282,
     "end_time": "2024-08-05T17:05:21.278422",
     "exception": false,
     "start_time": "2024-08-05T17:05:21.221140",
     "status": "completed"
    },
    "tags": []
   },
   "outputs": [
    {
     "data": {
      "text/html": [
       "<div>\n",
       "<style scoped>\n",
       "    .dataframe tbody tr th:only-of-type {\n",
       "        vertical-align: middle;\n",
       "    }\n",
       "\n",
       "    .dataframe tbody tr th {\n",
       "        vertical-align: top;\n",
       "    }\n",
       "\n",
       "    .dataframe thead th {\n",
       "        text-align: right;\n",
       "    }\n",
       "</style>\n",
       "<table border=\"1\" class=\"dataframe\">\n",
       "  <thead>\n",
       "    <tr style=\"text-align: right;\">\n",
       "      <th></th>\n",
       "      <th>target</th>\n",
       "      <th>age_approx</th>\n",
       "      <th>sex</th>\n",
       "      <th>anatom_site_general</th>\n",
       "      <th>clin_size_long_diam_mm</th>\n",
       "      <th>tbp_lv_A</th>\n",
       "      <th>tbp_lv_Aext</th>\n",
       "      <th>tbp_lv_B</th>\n",
       "      <th>tbp_lv_Bext</th>\n",
       "      <th>tbp_lv_C</th>\n",
       "      <th>tbp_lv_Cext</th>\n",
       "      <th>tbp_lv_H</th>\n",
       "      <th>tbp_lv_Hext</th>\n",
       "      <th>tbp_lv_L</th>\n",
       "      <th>tbp_lv_Lext</th>\n",
       "      <th>tbp_lv_areaMM2</th>\n",
       "      <th>tbp_lv_area_perim_ratio</th>\n",
       "      <th>tbp_lv_color_std_mean</th>\n",
       "      <th>tbp_lv_deltaA</th>\n",
       "      <th>tbp_lv_deltaB</th>\n",
       "      <th>tbp_lv_deltaL</th>\n",
       "      <th>tbp_lv_deltaLB</th>\n",
       "      <th>tbp_lv_deltaLBnorm</th>\n",
       "      <th>tbp_lv_eccentricity</th>\n",
       "      <th>tbp_lv_location</th>\n",
       "      <th>tbp_lv_location_simple</th>\n",
       "      <th>tbp_lv_minorAxisMM</th>\n",
       "      <th>tbp_lv_nevi_confidence</th>\n",
       "      <th>tbp_lv_norm_border</th>\n",
       "      <th>tbp_lv_norm_color</th>\n",
       "      <th>tbp_lv_perimeterMM</th>\n",
       "      <th>tbp_lv_radial_color_std_max</th>\n",
       "      <th>tbp_lv_stdL</th>\n",
       "      <th>tbp_lv_stdLExt</th>\n",
       "      <th>tbp_lv_symm_2axis</th>\n",
       "      <th>tbp_lv_symm_2axis_angle</th>\n",
       "      <th>tbp_lv_x</th>\n",
       "      <th>tbp_lv_y</th>\n",
       "      <th>tbp_lv_z</th>\n",
       "      <th>file_path</th>\n",
       "    </tr>\n",
       "  </thead>\n",
       "  <tbody>\n",
       "    <tr>\n",
       "      <th>0</th>\n",
       "      <td>0</td>\n",
       "      <td>40.0</td>\n",
       "      <td>female</td>\n",
       "      <td>anterior torso</td>\n",
       "      <td>4.26</td>\n",
       "      <td>20.741267</td>\n",
       "      <td>12.820101</td>\n",
       "      <td>30.964684</td>\n",
       "      <td>24.169809</td>\n",
       "      <td>37.269449</td>\n",
       "      <td>27.359361</td>\n",
       "      <td>56.184392</td>\n",
       "      <td>62.057718</td>\n",
       "      <td>64.060066</td>\n",
       "      <td>78.465136</td>\n",
       "      <td>12.948020</td>\n",
       "      <td>14.417523</td>\n",
       "      <td>2.670875</td>\n",
       "      <td>7.921166</td>\n",
       "      <td>6.794875</td>\n",
       "      <td>-14.405070</td>\n",
       "      <td>16.122935</td>\n",
       "      <td>9.402972</td>\n",
       "      <td>0.515338</td>\n",
       "      <td>Torso Front Bottom Half</td>\n",
       "      <td>Torso Front</td>\n",
       "      <td>3.777694</td>\n",
       "      <td>99.612778</td>\n",
       "      <td>1.362769</td>\n",
       "      <td>7.217264</td>\n",
       "      <td>13.663030</td>\n",
       "      <td>2.154920</td>\n",
       "      <td>5.976117</td>\n",
       "      <td>1.935768</td>\n",
       "      <td>0.138418</td>\n",
       "      <td>115</td>\n",
       "      <td>21.398697</td>\n",
       "      <td>937.951111</td>\n",
       "      <td>-128.577576</td>\n",
       "      <td>/kaggle/input/isic-2024-challenge/train-image/...</td>\n",
       "    </tr>\n",
       "    <tr>\n",
       "      <th>1</th>\n",
       "      <td>0</td>\n",
       "      <td>65.0</td>\n",
       "      <td>male</td>\n",
       "      <td>anterior torso</td>\n",
       "      <td>2.72</td>\n",
       "      <td>19.814113</td>\n",
       "      <td>13.344221</td>\n",
       "      <td>30.975995</td>\n",
       "      <td>26.359986</td>\n",
       "      <td>36.771066</td>\n",
       "      <td>29.545171</td>\n",
       "      <td>57.394568</td>\n",
       "      <td>63.150090</td>\n",
       "      <td>55.636695</td>\n",
       "      <td>65.752223</td>\n",
       "      <td>3.002439</td>\n",
       "      <td>15.651030</td>\n",
       "      <td>0.748261</td>\n",
       "      <td>6.469892</td>\n",
       "      <td>4.616008</td>\n",
       "      <td>-10.115529</td>\n",
       "      <td>11.316395</td>\n",
       "      <td>7.560383</td>\n",
       "      <td>0.837024</td>\n",
       "      <td>Torso Front Bottom Half</td>\n",
       "      <td>Torso Front</td>\n",
       "      <td>1.438223</td>\n",
       "      <td>81.883538</td>\n",
       "      <td>2.816692</td>\n",
       "      <td>1.911322</td>\n",
       "      <td>6.855018</td>\n",
       "      <td>0.531313</td>\n",
       "      <td>2.431932</td>\n",
       "      <td>2.913949</td>\n",
       "      <td>0.304348</td>\n",
       "      <td>45</td>\n",
       "      <td>-118.964722</td>\n",
       "      <td>984.857361</td>\n",
       "      <td>-37.767548</td>\n",
       "      <td>/kaggle/input/isic-2024-challenge/train-image/...</td>\n",
       "    </tr>\n",
       "    <tr>\n",
       "      <th>2</th>\n",
       "      <td>0</td>\n",
       "      <td>55.0</td>\n",
       "      <td>female</td>\n",
       "      <td>lower extremity</td>\n",
       "      <td>2.88</td>\n",
       "      <td>19.332857</td>\n",
       "      <td>14.045054</td>\n",
       "      <td>30.066025</td>\n",
       "      <td>27.458099</td>\n",
       "      <td>35.745283</td>\n",
       "      <td>30.841704</td>\n",
       "      <td>57.258439</td>\n",
       "      <td>62.909865</td>\n",
       "      <td>38.068834</td>\n",
       "      <td>46.853877</td>\n",
       "      <td>5.179208</td>\n",
       "      <td>14.275423</td>\n",
       "      <td>0.786866</td>\n",
       "      <td>5.287803</td>\n",
       "      <td>2.607926</td>\n",
       "      <td>-8.785042</td>\n",
       "      <td>9.208635</td>\n",
       "      <td>7.971595</td>\n",
       "      <td>0.528121</td>\n",
       "      <td>Right Leg - Upper</td>\n",
       "      <td>Right Leg</td>\n",
       "      <td>2.328767</td>\n",
       "      <td>2.902333</td>\n",
       "      <td>2.276782</td>\n",
       "      <td>2.477788</td>\n",
       "      <td>8.598569</td>\n",
       "      <td>0.864889</td>\n",
       "      <td>1.759677</td>\n",
       "      <td>3.356490</td>\n",
       "      <td>0.265306</td>\n",
       "      <td>0</td>\n",
       "      <td>222.023621</td>\n",
       "      <td>622.243896</td>\n",
       "      <td>98.015228</td>\n",
       "      <td>/kaggle/input/isic-2024-challenge/train-image/...</td>\n",
       "    </tr>\n",
       "    <tr>\n",
       "      <th>3</th>\n",
       "      <td>0</td>\n",
       "      <td>80.0</td>\n",
       "      <td>female</td>\n",
       "      <td>posterior torso</td>\n",
       "      <td>3.31</td>\n",
       "      <td>14.487623</td>\n",
       "      <td>11.256026</td>\n",
       "      <td>25.721046</td>\n",
       "      <td>24.745289</td>\n",
       "      <td>29.520559</td>\n",
       "      <td>27.185060</td>\n",
       "      <td>60.609201</td>\n",
       "      <td>65.540375</td>\n",
       "      <td>28.914877</td>\n",
       "      <td>33.987785</td>\n",
       "      <td>5.329330</td>\n",
       "      <td>16.369810</td>\n",
       "      <td>0.505604</td>\n",
       "      <td>3.231597</td>\n",
       "      <td>0.975757</td>\n",
       "      <td>-5.072908</td>\n",
       "      <td>5.322546</td>\n",
       "      <td>5.643407</td>\n",
       "      <td>0.802881</td>\n",
       "      <td>Torso Back Top Third</td>\n",
       "      <td>Torso Back</td>\n",
       "      <td>2.021650</td>\n",
       "      <td>0.967152</td>\n",
       "      <td>2.533615</td>\n",
       "      <td>1.764214</td>\n",
       "      <td>9.340242</td>\n",
       "      <td>0.668361</td>\n",
       "      <td>1.009984</td>\n",
       "      <td>2.328846</td>\n",
       "      <td>0.248447</td>\n",
       "      <td>135</td>\n",
       "      <td>170.637390</td>\n",
       "      <td>1270.703979</td>\n",
       "      <td>71.772034</td>\n",
       "      <td>/kaggle/input/isic-2024-challenge/train-image/...</td>\n",
       "    </tr>\n",
       "    <tr>\n",
       "      <th>4</th>\n",
       "      <td>0</td>\n",
       "      <td>65.0</td>\n",
       "      <td>male</td>\n",
       "      <td>posterior torso</td>\n",
       "      <td>3.47</td>\n",
       "      <td>18.681561</td>\n",
       "      <td>16.487633</td>\n",
       "      <td>25.410689</td>\n",
       "      <td>26.319228</td>\n",
       "      <td>31.538926</td>\n",
       "      <td>31.057105</td>\n",
       "      <td>53.677226</td>\n",
       "      <td>57.934988</td>\n",
       "      <td>49.351034</td>\n",
       "      <td>58.280699</td>\n",
       "      <td>5.441922</td>\n",
       "      <td>26.606809</td>\n",
       "      <td>0.679675</td>\n",
       "      <td>2.193928</td>\n",
       "      <td>-0.908539</td>\n",
       "      <td>-8.929665</td>\n",
       "      <td>9.095377</td>\n",
       "      <td>6.615330</td>\n",
       "      <td>0.784241</td>\n",
       "      <td>Torso Back Top Third</td>\n",
       "      <td>Torso Back</td>\n",
       "      <td>2.339219</td>\n",
       "      <td>0.005842</td>\n",
       "      <td>5.663917</td>\n",
       "      <td>1.889498</td>\n",
       "      <td>12.032962</td>\n",
       "      <td>0.582977</td>\n",
       "      <td>2.681651</td>\n",
       "      <td>2.767671</td>\n",
       "      <td>0.419162</td>\n",
       "      <td>85</td>\n",
       "      <td>-71.839172</td>\n",
       "      <td>1516.213745</td>\n",
       "      <td>44.724854</td>\n",
       "      <td>/kaggle/input/isic-2024-challenge/train-image/...</td>\n",
       "    </tr>\n",
       "  </tbody>\n",
       "</table>\n",
       "</div>"
      ],
      "text/plain": [
       "   target  age_approx     sex anatom_site_general  clin_size_long_diam_mm  \\\n",
       "0       0        40.0  female      anterior torso                    4.26   \n",
       "1       0        65.0    male      anterior torso                    2.72   \n",
       "2       0        55.0  female     lower extremity                    2.88   \n",
       "3       0        80.0  female     posterior torso                    3.31   \n",
       "4       0        65.0    male     posterior torso                    3.47   \n",
       "\n",
       "    tbp_lv_A  tbp_lv_Aext   tbp_lv_B  tbp_lv_Bext   tbp_lv_C  tbp_lv_Cext  \\\n",
       "0  20.741267    12.820101  30.964684    24.169809  37.269449    27.359361   \n",
       "1  19.814113    13.344221  30.975995    26.359986  36.771066    29.545171   \n",
       "2  19.332857    14.045054  30.066025    27.458099  35.745283    30.841704   \n",
       "3  14.487623    11.256026  25.721046    24.745289  29.520559    27.185060   \n",
       "4  18.681561    16.487633  25.410689    26.319228  31.538926    31.057105   \n",
       "\n",
       "    tbp_lv_H  tbp_lv_Hext   tbp_lv_L  tbp_lv_Lext  tbp_lv_areaMM2  \\\n",
       "0  56.184392    62.057718  64.060066    78.465136       12.948020   \n",
       "1  57.394568    63.150090  55.636695    65.752223        3.002439   \n",
       "2  57.258439    62.909865  38.068834    46.853877        5.179208   \n",
       "3  60.609201    65.540375  28.914877    33.987785        5.329330   \n",
       "4  53.677226    57.934988  49.351034    58.280699        5.441922   \n",
       "\n",
       "   tbp_lv_area_perim_ratio  tbp_lv_color_std_mean  tbp_lv_deltaA  \\\n",
       "0                14.417523               2.670875       7.921166   \n",
       "1                15.651030               0.748261       6.469892   \n",
       "2                14.275423               0.786866       5.287803   \n",
       "3                16.369810               0.505604       3.231597   \n",
       "4                26.606809               0.679675       2.193928   \n",
       "\n",
       "   tbp_lv_deltaB  tbp_lv_deltaL  tbp_lv_deltaLB  tbp_lv_deltaLBnorm  \\\n",
       "0       6.794875     -14.405070       16.122935            9.402972   \n",
       "1       4.616008     -10.115529       11.316395            7.560383   \n",
       "2       2.607926      -8.785042        9.208635            7.971595   \n",
       "3       0.975757      -5.072908        5.322546            5.643407   \n",
       "4      -0.908539      -8.929665        9.095377            6.615330   \n",
       "\n",
       "   tbp_lv_eccentricity          tbp_lv_location tbp_lv_location_simple  \\\n",
       "0             0.515338  Torso Front Bottom Half            Torso Front   \n",
       "1             0.837024  Torso Front Bottom Half            Torso Front   \n",
       "2             0.528121        Right Leg - Upper              Right Leg   \n",
       "3             0.802881     Torso Back Top Third             Torso Back   \n",
       "4             0.784241     Torso Back Top Third             Torso Back   \n",
       "\n",
       "   tbp_lv_minorAxisMM  tbp_lv_nevi_confidence  tbp_lv_norm_border  \\\n",
       "0            3.777694               99.612778            1.362769   \n",
       "1            1.438223               81.883538            2.816692   \n",
       "2            2.328767                2.902333            2.276782   \n",
       "3            2.021650                0.967152            2.533615   \n",
       "4            2.339219                0.005842            5.663917   \n",
       "\n",
       "   tbp_lv_norm_color  tbp_lv_perimeterMM  tbp_lv_radial_color_std_max  \\\n",
       "0           7.217264           13.663030                     2.154920   \n",
       "1           1.911322            6.855018                     0.531313   \n",
       "2           2.477788            8.598569                     0.864889   \n",
       "3           1.764214            9.340242                     0.668361   \n",
       "4           1.889498           12.032962                     0.582977   \n",
       "\n",
       "   tbp_lv_stdL  tbp_lv_stdLExt  tbp_lv_symm_2axis  tbp_lv_symm_2axis_angle  \\\n",
       "0     5.976117        1.935768           0.138418                      115   \n",
       "1     2.431932        2.913949           0.304348                       45   \n",
       "2     1.759677        3.356490           0.265306                        0   \n",
       "3     1.009984        2.328846           0.248447                      135   \n",
       "4     2.681651        2.767671           0.419162                       85   \n",
       "\n",
       "     tbp_lv_x     tbp_lv_y    tbp_lv_z  \\\n",
       "0   21.398697   937.951111 -128.577576   \n",
       "1 -118.964722   984.857361  -37.767548   \n",
       "2  222.023621   622.243896   98.015228   \n",
       "3  170.637390  1270.703979   71.772034   \n",
       "4  -71.839172  1516.213745   44.724854   \n",
       "\n",
       "                                           file_path  \n",
       "0  /kaggle/input/isic-2024-challenge/train-image/...  \n",
       "1  /kaggle/input/isic-2024-challenge/train-image/...  \n",
       "2  /kaggle/input/isic-2024-challenge/train-image/...  \n",
       "3  /kaggle/input/isic-2024-challenge/train-image/...  \n",
       "4  /kaggle/input/isic-2024-challenge/train-image/...  "
      ]
     },
     "execution_count": 40,
     "metadata": {},
     "output_type": "execute_result"
    }
   ],
   "source": [
    "df_concat.head()"
   ]
  },
  {
   "cell_type": "code",
   "execution_count": 41,
   "id": "0630b683",
   "metadata": {
    "execution": {
     "iopub.execute_input": "2024-08-05T17:05:21.324395Z",
     "iopub.status.busy": "2024-08-05T17:05:21.323622Z",
     "iopub.status.idle": "2024-08-05T17:05:21.331560Z",
     "shell.execute_reply": "2024-08-05T17:05:21.330746Z"
    },
    "papermill": {
     "duration": 0.0326,
     "end_time": "2024-08-05T17:05:21.333857",
     "exception": false,
     "start_time": "2024-08-05T17:05:21.301257",
     "status": "completed"
    },
    "tags": []
   },
   "outputs": [
    {
     "data": {
      "text/plain": [
       "target                           int64\n",
       "age_approx                     float64\n",
       "sex                             object\n",
       "anatom_site_general             object\n",
       "clin_size_long_diam_mm         float64\n",
       "tbp_lv_A                       float64\n",
       "tbp_lv_Aext                    float64\n",
       "tbp_lv_B                       float64\n",
       "tbp_lv_Bext                    float64\n",
       "tbp_lv_C                       float64\n",
       "tbp_lv_Cext                    float64\n",
       "tbp_lv_H                       float64\n",
       "tbp_lv_Hext                    float64\n",
       "tbp_lv_L                       float64\n",
       "tbp_lv_Lext                    float64\n",
       "tbp_lv_areaMM2                 float64\n",
       "tbp_lv_area_perim_ratio        float64\n",
       "tbp_lv_color_std_mean          float64\n",
       "tbp_lv_deltaA                  float64\n",
       "tbp_lv_deltaB                  float64\n",
       "tbp_lv_deltaL                  float64\n",
       "tbp_lv_deltaLB                 float64\n",
       "tbp_lv_deltaLBnorm             float64\n",
       "tbp_lv_eccentricity            float64\n",
       "tbp_lv_location                 object\n",
       "tbp_lv_location_simple          object\n",
       "tbp_lv_minorAxisMM             float64\n",
       "tbp_lv_nevi_confidence         float64\n",
       "tbp_lv_norm_border             float64\n",
       "tbp_lv_norm_color              float64\n",
       "tbp_lv_perimeterMM             float64\n",
       "tbp_lv_radial_color_std_max    float64\n",
       "tbp_lv_stdL                    float64\n",
       "tbp_lv_stdLExt                 float64\n",
       "tbp_lv_symm_2axis              float64\n",
       "tbp_lv_symm_2axis_angle          int64\n",
       "tbp_lv_x                       float64\n",
       "tbp_lv_y                       float64\n",
       "tbp_lv_z                       float64\n",
       "file_path                       object\n",
       "dtype: object"
      ]
     },
     "execution_count": 41,
     "metadata": {},
     "output_type": "execute_result"
    }
   ],
   "source": [
    "df_concat.dtypes"
   ]
  },
  {
   "cell_type": "code",
   "execution_count": 42,
   "id": "4dd0bf7d",
   "metadata": {
    "execution": {
     "iopub.execute_input": "2024-08-05T17:05:21.378274Z",
     "iopub.status.busy": "2024-08-05T17:05:21.377975Z",
     "iopub.status.idle": "2024-08-05T17:05:21.393920Z",
     "shell.execute_reply": "2024-08-05T17:05:21.392982Z"
    },
    "papermill": {
     "duration": 0.039945,
     "end_time": "2024-08-05T17:05:21.395832",
     "exception": false,
     "start_time": "2024-08-05T17:05:21.355887",
     "status": "completed"
    },
    "tags": []
   },
   "outputs": [],
   "source": [
    "df_concat  = encode(df_concat,['sex','anatom_site_general','tbp_lv_location','tbp_lv_location_simple'])"
   ]
  },
  {
   "cell_type": "code",
   "execution_count": 43,
   "id": "a62a9ab1",
   "metadata": {
    "execution": {
     "iopub.execute_input": "2024-08-05T17:05:21.439970Z",
     "iopub.status.busy": "2024-08-05T17:05:21.439650Z",
     "iopub.status.idle": "2024-08-05T17:05:21.473593Z",
     "shell.execute_reply": "2024-08-05T17:05:21.472730Z"
    },
    "papermill": {
     "duration": 0.058285,
     "end_time": "2024-08-05T17:05:21.475391",
     "exception": false,
     "start_time": "2024-08-05T17:05:21.417106",
     "status": "completed"
    },
    "tags": []
   },
   "outputs": [
    {
     "data": {
      "text/html": [
       "<div>\n",
       "<style scoped>\n",
       "    .dataframe tbody tr th:only-of-type {\n",
       "        vertical-align: middle;\n",
       "    }\n",
       "\n",
       "    .dataframe tbody tr th {\n",
       "        vertical-align: top;\n",
       "    }\n",
       "\n",
       "    .dataframe thead th {\n",
       "        text-align: right;\n",
       "    }\n",
       "</style>\n",
       "<table border=\"1\" class=\"dataframe\">\n",
       "  <thead>\n",
       "    <tr style=\"text-align: right;\">\n",
       "      <th></th>\n",
       "      <th>target</th>\n",
       "      <th>age_approx</th>\n",
       "      <th>sex</th>\n",
       "      <th>anatom_site_general</th>\n",
       "      <th>clin_size_long_diam_mm</th>\n",
       "      <th>tbp_lv_A</th>\n",
       "      <th>tbp_lv_Aext</th>\n",
       "      <th>tbp_lv_B</th>\n",
       "      <th>tbp_lv_Bext</th>\n",
       "      <th>tbp_lv_C</th>\n",
       "      <th>tbp_lv_Cext</th>\n",
       "      <th>tbp_lv_H</th>\n",
       "      <th>tbp_lv_Hext</th>\n",
       "      <th>tbp_lv_L</th>\n",
       "      <th>tbp_lv_Lext</th>\n",
       "      <th>tbp_lv_areaMM2</th>\n",
       "      <th>tbp_lv_area_perim_ratio</th>\n",
       "      <th>tbp_lv_color_std_mean</th>\n",
       "      <th>tbp_lv_deltaA</th>\n",
       "      <th>tbp_lv_deltaB</th>\n",
       "      <th>tbp_lv_deltaL</th>\n",
       "      <th>tbp_lv_deltaLB</th>\n",
       "      <th>tbp_lv_deltaLBnorm</th>\n",
       "      <th>tbp_lv_eccentricity</th>\n",
       "      <th>tbp_lv_location</th>\n",
       "      <th>tbp_lv_location_simple</th>\n",
       "      <th>tbp_lv_minorAxisMM</th>\n",
       "      <th>tbp_lv_nevi_confidence</th>\n",
       "      <th>tbp_lv_norm_border</th>\n",
       "      <th>tbp_lv_norm_color</th>\n",
       "      <th>tbp_lv_perimeterMM</th>\n",
       "      <th>tbp_lv_radial_color_std_max</th>\n",
       "      <th>tbp_lv_stdL</th>\n",
       "      <th>tbp_lv_stdLExt</th>\n",
       "      <th>tbp_lv_symm_2axis</th>\n",
       "      <th>tbp_lv_symm_2axis_angle</th>\n",
       "      <th>tbp_lv_x</th>\n",
       "      <th>tbp_lv_y</th>\n",
       "      <th>tbp_lv_z</th>\n",
       "      <th>file_path</th>\n",
       "    </tr>\n",
       "  </thead>\n",
       "  <tbody>\n",
       "    <tr>\n",
       "      <th>0</th>\n",
       "      <td>0</td>\n",
       "      <td>40.0</td>\n",
       "      <td>0</td>\n",
       "      <td>0</td>\n",
       "      <td>4.26</td>\n",
       "      <td>20.741267</td>\n",
       "      <td>12.820101</td>\n",
       "      <td>30.964684</td>\n",
       "      <td>24.169809</td>\n",
       "      <td>37.269449</td>\n",
       "      <td>27.359361</td>\n",
       "      <td>56.184392</td>\n",
       "      <td>62.057718</td>\n",
       "      <td>64.060066</td>\n",
       "      <td>78.465136</td>\n",
       "      <td>12.948020</td>\n",
       "      <td>14.417523</td>\n",
       "      <td>2.670875</td>\n",
       "      <td>7.921166</td>\n",
       "      <td>6.794875</td>\n",
       "      <td>-14.405070</td>\n",
       "      <td>16.122935</td>\n",
       "      <td>9.402972</td>\n",
       "      <td>0.515338</td>\n",
       "      <td>17</td>\n",
       "      <td>6</td>\n",
       "      <td>3.777694</td>\n",
       "      <td>99.612778</td>\n",
       "      <td>1.362769</td>\n",
       "      <td>7.217264</td>\n",
       "      <td>13.663030</td>\n",
       "      <td>2.154920</td>\n",
       "      <td>5.976117</td>\n",
       "      <td>1.935768</td>\n",
       "      <td>0.138418</td>\n",
       "      <td>115</td>\n",
       "      <td>21.398697</td>\n",
       "      <td>937.951111</td>\n",
       "      <td>-128.577576</td>\n",
       "      <td>/kaggle/input/isic-2024-challenge/train-image/...</td>\n",
       "    </tr>\n",
       "    <tr>\n",
       "      <th>1</th>\n",
       "      <td>0</td>\n",
       "      <td>65.0</td>\n",
       "      <td>1</td>\n",
       "      <td>0</td>\n",
       "      <td>2.72</td>\n",
       "      <td>19.814113</td>\n",
       "      <td>13.344221</td>\n",
       "      <td>30.975995</td>\n",
       "      <td>26.359986</td>\n",
       "      <td>36.771066</td>\n",
       "      <td>29.545171</td>\n",
       "      <td>57.394568</td>\n",
       "      <td>63.150090</td>\n",
       "      <td>55.636695</td>\n",
       "      <td>65.752223</td>\n",
       "      <td>3.002439</td>\n",
       "      <td>15.651030</td>\n",
       "      <td>0.748261</td>\n",
       "      <td>6.469892</td>\n",
       "      <td>4.616008</td>\n",
       "      <td>-10.115529</td>\n",
       "      <td>11.316395</td>\n",
       "      <td>7.560383</td>\n",
       "      <td>0.837024</td>\n",
       "      <td>17</td>\n",
       "      <td>6</td>\n",
       "      <td>1.438223</td>\n",
       "      <td>81.883538</td>\n",
       "      <td>2.816692</td>\n",
       "      <td>1.911322</td>\n",
       "      <td>6.855018</td>\n",
       "      <td>0.531313</td>\n",
       "      <td>2.431932</td>\n",
       "      <td>2.913949</td>\n",
       "      <td>0.304348</td>\n",
       "      <td>45</td>\n",
       "      <td>-118.964722</td>\n",
       "      <td>984.857361</td>\n",
       "      <td>-37.767548</td>\n",
       "      <td>/kaggle/input/isic-2024-challenge/train-image/...</td>\n",
       "    </tr>\n",
       "    <tr>\n",
       "      <th>2</th>\n",
       "      <td>0</td>\n",
       "      <td>55.0</td>\n",
       "      <td>0</td>\n",
       "      <td>2</td>\n",
       "      <td>2.88</td>\n",
       "      <td>19.332857</td>\n",
       "      <td>14.045054</td>\n",
       "      <td>30.066025</td>\n",
       "      <td>27.458099</td>\n",
       "      <td>35.745283</td>\n",
       "      <td>30.841704</td>\n",
       "      <td>57.258439</td>\n",
       "      <td>62.909865</td>\n",
       "      <td>38.068834</td>\n",
       "      <td>46.853877</td>\n",
       "      <td>5.179208</td>\n",
       "      <td>14.275423</td>\n",
       "      <td>0.786866</td>\n",
       "      <td>5.287803</td>\n",
       "      <td>2.607926</td>\n",
       "      <td>-8.785042</td>\n",
       "      <td>9.208635</td>\n",
       "      <td>7.971595</td>\n",
       "      <td>0.528121</td>\n",
       "      <td>12</td>\n",
       "      <td>4</td>\n",
       "      <td>2.328767</td>\n",
       "      <td>2.902333</td>\n",
       "      <td>2.276782</td>\n",
       "      <td>2.477788</td>\n",
       "      <td>8.598569</td>\n",
       "      <td>0.864889</td>\n",
       "      <td>1.759677</td>\n",
       "      <td>3.356490</td>\n",
       "      <td>0.265306</td>\n",
       "      <td>0</td>\n",
       "      <td>222.023621</td>\n",
       "      <td>622.243896</td>\n",
       "      <td>98.015228</td>\n",
       "      <td>/kaggle/input/isic-2024-challenge/train-image/...</td>\n",
       "    </tr>\n",
       "    <tr>\n",
       "      <th>3</th>\n",
       "      <td>0</td>\n",
       "      <td>80.0</td>\n",
       "      <td>0</td>\n",
       "      <td>3</td>\n",
       "      <td>3.31</td>\n",
       "      <td>14.487623</td>\n",
       "      <td>11.256026</td>\n",
       "      <td>25.721046</td>\n",
       "      <td>24.745289</td>\n",
       "      <td>29.520559</td>\n",
       "      <td>27.185060</td>\n",
       "      <td>60.609201</td>\n",
       "      <td>65.540375</td>\n",
       "      <td>28.914877</td>\n",
       "      <td>33.987785</td>\n",
       "      <td>5.329330</td>\n",
       "      <td>16.369810</td>\n",
       "      <td>0.505604</td>\n",
       "      <td>3.231597</td>\n",
       "      <td>0.975757</td>\n",
       "      <td>-5.072908</td>\n",
       "      <td>5.322546</td>\n",
       "      <td>5.643407</td>\n",
       "      <td>0.802881</td>\n",
       "      <td>15</td>\n",
       "      <td>5</td>\n",
       "      <td>2.021650</td>\n",
       "      <td>0.967152</td>\n",
       "      <td>2.533615</td>\n",
       "      <td>1.764214</td>\n",
       "      <td>9.340242</td>\n",
       "      <td>0.668361</td>\n",
       "      <td>1.009984</td>\n",
       "      <td>2.328846</td>\n",
       "      <td>0.248447</td>\n",
       "      <td>135</td>\n",
       "      <td>170.637390</td>\n",
       "      <td>1270.703979</td>\n",
       "      <td>71.772034</td>\n",
       "      <td>/kaggle/input/isic-2024-challenge/train-image/...</td>\n",
       "    </tr>\n",
       "    <tr>\n",
       "      <th>4</th>\n",
       "      <td>0</td>\n",
       "      <td>65.0</td>\n",
       "      <td>1</td>\n",
       "      <td>3</td>\n",
       "      <td>3.47</td>\n",
       "      <td>18.681561</td>\n",
       "      <td>16.487633</td>\n",
       "      <td>25.410689</td>\n",
       "      <td>26.319228</td>\n",
       "      <td>31.538926</td>\n",
       "      <td>31.057105</td>\n",
       "      <td>53.677226</td>\n",
       "      <td>57.934988</td>\n",
       "      <td>49.351034</td>\n",
       "      <td>58.280699</td>\n",
       "      <td>5.441922</td>\n",
       "      <td>26.606809</td>\n",
       "      <td>0.679675</td>\n",
       "      <td>2.193928</td>\n",
       "      <td>-0.908539</td>\n",
       "      <td>-8.929665</td>\n",
       "      <td>9.095377</td>\n",
       "      <td>6.615330</td>\n",
       "      <td>0.784241</td>\n",
       "      <td>15</td>\n",
       "      <td>5</td>\n",
       "      <td>2.339219</td>\n",
       "      <td>0.005842</td>\n",
       "      <td>5.663917</td>\n",
       "      <td>1.889498</td>\n",
       "      <td>12.032962</td>\n",
       "      <td>0.582977</td>\n",
       "      <td>2.681651</td>\n",
       "      <td>2.767671</td>\n",
       "      <td>0.419162</td>\n",
       "      <td>85</td>\n",
       "      <td>-71.839172</td>\n",
       "      <td>1516.213745</td>\n",
       "      <td>44.724854</td>\n",
       "      <td>/kaggle/input/isic-2024-challenge/train-image/...</td>\n",
       "    </tr>\n",
       "  </tbody>\n",
       "</table>\n",
       "</div>"
      ],
      "text/plain": [
       "   target  age_approx  sex  anatom_site_general  clin_size_long_diam_mm  \\\n",
       "0       0        40.0    0                    0                    4.26   \n",
       "1       0        65.0    1                    0                    2.72   \n",
       "2       0        55.0    0                    2                    2.88   \n",
       "3       0        80.0    0                    3                    3.31   \n",
       "4       0        65.0    1                    3                    3.47   \n",
       "\n",
       "    tbp_lv_A  tbp_lv_Aext   tbp_lv_B  tbp_lv_Bext   tbp_lv_C  tbp_lv_Cext  \\\n",
       "0  20.741267    12.820101  30.964684    24.169809  37.269449    27.359361   \n",
       "1  19.814113    13.344221  30.975995    26.359986  36.771066    29.545171   \n",
       "2  19.332857    14.045054  30.066025    27.458099  35.745283    30.841704   \n",
       "3  14.487623    11.256026  25.721046    24.745289  29.520559    27.185060   \n",
       "4  18.681561    16.487633  25.410689    26.319228  31.538926    31.057105   \n",
       "\n",
       "    tbp_lv_H  tbp_lv_Hext   tbp_lv_L  tbp_lv_Lext  tbp_lv_areaMM2  \\\n",
       "0  56.184392    62.057718  64.060066    78.465136       12.948020   \n",
       "1  57.394568    63.150090  55.636695    65.752223        3.002439   \n",
       "2  57.258439    62.909865  38.068834    46.853877        5.179208   \n",
       "3  60.609201    65.540375  28.914877    33.987785        5.329330   \n",
       "4  53.677226    57.934988  49.351034    58.280699        5.441922   \n",
       "\n",
       "   tbp_lv_area_perim_ratio  tbp_lv_color_std_mean  tbp_lv_deltaA  \\\n",
       "0                14.417523               2.670875       7.921166   \n",
       "1                15.651030               0.748261       6.469892   \n",
       "2                14.275423               0.786866       5.287803   \n",
       "3                16.369810               0.505604       3.231597   \n",
       "4                26.606809               0.679675       2.193928   \n",
       "\n",
       "   tbp_lv_deltaB  tbp_lv_deltaL  tbp_lv_deltaLB  tbp_lv_deltaLBnorm  \\\n",
       "0       6.794875     -14.405070       16.122935            9.402972   \n",
       "1       4.616008     -10.115529       11.316395            7.560383   \n",
       "2       2.607926      -8.785042        9.208635            7.971595   \n",
       "3       0.975757      -5.072908        5.322546            5.643407   \n",
       "4      -0.908539      -8.929665        9.095377            6.615330   \n",
       "\n",
       "   tbp_lv_eccentricity  tbp_lv_location  tbp_lv_location_simple  \\\n",
       "0             0.515338               17                       6   \n",
       "1             0.837024               17                       6   \n",
       "2             0.528121               12                       4   \n",
       "3             0.802881               15                       5   \n",
       "4             0.784241               15                       5   \n",
       "\n",
       "   tbp_lv_minorAxisMM  tbp_lv_nevi_confidence  tbp_lv_norm_border  \\\n",
       "0            3.777694               99.612778            1.362769   \n",
       "1            1.438223               81.883538            2.816692   \n",
       "2            2.328767                2.902333            2.276782   \n",
       "3            2.021650                0.967152            2.533615   \n",
       "4            2.339219                0.005842            5.663917   \n",
       "\n",
       "   tbp_lv_norm_color  tbp_lv_perimeterMM  tbp_lv_radial_color_std_max  \\\n",
       "0           7.217264           13.663030                     2.154920   \n",
       "1           1.911322            6.855018                     0.531313   \n",
       "2           2.477788            8.598569                     0.864889   \n",
       "3           1.764214            9.340242                     0.668361   \n",
       "4           1.889498           12.032962                     0.582977   \n",
       "\n",
       "   tbp_lv_stdL  tbp_lv_stdLExt  tbp_lv_symm_2axis  tbp_lv_symm_2axis_angle  \\\n",
       "0     5.976117        1.935768           0.138418                      115   \n",
       "1     2.431932        2.913949           0.304348                       45   \n",
       "2     1.759677        3.356490           0.265306                        0   \n",
       "3     1.009984        2.328846           0.248447                      135   \n",
       "4     2.681651        2.767671           0.419162                       85   \n",
       "\n",
       "     tbp_lv_x     tbp_lv_y    tbp_lv_z  \\\n",
       "0   21.398697   937.951111 -128.577576   \n",
       "1 -118.964722   984.857361  -37.767548   \n",
       "2  222.023621   622.243896   98.015228   \n",
       "3  170.637390  1270.703979   71.772034   \n",
       "4  -71.839172  1516.213745   44.724854   \n",
       "\n",
       "                                           file_path  \n",
       "0  /kaggle/input/isic-2024-challenge/train-image/...  \n",
       "1  /kaggle/input/isic-2024-challenge/train-image/...  \n",
       "2  /kaggle/input/isic-2024-challenge/train-image/...  \n",
       "3  /kaggle/input/isic-2024-challenge/train-image/...  \n",
       "4  /kaggle/input/isic-2024-challenge/train-image/...  "
      ]
     },
     "execution_count": 43,
     "metadata": {},
     "output_type": "execute_result"
    }
   ],
   "source": [
    "df_concat.head()"
   ]
  },
  {
   "cell_type": "code",
   "execution_count": 44,
   "id": "e4a25eba",
   "metadata": {
    "execution": {
     "iopub.execute_input": "2024-08-05T17:05:21.520419Z",
     "iopub.status.busy": "2024-08-05T17:05:21.520108Z",
     "iopub.status.idle": "2024-08-05T17:05:21.526310Z",
     "shell.execute_reply": "2024-08-05T17:05:21.525452Z"
    },
    "papermill": {
     "duration": 0.030819,
     "end_time": "2024-08-05T17:05:21.528247",
     "exception": false,
     "start_time": "2024-08-05T17:05:21.497428",
     "status": "completed"
    },
    "tags": []
   },
   "outputs": [
    {
     "data": {
      "text/plain": [
       "Index(['target', 'age_approx', 'sex', 'anatom_site_general',\n",
       "       'clin_size_long_diam_mm', 'tbp_lv_A', 'tbp_lv_Aext', 'tbp_lv_B',\n",
       "       'tbp_lv_Bext', 'tbp_lv_C', 'tbp_lv_Cext', 'tbp_lv_H', 'tbp_lv_Hext',\n",
       "       'tbp_lv_L', 'tbp_lv_Lext', 'tbp_lv_areaMM2', 'tbp_lv_area_perim_ratio',\n",
       "       'tbp_lv_color_std_mean', 'tbp_lv_deltaA', 'tbp_lv_deltaB',\n",
       "       'tbp_lv_deltaL', 'tbp_lv_deltaLB', 'tbp_lv_deltaLBnorm',\n",
       "       'tbp_lv_eccentricity', 'tbp_lv_location', 'tbp_lv_location_simple',\n",
       "       'tbp_lv_minorAxisMM', 'tbp_lv_nevi_confidence', 'tbp_lv_norm_border',\n",
       "       'tbp_lv_norm_color', 'tbp_lv_perimeterMM',\n",
       "       'tbp_lv_radial_color_std_max', 'tbp_lv_stdL', 'tbp_lv_stdLExt',\n",
       "       'tbp_lv_symm_2axis', 'tbp_lv_symm_2axis_angle', 'tbp_lv_x', 'tbp_lv_y',\n",
       "       'tbp_lv_z', 'file_path'],\n",
       "      dtype='object')"
      ]
     },
     "execution_count": 44,
     "metadata": {},
     "output_type": "execute_result"
    }
   ],
   "source": [
    "df_concat.columns"
   ]
  },
  {
   "cell_type": "code",
   "execution_count": 45,
   "id": "d5377bfb",
   "metadata": {
    "execution": {
     "iopub.execute_input": "2024-08-05T17:05:21.573692Z",
     "iopub.status.busy": "2024-08-05T17:05:21.573361Z",
     "iopub.status.idle": "2024-08-05T17:05:21.578803Z",
     "shell.execute_reply": "2024-08-05T17:05:21.577958Z"
    },
    "papermill": {
     "duration": 0.030267,
     "end_time": "2024-08-05T17:05:21.580695",
     "exception": false,
     "start_time": "2024-08-05T17:05:21.550428",
     "status": "completed"
    },
    "tags": []
   },
   "outputs": [],
   "source": [
    "columns = ['age_approx', 'sex', 'anatom_site_general',\n",
    "       'clin_size_long_diam_mm', 'tbp_lv_A', 'tbp_lv_Aext', 'tbp_lv_B',\n",
    "       'tbp_lv_Bext', 'tbp_lv_C', 'tbp_lv_Cext', 'tbp_lv_H', 'tbp_lv_Hext',\n",
    "       'tbp_lv_L', 'tbp_lv_Lext', 'tbp_lv_areaMM2', 'tbp_lv_area_perim_ratio',\n",
    "       'tbp_lv_color_std_mean', 'tbp_lv_deltaA', 'tbp_lv_deltaB',\n",
    "       'tbp_lv_deltaL', 'tbp_lv_deltaLB', 'tbp_lv_deltaLBnorm',\n",
    "       'tbp_lv_eccentricity', 'tbp_lv_location', 'tbp_lv_location_simple',\n",
    "       'tbp_lv_minorAxisMM', 'tbp_lv_nevi_confidence', 'tbp_lv_norm_border',\n",
    "       'tbp_lv_norm_color', 'tbp_lv_perimeterMM',\n",
    "       'tbp_lv_radial_color_std_max', 'tbp_lv_stdL', 'tbp_lv_stdLExt',\n",
    "       'tbp_lv_symm_2axis', 'tbp_lv_symm_2axis_angle', 'tbp_lv_x', 'tbp_lv_y',\n",
    "       'tbp_lv_z']"
   ]
  },
  {
   "cell_type": "code",
   "execution_count": 46,
   "id": "9b4e8f25",
   "metadata": {
    "execution": {
     "iopub.execute_input": "2024-08-05T17:05:21.626261Z",
     "iopub.status.busy": "2024-08-05T17:05:21.625512Z",
     "iopub.status.idle": "2024-08-05T17:05:21.735110Z",
     "shell.execute_reply": "2024-08-05T17:05:21.734025Z"
    },
    "papermill": {
     "duration": 0.13499,
     "end_time": "2024-08-05T17:05:21.737578",
     "exception": false,
     "start_time": "2024-08-05T17:05:21.602588",
     "status": "completed"
    },
    "tags": []
   },
   "outputs": [],
   "source": [
    "df_concat = scale_columns(df_concat,columns)"
   ]
  },
  {
   "cell_type": "code",
   "execution_count": 47,
   "id": "5a16e83b",
   "metadata": {
    "execution": {
     "iopub.execute_input": "2024-08-05T17:05:21.783840Z",
     "iopub.status.busy": "2024-08-05T17:05:21.783467Z",
     "iopub.status.idle": "2024-08-05T17:05:21.817210Z",
     "shell.execute_reply": "2024-08-05T17:05:21.816258Z"
    },
    "papermill": {
     "duration": 0.058714,
     "end_time": "2024-08-05T17:05:21.819222",
     "exception": false,
     "start_time": "2024-08-05T17:05:21.760508",
     "status": "completed"
    },
    "tags": []
   },
   "outputs": [
    {
     "data": {
      "text/html": [
       "<div>\n",
       "<style scoped>\n",
       "    .dataframe tbody tr th:only-of-type {\n",
       "        vertical-align: middle;\n",
       "    }\n",
       "\n",
       "    .dataframe tbody tr th {\n",
       "        vertical-align: top;\n",
       "    }\n",
       "\n",
       "    .dataframe thead th {\n",
       "        text-align: right;\n",
       "    }\n",
       "</style>\n",
       "<table border=\"1\" class=\"dataframe\">\n",
       "  <thead>\n",
       "    <tr style=\"text-align: right;\">\n",
       "      <th></th>\n",
       "      <th>target</th>\n",
       "      <th>age_approx</th>\n",
       "      <th>sex</th>\n",
       "      <th>anatom_site_general</th>\n",
       "      <th>clin_size_long_diam_mm</th>\n",
       "      <th>tbp_lv_A</th>\n",
       "      <th>tbp_lv_Aext</th>\n",
       "      <th>tbp_lv_B</th>\n",
       "      <th>tbp_lv_Bext</th>\n",
       "      <th>tbp_lv_C</th>\n",
       "      <th>tbp_lv_Cext</th>\n",
       "      <th>tbp_lv_H</th>\n",
       "      <th>tbp_lv_Hext</th>\n",
       "      <th>tbp_lv_L</th>\n",
       "      <th>tbp_lv_Lext</th>\n",
       "      <th>tbp_lv_areaMM2</th>\n",
       "      <th>tbp_lv_area_perim_ratio</th>\n",
       "      <th>tbp_lv_color_std_mean</th>\n",
       "      <th>tbp_lv_deltaA</th>\n",
       "      <th>tbp_lv_deltaB</th>\n",
       "      <th>tbp_lv_deltaL</th>\n",
       "      <th>tbp_lv_deltaLB</th>\n",
       "      <th>tbp_lv_deltaLBnorm</th>\n",
       "      <th>tbp_lv_eccentricity</th>\n",
       "      <th>tbp_lv_location</th>\n",
       "      <th>tbp_lv_location_simple</th>\n",
       "      <th>tbp_lv_minorAxisMM</th>\n",
       "      <th>tbp_lv_nevi_confidence</th>\n",
       "      <th>tbp_lv_norm_border</th>\n",
       "      <th>tbp_lv_norm_color</th>\n",
       "      <th>tbp_lv_perimeterMM</th>\n",
       "      <th>tbp_lv_radial_color_std_max</th>\n",
       "      <th>tbp_lv_stdL</th>\n",
       "      <th>tbp_lv_stdLExt</th>\n",
       "      <th>tbp_lv_symm_2axis</th>\n",
       "      <th>tbp_lv_symm_2axis_angle</th>\n",
       "      <th>tbp_lv_x</th>\n",
       "      <th>tbp_lv_y</th>\n",
       "      <th>tbp_lv_z</th>\n",
       "      <th>file_path</th>\n",
       "    </tr>\n",
       "  </thead>\n",
       "  <tbody>\n",
       "    <tr>\n",
       "      <th>0</th>\n",
       "      <td>0</td>\n",
       "      <td>-1.322097</td>\n",
       "      <td>-1.406725</td>\n",
       "      <td>-1.584460</td>\n",
       "      <td>0.130828</td>\n",
       "      <td>0.173879</td>\n",
       "      <td>-0.592195</td>\n",
       "      <td>0.535009</td>\n",
       "      <td>-0.582471</td>\n",
       "      <td>0.447070</td>\n",
       "      <td>-0.721556</td>\n",
       "      <td>0.306844</td>\n",
       "      <td>0.213452</td>\n",
       "      <td>2.000791</td>\n",
       "      <td>2.262959</td>\n",
       "      <td>0.333670</td>\n",
       "      <td>-0.870041</td>\n",
       "      <td>1.906491</td>\n",
       "      <td>1.110468</td>\n",
       "      <td>2.403406</td>\n",
       "      <td>-1.532695</td>\n",
       "      <td>1.855043</td>\n",
       "      <td>0.707411</td>\n",
       "      <td>-1.584354</td>\n",
       "      <td>0.995758</td>\n",
       "      <td>1.100169</td>\n",
       "      <td>0.903157</td>\n",
       "      <td>1.474368</td>\n",
       "      <td>-1.216956</td>\n",
       "      <td>1.884197</td>\n",
       "      <td>0.225826</td>\n",
       "      <td>1.414183</td>\n",
       "      <td>1.797178</td>\n",
       "      <td>-0.482701</td>\n",
       "      <td>-1.347099</td>\n",
       "      <td>0.535118</td>\n",
       "      <td>0.153452</td>\n",
       "      <td>-0.239167</td>\n",
       "      <td>-2.082825</td>\n",
       "      <td>/kaggle/input/isic-2024-challenge/train-image/...</td>\n",
       "    </tr>\n",
       "    <tr>\n",
       "      <th>1</th>\n",
       "      <td>0</td>\n",
       "      <td>0.515668</td>\n",
       "      <td>0.557359</td>\n",
       "      <td>-1.584460</td>\n",
       "      <td>-0.667628</td>\n",
       "      <td>-0.049881</td>\n",
       "      <td>-0.449380</td>\n",
       "      <td>0.537114</td>\n",
       "      <td>-0.100060</td>\n",
       "      <td>0.361253</td>\n",
       "      <td>-0.274428</td>\n",
       "      <td>0.515660</td>\n",
       "      <td>0.398154</td>\n",
       "      <td>1.228358</td>\n",
       "      <td>1.207092</td>\n",
       "      <td>-0.542200</td>\n",
       "      <td>-0.641410</td>\n",
       "      <td>-0.431130</td>\n",
       "      <td>0.553553</td>\n",
       "      <td>1.454433</td>\n",
       "      <td>-0.321466</td>\n",
       "      <td>0.503787</td>\n",
       "      <td>-0.015436</td>\n",
       "      <td>0.678748</td>\n",
       "      <td>0.995758</td>\n",
       "      <td>1.100169</td>\n",
       "      <td>-0.889478</td>\n",
       "      <td>1.047513</td>\n",
       "      <td>-0.373455</td>\n",
       "      <td>-0.583453</td>\n",
       "      <td>-0.802694</td>\n",
       "      <td>-0.653930</td>\n",
       "      <td>-0.181373</td>\n",
       "      <td>0.975404</td>\n",
       "      <td>-0.023783</td>\n",
       "      <td>-0.791193</td>\n",
       "      <td>-0.565957</td>\n",
       "      <td>-0.127658</td>\n",
       "      <td>-1.057131</td>\n",
       "      <td>/kaggle/input/isic-2024-challenge/train-image/...</td>\n",
       "    </tr>\n",
       "    <tr>\n",
       "      <th>2</th>\n",
       "      <td>0</td>\n",
       "      <td>-0.219438</td>\n",
       "      <td>-1.406725</td>\n",
       "      <td>-0.154469</td>\n",
       "      <td>-0.584672</td>\n",
       "      <td>-0.166027</td>\n",
       "      <td>-0.258414</td>\n",
       "      <td>0.367709</td>\n",
       "      <td>0.141812</td>\n",
       "      <td>0.184621</td>\n",
       "      <td>-0.009210</td>\n",
       "      <td>0.492171</td>\n",
       "      <td>0.357536</td>\n",
       "      <td>-0.382636</td>\n",
       "      <td>-0.362506</td>\n",
       "      <td>-0.350500</td>\n",
       "      <td>-0.896379</td>\n",
       "      <td>-0.384192</td>\n",
       "      <td>0.099935</td>\n",
       "      <td>0.579843</td>\n",
       "      <td>0.054220</td>\n",
       "      <td>-0.088764</td>\n",
       "      <td>0.145883</td>\n",
       "      <td>-1.494424</td>\n",
       "      <td>0.084794</td>\n",
       "      <td>0.004514</td>\n",
       "      <td>-0.207093</td>\n",
       "      <td>-0.854063</td>\n",
       "      <td>-0.686687</td>\n",
       "      <td>-0.320005</td>\n",
       "      <td>-0.539287</td>\n",
       "      <td>-0.229028</td>\n",
       "      <td>-0.556662</td>\n",
       "      <td>1.635069</td>\n",
       "      <td>-0.335146</td>\n",
       "      <td>-1.643822</td>\n",
       "      <td>1.181722</td>\n",
       "      <td>-0.989689</td>\n",
       "      <td>0.476528</td>\n",
       "      <td>/kaggle/input/isic-2024-challenge/train-image/...</td>\n",
       "    </tr>\n",
       "    <tr>\n",
       "      <th>3</th>\n",
       "      <td>0</td>\n",
       "      <td>1.618327</td>\n",
       "      <td>-1.406725</td>\n",
       "      <td>0.560526</td>\n",
       "      <td>-0.361726</td>\n",
       "      <td>-1.335379</td>\n",
       "      <td>-1.018382</td>\n",
       "      <td>-0.441178</td>\n",
       "      <td>-0.455715</td>\n",
       "      <td>-0.887227</td>\n",
       "      <td>-0.757211</td>\n",
       "      <td>1.070345</td>\n",
       "      <td>0.802311</td>\n",
       "      <td>-1.222065</td>\n",
       "      <td>-1.431095</td>\n",
       "      <td>-0.337279</td>\n",
       "      <td>-0.508184</td>\n",
       "      <td>-0.726165</td>\n",
       "      <td>-0.689119</td>\n",
       "      <td>-0.131024</td>\n",
       "      <td>1.102408</td>\n",
       "      <td>-1.181255</td>\n",
       "      <td>-0.767464</td>\n",
       "      <td>0.438545</td>\n",
       "      <td>0.631372</td>\n",
       "      <td>0.552342</td>\n",
       "      <td>-0.442423</td>\n",
       "      <td>-0.900655</td>\n",
       "      <td>-0.537684</td>\n",
       "      <td>-0.651869</td>\n",
       "      <td>-0.427239</td>\n",
       "      <td>-0.479361</td>\n",
       "      <td>-0.975180</td>\n",
       "      <td>0.103233</td>\n",
       "      <td>-0.469599</td>\n",
       "      <td>0.914065</td>\n",
       "      <td>0.918351</td>\n",
       "      <td>0.551878</td>\n",
       "      <td>0.180112</td>\n",
       "      <td>/kaggle/input/isic-2024-challenge/train-image/...</td>\n",
       "    </tr>\n",
       "    <tr>\n",
       "      <th>4</th>\n",
       "      <td>0</td>\n",
       "      <td>0.515668</td>\n",
       "      <td>0.557359</td>\n",
       "      <td>0.560526</td>\n",
       "      <td>-0.278770</td>\n",
       "      <td>-0.323211</td>\n",
       "      <td>0.407153</td>\n",
       "      <td>-0.498956</td>\n",
       "      <td>-0.109037</td>\n",
       "      <td>-0.539681</td>\n",
       "      <td>0.034853</td>\n",
       "      <td>-0.125767</td>\n",
       "      <td>-0.483634</td>\n",
       "      <td>0.651955</td>\n",
       "      <td>0.586546</td>\n",
       "      <td>-0.327364</td>\n",
       "      <td>1.389247</td>\n",
       "      <td>-0.514519</td>\n",
       "      <td>-1.087316</td>\n",
       "      <td>-0.951701</td>\n",
       "      <td>0.013383</td>\n",
       "      <td>-0.120605</td>\n",
       "      <td>-0.386179</td>\n",
       "      <td>0.307409</td>\n",
       "      <td>0.631372</td>\n",
       "      <td>0.552342</td>\n",
       "      <td>-0.199084</td>\n",
       "      <td>-0.923800</td>\n",
       "      <td>1.278377</td>\n",
       "      <td>-0.593603</td>\n",
       "      <td>-0.020437</td>\n",
       "      <td>-0.588122</td>\n",
       "      <td>-0.041967</td>\n",
       "      <td>0.757359</td>\n",
       "      <td>0.891876</td>\n",
       "      <td>-0.033301</td>\n",
       "      <td>-0.324423</td>\n",
       "      <td>1.135522</td>\n",
       "      <td>-0.125384</td>\n",
       "      <td>/kaggle/input/isic-2024-challenge/train-image/...</td>\n",
       "    </tr>\n",
       "  </tbody>\n",
       "</table>\n",
       "</div>"
      ],
      "text/plain": [
       "   target  age_approx       sex  anatom_site_general  clin_size_long_diam_mm  \\\n",
       "0       0   -1.322097 -1.406725            -1.584460                0.130828   \n",
       "1       0    0.515668  0.557359            -1.584460               -0.667628   \n",
       "2       0   -0.219438 -1.406725            -0.154469               -0.584672   \n",
       "3       0    1.618327 -1.406725             0.560526               -0.361726   \n",
       "4       0    0.515668  0.557359             0.560526               -0.278770   \n",
       "\n",
       "   tbp_lv_A  tbp_lv_Aext  tbp_lv_B  tbp_lv_Bext  tbp_lv_C  tbp_lv_Cext  \\\n",
       "0  0.173879    -0.592195  0.535009    -0.582471  0.447070    -0.721556   \n",
       "1 -0.049881    -0.449380  0.537114    -0.100060  0.361253    -0.274428   \n",
       "2 -0.166027    -0.258414  0.367709     0.141812  0.184621    -0.009210   \n",
       "3 -1.335379    -1.018382 -0.441178    -0.455715 -0.887227    -0.757211   \n",
       "4 -0.323211     0.407153 -0.498956    -0.109037 -0.539681     0.034853   \n",
       "\n",
       "   tbp_lv_H  tbp_lv_Hext  tbp_lv_L  tbp_lv_Lext  tbp_lv_areaMM2  \\\n",
       "0  0.306844     0.213452  2.000791     2.262959        0.333670   \n",
       "1  0.515660     0.398154  1.228358     1.207092       -0.542200   \n",
       "2  0.492171     0.357536 -0.382636    -0.362506       -0.350500   \n",
       "3  1.070345     0.802311 -1.222065    -1.431095       -0.337279   \n",
       "4 -0.125767    -0.483634  0.651955     0.586546       -0.327364   \n",
       "\n",
       "   tbp_lv_area_perim_ratio  tbp_lv_color_std_mean  tbp_lv_deltaA  \\\n",
       "0                -0.870041               1.906491       1.110468   \n",
       "1                -0.641410              -0.431130       0.553553   \n",
       "2                -0.896379              -0.384192       0.099935   \n",
       "3                -0.508184              -0.726165      -0.689119   \n",
       "4                 1.389247              -0.514519      -1.087316   \n",
       "\n",
       "   tbp_lv_deltaB  tbp_lv_deltaL  tbp_lv_deltaLB  tbp_lv_deltaLBnorm  \\\n",
       "0       2.403406      -1.532695        1.855043            0.707411   \n",
       "1       1.454433      -0.321466        0.503787           -0.015436   \n",
       "2       0.579843       0.054220       -0.088764            0.145883   \n",
       "3      -0.131024       1.102408       -1.181255           -0.767464   \n",
       "4      -0.951701       0.013383       -0.120605           -0.386179   \n",
       "\n",
       "   tbp_lv_eccentricity  tbp_lv_location  tbp_lv_location_simple  \\\n",
       "0            -1.584354         0.995758                1.100169   \n",
       "1             0.678748         0.995758                1.100169   \n",
       "2            -1.494424         0.084794                0.004514   \n",
       "3             0.438545         0.631372                0.552342   \n",
       "4             0.307409         0.631372                0.552342   \n",
       "\n",
       "   tbp_lv_minorAxisMM  tbp_lv_nevi_confidence  tbp_lv_norm_border  \\\n",
       "0            0.903157                1.474368           -1.216956   \n",
       "1           -0.889478                1.047513           -0.373455   \n",
       "2           -0.207093               -0.854063           -0.686687   \n",
       "3           -0.442423               -0.900655           -0.537684   \n",
       "4           -0.199084               -0.923800            1.278377   \n",
       "\n",
       "   tbp_lv_norm_color  tbp_lv_perimeterMM  tbp_lv_radial_color_std_max  \\\n",
       "0           1.884197            0.225826                     1.414183   \n",
       "1          -0.583453           -0.802694                    -0.653930   \n",
       "2          -0.320005           -0.539287                    -0.229028   \n",
       "3          -0.651869           -0.427239                    -0.479361   \n",
       "4          -0.593603           -0.020437                    -0.588122   \n",
       "\n",
       "   tbp_lv_stdL  tbp_lv_stdLExt  tbp_lv_symm_2axis  tbp_lv_symm_2axis_angle  \\\n",
       "0     1.797178       -0.482701          -1.347099                 0.535118   \n",
       "1    -0.181373        0.975404          -0.023783                -0.791193   \n",
       "2    -0.556662        1.635069          -0.335146                -1.643822   \n",
       "3    -0.975180        0.103233          -0.469599                 0.914065   \n",
       "4    -0.041967        0.757359           0.891876                -0.033301   \n",
       "\n",
       "   tbp_lv_x  tbp_lv_y  tbp_lv_z  \\\n",
       "0  0.153452 -0.239167 -2.082825   \n",
       "1 -0.565957 -0.127658 -1.057131   \n",
       "2  1.181722 -0.989689  0.476528   \n",
       "3  0.918351  0.551878  0.180112   \n",
       "4 -0.324423  1.135522 -0.125384   \n",
       "\n",
       "                                           file_path  \n",
       "0  /kaggle/input/isic-2024-challenge/train-image/...  \n",
       "1  /kaggle/input/isic-2024-challenge/train-image/...  \n",
       "2  /kaggle/input/isic-2024-challenge/train-image/...  \n",
       "3  /kaggle/input/isic-2024-challenge/train-image/...  \n",
       "4  /kaggle/input/isic-2024-challenge/train-image/...  "
      ]
     },
     "execution_count": 47,
     "metadata": {},
     "output_type": "execute_result"
    }
   ],
   "source": [
    "df_concat.head()"
   ]
  },
  {
   "cell_type": "code",
   "execution_count": 48,
   "id": "e43b1151",
   "metadata": {
    "execution": {
     "iopub.execute_input": "2024-08-05T17:05:21.866273Z",
     "iopub.status.busy": "2024-08-05T17:05:21.865945Z",
     "iopub.status.idle": "2024-08-05T17:05:21.870123Z",
     "shell.execute_reply": "2024-08-05T17:05:21.869241Z"
    },
    "papermill": {
     "duration": 0.02996,
     "end_time": "2024-08-05T17:05:21.871984",
     "exception": false,
     "start_time": "2024-08-05T17:05:21.842024",
     "status": "completed"
    },
    "tags": []
   },
   "outputs": [],
   "source": [
    "# train_df, test_df = train_test_split(df_concat, test_size=0.11, \n",
    "#                                      stratify=df_concat[\"target\"].values, random_state=42)\n",
    "# # 5% for validation\n",
    "# # train_df, val_df = train_test_split(train_df, test_size=0.11,stratify=train_df[\"target\"].values, random_state=42)\n",
    "\n",
    "# print(f\"Total training examples: {len(train_df)}\")\n",
    "# # print(f\"Total validation examples: {len(val_df)}\")\n",
    "# print(f\"Total test examples: {len(test_df)}\")"
   ]
  },
  {
   "cell_type": "code",
   "execution_count": 49,
   "id": "769167b3",
   "metadata": {
    "execution": {
     "iopub.execute_input": "2024-08-05T17:05:21.918318Z",
     "iopub.status.busy": "2024-08-05T17:05:21.918037Z",
     "iopub.status.idle": "2024-08-05T17:05:21.921805Z",
     "shell.execute_reply": "2024-08-05T17:05:21.920945Z"
    },
    "papermill": {
     "duration": 0.02904,
     "end_time": "2024-08-05T17:05:21.923749",
     "exception": false,
     "start_time": "2024-08-05T17:05:21.894709",
     "status": "completed"
    },
    "tags": []
   },
   "outputs": [],
   "source": [
    "# labels = df['target']"
   ]
  },
  {
   "cell_type": "code",
   "execution_count": 50,
   "id": "0244ed06",
   "metadata": {
    "execution": {
     "iopub.execute_input": "2024-08-05T17:05:21.970869Z",
     "iopub.status.busy": "2024-08-05T17:05:21.970086Z",
     "iopub.status.idle": "2024-08-05T17:05:21.974077Z",
     "shell.execute_reply": "2024-08-05T17:05:21.973253Z"
    },
    "papermill": {
     "duration": 0.029559,
     "end_time": "2024-08-05T17:05:21.975971",
     "exception": false,
     "start_time": "2024-08-05T17:05:21.946412",
     "status": "completed"
    },
    "tags": []
   },
   "outputs": [],
   "source": [
    "# labels.shape"
   ]
  },
  {
   "cell_type": "markdown",
   "id": "cefe8369",
   "metadata": {
    "papermill": {
     "duration": 0.022488,
     "end_time": "2024-08-05T17:05:22.020659",
     "exception": false,
     "start_time": "2024-08-05T17:05:21.998171",
     "status": "completed"
    },
    "tags": []
   },
   "source": [
    "https://github.com/sayakpaul/Multimodal-Entailment-Baseline/blob/main/multimodal_entailment.ipynb"
   ]
  },
  {
   "cell_type": "code",
   "execution_count": 51,
   "id": "52c23831",
   "metadata": {
    "execution": {
     "iopub.execute_input": "2024-08-05T17:05:22.067672Z",
     "iopub.status.busy": "2024-08-05T17:05:22.066919Z",
     "iopub.status.idle": "2024-08-05T17:05:22.074886Z",
     "shell.execute_reply": "2024-08-05T17:05:22.074003Z"
    },
    "papermill": {
     "duration": 0.033695,
     "end_time": "2024-08-05T17:05:22.076882",
     "exception": false,
     "start_time": "2024-08-05T17:05:22.043187",
     "status": "completed"
    },
    "tags": []
   },
   "outputs": [],
   "source": [
    "class ProjectEmbeddings(keras.layers.Layer):\n",
    "    def __init__(self, num_projection_layers, projection_dims, dropout_rate, **kwargs):\n",
    "        super(ProjectEmbeddings, self).__init__(**kwargs)\n",
    "        self.num_projection_layers = num_projection_layers\n",
    "        self.projection_dims = projection_dims\n",
    "        self.dropout_rate = dropout_rate\n",
    "        \n",
    "        # Initialize Dense and Dropout layers in __init__ or build\n",
    "        self.projection_layers = [layers.Dense(self.projection_dims) for _ in range(self.num_projection_layers)]\n",
    "        self.dropout_layers = [layers.Dropout(self.dropout_rate) for _ in range(self.num_projection_layers - 1)]\n",
    "\n",
    "    def call(self, embeddings):\n",
    "        x = embeddings\n",
    "        for i in range(self.num_projection_layers):\n",
    "            x = self.projection_layers[i](x)\n",
    "            if i < self.num_projection_layers - 1:\n",
    "                x = tf.nn.gelu(x)\n",
    "                x = self.dropout_layers[i](x)\n",
    "        return x"
   ]
  },
  {
   "cell_type": "code",
   "execution_count": 52,
   "id": "919e4b90",
   "metadata": {
    "execution": {
     "iopub.execute_input": "2024-08-05T17:05:22.123713Z",
     "iopub.status.busy": "2024-08-05T17:05:22.123010Z",
     "iopub.status.idle": "2024-08-05T17:05:22.128499Z",
     "shell.execute_reply": "2024-08-05T17:05:22.127710Z"
    },
    "papermill": {
     "duration": 0.0311,
     "end_time": "2024-08-05T17:05:22.130511",
     "exception": false,
     "start_time": "2024-08-05T17:05:22.099411",
     "status": "completed"
    },
    "tags": []
   },
   "outputs": [
    {
     "data": {
      "text/plain": [
       "(8253, 40)"
      ]
     },
     "execution_count": 52,
     "metadata": {},
     "output_type": "execute_result"
    }
   ],
   "source": [
    "df_concat.shape"
   ]
  },
  {
   "cell_type": "markdown",
   "id": "96d0979a",
   "metadata": {
    "papermill": {
     "duration": 0.023814,
     "end_time": "2024-08-05T17:05:22.177416",
     "exception": false,
     "start_time": "2024-08-05T17:05:22.153602",
     "status": "completed"
    },
    "tags": []
   },
   "source": [
    "(7860, 56), negative shape: (11790, 56)"
   ]
  },
  {
   "cell_type": "code",
   "execution_count": 53,
   "id": "6cec5fa0",
   "metadata": {
    "execution": {
     "iopub.execute_input": "2024-08-05T17:05:22.223903Z",
     "iopub.status.busy": "2024-08-05T17:05:22.223524Z",
     "iopub.status.idle": "2024-08-05T17:05:22.227429Z",
     "shell.execute_reply": "2024-08-05T17:05:22.226598Z"
    },
    "papermill": {
     "duration": 0.029378,
     "end_time": "2024-08-05T17:05:22.229390",
     "exception": false,
     "start_time": "2024-08-05T17:05:22.200012",
     "status": "completed"
    },
    "tags": []
   },
   "outputs": [],
   "source": [
    "# vision_test_ds"
   ]
  },
  {
   "cell_type": "code",
   "execution_count": 54,
   "id": "0eab6ce4",
   "metadata": {
    "execution": {
     "iopub.execute_input": "2024-08-05T17:05:22.275738Z",
     "iopub.status.busy": "2024-08-05T17:05:22.275394Z",
     "iopub.status.idle": "2024-08-05T17:05:22.279254Z",
     "shell.execute_reply": "2024-08-05T17:05:22.278467Z"
    },
    "papermill": {
     "duration": 0.029232,
     "end_time": "2024-08-05T17:05:22.281205",
     "exception": false,
     "start_time": "2024-08-05T17:05:22.251973",
     "status": "completed"
    },
    "tags": []
   },
   "outputs": [],
   "source": [
    "# # Create the dataset\n",
    "# vision_train_ds = create_dataset(train_df, IMAGE_SIZE, batch_size,training=True,return_type='images')\n",
    "# vision_test_ds = create_dataset(test_df, IMAGE_SIZE, batch_size,return_type='images')\n",
    "# # val_ds = create_dataset(val_df, image_size, batch_size)"
   ]
  },
  {
   "cell_type": "code",
   "execution_count": 55,
   "id": "6ec25c28",
   "metadata": {
    "execution": {
     "iopub.execute_input": "2024-08-05T17:05:22.328573Z",
     "iopub.status.busy": "2024-08-05T17:05:22.328186Z",
     "iopub.status.idle": "2024-08-05T17:05:22.332223Z",
     "shell.execute_reply": "2024-08-05T17:05:22.331341Z"
    },
    "papermill": {
     "duration": 0.029694,
     "end_time": "2024-08-05T17:05:22.334153",
     "exception": false,
     "start_time": "2024-08-05T17:05:22.304459",
     "status": "completed"
    },
    "tags": []
   },
   "outputs": [],
   "source": [
    "# vision_history = vision_model.fit(\n",
    "#     train_ds,\n",
    "#     validation_data=test_ds,\n",
    "#     epochs=20,\n",
    "#     class_weight=class_weight,\n",
    "#     callbacks=[partial_auc_callback]\n",
    "# )"
   ]
  },
  {
   "cell_type": "code",
   "execution_count": 56,
   "id": "8489585c",
   "metadata": {
    "execution": {
     "iopub.execute_input": "2024-08-05T17:05:22.381289Z",
     "iopub.status.busy": "2024-08-05T17:05:22.380973Z",
     "iopub.status.idle": "2024-08-05T17:05:22.384742Z",
     "shell.execute_reply": "2024-08-05T17:05:22.383911Z"
    },
    "papermill": {
     "duration": 0.029502,
     "end_time": "2024-08-05T17:05:22.386624",
     "exception": false,
     "start_time": "2024-08-05T17:05:22.357122",
     "status": "completed"
    },
    "tags": []
   },
   "outputs": [],
   "source": [
    "# for (images, metadata), labels in train_ds.take(1):\n",
    "#     print(images.shape,metadata.shape,labels.shape)"
   ]
  },
  {
   "cell_type": "code",
   "execution_count": 57,
   "id": "2c797da2",
   "metadata": {
    "execution": {
     "iopub.execute_input": "2024-08-05T17:05:22.434050Z",
     "iopub.status.busy": "2024-08-05T17:05:22.433731Z",
     "iopub.status.idle": "2024-08-05T17:05:22.437645Z",
     "shell.execute_reply": "2024-08-05T17:05:22.436783Z"
    },
    "papermill": {
     "duration": 0.029946,
     "end_time": "2024-08-05T17:05:22.439593",
     "exception": false,
     "start_time": "2024-08-05T17:05:22.409647",
     "status": "completed"
    },
    "tags": []
   },
   "outputs": [],
   "source": [
    "# !pip install -q focal-loss"
   ]
  },
  {
   "cell_type": "code",
   "execution_count": 58,
   "id": "89b5ea50",
   "metadata": {
    "execution": {
     "iopub.execute_input": "2024-08-05T17:05:22.486930Z",
     "iopub.status.busy": "2024-08-05T17:05:22.486629Z",
     "iopub.status.idle": "2024-08-05T17:05:22.490511Z",
     "shell.execute_reply": "2024-08-05T17:05:22.489650Z"
    },
    "papermill": {
     "duration": 0.029451,
     "end_time": "2024-08-05T17:05:22.492443",
     "exception": false,
     "start_time": "2024-08-05T17:05:22.462992",
     "status": "completed"
    },
    "tags": []
   },
   "outputs": [],
   "source": [
    "# from focal_loss import BinaryFocalLoss"
   ]
  },
  {
   "cell_type": "code",
   "execution_count": 59,
   "id": "ada5fa9f",
   "metadata": {
    "execution": {
     "iopub.execute_input": "2024-08-05T17:05:22.538866Z",
     "iopub.status.busy": "2024-08-05T17:05:22.538501Z",
     "iopub.status.idle": "2024-08-05T17:05:22.542953Z",
     "shell.execute_reply": "2024-08-05T17:05:22.542045Z"
    },
    "papermill": {
     "duration": 0.029735,
     "end_time": "2024-08-05T17:05:22.544850",
     "exception": false,
     "start_time": "2024-08-05T17:05:22.515115",
     "status": "completed"
    },
    "tags": []
   },
   "outputs": [],
   "source": [
    "# def create_table_encoder(\n",
    "#     num_projection_layers, projection_dims, dropout_rate, trainable=False\n",
    "# ):\n",
    "#     table_input = tf.keras.Input(shape=(38,))\n",
    "#     dense_1024 = tf.keras.layers.Dense(1024, activation='relu')(table_input)\n",
    "#     dense_512 = tf.keras.layers.Dense(512, activation='relu')(dense_1024)\n",
    "\n",
    "#     # Project the embeddings produced by the model.\n",
    "#     outputs = ProjectEmbeddings(num_projection_layers, projection_dims, dropout_rate)(dense_512)\n",
    "\n",
    "#     # Create the text encoder model.\n",
    "#     return keras.Model(table_input, outputs, name=\"table_encoder\")"
   ]
  },
  {
   "cell_type": "code",
   "execution_count": 60,
   "id": "5bd0e5a5",
   "metadata": {
    "execution": {
     "iopub.execute_input": "2024-08-05T17:05:22.591081Z",
     "iopub.status.busy": "2024-08-05T17:05:22.590771Z",
     "iopub.status.idle": "2024-08-05T17:05:22.594721Z",
     "shell.execute_reply": "2024-08-05T17:05:22.593854Z"
    },
    "papermill": {
     "duration": 0.029086,
     "end_time": "2024-08-05T17:05:22.596555",
     "exception": false,
     "start_time": "2024-08-05T17:05:22.567469",
     "status": "completed"
    },
    "tags": []
   },
   "outputs": [],
   "source": [
    "# table_encoder = create_table_encoder(num_projection_layers=1, projection_dims=256, dropout_rate=0.1)\n",
    "# # keras.utils.plot_model(table_encoder, show_shapes=True)"
   ]
  },
  {
   "cell_type": "code",
   "execution_count": 61,
   "id": "1e99669b",
   "metadata": {
    "execution": {
     "iopub.execute_input": "2024-08-05T17:05:22.643237Z",
     "iopub.status.busy": "2024-08-05T17:05:22.642893Z",
     "iopub.status.idle": "2024-08-05T17:05:22.647655Z",
     "shell.execute_reply": "2024-08-05T17:05:22.646742Z"
    },
    "papermill": {
     "duration": 0.030602,
     "end_time": "2024-08-05T17:05:22.649716",
     "exception": false,
     "start_time": "2024-08-05T17:05:22.619114",
     "status": "completed"
    },
    "tags": []
   },
   "outputs": [],
   "source": [
    "# def create_multimodal_model(num_projection_layers=1, projection_dims=256, dropout_rate=0.1, \n",
    "#                      vision_trainable=False, text_trainable=False):\n",
    "#     # Receive the images as inputs.\n",
    "#     image_1 = keras.Input(shape=(139, 139, 3), name=\"image_1\")\n",
    "#     table_input = tf.keras.Input(shape=(38,))\n",
    "\n",
    "    \n",
    "\n",
    "#     # Create the encoders.\n",
    "#     vision_encoder = create_vision_encoder(num_projection_layers, projection_dims, dropout_rate, vision_trainable)\n",
    "#     table_encoder = create_table_encoder(num_projection_layers, projection_dims, dropout_rate, text_trainable)\n",
    "\n",
    "#     # Fetch the embedding projections.\n",
    "#     vision_projections = vision_encoder(image_1)\n",
    "#     table_projections = table_encoder(table_input)\n",
    "\n",
    "#     # Concatenate the projections and pass through the classification layer.\n",
    "#     concatenated = keras.layers.Concatenate()([vision_projections, table_projections])\n",
    "#     outputs = keras.layers.Dense(1, activation=\"sigmoid\")(concatenated)\n",
    "#     return keras.Model([image_1, table_input], outputs)"
   ]
  },
  {
   "cell_type": "code",
   "execution_count": 62,
   "id": "445c1e43",
   "metadata": {
    "execution": {
     "iopub.execute_input": "2024-08-05T17:05:22.696490Z",
     "iopub.status.busy": "2024-08-05T17:05:22.695839Z",
     "iopub.status.idle": "2024-08-05T17:05:22.699812Z",
     "shell.execute_reply": "2024-08-05T17:05:22.698911Z"
    },
    "papermill": {
     "duration": 0.029287,
     "end_time": "2024-08-05T17:05:22.701655",
     "exception": false,
     "start_time": "2024-08-05T17:05:22.672368",
     "status": "completed"
    },
    "tags": []
   },
   "outputs": [],
   "source": [
    "# vision_model = create_vision_encoder(2, 256, 0.5,True)\n",
    "# keras.utils.plot_model(vision_model, show_shapes=True)"
   ]
  },
  {
   "cell_type": "code",
   "execution_count": 63,
   "id": "f7079440",
   "metadata": {
    "execution": {
     "iopub.execute_input": "2024-08-05T17:05:22.748520Z",
     "iopub.status.busy": "2024-08-05T17:05:22.748154Z",
     "iopub.status.idle": "2024-08-05T17:05:22.752180Z",
     "shell.execute_reply": "2024-08-05T17:05:22.751307Z"
    },
    "papermill": {
     "duration": 0.029527,
     "end_time": "2024-08-05T17:05:22.754161",
     "exception": false,
     "start_time": "2024-08-05T17:05:22.724634",
     "status": "completed"
    },
    "tags": []
   },
   "outputs": [],
   "source": [
    "# vision_model.output"
   ]
  },
  {
   "cell_type": "code",
   "execution_count": 64,
   "id": "4070fbdb",
   "metadata": {
    "execution": {
     "iopub.execute_input": "2024-08-05T17:05:22.801102Z",
     "iopub.status.busy": "2024-08-05T17:05:22.800331Z",
     "iopub.status.idle": "2024-08-05T17:05:22.804309Z",
     "shell.execute_reply": "2024-08-05T17:05:22.803453Z"
    },
    "papermill": {
     "duration": 0.029395,
     "end_time": "2024-08-05T17:05:22.806225",
     "exception": false,
     "start_time": "2024-08-05T17:05:22.776830",
     "status": "completed"
    },
    "tags": []
   },
   "outputs": [],
   "source": [
    "\n",
    "# multimodal_model = create_multimodal_model(vision_trainable=True, text_trainable=True)\n",
    "# keras.utils.plot_model(multimodal_model, show_shapes=True)"
   ]
  },
  {
   "cell_type": "code",
   "execution_count": 65,
   "id": "a588b950",
   "metadata": {
    "execution": {
     "iopub.execute_input": "2024-08-05T17:05:22.852855Z",
     "iopub.status.busy": "2024-08-05T17:05:22.852498Z",
     "iopub.status.idle": "2024-08-05T17:05:22.857442Z",
     "shell.execute_reply": "2024-08-05T17:05:22.856745Z"
    },
    "papermill": {
     "duration": 0.030515,
     "end_time": "2024-08-05T17:05:22.859333",
     "exception": false,
     "start_time": "2024-08-05T17:05:22.828818",
     "status": "completed"
    },
    "tags": []
   },
   "outputs": [],
   "source": [
    "# multimodal_model.compile(optimizer=\"adam\", loss=\"binary_crossentropy\", metrics=METRICS)\n"
   ]
  },
  {
   "cell_type": "code",
   "execution_count": 66,
   "id": "f4f907b6",
   "metadata": {
    "execution": {
     "iopub.execute_input": "2024-08-05T17:05:22.906087Z",
     "iopub.status.busy": "2024-08-05T17:05:22.905771Z",
     "iopub.status.idle": "2024-08-05T17:05:22.909675Z",
     "shell.execute_reply": "2024-08-05T17:05:22.908831Z"
    },
    "papermill": {
     "duration": 0.029386,
     "end_time": "2024-08-05T17:05:22.911455",
     "exception": false,
     "start_time": "2024-08-05T17:05:22.882069",
     "status": "completed"
    },
    "tags": []
   },
   "outputs": [],
   "source": [
    "# history = multimodal_model.fit(\n",
    "#     train_ds,\n",
    "#     validation_data=test_ds,\n",
    "#     epochs=10,\n",
    "#     class_weight=class_weight\n",
    "# )"
   ]
  },
  {
   "cell_type": "code",
   "execution_count": 67,
   "id": "42fa0c31",
   "metadata": {
    "execution": {
     "iopub.execute_input": "2024-08-05T17:05:22.957980Z",
     "iopub.status.busy": "2024-08-05T17:05:22.957679Z",
     "iopub.status.idle": "2024-08-05T17:05:22.961619Z",
     "shell.execute_reply": "2024-08-05T17:05:22.960762Z"
    },
    "papermill": {
     "duration": 0.029701,
     "end_time": "2024-08-05T17:05:22.963784",
     "exception": false,
     "start_time": "2024-08-05T17:05:22.934083",
     "status": "completed"
    },
    "tags": []
   },
   "outputs": [],
   "source": [
    "# from focal_loss import BinaryFocalLoss"
   ]
  },
  {
   "cell_type": "code",
   "execution_count": 68,
   "id": "8847c9e3",
   "metadata": {
    "execution": {
     "iopub.execute_input": "2024-08-05T17:05:23.010261Z",
     "iopub.status.busy": "2024-08-05T17:05:23.009985Z",
     "iopub.status.idle": "2024-08-05T17:05:23.013978Z",
     "shell.execute_reply": "2024-08-05T17:05:23.013113Z"
    },
    "papermill": {
     "duration": 0.029607,
     "end_time": "2024-08-05T17:05:23.015941",
     "exception": false,
     "start_time": "2024-08-05T17:05:22.986334",
     "status": "completed"
    },
    "tags": []
   },
   "outputs": [],
   "source": [
    "# multimodal_model_focal = create_multimodal_model()\n",
    "# multimodal_model_focal.compile(\n",
    "#     optimizer=\"adam\", loss=BinaryFocalLoss(gamma=2), metrics=METRICS\n",
    "# )\n",
    "# history = multimodal_model_focal.fit(\n",
    "#     train_ds,\n",
    "#     validation_data=test_ds,\n",
    "#     epochs=10\n",
    "# )"
   ]
  },
  {
   "cell_type": "code",
   "execution_count": null,
   "id": "6138fd49",
   "metadata": {
    "papermill": {
     "duration": 0.022417,
     "end_time": "2024-08-05T17:05:23.061070",
     "exception": false,
     "start_time": "2024-08-05T17:05:23.038653",
     "status": "completed"
    },
    "tags": []
   },
   "outputs": [],
   "source": []
  },
  {
   "cell_type": "code",
   "execution_count": null,
   "id": "02d862c2",
   "metadata": {
    "papermill": {
     "duration": 0.022256,
     "end_time": "2024-08-05T17:05:23.106037",
     "exception": false,
     "start_time": "2024-08-05T17:05:23.083781",
     "status": "completed"
    },
    "tags": []
   },
   "outputs": [],
   "source": []
  }
 ],
 "metadata": {
  "kaggle": {
   "accelerator": "gpu",
   "dataSources": [
    {
     "databundleVersionId": 9094797,
     "sourceId": 63056,
     "sourceType": "competition"
    }
   ],
   "dockerImageVersionId": 30746,
   "isGpuEnabled": true,
   "isInternetEnabled": true,
   "language": "python",
   "sourceType": "notebook"
  },
  "kernelspec": {
   "display_name": "Python 3",
   "language": "python",
   "name": "python3"
  },
  "language_info": {
   "codemirror_mode": {
    "name": "ipython",
    "version": 3
   },
   "file_extension": ".py",
   "mimetype": "text/x-python",
   "name": "python",
   "nbconvert_exporter": "python",
   "pygments_lexer": "ipython3",
   "version": "3.10.13"
  },
  "papermill": {
   "default_parameters": {},
   "duration": 36.230807,
   "end_time": "2024-08-05T17:05:25.253261",
   "environment_variables": {},
   "exception": null,
   "input_path": "__notebook__.ipynb",
   "output_path": "__notebook__.ipynb",
   "parameters": {},
   "start_time": "2024-08-05T17:04:49.022454",
   "version": "2.5.0"
  }
 },
 "nbformat": 4,
 "nbformat_minor": 5
}
