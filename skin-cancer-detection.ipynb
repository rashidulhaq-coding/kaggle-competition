{
 "cells": [
  {
   "cell_type": "code",
   "execution_count": 1,
   "id": "a7c6135a",
   "metadata": {
    "_cell_guid": "b1076dfc-b9ad-4769-8c92-a6c4dae69d19",
    "_uuid": "8f2839f25d086af736a60e9eeb907d3b93b6e0e5",
    "execution": {
     "iopub.execute_input": "2024-08-07T18:09:17.508214Z",
     "iopub.status.busy": "2024-08-07T18:09:17.507828Z",
     "iopub.status.idle": "2024-08-07T18:09:33.746526Z",
     "shell.execute_reply": "2024-08-07T18:09:33.745534Z"
    },
    "papermill": {
     "duration": 16.26483,
     "end_time": "2024-08-07T18:09:33.749024",
     "exception": false,
     "start_time": "2024-08-07T18:09:17.484194",
     "status": "completed"
    },
    "tags": []
   },
   "outputs": [
    {
     "name": "stderr",
     "output_type": "stream",
     "text": [
      "2024-08-07 18:09:20.234371: E external/local_xla/xla/stream_executor/cuda/cuda_dnn.cc:9261] Unable to register cuDNN factory: Attempting to register factory for plugin cuDNN when one has already been registered\n",
      "2024-08-07 18:09:20.234529: E external/local_xla/xla/stream_executor/cuda/cuda_fft.cc:607] Unable to register cuFFT factory: Attempting to register factory for plugin cuFFT when one has already been registered\n",
      "2024-08-07 18:09:20.370441: E external/local_xla/xla/stream_executor/cuda/cuda_blas.cc:1515] Unable to register cuBLAS factory: Attempting to register factory for plugin cuBLAS when one has already been registered\n"
     ]
    }
   ],
   "source": [
    "import random\n",
    "import numpy as np\n",
    "import pandas as pd\n",
    "import matplotlib.pyplot as plt\n",
    "import matplotlib.image as mpimg\n",
    "\n",
    "import tensorflow as tf\n",
    "import tensorflow_hub as hub\n",
    "from tensorflow import keras\n",
    "from tensorflow.keras import layers\n",
    "\n",
    "\n",
    "from sklearn.model_selection import train_test_split\n",
    "from sklearn.preprocessing import StandardScaler\n",
    "from sklearn.model_selection import StratifiedKFold\n",
    "from sklearn.utils import resample\n",
    "from sklearn.utils import shuffle\n",
    "     \n",
    "import os\n",
    "# for dirname, _, filenames in os.walk('/kaggle/input'):\n",
    "#     for filename in filenames:\n",
    "#         print(os.path.join(dirname, filename))\n",
    "pd.set_option('display.max_columns', None)\n",
    "pd.set_option('display.max_rows', None)"
   ]
  },
  {
   "cell_type": "code",
   "execution_count": 2,
   "id": "440d4352",
   "metadata": {
    "execution": {
     "iopub.execute_input": "2024-08-07T18:09:33.797272Z",
     "iopub.status.busy": "2024-08-07T18:09:33.796663Z",
     "iopub.status.idle": "2024-08-07T18:09:41.310713Z",
     "shell.execute_reply": "2024-08-07T18:09:41.309674Z"
    },
    "papermill": {
     "duration": 7.54156,
     "end_time": "2024-08-07T18:09:41.313413",
     "exception": false,
     "start_time": "2024-08-07T18:09:33.771853",
     "status": "completed"
    },
    "tags": []
   },
   "outputs": [
    {
     "name": "stderr",
     "output_type": "stream",
     "text": [
      "/tmp/ipykernel_25/2653809078.py:1: DtypeWarning: Columns (51,52) have mixed types. Specify dtype option on import or set low_memory=False.\n",
      "  df = pd.read_csv('/kaggle/input/isic-2024-challenge/train-metadata.csv')\n"
     ]
    }
   ],
   "source": [
    "df = pd.read_csv('/kaggle/input/isic-2024-challenge/train-metadata.csv')\n",
    "df_test = pd.read_csv('/kaggle/input/isic-2024-challenge/test-metadata.csv')"
   ]
  },
  {
   "cell_type": "code",
   "execution_count": 3,
   "id": "e3d4c497",
   "metadata": {
    "execution": {
     "iopub.execute_input": "2024-08-07T18:09:41.363784Z",
     "iopub.status.busy": "2024-08-07T18:09:41.362942Z",
     "iopub.status.idle": "2024-08-07T18:09:41.475454Z",
     "shell.execute_reply": "2024-08-07T18:09:41.474300Z"
    },
    "papermill": {
     "duration": 0.14043,
     "end_time": "2024-08-07T18:09:41.478071",
     "exception": false,
     "start_time": "2024-08-07T18:09:41.337641",
     "status": "completed"
    },
    "tags": []
   },
   "outputs": [],
   "source": [
    "df_2018 = pd.read_csv('/kaggle/input/isic-2018-jpg-224x224-resized/train-metadata.csv')\n",
    "df_2019 = pd.read_csv('/kaggle/input/isic-2019-jpg-224x224-resized/train-metadata.csv')\n",
    "df_2020 = pd.read_csv('/kaggle/input/isic-2020-jpg-224x224-resized/train-metadata.csv')"
   ]
  },
  {
   "cell_type": "code",
   "execution_count": 4,
   "id": "2ca26956",
   "metadata": {
    "execution": {
     "iopub.execute_input": "2024-08-07T18:09:41.524949Z",
     "iopub.status.busy": "2024-08-07T18:09:41.524592Z",
     "iopub.status.idle": "2024-08-07T18:09:41.546895Z",
     "shell.execute_reply": "2024-08-07T18:09:41.545895Z"
    },
    "papermill": {
     "duration": 0.04845,
     "end_time": "2024-08-07T18:09:41.549000",
     "exception": false,
     "start_time": "2024-08-07T18:09:41.500550",
     "status": "completed"
    },
    "tags": []
   },
   "outputs": [
    {
     "data": {
      "text/html": [
       "<div>\n",
       "<style scoped>\n",
       "    .dataframe tbody tr th:only-of-type {\n",
       "        vertical-align: middle;\n",
       "    }\n",
       "\n",
       "    .dataframe tbody tr th {\n",
       "        vertical-align: top;\n",
       "    }\n",
       "\n",
       "    .dataframe thead th {\n",
       "        text-align: right;\n",
       "    }\n",
       "</style>\n",
       "<table border=\"1\" class=\"dataframe\">\n",
       "  <thead>\n",
       "    <tr style=\"text-align: right;\">\n",
       "      <th></th>\n",
       "      <th>Unnamed: 0</th>\n",
       "      <th>isic_id</th>\n",
       "      <th>patient_id</th>\n",
       "      <th>target</th>\n",
       "    </tr>\n",
       "  </thead>\n",
       "  <tbody>\n",
       "    <tr>\n",
       "      <th>0</th>\n",
       "      <td>0</td>\n",
       "      <td>ISIC_0028498</td>\n",
       "      <td>HAM_0000000</td>\n",
       "      <td>0.0</td>\n",
       "    </tr>\n",
       "    <tr>\n",
       "      <th>1</th>\n",
       "      <td>1</td>\n",
       "      <td>ISIC_0027859</td>\n",
       "      <td>HAM_0000001</td>\n",
       "      <td>0.0</td>\n",
       "    </tr>\n",
       "    <tr>\n",
       "      <th>2</th>\n",
       "      <td>2</td>\n",
       "      <td>ISIC_0034246</td>\n",
       "      <td>HAM_0000002</td>\n",
       "      <td>1.0</td>\n",
       "    </tr>\n",
       "    <tr>\n",
       "      <th>3</th>\n",
       "      <td>3</td>\n",
       "      <td>ISIC_0027886</td>\n",
       "      <td>HAM_0000003</td>\n",
       "      <td>0.0</td>\n",
       "    </tr>\n",
       "    <tr>\n",
       "      <th>4</th>\n",
       "      <td>4</td>\n",
       "      <td>ISIC_0024645</td>\n",
       "      <td>HAM_0000004</td>\n",
       "      <td>0.0</td>\n",
       "    </tr>\n",
       "  </tbody>\n",
       "</table>\n",
       "</div>"
      ],
      "text/plain": [
       "   Unnamed: 0       isic_id   patient_id  target\n",
       "0           0  ISIC_0028498  HAM_0000000     0.0\n",
       "1           1  ISIC_0027859  HAM_0000001     0.0\n",
       "2           2  ISIC_0034246  HAM_0000002     1.0\n",
       "3           3  ISIC_0027886  HAM_0000003     0.0\n",
       "4           4  ISIC_0024645  HAM_0000004     0.0"
      ]
     },
     "execution_count": 4,
     "metadata": {},
     "output_type": "execute_result"
    }
   ],
   "source": [
    "df_2018.head()"
   ]
  },
  {
   "cell_type": "code",
   "execution_count": 5,
   "id": "be33d187",
   "metadata": {
    "execution": {
     "iopub.execute_input": "2024-08-07T18:09:41.597569Z",
     "iopub.status.busy": "2024-08-07T18:09:41.597206Z",
     "iopub.status.idle": "2024-08-07T18:09:41.647740Z",
     "shell.execute_reply": "2024-08-07T18:09:41.646702Z"
    },
    "papermill": {
     "duration": 0.078328,
     "end_time": "2024-08-07T18:09:41.650396",
     "exception": false,
     "start_time": "2024-08-07T18:09:41.572068",
     "status": "completed"
    },
    "tags": []
   },
   "outputs": [
    {
     "data": {
      "text/html": [
       "<div>\n",
       "<style scoped>\n",
       "    .dataframe tbody tr th:only-of-type {\n",
       "        vertical-align: middle;\n",
       "    }\n",
       "\n",
       "    .dataframe tbody tr th {\n",
       "        vertical-align: top;\n",
       "    }\n",
       "\n",
       "    .dataframe thead th {\n",
       "        text-align: right;\n",
       "    }\n",
       "</style>\n",
       "<table border=\"1\" class=\"dataframe\">\n",
       "  <thead>\n",
       "    <tr style=\"text-align: right;\">\n",
       "      <th></th>\n",
       "      <th>isic_id</th>\n",
       "      <th>target</th>\n",
       "      <th>patient_id</th>\n",
       "      <th>age_approx</th>\n",
       "      <th>sex</th>\n",
       "      <th>anatom_site_general</th>\n",
       "      <th>clin_size_long_diam_mm</th>\n",
       "      <th>image_type</th>\n",
       "      <th>tbp_tile_type</th>\n",
       "      <th>tbp_lv_A</th>\n",
       "      <th>tbp_lv_Aext</th>\n",
       "      <th>tbp_lv_B</th>\n",
       "      <th>tbp_lv_Bext</th>\n",
       "      <th>tbp_lv_C</th>\n",
       "      <th>tbp_lv_Cext</th>\n",
       "      <th>tbp_lv_H</th>\n",
       "      <th>tbp_lv_Hext</th>\n",
       "      <th>tbp_lv_L</th>\n",
       "      <th>tbp_lv_Lext</th>\n",
       "      <th>tbp_lv_areaMM2</th>\n",
       "      <th>tbp_lv_area_perim_ratio</th>\n",
       "      <th>tbp_lv_color_std_mean</th>\n",
       "      <th>tbp_lv_deltaA</th>\n",
       "      <th>tbp_lv_deltaB</th>\n",
       "      <th>tbp_lv_deltaL</th>\n",
       "      <th>tbp_lv_deltaLB</th>\n",
       "      <th>tbp_lv_deltaLBnorm</th>\n",
       "      <th>tbp_lv_eccentricity</th>\n",
       "      <th>tbp_lv_location</th>\n",
       "      <th>tbp_lv_location_simple</th>\n",
       "      <th>tbp_lv_minorAxisMM</th>\n",
       "      <th>tbp_lv_nevi_confidence</th>\n",
       "      <th>tbp_lv_norm_border</th>\n",
       "      <th>tbp_lv_norm_color</th>\n",
       "      <th>tbp_lv_perimeterMM</th>\n",
       "      <th>tbp_lv_radial_color_std_max</th>\n",
       "      <th>tbp_lv_stdL</th>\n",
       "      <th>tbp_lv_stdLExt</th>\n",
       "      <th>tbp_lv_symm_2axis</th>\n",
       "      <th>tbp_lv_symm_2axis_angle</th>\n",
       "      <th>tbp_lv_x</th>\n",
       "      <th>tbp_lv_y</th>\n",
       "      <th>tbp_lv_z</th>\n",
       "      <th>attribution</th>\n",
       "      <th>copyright_license</th>\n",
       "      <th>lesion_id</th>\n",
       "      <th>iddx_full</th>\n",
       "      <th>iddx_1</th>\n",
       "      <th>iddx_2</th>\n",
       "      <th>iddx_3</th>\n",
       "      <th>iddx_4</th>\n",
       "      <th>iddx_5</th>\n",
       "      <th>mel_mitotic_index</th>\n",
       "      <th>mel_thick_mm</th>\n",
       "      <th>tbp_lv_dnn_lesion_confidence</th>\n",
       "    </tr>\n",
       "  </thead>\n",
       "  <tbody>\n",
       "    <tr>\n",
       "      <th>0</th>\n",
       "      <td>ISIC_0015670</td>\n",
       "      <td>0</td>\n",
       "      <td>IP_1235828</td>\n",
       "      <td>60.0</td>\n",
       "      <td>male</td>\n",
       "      <td>lower extremity</td>\n",
       "      <td>3.04</td>\n",
       "      <td>TBP tile: close-up</td>\n",
       "      <td>3D: white</td>\n",
       "      <td>20.244422</td>\n",
       "      <td>16.261975</td>\n",
       "      <td>26.922447</td>\n",
       "      <td>23.954773</td>\n",
       "      <td>33.684638</td>\n",
       "      <td>28.953117</td>\n",
       "      <td>53.058545</td>\n",
       "      <td>55.828924</td>\n",
       "      <td>54.367448</td>\n",
       "      <td>62.025701</td>\n",
       "      <td>3.152561</td>\n",
       "      <td>27.476170</td>\n",
       "      <td>0.00000</td>\n",
       "      <td>3.982447</td>\n",
       "      <td>2.967674</td>\n",
       "      <td>-7.658253</td>\n",
       "      <td>8.360566</td>\n",
       "      <td>5.784302</td>\n",
       "      <td>0.901302</td>\n",
       "      <td>Right Leg - Upper</td>\n",
       "      <td>Right Leg</td>\n",
       "      <td>1.543016</td>\n",
       "      <td>2.628592e-03</td>\n",
       "      <td>7.091360</td>\n",
       "      <td>0.000000</td>\n",
       "      <td>9.307003</td>\n",
       "      <td>0.00000</td>\n",
       "      <td>2.036195</td>\n",
       "      <td>2.637780</td>\n",
       "      <td>0.590476</td>\n",
       "      <td>85</td>\n",
       "      <td>-182.703552</td>\n",
       "      <td>613.493652</td>\n",
       "      <td>-42.427948</td>\n",
       "      <td>Memorial Sloan Kettering Cancer Center</td>\n",
       "      <td>CC-BY</td>\n",
       "      <td>NaN</td>\n",
       "      <td>Benign</td>\n",
       "      <td>Benign</td>\n",
       "      <td>NaN</td>\n",
       "      <td>NaN</td>\n",
       "      <td>NaN</td>\n",
       "      <td>NaN</td>\n",
       "      <td>NaN</td>\n",
       "      <td>NaN</td>\n",
       "      <td>97.517282</td>\n",
       "    </tr>\n",
       "    <tr>\n",
       "      <th>1</th>\n",
       "      <td>ISIC_0015845</td>\n",
       "      <td>0</td>\n",
       "      <td>IP_8170065</td>\n",
       "      <td>60.0</td>\n",
       "      <td>male</td>\n",
       "      <td>head/neck</td>\n",
       "      <td>1.10</td>\n",
       "      <td>TBP tile: close-up</td>\n",
       "      <td>3D: white</td>\n",
       "      <td>31.712570</td>\n",
       "      <td>25.364740</td>\n",
       "      <td>26.331000</td>\n",
       "      <td>24.549290</td>\n",
       "      <td>41.219030</td>\n",
       "      <td>35.299260</td>\n",
       "      <td>39.702910</td>\n",
       "      <td>44.064040</td>\n",
       "      <td>48.861520</td>\n",
       "      <td>55.362360</td>\n",
       "      <td>0.919497</td>\n",
       "      <td>12.235290</td>\n",
       "      <td>0.00000</td>\n",
       "      <td>6.347830</td>\n",
       "      <td>1.781713</td>\n",
       "      <td>-6.500838</td>\n",
       "      <td>6.839008</td>\n",
       "      <td>4.987244</td>\n",
       "      <td>0.639885</td>\n",
       "      <td>Head &amp; Neck</td>\n",
       "      <td>Head &amp; Neck</td>\n",
       "      <td>0.821918</td>\n",
       "      <td>1.334303e-07</td>\n",
       "      <td>2.116402</td>\n",
       "      <td>0.000000</td>\n",
       "      <td>3.354148</td>\n",
       "      <td>0.00000</td>\n",
       "      <td>0.853227</td>\n",
       "      <td>3.912844</td>\n",
       "      <td>0.285714</td>\n",
       "      <td>55</td>\n",
       "      <td>-0.078308</td>\n",
       "      <td>1575.687000</td>\n",
       "      <td>57.174500</td>\n",
       "      <td>Memorial Sloan Kettering Cancer Center</td>\n",
       "      <td>CC-BY</td>\n",
       "      <td>IL_6727506</td>\n",
       "      <td>Benign</td>\n",
       "      <td>Benign</td>\n",
       "      <td>NaN</td>\n",
       "      <td>NaN</td>\n",
       "      <td>NaN</td>\n",
       "      <td>NaN</td>\n",
       "      <td>NaN</td>\n",
       "      <td>NaN</td>\n",
       "      <td>3.141455</td>\n",
       "    </tr>\n",
       "    <tr>\n",
       "      <th>2</th>\n",
       "      <td>ISIC_0015864</td>\n",
       "      <td>0</td>\n",
       "      <td>IP_6724798</td>\n",
       "      <td>60.0</td>\n",
       "      <td>male</td>\n",
       "      <td>posterior torso</td>\n",
       "      <td>3.40</td>\n",
       "      <td>TBP tile: close-up</td>\n",
       "      <td>3D: XP</td>\n",
       "      <td>22.575830</td>\n",
       "      <td>17.128170</td>\n",
       "      <td>37.970460</td>\n",
       "      <td>33.485410</td>\n",
       "      <td>44.174920</td>\n",
       "      <td>37.611800</td>\n",
       "      <td>59.265850</td>\n",
       "      <td>62.909730</td>\n",
       "      <td>53.961180</td>\n",
       "      <td>61.670520</td>\n",
       "      <td>3.265153</td>\n",
       "      <td>24.184620</td>\n",
       "      <td>0.00000</td>\n",
       "      <td>5.447655</td>\n",
       "      <td>4.485044</td>\n",
       "      <td>-7.709336</td>\n",
       "      <td>9.092376</td>\n",
       "      <td>6.290359</td>\n",
       "      <td>0.932147</td>\n",
       "      <td>Torso Back Top Third</td>\n",
       "      <td>Torso Back</td>\n",
       "      <td>1.194905</td>\n",
       "      <td>2.959177e-04</td>\n",
       "      <td>4.798335</td>\n",
       "      <td>0.000000</td>\n",
       "      <td>8.886309</td>\n",
       "      <td>0.00000</td>\n",
       "      <td>1.743651</td>\n",
       "      <td>1.950777</td>\n",
       "      <td>0.361905</td>\n",
       "      <td>105</td>\n",
       "      <td>123.649700</td>\n",
       "      <td>1472.010000</td>\n",
       "      <td>232.908900</td>\n",
       "      <td>Memorial Sloan Kettering Cancer Center</td>\n",
       "      <td>CC-BY</td>\n",
       "      <td>NaN</td>\n",
       "      <td>Benign</td>\n",
       "      <td>Benign</td>\n",
       "      <td>NaN</td>\n",
       "      <td>NaN</td>\n",
       "      <td>NaN</td>\n",
       "      <td>NaN</td>\n",
       "      <td>NaN</td>\n",
       "      <td>NaN</td>\n",
       "      <td>99.804040</td>\n",
       "    </tr>\n",
       "    <tr>\n",
       "      <th>3</th>\n",
       "      <td>ISIC_0015902</td>\n",
       "      <td>0</td>\n",
       "      <td>IP_4111386</td>\n",
       "      <td>65.0</td>\n",
       "      <td>male</td>\n",
       "      <td>anterior torso</td>\n",
       "      <td>3.22</td>\n",
       "      <td>TBP tile: close-up</td>\n",
       "      <td>3D: XP</td>\n",
       "      <td>14.242329</td>\n",
       "      <td>12.164757</td>\n",
       "      <td>21.448144</td>\n",
       "      <td>21.121356</td>\n",
       "      <td>25.746200</td>\n",
       "      <td>24.374023</td>\n",
       "      <td>56.414429</td>\n",
       "      <td>60.060388</td>\n",
       "      <td>18.649518</td>\n",
       "      <td>23.314841</td>\n",
       "      <td>6.079940</td>\n",
       "      <td>14.889242</td>\n",
       "      <td>0.51452</td>\n",
       "      <td>2.077572</td>\n",
       "      <td>0.326788</td>\n",
       "      <td>-4.665323</td>\n",
       "      <td>4.783413</td>\n",
       "      <td>6.400196</td>\n",
       "      <td>0.654458</td>\n",
       "      <td>Torso Front Top Half</td>\n",
       "      <td>Torso Front</td>\n",
       "      <td>2.481328</td>\n",
       "      <td>2.198945e+01</td>\n",
       "      <td>1.975874</td>\n",
       "      <td>1.771705</td>\n",
       "      <td>9.514499</td>\n",
       "      <td>0.66469</td>\n",
       "      <td>1.258541</td>\n",
       "      <td>1.573733</td>\n",
       "      <td>0.209581</td>\n",
       "      <td>130</td>\n",
       "      <td>-141.024780</td>\n",
       "      <td>1442.185791</td>\n",
       "      <td>58.359802</td>\n",
       "      <td>ACEMID MIA</td>\n",
       "      <td>CC-0</td>\n",
       "      <td>NaN</td>\n",
       "      <td>Benign</td>\n",
       "      <td>Benign</td>\n",
       "      <td>NaN</td>\n",
       "      <td>NaN</td>\n",
       "      <td>NaN</td>\n",
       "      <td>NaN</td>\n",
       "      <td>NaN</td>\n",
       "      <td>NaN</td>\n",
       "      <td>99.989998</td>\n",
       "    </tr>\n",
       "    <tr>\n",
       "      <th>4</th>\n",
       "      <td>ISIC_0024200</td>\n",
       "      <td>0</td>\n",
       "      <td>IP_8313778</td>\n",
       "      <td>55.0</td>\n",
       "      <td>male</td>\n",
       "      <td>anterior torso</td>\n",
       "      <td>2.73</td>\n",
       "      <td>TBP tile: close-up</td>\n",
       "      <td>3D: white</td>\n",
       "      <td>24.725520</td>\n",
       "      <td>20.057470</td>\n",
       "      <td>26.464900</td>\n",
       "      <td>25.710460</td>\n",
       "      <td>36.217980</td>\n",
       "      <td>32.608740</td>\n",
       "      <td>46.946070</td>\n",
       "      <td>52.041180</td>\n",
       "      <td>46.276310</td>\n",
       "      <td>54.855740</td>\n",
       "      <td>2.101708</td>\n",
       "      <td>19.902560</td>\n",
       "      <td>0.00000</td>\n",
       "      <td>4.668053</td>\n",
       "      <td>0.754434</td>\n",
       "      <td>-8.579431</td>\n",
       "      <td>9.148495</td>\n",
       "      <td>6.531302</td>\n",
       "      <td>0.946448</td>\n",
       "      <td>Torso Front Top Half</td>\n",
       "      <td>Torso Front</td>\n",
       "      <td>0.929916</td>\n",
       "      <td>1.378832e-03</td>\n",
       "      <td>3.658854</td>\n",
       "      <td>0.000000</td>\n",
       "      <td>6.467562</td>\n",
       "      <td>0.00000</td>\n",
       "      <td>2.085409</td>\n",
       "      <td>2.480509</td>\n",
       "      <td>0.313433</td>\n",
       "      <td>20</td>\n",
       "      <td>-72.315640</td>\n",
       "      <td>1488.720000</td>\n",
       "      <td>21.428960</td>\n",
       "      <td>Memorial Sloan Kettering Cancer Center</td>\n",
       "      <td>CC-BY</td>\n",
       "      <td>NaN</td>\n",
       "      <td>Benign</td>\n",
       "      <td>Benign</td>\n",
       "      <td>NaN</td>\n",
       "      <td>NaN</td>\n",
       "      <td>NaN</td>\n",
       "      <td>NaN</td>\n",
       "      <td>NaN</td>\n",
       "      <td>NaN</td>\n",
       "      <td>70.442510</td>\n",
       "    </tr>\n",
       "  </tbody>\n",
       "</table>\n",
       "</div>"
      ],
      "text/plain": [
       "        isic_id  target  patient_id  age_approx   sex anatom_site_general  \\\n",
       "0  ISIC_0015670       0  IP_1235828        60.0  male     lower extremity   \n",
       "1  ISIC_0015845       0  IP_8170065        60.0  male           head/neck   \n",
       "2  ISIC_0015864       0  IP_6724798        60.0  male     posterior torso   \n",
       "3  ISIC_0015902       0  IP_4111386        65.0  male      anterior torso   \n",
       "4  ISIC_0024200       0  IP_8313778        55.0  male      anterior torso   \n",
       "\n",
       "   clin_size_long_diam_mm          image_type tbp_tile_type   tbp_lv_A  \\\n",
       "0                    3.04  TBP tile: close-up     3D: white  20.244422   \n",
       "1                    1.10  TBP tile: close-up     3D: white  31.712570   \n",
       "2                    3.40  TBP tile: close-up        3D: XP  22.575830   \n",
       "3                    3.22  TBP tile: close-up        3D: XP  14.242329   \n",
       "4                    2.73  TBP tile: close-up     3D: white  24.725520   \n",
       "\n",
       "   tbp_lv_Aext   tbp_lv_B  tbp_lv_Bext   tbp_lv_C  tbp_lv_Cext   tbp_lv_H  \\\n",
       "0    16.261975  26.922447    23.954773  33.684638    28.953117  53.058545   \n",
       "1    25.364740  26.331000    24.549290  41.219030    35.299260  39.702910   \n",
       "2    17.128170  37.970460    33.485410  44.174920    37.611800  59.265850   \n",
       "3    12.164757  21.448144    21.121356  25.746200    24.374023  56.414429   \n",
       "4    20.057470  26.464900    25.710460  36.217980    32.608740  46.946070   \n",
       "\n",
       "   tbp_lv_Hext   tbp_lv_L  tbp_lv_Lext  tbp_lv_areaMM2  \\\n",
       "0    55.828924  54.367448    62.025701        3.152561   \n",
       "1    44.064040  48.861520    55.362360        0.919497   \n",
       "2    62.909730  53.961180    61.670520        3.265153   \n",
       "3    60.060388  18.649518    23.314841        6.079940   \n",
       "4    52.041180  46.276310    54.855740        2.101708   \n",
       "\n",
       "   tbp_lv_area_perim_ratio  tbp_lv_color_std_mean  tbp_lv_deltaA  \\\n",
       "0                27.476170                0.00000       3.982447   \n",
       "1                12.235290                0.00000       6.347830   \n",
       "2                24.184620                0.00000       5.447655   \n",
       "3                14.889242                0.51452       2.077572   \n",
       "4                19.902560                0.00000       4.668053   \n",
       "\n",
       "   tbp_lv_deltaB  tbp_lv_deltaL  tbp_lv_deltaLB  tbp_lv_deltaLBnorm  \\\n",
       "0       2.967674      -7.658253        8.360566            5.784302   \n",
       "1       1.781713      -6.500838        6.839008            4.987244   \n",
       "2       4.485044      -7.709336        9.092376            6.290359   \n",
       "3       0.326788      -4.665323        4.783413            6.400196   \n",
       "4       0.754434      -8.579431        9.148495            6.531302   \n",
       "\n",
       "   tbp_lv_eccentricity       tbp_lv_location tbp_lv_location_simple  \\\n",
       "0             0.901302     Right Leg - Upper              Right Leg   \n",
       "1             0.639885           Head & Neck            Head & Neck   \n",
       "2             0.932147  Torso Back Top Third             Torso Back   \n",
       "3             0.654458  Torso Front Top Half            Torso Front   \n",
       "4             0.946448  Torso Front Top Half            Torso Front   \n",
       "\n",
       "   tbp_lv_minorAxisMM  tbp_lv_nevi_confidence  tbp_lv_norm_border  \\\n",
       "0            1.543016            2.628592e-03            7.091360   \n",
       "1            0.821918            1.334303e-07            2.116402   \n",
       "2            1.194905            2.959177e-04            4.798335   \n",
       "3            2.481328            2.198945e+01            1.975874   \n",
       "4            0.929916            1.378832e-03            3.658854   \n",
       "\n",
       "   tbp_lv_norm_color  tbp_lv_perimeterMM  tbp_lv_radial_color_std_max  \\\n",
       "0           0.000000            9.307003                      0.00000   \n",
       "1           0.000000            3.354148                      0.00000   \n",
       "2           0.000000            8.886309                      0.00000   \n",
       "3           1.771705            9.514499                      0.66469   \n",
       "4           0.000000            6.467562                      0.00000   \n",
       "\n",
       "   tbp_lv_stdL  tbp_lv_stdLExt  tbp_lv_symm_2axis  tbp_lv_symm_2axis_angle  \\\n",
       "0     2.036195        2.637780           0.590476                       85   \n",
       "1     0.853227        3.912844           0.285714                       55   \n",
       "2     1.743651        1.950777           0.361905                      105   \n",
       "3     1.258541        1.573733           0.209581                      130   \n",
       "4     2.085409        2.480509           0.313433                       20   \n",
       "\n",
       "     tbp_lv_x     tbp_lv_y    tbp_lv_z  \\\n",
       "0 -182.703552   613.493652  -42.427948   \n",
       "1   -0.078308  1575.687000   57.174500   \n",
       "2  123.649700  1472.010000  232.908900   \n",
       "3 -141.024780  1442.185791   58.359802   \n",
       "4  -72.315640  1488.720000   21.428960   \n",
       "\n",
       "                              attribution copyright_license   lesion_id  \\\n",
       "0  Memorial Sloan Kettering Cancer Center             CC-BY         NaN   \n",
       "1  Memorial Sloan Kettering Cancer Center             CC-BY  IL_6727506   \n",
       "2  Memorial Sloan Kettering Cancer Center             CC-BY         NaN   \n",
       "3                              ACEMID MIA              CC-0         NaN   \n",
       "4  Memorial Sloan Kettering Cancer Center             CC-BY         NaN   \n",
       "\n",
       "  iddx_full  iddx_1 iddx_2 iddx_3 iddx_4 iddx_5 mel_mitotic_index  \\\n",
       "0    Benign  Benign    NaN    NaN    NaN    NaN               NaN   \n",
       "1    Benign  Benign    NaN    NaN    NaN    NaN               NaN   \n",
       "2    Benign  Benign    NaN    NaN    NaN    NaN               NaN   \n",
       "3    Benign  Benign    NaN    NaN    NaN    NaN               NaN   \n",
       "4    Benign  Benign    NaN    NaN    NaN    NaN               NaN   \n",
       "\n",
       "   mel_thick_mm  tbp_lv_dnn_lesion_confidence  \n",
       "0           NaN                     97.517282  \n",
       "1           NaN                      3.141455  \n",
       "2           NaN                     99.804040  \n",
       "3           NaN                     99.989998  \n",
       "4           NaN                     70.442510  "
      ]
     },
     "execution_count": 5,
     "metadata": {},
     "output_type": "execute_result"
    }
   ],
   "source": [
    "df.head()"
   ]
  },
  {
   "cell_type": "markdown",
   "id": "0209fe77",
   "metadata": {
    "papermill": {
     "duration": 0.022067,
     "end_time": "2024-08-07T18:09:41.698087",
     "exception": false,
     "start_time": "2024-08-07T18:09:41.676020",
     "status": "completed"
    },
    "tags": []
   },
   "source": [
    "## Constants"
   ]
  },
  {
   "cell_type": "code",
   "execution_count": 6,
   "id": "f3e2ad63",
   "metadata": {
    "execution": {
     "iopub.execute_input": "2024-08-07T18:09:41.743800Z",
     "iopub.status.busy": "2024-08-07T18:09:41.743422Z",
     "iopub.status.idle": "2024-08-07T18:09:42.496003Z",
     "shell.execute_reply": "2024-08-07T18:09:42.495158Z"
    },
    "papermill": {
     "duration": 0.778316,
     "end_time": "2024-08-07T18:09:42.498364",
     "exception": false,
     "start_time": "2024-08-07T18:09:41.720048",
     "status": "completed"
    },
    "tags": []
   },
   "outputs": [],
   "source": [
    "RANDOM_STATE = 42\n",
    "IMAGE_SIZE=(224, 224)\n",
    "BATCH_SIZE = 32\n",
    "METRICS = [\n",
    "      keras.metrics.TruePositives(name='tp'),\n",
    "      keras.metrics.FalsePositives(name='fp'),\n",
    "      keras.metrics.TrueNegatives(name='tn'),\n",
    "      keras.metrics.FalseNegatives(name='fn'),\n",
    "      keras.metrics.AUC(name='auc'),\n",
    "      keras.metrics.AUC(name='prc', curve='PR'), # precision-recall curve\n",
    "]\n",
    "img_augmentation_layers = [\n",
    "    layers.RandomRotation(factor=0.15),\n",
    "    layers.RandomTranslation(height_factor=0.1, width_factor=0.1),\n",
    "    layers.RandomFlip(),\n",
    "    layers.RandomContrast(factor=0.1),\n",
    "]\n",
    "\n",
    "\n"
   ]
  },
  {
   "cell_type": "markdown",
   "id": "014b3a96",
   "metadata": {
    "papermill": {
     "duration": 0.022403,
     "end_time": "2024-08-07T18:09:42.543716",
     "exception": false,
     "start_time": "2024-08-07T18:09:42.521313",
     "status": "completed"
    },
    "tags": []
   },
   "source": [
    "## Helper functions"
   ]
  },
  {
   "cell_type": "code",
   "execution_count": 7,
   "id": "7c3b5fda",
   "metadata": {
    "execution": {
     "iopub.execute_input": "2024-08-07T18:09:42.591803Z",
     "iopub.status.busy": "2024-08-07T18:09:42.590946Z",
     "iopub.status.idle": "2024-08-07T18:09:42.611883Z",
     "shell.execute_reply": "2024-08-07T18:09:42.610935Z"
    },
    "papermill": {
     "duration": 0.047384,
     "end_time": "2024-08-07T18:09:42.614331",
     "exception": false,
     "start_time": "2024-08-07T18:09:42.566947",
     "status": "completed"
    },
    "tags": []
   },
   "outputs": [],
   "source": [
    "import tensorflow as tf\n",
    "from typing import NamedTuple, Optional\n",
    "from sklearn import preprocessing \n",
    "\n",
    "\n",
    "def add_path(path,dir):\n",
    "    return f\"{dir}/{path}.jpg\"\n",
    "\n",
    "\n",
    "\n",
    "def get_sample(df,ratio):\n",
    "    df_positive = df[df['target']==1].reset_index(drop=True)\n",
    "    df_negative = df[df['target']==0].reset_index(drop=True)\n",
    "    df_negative= resample(df_negative,n_samples=len(df_positive)*ratio,random_state=RANDOM_STATE)\n",
    "#     df_positive = resample(df_positive,n_samples=len(df_positive),random_state=RANDOM_STATE)\n",
    "    \n",
    "    df_concat = pd.concat([df_positive,df_negative])\n",
    "    df_concat = shuffle(df_concat).reset_index(drop=True)\n",
    "    \n",
    "    print(f'positive shape: {df_positive.shape}, negative shape: {df_negative.shape}')\n",
    "    print(f'Full dataset shape: {df_concat.shape}')\n",
    "    \n",
    "    return df_concat\n",
    "\n",
    "def visualize(df,idx):\n",
    "    images = []\n",
    "    labels = []\n",
    "    for id in idx:\n",
    "        current_row = df.iloc[id]\n",
    "        images.append(plt.imread(current_row[\"file_path\"]))\n",
    "        labels.append(current_row[\"target\"])\n",
    "    \n",
    "    for i, (image, label) in enumerate(zip(images, labels), start=1):\n",
    "        plt.subplot(3, 3, i)  # Adjusted to start from 1\n",
    "        plt.imshow(image)\n",
    "        plt.axis(\"off\")\n",
    "        plt.title(label)\n",
    "    plt.show()\n",
    "\n",
    "def encode(df, columns):\n",
    "    label_encoder = preprocessing.LabelEncoder() \n",
    "    for col in columns:\n",
    "        df[col]= label_encoder.fit_transform(df[col])\n",
    "    return df\n",
    "\n",
    "def scale_columns(df, columns):\n",
    "    scaler = preprocessing.StandardScaler()\n",
    "    \n",
    "    # Transform each specified column\n",
    "    for col in columns:\n",
    "        df[col] = scaler.fit_transform(df[[col]])\n",
    "        \n",
    "    return df\n",
    "\n",
    "class Metadata(NamedTuple):\n",
    "    image: Optional[tf.Tensor] = None\n",
    "    metadata: Optional[tf.Tensor] = None\n",
    "\n",
    "\n",
    "\n",
    "def img_augmentation(images):\n",
    "    for layer in img_augmentation_layers:\n",
    "        images = layer(images)\n",
    "    return images\n",
    "\n",
    "def preprocess_image(path):\n",
    "    image = tf.io.read_file(path)\n",
    "    image = tf.image.decode_jpeg(image, channels=3)\n",
    "    image = tf.image.resize(image, IMAGE_SIZE)\n",
    "    image = image / 255.0\n",
    "    image = img_augmentation(image)\n",
    "    return image\n",
    "\n",
    "def preprocess_metadata(filtered_dict):\n",
    "    # Convert metadata to tensor\n",
    "    tensor_dict = tf.stack(list(filtered_dict.values()), axis=-1)\n",
    "    return tensor_dict\n",
    "\n",
    "def load_image_and_metadata(metadata, image_size):\n",
    "    image = preprocess_image(metadata['file_path'], image_size)\n",
    "    filtered_dict = {k: v for k, v in metadata.items() if k != 'file_path'}\n",
    "    metadata_tensor = preprocess_metadata(filtered_dict)\n",
    "    return Metadata(image=image, metadata=metadata_tensor)\n",
    "\n",
    "\n",
    "def unbatch_test_dataset(test_dataset,model):\n",
    "    unbatched_dataset = test_dataset.unbatch()\n",
    "\n",
    "    # Initialize lists to store true labels and predictions\n",
    "    images = []\n",
    "    labels = []\n",
    "\n",
    "\n",
    "    # Iterate over the unbatched dataset to get predictions and true labels\n",
    "    for img_batch, label_batch in test_dataset:\n",
    "        images.append(img_batch)\n",
    "        labels.append(label_batch)\n",
    "\n",
    "    # Convert lists to numpy arrays\n",
    "    images = np.concatenate(images, axis=0)\n",
    "    labels = np.concatenate(labels, axis=0)\n",
    "\n",
    "    # Make predictions on the entire dataset\n",
    "    y_pred = model.predict(images).ravel()  # Flatten predictions if necessary\n",
    "\n",
    "    # Convert labels to a flat array\n",
    "    y_true = labels.ravel()\n",
    "    # Convert lists to numpy arrays\n",
    "    y_true = np.array(y_true)\n",
    "    y_pred = np.array(y_pred)\n",
    "    return y_true, y_pred\n"
   ]
  },
  {
   "cell_type": "code",
   "execution_count": 8,
   "id": "28666440",
   "metadata": {
    "execution": {
     "iopub.execute_input": "2024-08-07T18:09:42.661659Z",
     "iopub.status.busy": "2024-08-07T18:09:42.661271Z",
     "iopub.status.idle": "2024-08-07T18:09:42.667633Z",
     "shell.execute_reply": "2024-08-07T18:09:42.666673Z"
    },
    "papermill": {
     "duration": 0.032719,
     "end_time": "2024-08-07T18:09:42.669798",
     "exception": false,
     "start_time": "2024-08-07T18:09:42.637079",
     "status": "completed"
    },
    "tags": []
   },
   "outputs": [],
   "source": [
    "def calculate_weight(pos,neg):\n",
    "\n",
    "    # Total number of samples\n",
    "    total = pos + neg\n",
    "\n",
    "    # Calculate class weights\n",
    "    weight_for_0 = (1 / neg) * (total / 2.0)\n",
    "    weight_for_1 = (1 / pos) * (total / 2.0)\n",
    "\n",
    "    class_weight = {0: weight_for_0, 1: weight_for_1}\n",
    "\n",
    "    print('Weight for class 0 (Negative): {:.2f}'.format(weight_for_0))\n",
    "    print('Weight for class 1 (Positive): {:.2f}'.format(weight_for_1))\n",
    "    return class_weight"
   ]
  },
  {
   "cell_type": "code",
   "execution_count": 9,
   "id": "26fbc82c",
   "metadata": {
    "execution": {
     "iopub.execute_input": "2024-08-07T18:09:42.717292Z",
     "iopub.status.busy": "2024-08-07T18:09:42.716940Z",
     "iopub.status.idle": "2024-08-07T18:09:42.721326Z",
     "shell.execute_reply": "2024-08-07T18:09:42.720313Z"
    },
    "papermill": {
     "duration": 0.031042,
     "end_time": "2024-08-07T18:09:42.723648",
     "exception": false,
     "start_time": "2024-08-07T18:09:42.692606",
     "status": "completed"
    },
    "tags": []
   },
   "outputs": [],
   "source": [
    "# random_choices = random.choices(list(range(df.shape[0])), k=9)\n",
    "# visualize(df,random_choices)"
   ]
  },
  {
   "cell_type": "code",
   "execution_count": 10,
   "id": "ea2fcee4",
   "metadata": {
    "execution": {
     "iopub.execute_input": "2024-08-07T18:09:42.772955Z",
     "iopub.status.busy": "2024-08-07T18:09:42.772511Z",
     "iopub.status.idle": "2024-08-07T18:09:42.783730Z",
     "shell.execute_reply": "2024-08-07T18:09:42.782793Z"
    },
    "papermill": {
     "duration": 0.038543,
     "end_time": "2024-08-07T18:09:42.785915",
     "exception": false,
     "start_time": "2024-08-07T18:09:42.747372",
     "status": "completed"
    },
    "tags": []
   },
   "outputs": [],
   "source": [
    "def create_dataset(df, image_size=(139, 139), batch_size=32, training=False, return_type='both'):\n",
    "    labels = df[['target']]\n",
    "\n",
    "    dataset = tf.data.Dataset.from_tensor_slices((df['file_path'].values, labels))\n",
    "    dataset = dataset.map(lambda x, y: (preprocess_image(x, image_size), y),\n",
    "                              num_parallel_calls=tf.data.experimental.AUTOTUNE)\n",
    "    # Shuffle and batch the dataset\n",
    "    if training:\n",
    "        dataset = dataset.shuffle(len(df))\n",
    "    dataset = dataset.batch(batch_size)\n",
    "    dataset = dataset.prefetch(buffer_size=tf.data.experimental.AUTOTUNE)\n",
    "    \n",
    "    return dataset\n",
    "\n",
    "from sklearn.metrics import roc_auc_score\n",
    "import numpy as np\n",
    "\n",
    "def compute_partial_auc(y_true, y_pred, min_tpr):\n",
    "    \"\"\"\n",
    "    Computes the partial AUC score given true labels, predicted scores, and minimum TPR.\n",
    "\n",
    "    Parameters:\n",
    "    y_true (np.array): True binary labels.\n",
    "    y_pred (np.array): Predicted probabilities or scores.\n",
    "    min_tpr (float): Minimum true positive rate (TPR) to consider for partial AUC.\n",
    "\n",
    "    Returns:\n",
    "    partial_auc (float): The computed partial AUC score.\n",
    "    \"\"\"\n",
    "    # Compute the transformed ground truth and predictions\n",
    "    v_gt = np.abs(y_true - 1)\n",
    "    v_pred = 1.0 - y_pred\n",
    "\n",
    "    # Compute the maximum false positive rate (FPR) based on the minimum TPR\n",
    "    max_fpr = 1 - min_tpr\n",
    "\n",
    "    # Compute the partial AUC using roc_auc_score\n",
    "    partial_auc_scaled = roc_auc_score(v_gt, v_pred, max_fpr=max_fpr)\n",
    "\n",
    "    # Rescale the partial AUC\n",
    "    partial_auc = 0.5 * max_fpr**2 + (max_fpr - 0.5 * max_fpr**2) * (partial_auc_scaled - 0.5)\n",
    "\n",
    "    return partial_auc\n",
    "\n",
    "# Example usage\n",
    "# y_true = np.array([...])  # Replace with your true labels\n",
    "# y_pred = np.array([...])  # Replace with your predicted scores\n",
    "# min_tpr = 0.9  # Example minimum TPR value\n",
    "# partial_auc = compute_partial_auc(y_true, y_pred, min_tpr)\n",
    "# print(f\"Partial AUC: {partial_auc:.4f}\")\n"
   ]
  },
  {
   "cell_type": "code",
   "execution_count": 11,
   "id": "1de0fbe9",
   "metadata": {
    "execution": {
     "iopub.execute_input": "2024-08-07T18:09:42.836033Z",
     "iopub.status.busy": "2024-08-07T18:09:42.835677Z",
     "iopub.status.idle": "2024-08-07T18:09:42.865959Z",
     "shell.execute_reply": "2024-08-07T18:09:42.864701Z"
    },
    "papermill": {
     "duration": 0.058267,
     "end_time": "2024-08-07T18:09:42.868209",
     "exception": false,
     "start_time": "2024-08-07T18:09:42.809942",
     "status": "completed"
    },
    "tags": []
   },
   "outputs": [],
   "source": [
    "def create_dataset(df, image_size=(139, 139), batch_size=32, training=False, return_type='both'):\n",
    "    # Extract labels\n",
    "    labels = df[['target']]\n",
    "    \n",
    "    # Depending on the return type, prepare the dataset accordingly\n",
    "    if return_type == 'both':\n",
    "        dataset = tf.data.Dataset.from_tensor_slices((dict(df.drop(columns=['target'])), labels))\n",
    "        dataset = dataset.map(lambda x, y: (load_image_and_metadata(x, image_size), y),\n",
    "                              num_parallel_calls=tf.data.experimental.AUTOTUNE)\n",
    "    elif return_type == 'metadata':\n",
    "        dataset = tf.data.Dataset.from_tensor_slices((dict(df.drop(columns=['target'])), labels))\n",
    "        dataset = dataset.map(lambda x, y: (preprocess_metadata({k: v for k, v in x.items() if k != 'file_path'}), y),\n",
    "                              num_parallel_calls=tf.data.experimental.AUTOTUNE)\n",
    "    elif return_type == 'images':\n",
    "        dataset = tf.data.Dataset.from_tensor_slices((df['file_path'].values, labels))\n",
    "        dataset = dataset.map(lambda x, y: (preprocess_image(x, image_size), y),\n",
    "                              num_parallel_calls=tf.data.experimental.AUTOTUNE)\n",
    "    else:\n",
    "        raise ValueError(\"Invalid return_type. Must be one of ['both', 'metadata', 'images']\")\n",
    "    \n",
    "    # Shuffle and batch the dataset\n",
    "    if training:\n",
    "        dataset = dataset.shuffle(len(df))\n",
    "    dataset = dataset.batch(batch_size)\n",
    "    dataset = dataset.prefetch(buffer_size=tf.data.experimental.AUTOTUNE)\n",
    "    \n",
    "    return dataset\n",
    "\n",
    "from sklearn.metrics import roc_auc_score\n",
    "import numpy as np\n",
    "\n",
    "\n",
    "class PartialAUC(tf.keras.metrics.Metric):\n",
    "    def __init__(self, name='partial_auc', **kwargs):\n",
    "        super(PartialAUC, self).__init__(name=name, **kwargs)\n",
    "        self.thresholds = tf.linspace(0.0, 1.0, 101)\n",
    "        self.tp = self.add_weight(name='tp', shape=(101,), initializer='zeros', dtype=tf.float32)\n",
    "        self.fp = self.add_weight(name='fp', shape=(101,), initializer='zeros', dtype=tf.float32)\n",
    "        self.fn = self.add_weight(name='fn', shape=(101,), initializer='zeros', dtype=tf.float32)\n",
    "        self.tn = self.add_weight(name='tn', shape=(101,), initializer='zeros', dtype=tf.float32)\n",
    "\n",
    "    def update_state(self, y_true, y_pred, sample_weight=None):\n",
    "        y_true = tf.reshape(tf.cast(y_true, tf.float32), (-1, 1))\n",
    "        y_pred = tf.cast(y_pred, tf.float32)\n",
    "\n",
    "        # Debugging shapes\n",
    "        #tf.print(\"reshaped y_true shape:\", tf.shape(y_true))\n",
    "        #tf.print(\"y_pred shape:\", tf.shape(y_pred))\n",
    "\n",
    "        thresholds = self.thresholds[tf.newaxis, :]\n",
    "        preds = tf.cast(y_pred[:, tf.newaxis] >= thresholds, tf.float32)\n",
    "\n",
    "        tp = tf.reduce_sum(preds * y_true[:, tf.newaxis], axis=0)\n",
    "        fp = tf.reduce_sum(preds * (1 - y_true)[:, tf.newaxis], axis=0)\n",
    "        fn = tf.reduce_sum((1 - preds) * y_true[:, tf.newaxis], axis=0)\n",
    "        tn = tf.reduce_sum((1 - preds) * (1 - y_true)[:, tf.newaxis], axis=0)\n",
    "\n",
    "        # Check tensor shapes\n",
    "        #tf.print(\"tp shape:\", tf.shape(tp))\n",
    "        #tf.print(\"fp shape:\", tf.shape(fp))\n",
    "        #tf.print(\"fn shape:\", tf.shape(fn))\n",
    "        #tf.print(\"tn shape:\", tf.shape(tn))\n",
    "\n",
    "        # Reshape assuming desired shape is (num_thresholds,)\n",
    "        num_thresholds = tf.shape(self.thresholds)[0]\n",
    "        \n",
    "        reshaped_tp = tf.reshape(tp, [num_thresholds])\n",
    "        reshaped_fp = tf.reshape(fp, [num_thresholds])\n",
    "        reshaped_fn = tf.reshape(fn, [num_thresholds])\n",
    "        reshaped_tn = tf.reshape(tn, [num_thresholds])\n",
    "        \n",
    "        self.tp.assign_add(reshaped_tp)\n",
    "        self.fp.assign_add(reshaped_fp)\n",
    "        self.fn.assign_add(reshaped_fn)\n",
    "        self.tn.assign_add(reshaped_tn)\n",
    "\n",
    "    def result(self):\n",
    "        # Avoid division by zero\n",
    "        epsilon = tf.keras.backend.epsilon()\n",
    "        tpr = self.tp / (self.tp + self.fn + epsilon)\n",
    "        fpr = self.fp / (self.fp + self.tn + epsilon)\n",
    "\n",
    "        # Sort fpr and corresponding tpr\n",
    "        sorted_indices = tf.argsort(fpr)\n",
    "        sorted_fpr = tf.gather(fpr, sorted_indices)\n",
    "        sorted_tpr = tf.gather(tpr, sorted_indices)\n",
    "\n",
    "        # Apply mask for TPR >= 0.8\n",
    "        mask = sorted_tpr >= 0.8\n",
    "        partial_fpr = tf.boolean_mask(sorted_fpr, mask)\n",
    "        partial_tpr = tf.boolean_mask(sorted_tpr, mask)\n",
    "\n",
    "        # Calculate partial AUC using the trapezoidal rule\n",
    "        def compute_partial_auc():\n",
    "            delta_fpr = partial_fpr[1:] - partial_fpr[:-1]\n",
    "            tpr_sum = partial_tpr[1:] + partial_tpr[:-1]\n",
    "            return tf.reduce_sum(delta_fpr * tpr_sum / 2)\n",
    "\n",
    "        partial_auc = tf.cond(tf.shape(partial_fpr)[0] > 1,\n",
    "                              compute_partial_auc,\n",
    "                              lambda: tf.constant(0.0))\n",
    "\n",
    "        return partial_auc * 0.2\n",
    "\n",
    "    def reset_states(self):\n",
    "        self.tp.assign(tf.zeros_like(self.tp))\n",
    "        self.fp.assign(tf.zeros_like(self.fp))\n",
    "        self.fn.assign(tf.zeros_like(self.fn))\n",
    "        self.tn.assign(tf.zeros_like(self.tn))\n",
    "def compute_partial_auc(y_true, y_pred, min_tpr):\n",
    "    \"\"\"\n",
    "    Computes the partial AUC score given true labels, predicted scores, and minimum TPR.\n",
    "\n",
    "    Parameters:\n",
    "    y_true (np.array): True binary labels.\n",
    "    y_pred (np.array): Predicted probabilities or scores.\n",
    "    min_tpr (float): Minimum true positive rate (TPR) to consider for partial AUC.\n",
    "\n",
    "    Returns:\n",
    "    partial_auc (float): The computed partial AUC score.\n",
    "    \"\"\"\n",
    "    # Compute the transformed ground truth and predictions\n",
    "    v_gt = np.abs(y_true - 1)\n",
    "    v_pred = 1.0 - y_pred\n",
    "\n",
    "    # Compute the maximum false positive rate (FPR) based on the minimum TPR\n",
    "    max_fpr = 1 - min_tpr\n",
    "\n",
    "    # Compute the partial AUC using roc_auc_score\n",
    "    partial_auc_scaled = roc_auc_score(v_gt, v_pred, max_fpr=max_fpr)\n",
    "\n",
    "    # Rescale the partial AUC\n",
    "    partial_auc = 0.5 * max_fpr**2 + (max_fpr - 0.5 * max_fpr**2) * (partial_auc_scaled - 0.5)\n",
    "\n",
    "    return partial_auc\n",
    "\n",
    "# Example usage\n",
    "# y_true = np.array([...])  # Replace with your true labels\n",
    "# y_pred = np.array([...])  # Replace with your predicted scores\n",
    "# min_tpr = 0.9  # Example minimum TPR value\n",
    "# partial_auc = compute_partial_auc(y_true, y_pred, min_tpr)\n",
    "# print(f\"Partial AUC: {partial_auc:.4f}\")\n"
   ]
  },
  {
   "cell_type": "code",
   "execution_count": 12,
   "id": "3503aef8",
   "metadata": {
    "execution": {
     "iopub.execute_input": "2024-08-07T18:09:42.916207Z",
     "iopub.status.busy": "2024-08-07T18:09:42.915313Z",
     "iopub.status.idle": "2024-08-07T18:09:42.920573Z",
     "shell.execute_reply": "2024-08-07T18:09:42.919570Z"
    },
    "papermill": {
     "duration": 0.031719,
     "end_time": "2024-08-07T18:09:42.922808",
     "exception": false,
     "start_time": "2024-08-07T18:09:42.891089",
     "status": "completed"
    },
    "tags": []
   },
   "outputs": [],
   "source": [
    "class ClearMemory(tf.keras.callbacks.Callback):\n",
    "    def on_epoch_end(self, epoch, logs=None):\n",
    "        gc.collect()\n",
    "\n",
    "clear_memory = ClearMemory()\n"
   ]
  },
  {
   "cell_type": "code",
   "execution_count": 13,
   "id": "d8cb5978",
   "metadata": {
    "execution": {
     "iopub.execute_input": "2024-08-07T18:09:42.969614Z",
     "iopub.status.busy": "2024-08-07T18:09:42.968913Z",
     "iopub.status.idle": "2024-08-07T18:09:43.303380Z",
     "shell.execute_reply": "2024-08-07T18:09:43.301964Z"
    },
    "papermill": {
     "duration": 0.360129,
     "end_time": "2024-08-07T18:09:43.305820",
     "exception": false,
     "start_time": "2024-08-07T18:09:42.945691",
     "status": "completed"
    },
    "tags": []
   },
   "outputs": [
    {
     "name": "stdout",
     "output_type": "stream",
     "text": [
      "positive shape: (393, 55), negative shape: (7860, 55)\n",
      "Full dataset shape: (8253, 55)\n"
     ]
    }
   ],
   "source": [
    "df_concat = get_sample(df,ratio=20)"
   ]
  },
  {
   "cell_type": "code",
   "execution_count": 14,
   "id": "6cbec8c2",
   "metadata": {
    "execution": {
     "iopub.execute_input": "2024-08-07T18:09:43.353012Z",
     "iopub.status.busy": "2024-08-07T18:09:43.352619Z",
     "iopub.status.idle": "2024-08-07T18:09:43.366348Z",
     "shell.execute_reply": "2024-08-07T18:09:43.365526Z"
    },
    "papermill": {
     "duration": 0.039456,
     "end_time": "2024-08-07T18:09:43.368584",
     "exception": false,
     "start_time": "2024-08-07T18:09:43.329128",
     "status": "completed"
    },
    "tags": []
   },
   "outputs": [],
   "source": [
    "directory = '/kaggle/input/isic-2024-challenge/train-image'\n",
    "df_concat['file_path'] = df_concat['isic_id'].apply(lambda x: add_path(x, directory))"
   ]
  },
  {
   "cell_type": "code",
   "execution_count": 15,
   "id": "7b23cb47",
   "metadata": {
    "execution": {
     "iopub.execute_input": "2024-08-07T18:09:43.418235Z",
     "iopub.status.busy": "2024-08-07T18:09:43.417840Z",
     "iopub.status.idle": "2024-08-07T18:09:43.508555Z",
     "shell.execute_reply": "2024-08-07T18:09:43.507476Z"
    },
    "papermill": {
     "duration": 0.118948,
     "end_time": "2024-08-07T18:09:43.511006",
     "exception": false,
     "start_time": "2024-08-07T18:09:43.392058",
     "status": "completed"
    },
    "tags": []
   },
   "outputs": [
    {
     "name": "stdout",
     "output_type": "stream",
     "text": [
      "positive shape: (785, 4), negative shape: (7850, 4)\n",
      "Full dataset shape: (8635, 4)\n",
      "positive shape: (4522, 4), negative shape: (45220, 4)\n",
      "Full dataset shape: (49742, 4)\n",
      "positive shape: (584, 4), negative shape: (3504, 4)\n",
      "Full dataset shape: (4088, 4)\n"
     ]
    }
   ],
   "source": [
    "df_2018 = get_sample(df_2018,ratio = 10)\n",
    "df_2018['file_path'] = df_2018['isic_id'].apply(lambda x: add_path(x, '/kaggle/input/isic-2018-jpg-224x224-resized/train-image'))\n",
    "df_2019 = get_sample(df_2019,ratio = 10)\n",
    "df_2019['file_path'] = df_2019['isic_id'].apply(lambda x: add_path(x, '/kaggle/input/isic-2019-jpg-224x224-resized/train-image'))\n",
    "df_2020 = get_sample(df_2020,ratio = 6)\n",
    "df_2020['file_path'] = df_2020['isic_id'].apply(lambda x: add_path(x, '/kaggle/input/isic-2020-jpg-224x224-resized/train-image'))\n",
    "\n",
    "df_concat_previous = pd.concat([df_2018,df_2019,df_2020],axis=0)"
   ]
  },
  {
   "cell_type": "code",
   "execution_count": 16,
   "id": "b9b353ea",
   "metadata": {
    "execution": {
     "iopub.execute_input": "2024-08-07T18:09:43.558058Z",
     "iopub.status.busy": "2024-08-07T18:09:43.557693Z",
     "iopub.status.idle": "2024-08-07T18:09:43.563578Z",
     "shell.execute_reply": "2024-08-07T18:09:43.562683Z"
    },
    "papermill": {
     "duration": 0.031352,
     "end_time": "2024-08-07T18:09:43.565672",
     "exception": false,
     "start_time": "2024-08-07T18:09:43.534320",
     "status": "completed"
    },
    "tags": []
   },
   "outputs": [
    {
     "data": {
      "text/plain": [
       "(62465, 5)"
      ]
     },
     "execution_count": 16,
     "metadata": {},
     "output_type": "execute_result"
    }
   ],
   "source": [
    "df_concat_previous.shape"
   ]
  },
  {
   "cell_type": "code",
   "execution_count": 17,
   "id": "daa21364",
   "metadata": {
    "execution": {
     "iopub.execute_input": "2024-08-07T18:09:43.662656Z",
     "iopub.status.busy": "2024-08-07T18:09:43.662226Z",
     "iopub.status.idle": "2024-08-07T18:09:43.675405Z",
     "shell.execute_reply": "2024-08-07T18:09:43.674455Z"
    },
    "papermill": {
     "duration": 0.03829,
     "end_time": "2024-08-07T18:09:43.677389",
     "exception": false,
     "start_time": "2024-08-07T18:09:43.639099",
     "status": "completed"
    },
    "tags": []
   },
   "outputs": [
    {
     "data": {
      "text/html": [
       "<div>\n",
       "<style scoped>\n",
       "    .dataframe tbody tr th:only-of-type {\n",
       "        vertical-align: middle;\n",
       "    }\n",
       "\n",
       "    .dataframe tbody tr th {\n",
       "        vertical-align: top;\n",
       "    }\n",
       "\n",
       "    .dataframe thead th {\n",
       "        text-align: right;\n",
       "    }\n",
       "</style>\n",
       "<table border=\"1\" class=\"dataframe\">\n",
       "  <thead>\n",
       "    <tr style=\"text-align: right;\">\n",
       "      <th></th>\n",
       "      <th>Unnamed: 0</th>\n",
       "      <th>isic_id</th>\n",
       "      <th>patient_id</th>\n",
       "      <th>target</th>\n",
       "      <th>file_path</th>\n",
       "    </tr>\n",
       "  </thead>\n",
       "  <tbody>\n",
       "    <tr>\n",
       "      <th>0</th>\n",
       "      <td>8934</td>\n",
       "      <td>ISIC_0036017</td>\n",
       "      <td>dummy_1464</td>\n",
       "      <td>0.0</td>\n",
       "      <td>/kaggle/input/isic-2018-jpg-224x224-resized/tr...</td>\n",
       "    </tr>\n",
       "    <tr>\n",
       "      <th>1</th>\n",
       "      <td>3866</td>\n",
       "      <td>ISIC_0029955</td>\n",
       "      <td>HAM_0003906</td>\n",
       "      <td>0.0</td>\n",
       "      <td>/kaggle/input/isic-2018-jpg-224x224-resized/tr...</td>\n",
       "    </tr>\n",
       "    <tr>\n",
       "      <th>2</th>\n",
       "      <td>731</td>\n",
       "      <td>ISIC_0024965</td>\n",
       "      <td>HAM_0000733</td>\n",
       "      <td>0.0</td>\n",
       "      <td>/kaggle/input/isic-2018-jpg-224x224-resized/tr...</td>\n",
       "    </tr>\n",
       "    <tr>\n",
       "      <th>3</th>\n",
       "      <td>1107</td>\n",
       "      <td>ISIC_0027636</td>\n",
       "      <td>HAM_0001109</td>\n",
       "      <td>0.0</td>\n",
       "      <td>/kaggle/input/isic-2018-jpg-224x224-resized/tr...</td>\n",
       "    </tr>\n",
       "    <tr>\n",
       "      <th>4</th>\n",
       "      <td>1274</td>\n",
       "      <td>ISIC_0032374</td>\n",
       "      <td>HAM_0001279</td>\n",
       "      <td>0.0</td>\n",
       "      <td>/kaggle/input/isic-2018-jpg-224x224-resized/tr...</td>\n",
       "    </tr>\n",
       "  </tbody>\n",
       "</table>\n",
       "</div>"
      ],
      "text/plain": [
       "   Unnamed: 0       isic_id   patient_id  target  \\\n",
       "0        8934  ISIC_0036017   dummy_1464     0.0   \n",
       "1        3866  ISIC_0029955  HAM_0003906     0.0   \n",
       "2         731  ISIC_0024965  HAM_0000733     0.0   \n",
       "3        1107  ISIC_0027636  HAM_0001109     0.0   \n",
       "4        1274  ISIC_0032374  HAM_0001279     0.0   \n",
       "\n",
       "                                           file_path  \n",
       "0  /kaggle/input/isic-2018-jpg-224x224-resized/tr...  \n",
       "1  /kaggle/input/isic-2018-jpg-224x224-resized/tr...  \n",
       "2  /kaggle/input/isic-2018-jpg-224x224-resized/tr...  \n",
       "3  /kaggle/input/isic-2018-jpg-224x224-resized/tr...  \n",
       "4  /kaggle/input/isic-2018-jpg-224x224-resized/tr...  "
      ]
     },
     "execution_count": 17,
     "metadata": {},
     "output_type": "execute_result"
    }
   ],
   "source": [
    "df_concat_previous.head()"
   ]
  },
  {
   "cell_type": "code",
   "execution_count": 18,
   "id": "9c838db0",
   "metadata": {
    "execution": {
     "iopub.execute_input": "2024-08-07T18:09:43.725041Z",
     "iopub.status.busy": "2024-08-07T18:09:43.724670Z",
     "iopub.status.idle": "2024-08-07T18:09:43.737344Z",
     "shell.execute_reply": "2024-08-07T18:09:43.736349Z"
    },
    "papermill": {
     "duration": 0.040045,
     "end_time": "2024-08-07T18:09:43.739976",
     "exception": false,
     "start_time": "2024-08-07T18:09:43.699931",
     "status": "completed"
    },
    "tags": []
   },
   "outputs": [],
   "source": [
    "directory = '/kaggle/input/isic-2024-challenge/train-image'\n",
    "df_concat['file_path'] = df_concat['isic_id'].apply(lambda x: add_path(x, directory))"
   ]
  },
  {
   "cell_type": "markdown",
   "id": "b3575263",
   "metadata": {
    "papermill": {
     "duration": 0.023078,
     "end_time": "2024-08-07T18:09:43.786099",
     "exception": false,
     "start_time": "2024-08-07T18:09:43.763021",
     "status": "completed"
    },
    "tags": []
   },
   "source": [
    "## Vision Model"
   ]
  },
  {
   "cell_type": "code",
   "execution_count": 19,
   "id": "7b01732d",
   "metadata": {
    "execution": {
     "iopub.execute_input": "2024-08-07T18:09:43.833572Z",
     "iopub.status.busy": "2024-08-07T18:09:43.833178Z",
     "iopub.status.idle": "2024-08-07T18:09:43.840018Z",
     "shell.execute_reply": "2024-08-07T18:09:43.838974Z"
    },
    "papermill": {
     "duration": 0.033087,
     "end_time": "2024-08-07T18:09:43.842265",
     "exception": false,
     "start_time": "2024-08-07T18:09:43.809178",
     "status": "completed"
    },
    "tags": []
   },
   "outputs": [],
   "source": [
    "positive = df_concat[df_concat['target']==1]"
   ]
  },
  {
   "cell_type": "code",
   "execution_count": 20,
   "id": "7c1435ca",
   "metadata": {
    "execution": {
     "iopub.execute_input": "2024-08-07T18:09:43.889971Z",
     "iopub.status.busy": "2024-08-07T18:09:43.889587Z",
     "iopub.status.idle": "2024-08-07T18:09:44.213119Z",
     "shell.execute_reply": "2024-08-07T18:09:44.212245Z"
    },
    "papermill": {
     "duration": 0.350291,
     "end_time": "2024-08-07T18:09:44.215472",
     "exception": false,
     "start_time": "2024-08-07T18:09:43.865181",
     "status": "completed"
    },
    "tags": []
   },
   "outputs": [],
   "source": [
    "\n",
    "augmented_positive = tf.data.Dataset.from_tensor_slices((positive['file_path'].values, positive['target'].values))\n",
    "augmented_positive = augmented_positive.map(lambda x, y: (preprocess_image(x), y),\n",
    "                              num_parallel_calls=tf.data.experimental.AUTOTUNE)"
   ]
  },
  {
   "cell_type": "code",
   "execution_count": 21,
   "id": "d303806c",
   "metadata": {
    "execution": {
     "iopub.execute_input": "2024-08-07T18:09:44.264175Z",
     "iopub.status.busy": "2024-08-07T18:09:44.263780Z",
     "iopub.status.idle": "2024-08-07T18:09:44.457660Z",
     "shell.execute_reply": "2024-08-07T18:09:44.456788Z"
    },
    "papermill": {
     "duration": 0.220974,
     "end_time": "2024-08-07T18:09:44.460072",
     "exception": false,
     "start_time": "2024-08-07T18:09:44.239098",
     "status": "completed"
    },
    "tags": []
   },
   "outputs": [],
   "source": [
    "\n",
    "augmented_positive1 = tf.data.Dataset.from_tensor_slices((positive['file_path'].values, positive['target'].values))\n",
    "augmented_positive1 = augmented_positive1.map(lambda x, y: (preprocess_image(x), y),\n",
    "                              num_parallel_calls=tf.data.experimental.AUTOTUNE)"
   ]
  },
  {
   "cell_type": "code",
   "execution_count": 22,
   "id": "f7936bd7",
   "metadata": {
    "execution": {
     "iopub.execute_input": "2024-08-07T18:09:44.509446Z",
     "iopub.status.busy": "2024-08-07T18:09:44.509062Z",
     "iopub.status.idle": "2024-08-07T18:09:44.751314Z",
     "shell.execute_reply": "2024-08-07T18:09:44.750441Z"
    },
    "papermill": {
     "duration": 0.269784,
     "end_time": "2024-08-07T18:09:44.754050",
     "exception": false,
     "start_time": "2024-08-07T18:09:44.484266",
     "status": "completed"
    },
    "tags": []
   },
   "outputs": [],
   "source": [
    "# df_concat['image'] = df_concat['file_path'].apply(preprocess_image)\n",
    "\n",
    "dataset = tf.data.Dataset.from_tensor_slices((df_concat['file_path'].values, df_concat['target']))\n",
    "dataset = dataset.map(lambda x, y: (preprocess_image(x), y),\n",
    "                              num_parallel_calls=tf.data.experimental.AUTOTUNE)"
   ]
  },
  {
   "cell_type": "code",
   "execution_count": 23,
   "id": "eb9cbae4",
   "metadata": {
    "execution": {
     "iopub.execute_input": "2024-08-07T18:09:44.803297Z",
     "iopub.status.busy": "2024-08-07T18:09:44.802914Z",
     "iopub.status.idle": "2024-08-07T18:09:47.964620Z",
     "shell.execute_reply": "2024-08-07T18:09:47.963721Z"
    },
    "papermill": {
     "duration": 3.189578,
     "end_time": "2024-08-07T18:09:47.967143",
     "exception": false,
     "start_time": "2024-08-07T18:09:44.777565",
     "status": "completed"
    },
    "tags": []
   },
   "outputs": [],
   "source": [
    "previous_dataset = tf.data.Dataset.from_tensor_slices((df_concat_previous['file_path'].values, df_concat_previous['target']))\n",
    "previous_dataset = previous_dataset.map(lambda x, y: (preprocess_image(x), y),\n",
    "                              num_parallel_calls=tf.data.experimental.AUTOTUNE)\n",
    "previous_dataset = previous_dataset.shuffle(len(previous_dataset))\n",
    "previous_dataset = previous_dataset.batch(BATCH_SIZE)\n",
    "previous_dataset = previous_dataset.prefetch(buffer_size=tf.data.experimental.AUTOTUNE)"
   ]
  },
  {
   "cell_type": "code",
   "execution_count": 24,
   "id": "eda299de",
   "metadata": {
    "execution": {
     "iopub.execute_input": "2024-08-07T18:09:48.019620Z",
     "iopub.status.busy": "2024-08-07T18:09:48.019207Z",
     "iopub.status.idle": "2024-08-07T18:09:48.026094Z",
     "shell.execute_reply": "2024-08-07T18:09:48.025052Z"
    },
    "papermill": {
     "duration": 0.034744,
     "end_time": "2024-08-07T18:09:48.028243",
     "exception": false,
     "start_time": "2024-08-07T18:09:47.993499",
     "status": "completed"
    },
    "tags": []
   },
   "outputs": [
    {
     "data": {
      "text/plain": [
       "<_PrefetchDataset element_spec=(TensorSpec(shape=(None, 224, 224, 3), dtype=tf.float32, name=None), TensorSpec(shape=(None,), dtype=tf.float64, name=None))>"
      ]
     },
     "execution_count": 24,
     "metadata": {},
     "output_type": "execute_result"
    }
   ],
   "source": [
    "previous_dataset"
   ]
  },
  {
   "cell_type": "code",
   "execution_count": 25,
   "id": "ee3ef46b",
   "metadata": {
    "execution": {
     "iopub.execute_input": "2024-08-07T18:09:48.078466Z",
     "iopub.status.busy": "2024-08-07T18:09:48.077486Z",
     "iopub.status.idle": "2024-08-07T18:09:48.082007Z",
     "shell.execute_reply": "2024-08-07T18:09:48.081019Z"
    },
    "papermill": {
     "duration": 0.031703,
     "end_time": "2024-08-07T18:09:48.084137",
     "exception": false,
     "start_time": "2024-08-07T18:09:48.052434",
     "status": "completed"
    },
    "tags": []
   },
   "outputs": [],
   "source": [
    "# for image,label in previous_dataset.take(1):\n",
    "#     print(image.shape,label.shape)\n",
    "    \n"
   ]
  },
  {
   "cell_type": "code",
   "execution_count": null,
   "id": "94e93a95",
   "metadata": {
    "papermill": {
     "duration": 0.023614,
     "end_time": "2024-08-07T18:09:48.131373",
     "exception": false,
     "start_time": "2024-08-07T18:09:48.107759",
     "status": "completed"
    },
    "tags": []
   },
   "outputs": [],
   "source": []
  },
  {
   "cell_type": "code",
   "execution_count": 26,
   "id": "24a830b9",
   "metadata": {
    "execution": {
     "iopub.execute_input": "2024-08-07T18:09:48.182789Z",
     "iopub.status.busy": "2024-08-07T18:09:48.181606Z",
     "iopub.status.idle": "2024-08-07T18:09:48.193534Z",
     "shell.execute_reply": "2024-08-07T18:09:48.192634Z"
    },
    "papermill": {
     "duration": 0.038755,
     "end_time": "2024-08-07T18:09:48.195880",
     "exception": false,
     "start_time": "2024-08-07T18:09:48.157125",
     "status": "completed"
    },
    "tags": []
   },
   "outputs": [],
   "source": [
    "dataset = dataset.concatenate(augmented_positive,name='first')\n",
    "dataset = dataset.concatenate(augmented_positive1,name='version2')"
   ]
  },
  {
   "cell_type": "code",
   "execution_count": 27,
   "id": "055788d3",
   "metadata": {
    "execution": {
     "iopub.execute_input": "2024-08-07T18:09:48.244737Z",
     "iopub.status.busy": "2024-08-07T18:09:48.244352Z",
     "iopub.status.idle": "2024-08-07T18:09:48.254784Z",
     "shell.execute_reply": "2024-08-07T18:09:48.253786Z"
    },
    "papermill": {
     "duration": 0.037321,
     "end_time": "2024-08-07T18:09:48.256900",
     "exception": false,
     "start_time": "2024-08-07T18:09:48.219579",
     "status": "completed"
    },
    "tags": []
   },
   "outputs": [],
   "source": [
    "dataset = dataset.shuffle(len(dataset))\n",
    "dataset = dataset.batch(BATCH_SIZE)\n",
    "dataset = dataset.prefetch(buffer_size=tf.data.experimental.AUTOTUNE)"
   ]
  },
  {
   "cell_type": "code",
   "execution_count": 28,
   "id": "db074f65",
   "metadata": {
    "execution": {
     "iopub.execute_input": "2024-08-07T18:09:48.306466Z",
     "iopub.status.busy": "2024-08-07T18:09:48.306050Z",
     "iopub.status.idle": "2024-08-07T18:09:48.310859Z",
     "shell.execute_reply": "2024-08-07T18:09:48.309553Z"
    },
    "papermill": {
     "duration": 0.032525,
     "end_time": "2024-08-07T18:09:48.313163",
     "exception": false,
     "start_time": "2024-08-07T18:09:48.280638",
     "status": "completed"
    },
    "tags": []
   },
   "outputs": [],
   "source": [
    "# efficient.get_layer(name='block4c_add').output"
   ]
  },
  {
   "cell_type": "code",
   "execution_count": 29,
   "id": "98af5ceb",
   "metadata": {
    "execution": {
     "iopub.execute_input": "2024-08-07T18:09:48.364430Z",
     "iopub.status.busy": "2024-08-07T18:09:48.363536Z",
     "iopub.status.idle": "2024-08-07T18:09:48.368013Z",
     "shell.execute_reply": "2024-08-07T18:09:48.367044Z"
    },
    "papermill": {
     "duration": 0.03246,
     "end_time": "2024-08-07T18:09:48.370200",
     "exception": false,
     "start_time": "2024-08-07T18:09:48.337740",
     "status": "completed"
    },
    "tags": []
   },
   "outputs": [],
   "source": [
    "# layer_index = None\n",
    "# for i, layer in enumerate(efficient.layers):\n",
    "#     if layer.name == 'block4c_add':\n",
    "#         layer_index = i\n",
    "#         break"
   ]
  },
  {
   "cell_type": "code",
   "execution_count": 30,
   "id": "10fb6a63",
   "metadata": {
    "execution": {
     "iopub.execute_input": "2024-08-07T18:09:48.420770Z",
     "iopub.status.busy": "2024-08-07T18:09:48.419980Z",
     "iopub.status.idle": "2024-08-07T18:09:48.428498Z",
     "shell.execute_reply": "2024-08-07T18:09:48.427439Z"
    },
    "papermill": {
     "duration": 0.036391,
     "end_time": "2024-08-07T18:09:48.430737",
     "exception": false,
     "start_time": "2024-08-07T18:09:48.394346",
     "status": "completed"
    },
    "tags": []
   },
   "outputs": [],
   "source": [
    "def create_vision_encoder(trainable_layer,trainable=False,input_shape=(139,139,3)):\n",
    "    \n",
    "#     resnet_v2 = keras.applications.ResNet50V2(include_top=False, weights=\"imagenet\", pooling=\"max\")\n",
    "    model = keras.applications.EfficientNetB0(include_top=True, weights='imagenet',input_shape=(IMAGE_SIZE[0], IMAGE_SIZE[0], 3),pooling='avg')\n",
    "    if trainable:\n",
    "        for layer in model.layers[:trainable_layer]:\n",
    "            layer.trainable = trainable\n",
    "    \n",
    "    \n",
    "    \n",
    "    image = keras.Input(shape=input_shape, name=\"image\")\n",
    "    \n",
    "    preprocessed = keras.applications.efficientnet.preprocess_input(image)\n",
    "    \n",
    "    \n",
    "    outputs = model(preprocessed)\n",
    "#     outputs = model.get_layer(name='block4c_add').output\n",
    "    outputs = model.layers[118].output\n",
    "#     outputs = layers.GlobalAveragePooling2D()(outputs)\n",
    "    return keras.Model([image], outputs, name=\"vision_encoder\")"
   ]
  },
  {
   "cell_type": "code",
   "execution_count": 31,
   "id": "82fa2842",
   "metadata": {
    "execution": {
     "iopub.execute_input": "2024-08-07T18:09:48.482010Z",
     "iopub.status.busy": "2024-08-07T18:09:48.480799Z",
     "iopub.status.idle": "2024-08-07T18:09:50.407140Z",
     "shell.execute_reply": "2024-08-07T18:09:50.406229Z"
    },
    "papermill": {
     "duration": 1.954918,
     "end_time": "2024-08-07T18:09:50.409804",
     "exception": false,
     "start_time": "2024-08-07T18:09:48.454886",
     "status": "completed"
    },
    "tags": []
   },
   "outputs": [
    {
     "name": "stdout",
     "output_type": "stream",
     "text": [
      "Downloading data from https://storage.googleapis.com/keras-applications/efficientnetb0.h5\n",
      "\u001b[1m21834768/21834768\u001b[0m \u001b[32m━━━━━━━━━━━━━━━━━━━━\u001b[0m\u001b[37m\u001b[0m \u001b[1m0s\u001b[0m 0us/step\n"
     ]
    }
   ],
   "source": [
    "vision_encoder = create_vision_encoder(trainable_layer=100,input_shape=(IMAGE_SIZE[0],IMAGE_SIZE[0],3),trainable=True)\n",
    "# vision_encoder.summary()"
   ]
  },
  {
   "cell_type": "code",
   "execution_count": 32,
   "id": "da239251",
   "metadata": {
    "execution": {
     "iopub.execute_input": "2024-08-07T18:09:50.461298Z",
     "iopub.status.busy": "2024-08-07T18:09:50.460404Z",
     "iopub.status.idle": "2024-08-07T18:09:50.467517Z",
     "shell.execute_reply": "2024-08-07T18:09:50.466565Z"
    },
    "papermill": {
     "duration": 0.034747,
     "end_time": "2024-08-07T18:09:50.469601",
     "exception": false,
     "start_time": "2024-08-07T18:09:50.434854",
     "status": "completed"
    },
    "tags": []
   },
   "outputs": [],
   "source": [
    "def vision_model():\n",
    "    vision_encoder = create_vision_encoder(trainable_layer=100,input_shape=(IMAGE_SIZE[0],IMAGE_SIZE[0],3),trainable=True)\n",
    "#     x = layers.Dense(128,activation='relu')(vision_encoder.output)\n",
    "#     x = layers.GlobalAveragePooling2D()(vision_encoder.output)\n",
    "    x = layers.Dense(64,activation='relu')(vision_encoder.output)\n",
    "    x = layers.Dense(1,activation='sigmoid')(x)\n",
    "\n",
    "    vision_model = keras.Model(inputs = vision_encoder.input, outputs=x)\n",
    "    vision_model.compile(optimizer=\"adam\", loss=\"binary_crossentropy\", metrics=METRICS)\n",
    "    return vision_model"
   ]
  },
  {
   "cell_type": "code",
   "execution_count": 33,
   "id": "0be7f6fd",
   "metadata": {
    "execution": {
     "iopub.execute_input": "2024-08-07T18:09:50.520313Z",
     "iopub.status.busy": "2024-08-07T18:09:50.519971Z",
     "iopub.status.idle": "2024-08-07T18:09:51.809872Z",
     "shell.execute_reply": "2024-08-07T18:09:51.808886Z"
    },
    "papermill": {
     "duration": 1.317638,
     "end_time": "2024-08-07T18:09:51.812400",
     "exception": false,
     "start_time": "2024-08-07T18:09:50.494762",
     "status": "completed"
    },
    "tags": []
   },
   "outputs": [],
   "source": [
    "model = vision_model()"
   ]
  },
  {
   "cell_type": "code",
   "execution_count": 34,
   "id": "9870254e",
   "metadata": {
    "execution": {
     "iopub.execute_input": "2024-08-07T18:09:51.861586Z",
     "iopub.status.busy": "2024-08-07T18:09:51.860682Z",
     "iopub.status.idle": "2024-08-07T18:09:51.865215Z",
     "shell.execute_reply": "2024-08-07T18:09:51.864295Z"
    },
    "papermill": {
     "duration": 0.031034,
     "end_time": "2024-08-07T18:09:51.867168",
     "exception": false,
     "start_time": "2024-08-07T18:09:51.836134",
     "status": "completed"
    },
    "tags": []
   },
   "outputs": [],
   "source": [
    "# model.summary()"
   ]
  },
  {
   "cell_type": "code",
   "execution_count": 35,
   "id": "cbe4ea9a",
   "metadata": {
    "execution": {
     "iopub.execute_input": "2024-08-07T18:09:51.915363Z",
     "iopub.status.busy": "2024-08-07T18:09:51.914528Z",
     "iopub.status.idle": "2024-08-07T18:09:51.920759Z",
     "shell.execute_reply": "2024-08-07T18:09:51.919900Z"
    },
    "papermill": {
     "duration": 0.032303,
     "end_time": "2024-08-07T18:09:51.922724",
     "exception": false,
     "start_time": "2024-08-07T18:09:51.890421",
     "status": "completed"
    },
    "tags": []
   },
   "outputs": [
    {
     "data": {
      "text/plain": [
       "<_PrefetchDataset element_spec=(TensorSpec(shape=(None, 224, 224, 3), dtype=tf.float32, name=None), TensorSpec(shape=(None,), dtype=tf.int64, name=None))>"
      ]
     },
     "execution_count": 35,
     "metadata": {},
     "output_type": "execute_result"
    }
   ],
   "source": [
    "dataset"
   ]
  },
  {
   "cell_type": "code",
   "execution_count": 36,
   "id": "1edd23ad",
   "metadata": {
    "execution": {
     "iopub.execute_input": "2024-08-07T18:09:51.971129Z",
     "iopub.status.busy": "2024-08-07T18:09:51.970769Z",
     "iopub.status.idle": "2024-08-07T18:09:51.978656Z",
     "shell.execute_reply": "2024-08-07T18:09:51.977664Z"
    },
    "papermill": {
     "duration": 0.034721,
     "end_time": "2024-08-07T18:09:51.980901",
     "exception": false,
     "start_time": "2024-08-07T18:09:51.946180",
     "status": "completed"
    },
    "tags": []
   },
   "outputs": [],
   "source": [
    "shuffled_dataset = dataset.shuffle(len(dataset))\n",
    "# num_test_samples = int(len(dataset) * 0.2)  # Assuming 20% of the dataset for testing\n",
    "# test_dataset = shuffled_dataset.take(num_test_samples)\n",
    "# train_dataset = shuffled_dataset.take(int(len(dataset) * 0.8))"
   ]
  },
  {
   "cell_type": "code",
   "execution_count": 37,
   "id": "17cc0724",
   "metadata": {
    "execution": {
     "iopub.execute_input": "2024-08-07T18:09:52.030776Z",
     "iopub.status.busy": "2024-08-07T18:09:52.030335Z",
     "iopub.status.idle": "2024-08-07T18:09:52.034724Z",
     "shell.execute_reply": "2024-08-07T18:09:52.033722Z"
    },
    "papermill": {
     "duration": 0.031482,
     "end_time": "2024-08-07T18:09:52.036790",
     "exception": false,
     "start_time": "2024-08-07T18:09:52.005308",
     "status": "completed"
    },
    "tags": []
   },
   "outputs": [],
   "source": [
    "# len(test_dataset)"
   ]
  },
  {
   "cell_type": "code",
   "execution_count": 38,
   "id": "bd7b7fee",
   "metadata": {
    "execution": {
     "iopub.execute_input": "2024-08-07T18:09:52.087840Z",
     "iopub.status.busy": "2024-08-07T18:09:52.087022Z",
     "iopub.status.idle": "2024-08-07T18:09:52.091139Z",
     "shell.execute_reply": "2024-08-07T18:09:52.090231Z"
    },
    "papermill": {
     "duration": 0.032012,
     "end_time": "2024-08-07T18:09:52.093465",
     "exception": false,
     "start_time": "2024-08-07T18:09:52.061453",
     "status": "completed"
    },
    "tags": []
   },
   "outputs": [],
   "source": [
    "# for image, label in dataset.take(1):\n",
    "#     print(label)"
   ]
  },
  {
   "cell_type": "code",
   "execution_count": 39,
   "id": "cfe7157b",
   "metadata": {
    "execution": {
     "iopub.execute_input": "2024-08-07T18:09:52.145461Z",
     "iopub.status.busy": "2024-08-07T18:09:52.144664Z",
     "iopub.status.idle": "2024-08-07T18:09:52.148937Z",
     "shell.execute_reply": "2024-08-07T18:09:52.147906Z"
    },
    "papermill": {
     "duration": 0.032771,
     "end_time": "2024-08-07T18:09:52.151098",
     "exception": false,
     "start_time": "2024-08-07T18:09:52.118327",
     "status": "completed"
    },
    "tags": []
   },
   "outputs": [],
   "source": [
    "# model = vision_model()\n",
    "# history = model.fit(dataset, epochs=1)"
   ]
  },
  {
   "cell_type": "code",
   "execution_count": 40,
   "id": "bdf2249c",
   "metadata": {
    "execution": {
     "iopub.execute_input": "2024-08-07T18:09:52.206120Z",
     "iopub.status.busy": "2024-08-07T18:09:52.205198Z",
     "iopub.status.idle": "2024-08-07T18:09:52.212922Z",
     "shell.execute_reply": "2024-08-07T18:09:52.211751Z"
    },
    "papermill": {
     "duration": 0.0371,
     "end_time": "2024-08-07T18:09:52.215336",
     "exception": false,
     "start_time": "2024-08-07T18:09:52.178236",
     "status": "completed"
    },
    "tags": []
   },
   "outputs": [
    {
     "name": "stdout",
     "output_type": "stream",
     "text": [
      "Weight for class 0 (Negative): 0.83\n",
      "Weight for class 1 (Positive): 1.25\n"
     ]
    },
    {
     "data": {
      "text/plain": [
       "{0: 0.8333333333333334, 1: 1.25}"
      ]
     },
     "execution_count": 40,
     "metadata": {},
     "output_type": "execute_result"
    }
   ],
   "source": [
    "class_weight = calculate_weight(7860,11790)\n",
    "class_weight"
   ]
  },
  {
   "cell_type": "code",
   "execution_count": 41,
   "id": "313ded46",
   "metadata": {
    "execution": {
     "iopub.execute_input": "2024-08-07T18:09:52.269329Z",
     "iopub.status.busy": "2024-08-07T18:09:52.268661Z",
     "iopub.status.idle": "2024-08-07T18:09:52.274422Z",
     "shell.execute_reply": "2024-08-07T18:09:52.273433Z"
    },
    "papermill": {
     "duration": 0.035054,
     "end_time": "2024-08-07T18:09:52.276625",
     "exception": false,
     "start_time": "2024-08-07T18:09:52.241571",
     "status": "completed"
    },
    "tags": []
   },
   "outputs": [],
   "source": [
    "# skf = StratifiedKFold(n_splits=5)\n",
    "# fold_no = 1\n",
    "# results = []\n",
    "# images = df_concat[['file_path']]\n",
    "# target = df_concat[['target']]\n",
    "\n",
    "# for train_index, val_index in skf.split(images, target):\n",
    "#     print(f'Fold {fold_no}...')\n",
    "    \n",
    "#     X_train, X_val = images.iloc[train_index], images.iloc[val_index]\n",
    "#     y_train, y_val = target.iloc[train_index], target.iloc[val_index]\n",
    "    \n",
    "#     train_df = pd.concat([X_train, y_train],axis=1)\n",
    "#     test_df = pd.concat([X_val, y_val],axis=1)\n",
    "#     print(train_df.shape,test_df.shape)\n",
    "    \n",
    "#     vision_train_ds = create_dataset(train_df, IMAGE_SIZE, BATCH_SIZE,training=True,return_type='images')\n",
    "#     vision_test_ds = create_dataset(test_df, IMAGE_SIZE, BATCH_SIZE,return_type='images')\n",
    "#     # Instantiate the model for each fold\n",
    "#     model = vision_model()\n",
    "    \n",
    "#     # Train the model\n",
    "#     history = model.fit(vision_train_ds, epochs=2, validation_data=vision_test_ds,class_weight=class_weight)\n",
    "    \n",
    "#     # Evaluate the model on the validation set\n",
    "#     y_true,y_pred = unbatch_test_dataset(vision_test_ds,model)\n",
    "#     score = compute_partial_auc(y_true,y_pred, min_tpr=0.80)\n",
    "# #     scores = model.evaluate(vision_test_ds, verbose=0)\n",
    "#     print(f'Validation auc: {score}')\n",
    "    \n",
    "#     results.append(score)\n",
    "#     fold_no += 1\n",
    "\n",
    "# # Calculate the average performance\n",
    "# # average_score = np.mean(results, axis=0)\n",
    "# # print(f'\\nAverage validation loss: {average_score[0]} - Average validation accuracy: {average_score[1]}')\n"
   ]
  },
  {
   "cell_type": "markdown",
   "id": "72981847",
   "metadata": {
    "papermill": {
     "duration": 0.025224,
     "end_time": "2024-08-07T18:09:52.326471",
     "exception": false,
     "start_time": "2024-08-07T18:09:52.301247",
     "status": "completed"
    },
    "tags": []
   },
   "source": [
    "### Metadata Transformations "
   ]
  },
  {
   "cell_type": "code",
   "execution_count": 42,
   "id": "eb7785a8",
   "metadata": {
    "execution": {
     "iopub.execute_input": "2024-08-07T18:09:52.380040Z",
     "iopub.status.busy": "2024-08-07T18:09:52.379689Z",
     "iopub.status.idle": "2024-08-07T18:09:52.386576Z",
     "shell.execute_reply": "2024-08-07T18:09:52.385594Z"
    },
    "papermill": {
     "duration": 0.036384,
     "end_time": "2024-08-07T18:09:52.389044",
     "exception": false,
     "start_time": "2024-08-07T18:09:52.352660",
     "status": "completed"
    },
    "tags": []
   },
   "outputs": [
    {
     "data": {
      "text/plain": [
       "Index(['isic_id', 'target', 'patient_id', 'age_approx', 'sex',\n",
       "       'anatom_site_general', 'clin_size_long_diam_mm', 'image_type',\n",
       "       'tbp_tile_type', 'tbp_lv_A', 'tbp_lv_Aext', 'tbp_lv_B', 'tbp_lv_Bext',\n",
       "       'tbp_lv_C', 'tbp_lv_Cext', 'tbp_lv_H', 'tbp_lv_Hext', 'tbp_lv_L',\n",
       "       'tbp_lv_Lext', 'tbp_lv_areaMM2', 'tbp_lv_area_perim_ratio',\n",
       "       'tbp_lv_color_std_mean', 'tbp_lv_deltaA', 'tbp_lv_deltaB',\n",
       "       'tbp_lv_deltaL', 'tbp_lv_deltaLB', 'tbp_lv_deltaLBnorm',\n",
       "       'tbp_lv_eccentricity', 'tbp_lv_location', 'tbp_lv_location_simple',\n",
       "       'tbp_lv_minorAxisMM', 'tbp_lv_nevi_confidence', 'tbp_lv_norm_border',\n",
       "       'tbp_lv_norm_color', 'tbp_lv_perimeterMM',\n",
       "       'tbp_lv_radial_color_std_max', 'tbp_lv_stdL', 'tbp_lv_stdLExt',\n",
       "       'tbp_lv_symm_2axis', 'tbp_lv_symm_2axis_angle', 'tbp_lv_x', 'tbp_lv_y',\n",
       "       'tbp_lv_z', 'attribution', 'copyright_license', 'lesion_id',\n",
       "       'iddx_full', 'iddx_1', 'iddx_2', 'iddx_3', 'iddx_4', 'iddx_5',\n",
       "       'mel_mitotic_index', 'mel_thick_mm', 'tbp_lv_dnn_lesion_confidence',\n",
       "       'file_path'],\n",
       "      dtype='object')"
      ]
     },
     "execution_count": 42,
     "metadata": {},
     "output_type": "execute_result"
    }
   ],
   "source": [
    "df_concat.columns"
   ]
  },
  {
   "cell_type": "code",
   "execution_count": 43,
   "id": "079bf982",
   "metadata": {
    "execution": {
     "iopub.execute_input": "2024-08-07T18:09:52.441020Z",
     "iopub.status.busy": "2024-08-07T18:09:52.440631Z",
     "iopub.status.idle": "2024-08-07T18:09:52.449475Z",
     "shell.execute_reply": "2024-08-07T18:09:52.448281Z"
    },
    "papermill": {
     "duration": 0.037576,
     "end_time": "2024-08-07T18:09:52.451556",
     "exception": false,
     "start_time": "2024-08-07T18:09:52.413980",
     "status": "completed"
    },
    "tags": []
   },
   "outputs": [],
   "source": [
    "drop_columns = [\n",
    "    'isic_id', 'patient_id', 'image_type', 'tbp_tile_type', 'attribution', \n",
    "    'copyright_license', 'lesion_id', 'iddx_full', 'iddx_1', 'iddx_2', \n",
    "    'iddx_3', 'iddx_4', 'iddx_5', 'mel_mitotic_index', 'mel_thick_mm', \n",
    "    'tbp_lv_dnn_lesion_confidence'\n",
    "]\n",
    "df_concat = df_concat.drop(drop_columns,axis=1)"
   ]
  },
  {
   "cell_type": "code",
   "execution_count": 44,
   "id": "8a30c66a",
   "metadata": {
    "execution": {
     "iopub.execute_input": "2024-08-07T18:09:52.503114Z",
     "iopub.status.busy": "2024-08-07T18:09:52.502723Z",
     "iopub.status.idle": "2024-08-07T18:09:52.509319Z",
     "shell.execute_reply": "2024-08-07T18:09:52.508354Z"
    },
    "papermill": {
     "duration": 0.035515,
     "end_time": "2024-08-07T18:09:52.511511",
     "exception": false,
     "start_time": "2024-08-07T18:09:52.475996",
     "status": "completed"
    },
    "tags": []
   },
   "outputs": [
    {
     "data": {
      "text/plain": [
       "(8253, 40)"
      ]
     },
     "execution_count": 44,
     "metadata": {},
     "output_type": "execute_result"
    }
   ],
   "source": [
    "df_concat.shape"
   ]
  },
  {
   "cell_type": "code",
   "execution_count": 45,
   "id": "26211f5a",
   "metadata": {
    "execution": {
     "iopub.execute_input": "2024-08-07T18:09:52.563702Z",
     "iopub.status.busy": "2024-08-07T18:09:52.562771Z",
     "iopub.status.idle": "2024-08-07T18:09:52.599910Z",
     "shell.execute_reply": "2024-08-07T18:09:52.599003Z"
    },
    "papermill": {
     "duration": 0.065026,
     "end_time": "2024-08-07T18:09:52.601935",
     "exception": false,
     "start_time": "2024-08-07T18:09:52.536909",
     "status": "completed"
    },
    "tags": []
   },
   "outputs": [
    {
     "data": {
      "text/html": [
       "<div>\n",
       "<style scoped>\n",
       "    .dataframe tbody tr th:only-of-type {\n",
       "        vertical-align: middle;\n",
       "    }\n",
       "\n",
       "    .dataframe tbody tr th {\n",
       "        vertical-align: top;\n",
       "    }\n",
       "\n",
       "    .dataframe thead th {\n",
       "        text-align: right;\n",
       "    }\n",
       "</style>\n",
       "<table border=\"1\" class=\"dataframe\">\n",
       "  <thead>\n",
       "    <tr style=\"text-align: right;\">\n",
       "      <th></th>\n",
       "      <th>target</th>\n",
       "      <th>age_approx</th>\n",
       "      <th>sex</th>\n",
       "      <th>anatom_site_general</th>\n",
       "      <th>clin_size_long_diam_mm</th>\n",
       "      <th>tbp_lv_A</th>\n",
       "      <th>tbp_lv_Aext</th>\n",
       "      <th>tbp_lv_B</th>\n",
       "      <th>tbp_lv_Bext</th>\n",
       "      <th>tbp_lv_C</th>\n",
       "      <th>tbp_lv_Cext</th>\n",
       "      <th>tbp_lv_H</th>\n",
       "      <th>tbp_lv_Hext</th>\n",
       "      <th>tbp_lv_L</th>\n",
       "      <th>tbp_lv_Lext</th>\n",
       "      <th>tbp_lv_areaMM2</th>\n",
       "      <th>tbp_lv_area_perim_ratio</th>\n",
       "      <th>tbp_lv_color_std_mean</th>\n",
       "      <th>tbp_lv_deltaA</th>\n",
       "      <th>tbp_lv_deltaB</th>\n",
       "      <th>tbp_lv_deltaL</th>\n",
       "      <th>tbp_lv_deltaLB</th>\n",
       "      <th>tbp_lv_deltaLBnorm</th>\n",
       "      <th>tbp_lv_eccentricity</th>\n",
       "      <th>tbp_lv_location</th>\n",
       "      <th>tbp_lv_location_simple</th>\n",
       "      <th>tbp_lv_minorAxisMM</th>\n",
       "      <th>tbp_lv_nevi_confidence</th>\n",
       "      <th>tbp_lv_norm_border</th>\n",
       "      <th>tbp_lv_norm_color</th>\n",
       "      <th>tbp_lv_perimeterMM</th>\n",
       "      <th>tbp_lv_radial_color_std_max</th>\n",
       "      <th>tbp_lv_stdL</th>\n",
       "      <th>tbp_lv_stdLExt</th>\n",
       "      <th>tbp_lv_symm_2axis</th>\n",
       "      <th>tbp_lv_symm_2axis_angle</th>\n",
       "      <th>tbp_lv_x</th>\n",
       "      <th>tbp_lv_y</th>\n",
       "      <th>tbp_lv_z</th>\n",
       "      <th>file_path</th>\n",
       "    </tr>\n",
       "  </thead>\n",
       "  <tbody>\n",
       "    <tr>\n",
       "      <th>0</th>\n",
       "      <td>0</td>\n",
       "      <td>60.0</td>\n",
       "      <td>male</td>\n",
       "      <td>anterior torso</td>\n",
       "      <td>4.55</td>\n",
       "      <td>17.039293</td>\n",
       "      <td>14.283063</td>\n",
       "      <td>18.287003</td>\n",
       "      <td>17.740718</td>\n",
       "      <td>24.995039</td>\n",
       "      <td>22.775842</td>\n",
       "      <td>47.022823</td>\n",
       "      <td>51.162436</td>\n",
       "      <td>37.128520</td>\n",
       "      <td>44.167462</td>\n",
       "      <td>9.645337</td>\n",
       "      <td>18.809305</td>\n",
       "      <td>1.080698</td>\n",
       "      <td>2.756229</td>\n",
       "      <td>0.546285</td>\n",
       "      <td>-7.038942</td>\n",
       "      <td>7.267905</td>\n",
       "      <td>6.387014</td>\n",
       "      <td>0.757816</td>\n",
       "      <td>Torso Front Bottom Half</td>\n",
       "      <td>Torso Front</td>\n",
       "      <td>3.075640</td>\n",
       "      <td>2.015081</td>\n",
       "      <td>3.100971</td>\n",
       "      <td>3.050096</td>\n",
       "      <td>13.469302</td>\n",
       "      <td>0.956887</td>\n",
       "      <td>1.629658</td>\n",
       "      <td>1.837165</td>\n",
       "      <td>0.265018</td>\n",
       "      <td>0</td>\n",
       "      <td>-91.055115</td>\n",
       "      <td>1032.430298</td>\n",
       "      <td>-116.544983</td>\n",
       "      <td>/kaggle/input/isic-2024-challenge/train-image/...</td>\n",
       "    </tr>\n",
       "    <tr>\n",
       "      <th>1</th>\n",
       "      <td>0</td>\n",
       "      <td>60.0</td>\n",
       "      <td>male</td>\n",
       "      <td>lower extremity</td>\n",
       "      <td>3.20</td>\n",
       "      <td>17.297090</td>\n",
       "      <td>13.842030</td>\n",
       "      <td>18.530230</td>\n",
       "      <td>20.370760</td>\n",
       "      <td>25.348740</td>\n",
       "      <td>24.628640</td>\n",
       "      <td>46.971280</td>\n",
       "      <td>55.803700</td>\n",
       "      <td>20.258580</td>\n",
       "      <td>33.948420</td>\n",
       "      <td>6.267592</td>\n",
       "      <td>13.250990</td>\n",
       "      <td>2.002159</td>\n",
       "      <td>3.455056</td>\n",
       "      <td>-1.840533</td>\n",
       "      <td>-13.689840</td>\n",
       "      <td>14.223060</td>\n",
       "      <td>14.856430</td>\n",
       "      <td>0.654377</td>\n",
       "      <td>Right Leg - Upper</td>\n",
       "      <td>Right Leg</td>\n",
       "      <td>2.328767</td>\n",
       "      <td>98.424420</td>\n",
       "      <td>1.666269</td>\n",
       "      <td>5.285059</td>\n",
       "      <td>9.113276</td>\n",
       "      <td>1.533457</td>\n",
       "      <td>6.230410</td>\n",
       "      <td>2.477048</td>\n",
       "      <td>0.208093</td>\n",
       "      <td>165</td>\n",
       "      <td>142.681100</td>\n",
       "      <td>614.559200</td>\n",
       "      <td>-7.413940</td>\n",
       "      <td>/kaggle/input/isic-2024-challenge/train-image/...</td>\n",
       "    </tr>\n",
       "    <tr>\n",
       "      <th>2</th>\n",
       "      <td>0</td>\n",
       "      <td>65.0</td>\n",
       "      <td>male</td>\n",
       "      <td>anterior torso</td>\n",
       "      <td>2.78</td>\n",
       "      <td>25.445058</td>\n",
       "      <td>21.695291</td>\n",
       "      <td>30.435845</td>\n",
       "      <td>27.975466</td>\n",
       "      <td>39.671043</td>\n",
       "      <td>35.402152</td>\n",
       "      <td>50.103610</td>\n",
       "      <td>52.206016</td>\n",
       "      <td>35.701040</td>\n",
       "      <td>40.852079</td>\n",
       "      <td>2.964909</td>\n",
       "      <td>21.321714</td>\n",
       "      <td>0.091567</td>\n",
       "      <td>3.749767</td>\n",
       "      <td>2.460379</td>\n",
       "      <td>-5.151039</td>\n",
       "      <td>5.864022</td>\n",
       "      <td>5.242296</td>\n",
       "      <td>0.887620</td>\n",
       "      <td>Torso Front Top Half</td>\n",
       "      <td>Torso Front</td>\n",
       "      <td>1.456421</td>\n",
       "      <td>0.000403</td>\n",
       "      <td>4.588670</td>\n",
       "      <td>0.202686</td>\n",
       "      <td>7.950908</td>\n",
       "      <td>0.044595</td>\n",
       "      <td>1.005375</td>\n",
       "      <td>2.017189</td>\n",
       "      <td>0.404040</td>\n",
       "      <td>110</td>\n",
       "      <td>-22.539593</td>\n",
       "      <td>1350.984863</td>\n",
       "      <td>-38.696411</td>\n",
       "      <td>/kaggle/input/isic-2024-challenge/train-image/...</td>\n",
       "    </tr>\n",
       "    <tr>\n",
       "      <th>3</th>\n",
       "      <td>0</td>\n",
       "      <td>30.0</td>\n",
       "      <td>male</td>\n",
       "      <td>upper extremity</td>\n",
       "      <td>2.66</td>\n",
       "      <td>22.156392</td>\n",
       "      <td>18.991310</td>\n",
       "      <td>38.214378</td>\n",
       "      <td>33.739333</td>\n",
       "      <td>44.172892</td>\n",
       "      <td>38.717082</td>\n",
       "      <td>59.895184</td>\n",
       "      <td>60.625562</td>\n",
       "      <td>54.987482</td>\n",
       "      <td>60.350980</td>\n",
       "      <td>3.039970</td>\n",
       "      <td>19.964219</td>\n",
       "      <td>0.287787</td>\n",
       "      <td>3.165082</td>\n",
       "      <td>4.475045</td>\n",
       "      <td>-5.363498</td>\n",
       "      <td>7.058075</td>\n",
       "      <td>4.985807</td>\n",
       "      <td>0.839318</td>\n",
       "      <td>Left Arm - Upper</td>\n",
       "      <td>Left Arm</td>\n",
       "      <td>1.585048</td>\n",
       "      <td>0.000426</td>\n",
       "      <td>4.246918</td>\n",
       "      <td>0.812312</td>\n",
       "      <td>7.790419</td>\n",
       "      <td>0.254869</td>\n",
       "      <td>0.838690</td>\n",
       "      <td>1.873863</td>\n",
       "      <td>0.391304</td>\n",
       "      <td>20</td>\n",
       "      <td>-387.454468</td>\n",
       "      <td>1380.942871</td>\n",
       "      <td>142.082703</td>\n",
       "      <td>/kaggle/input/isic-2024-challenge/train-image/...</td>\n",
       "    </tr>\n",
       "    <tr>\n",
       "      <th>4</th>\n",
       "      <td>1</td>\n",
       "      <td>55.0</td>\n",
       "      <td>male</td>\n",
       "      <td>upper extremity</td>\n",
       "      <td>2.11</td>\n",
       "      <td>31.787660</td>\n",
       "      <td>25.694930</td>\n",
       "      <td>33.371060</td>\n",
       "      <td>34.688920</td>\n",
       "      <td>46.087770</td>\n",
       "      <td>43.168860</td>\n",
       "      <td>46.392050</td>\n",
       "      <td>53.471750</td>\n",
       "      <td>35.406070</td>\n",
       "      <td>45.280460</td>\n",
       "      <td>2.758491</td>\n",
       "      <td>13.757490</td>\n",
       "      <td>0.562755</td>\n",
       "      <td>6.092734</td>\n",
       "      <td>-1.317865</td>\n",
       "      <td>-9.874387</td>\n",
       "      <td>10.160410</td>\n",
       "      <td>8.401830</td>\n",
       "      <td>0.668058</td>\n",
       "      <td>Right Arm - Upper</td>\n",
       "      <td>Right Arm</td>\n",
       "      <td>1.580169</td>\n",
       "      <td>76.485220</td>\n",
       "      <td>1.823582</td>\n",
       "      <td>1.517963</td>\n",
       "      <td>6.160351</td>\n",
       "      <td>0.452263</td>\n",
       "      <td>3.570706</td>\n",
       "      <td>2.064051</td>\n",
       "      <td>0.216867</td>\n",
       "      <td>45</td>\n",
       "      <td>313.384500</td>\n",
       "      <td>1511.212000</td>\n",
       "      <td>121.424400</td>\n",
       "      <td>/kaggle/input/isic-2024-challenge/train-image/...</td>\n",
       "    </tr>\n",
       "  </tbody>\n",
       "</table>\n",
       "</div>"
      ],
      "text/plain": [
       "   target  age_approx   sex anatom_site_general  clin_size_long_diam_mm  \\\n",
       "0       0        60.0  male      anterior torso                    4.55   \n",
       "1       0        60.0  male     lower extremity                    3.20   \n",
       "2       0        65.0  male      anterior torso                    2.78   \n",
       "3       0        30.0  male     upper extremity                    2.66   \n",
       "4       1        55.0  male     upper extremity                    2.11   \n",
       "\n",
       "    tbp_lv_A  tbp_lv_Aext   tbp_lv_B  tbp_lv_Bext   tbp_lv_C  tbp_lv_Cext  \\\n",
       "0  17.039293    14.283063  18.287003    17.740718  24.995039    22.775842   \n",
       "1  17.297090    13.842030  18.530230    20.370760  25.348740    24.628640   \n",
       "2  25.445058    21.695291  30.435845    27.975466  39.671043    35.402152   \n",
       "3  22.156392    18.991310  38.214378    33.739333  44.172892    38.717082   \n",
       "4  31.787660    25.694930  33.371060    34.688920  46.087770    43.168860   \n",
       "\n",
       "    tbp_lv_H  tbp_lv_Hext   tbp_lv_L  tbp_lv_Lext  tbp_lv_areaMM2  \\\n",
       "0  47.022823    51.162436  37.128520    44.167462        9.645337   \n",
       "1  46.971280    55.803700  20.258580    33.948420        6.267592   \n",
       "2  50.103610    52.206016  35.701040    40.852079        2.964909   \n",
       "3  59.895184    60.625562  54.987482    60.350980        3.039970   \n",
       "4  46.392050    53.471750  35.406070    45.280460        2.758491   \n",
       "\n",
       "   tbp_lv_area_perim_ratio  tbp_lv_color_std_mean  tbp_lv_deltaA  \\\n",
       "0                18.809305               1.080698       2.756229   \n",
       "1                13.250990               2.002159       3.455056   \n",
       "2                21.321714               0.091567       3.749767   \n",
       "3                19.964219               0.287787       3.165082   \n",
       "4                13.757490               0.562755       6.092734   \n",
       "\n",
       "   tbp_lv_deltaB  tbp_lv_deltaL  tbp_lv_deltaLB  tbp_lv_deltaLBnorm  \\\n",
       "0       0.546285      -7.038942        7.267905            6.387014   \n",
       "1      -1.840533     -13.689840       14.223060           14.856430   \n",
       "2       2.460379      -5.151039        5.864022            5.242296   \n",
       "3       4.475045      -5.363498        7.058075            4.985807   \n",
       "4      -1.317865      -9.874387       10.160410            8.401830   \n",
       "\n",
       "   tbp_lv_eccentricity          tbp_lv_location tbp_lv_location_simple  \\\n",
       "0             0.757816  Torso Front Bottom Half            Torso Front   \n",
       "1             0.654377        Right Leg - Upper              Right Leg   \n",
       "2             0.887620     Torso Front Top Half            Torso Front   \n",
       "3             0.839318         Left Arm - Upper               Left Arm   \n",
       "4             0.668058        Right Arm - Upper              Right Arm   \n",
       "\n",
       "   tbp_lv_minorAxisMM  tbp_lv_nevi_confidence  tbp_lv_norm_border  \\\n",
       "0            3.075640                2.015081            3.100971   \n",
       "1            2.328767               98.424420            1.666269   \n",
       "2            1.456421                0.000403            4.588670   \n",
       "3            1.585048                0.000426            4.246918   \n",
       "4            1.580169               76.485220            1.823582   \n",
       "\n",
       "   tbp_lv_norm_color  tbp_lv_perimeterMM  tbp_lv_radial_color_std_max  \\\n",
       "0           3.050096           13.469302                     0.956887   \n",
       "1           5.285059            9.113276                     1.533457   \n",
       "2           0.202686            7.950908                     0.044595   \n",
       "3           0.812312            7.790419                     0.254869   \n",
       "4           1.517963            6.160351                     0.452263   \n",
       "\n",
       "   tbp_lv_stdL  tbp_lv_stdLExt  tbp_lv_symm_2axis  tbp_lv_symm_2axis_angle  \\\n",
       "0     1.629658        1.837165           0.265018                        0   \n",
       "1     6.230410        2.477048           0.208093                      165   \n",
       "2     1.005375        2.017189           0.404040                      110   \n",
       "3     0.838690        1.873863           0.391304                       20   \n",
       "4     3.570706        2.064051           0.216867                       45   \n",
       "\n",
       "     tbp_lv_x     tbp_lv_y    tbp_lv_z  \\\n",
       "0  -91.055115  1032.430298 -116.544983   \n",
       "1  142.681100   614.559200   -7.413940   \n",
       "2  -22.539593  1350.984863  -38.696411   \n",
       "3 -387.454468  1380.942871  142.082703   \n",
       "4  313.384500  1511.212000  121.424400   \n",
       "\n",
       "                                           file_path  \n",
       "0  /kaggle/input/isic-2024-challenge/train-image/...  \n",
       "1  /kaggle/input/isic-2024-challenge/train-image/...  \n",
       "2  /kaggle/input/isic-2024-challenge/train-image/...  \n",
       "3  /kaggle/input/isic-2024-challenge/train-image/...  \n",
       "4  /kaggle/input/isic-2024-challenge/train-image/...  "
      ]
     },
     "execution_count": 45,
     "metadata": {},
     "output_type": "execute_result"
    }
   ],
   "source": [
    "df_concat.head()"
   ]
  },
  {
   "cell_type": "code",
   "execution_count": 46,
   "id": "4d496695",
   "metadata": {
    "execution": {
     "iopub.execute_input": "2024-08-07T18:09:52.652018Z",
     "iopub.status.busy": "2024-08-07T18:09:52.651691Z",
     "iopub.status.idle": "2024-08-07T18:09:52.660379Z",
     "shell.execute_reply": "2024-08-07T18:09:52.659431Z"
    },
    "papermill": {
     "duration": 0.036106,
     "end_time": "2024-08-07T18:09:52.662398",
     "exception": false,
     "start_time": "2024-08-07T18:09:52.626292",
     "status": "completed"
    },
    "tags": []
   },
   "outputs": [
    {
     "data": {
      "text/plain": [
       "target                           int64\n",
       "age_approx                     float64\n",
       "sex                             object\n",
       "anatom_site_general             object\n",
       "clin_size_long_diam_mm         float64\n",
       "tbp_lv_A                       float64\n",
       "tbp_lv_Aext                    float64\n",
       "tbp_lv_B                       float64\n",
       "tbp_lv_Bext                    float64\n",
       "tbp_lv_C                       float64\n",
       "tbp_lv_Cext                    float64\n",
       "tbp_lv_H                       float64\n",
       "tbp_lv_Hext                    float64\n",
       "tbp_lv_L                       float64\n",
       "tbp_lv_Lext                    float64\n",
       "tbp_lv_areaMM2                 float64\n",
       "tbp_lv_area_perim_ratio        float64\n",
       "tbp_lv_color_std_mean          float64\n",
       "tbp_lv_deltaA                  float64\n",
       "tbp_lv_deltaB                  float64\n",
       "tbp_lv_deltaL                  float64\n",
       "tbp_lv_deltaLB                 float64\n",
       "tbp_lv_deltaLBnorm             float64\n",
       "tbp_lv_eccentricity            float64\n",
       "tbp_lv_location                 object\n",
       "tbp_lv_location_simple          object\n",
       "tbp_lv_minorAxisMM             float64\n",
       "tbp_lv_nevi_confidence         float64\n",
       "tbp_lv_norm_border             float64\n",
       "tbp_lv_norm_color              float64\n",
       "tbp_lv_perimeterMM             float64\n",
       "tbp_lv_radial_color_std_max    float64\n",
       "tbp_lv_stdL                    float64\n",
       "tbp_lv_stdLExt                 float64\n",
       "tbp_lv_symm_2axis              float64\n",
       "tbp_lv_symm_2axis_angle          int64\n",
       "tbp_lv_x                       float64\n",
       "tbp_lv_y                       float64\n",
       "tbp_lv_z                       float64\n",
       "file_path                       object\n",
       "dtype: object"
      ]
     },
     "execution_count": 46,
     "metadata": {},
     "output_type": "execute_result"
    }
   ],
   "source": [
    "df_concat.dtypes"
   ]
  },
  {
   "cell_type": "code",
   "execution_count": 47,
   "id": "8a65f080",
   "metadata": {
    "execution": {
     "iopub.execute_input": "2024-08-07T18:09:52.712830Z",
     "iopub.status.busy": "2024-08-07T18:09:52.712465Z",
     "iopub.status.idle": "2024-08-07T18:09:52.728217Z",
     "shell.execute_reply": "2024-08-07T18:09:52.727429Z"
    },
    "papermill": {
     "duration": 0.043226,
     "end_time": "2024-08-07T18:09:52.730220",
     "exception": false,
     "start_time": "2024-08-07T18:09:52.686994",
     "status": "completed"
    },
    "tags": []
   },
   "outputs": [],
   "source": [
    "df_concat  = encode(df_concat,['sex','anatom_site_general','tbp_lv_location','tbp_lv_location_simple'])"
   ]
  },
  {
   "cell_type": "code",
   "execution_count": 48,
   "id": "23a1fbb5",
   "metadata": {
    "execution": {
     "iopub.execute_input": "2024-08-07T18:09:52.782000Z",
     "iopub.status.busy": "2024-08-07T18:09:52.781357Z",
     "iopub.status.idle": "2024-08-07T18:09:52.818841Z",
     "shell.execute_reply": "2024-08-07T18:09:52.817796Z"
    },
    "papermill": {
     "duration": 0.066289,
     "end_time": "2024-08-07T18:09:52.821734",
     "exception": false,
     "start_time": "2024-08-07T18:09:52.755445",
     "status": "completed"
    },
    "tags": []
   },
   "outputs": [
    {
     "data": {
      "text/html": [
       "<div>\n",
       "<style scoped>\n",
       "    .dataframe tbody tr th:only-of-type {\n",
       "        vertical-align: middle;\n",
       "    }\n",
       "\n",
       "    .dataframe tbody tr th {\n",
       "        vertical-align: top;\n",
       "    }\n",
       "\n",
       "    .dataframe thead th {\n",
       "        text-align: right;\n",
       "    }\n",
       "</style>\n",
       "<table border=\"1\" class=\"dataframe\">\n",
       "  <thead>\n",
       "    <tr style=\"text-align: right;\">\n",
       "      <th></th>\n",
       "      <th>target</th>\n",
       "      <th>age_approx</th>\n",
       "      <th>sex</th>\n",
       "      <th>anatom_site_general</th>\n",
       "      <th>clin_size_long_diam_mm</th>\n",
       "      <th>tbp_lv_A</th>\n",
       "      <th>tbp_lv_Aext</th>\n",
       "      <th>tbp_lv_B</th>\n",
       "      <th>tbp_lv_Bext</th>\n",
       "      <th>tbp_lv_C</th>\n",
       "      <th>tbp_lv_Cext</th>\n",
       "      <th>tbp_lv_H</th>\n",
       "      <th>tbp_lv_Hext</th>\n",
       "      <th>tbp_lv_L</th>\n",
       "      <th>tbp_lv_Lext</th>\n",
       "      <th>tbp_lv_areaMM2</th>\n",
       "      <th>tbp_lv_area_perim_ratio</th>\n",
       "      <th>tbp_lv_color_std_mean</th>\n",
       "      <th>tbp_lv_deltaA</th>\n",
       "      <th>tbp_lv_deltaB</th>\n",
       "      <th>tbp_lv_deltaL</th>\n",
       "      <th>tbp_lv_deltaLB</th>\n",
       "      <th>tbp_lv_deltaLBnorm</th>\n",
       "      <th>tbp_lv_eccentricity</th>\n",
       "      <th>tbp_lv_location</th>\n",
       "      <th>tbp_lv_location_simple</th>\n",
       "      <th>tbp_lv_minorAxisMM</th>\n",
       "      <th>tbp_lv_nevi_confidence</th>\n",
       "      <th>tbp_lv_norm_border</th>\n",
       "      <th>tbp_lv_norm_color</th>\n",
       "      <th>tbp_lv_perimeterMM</th>\n",
       "      <th>tbp_lv_radial_color_std_max</th>\n",
       "      <th>tbp_lv_stdL</th>\n",
       "      <th>tbp_lv_stdLExt</th>\n",
       "      <th>tbp_lv_symm_2axis</th>\n",
       "      <th>tbp_lv_symm_2axis_angle</th>\n",
       "      <th>tbp_lv_x</th>\n",
       "      <th>tbp_lv_y</th>\n",
       "      <th>tbp_lv_z</th>\n",
       "      <th>file_path</th>\n",
       "    </tr>\n",
       "  </thead>\n",
       "  <tbody>\n",
       "    <tr>\n",
       "      <th>0</th>\n",
       "      <td>0</td>\n",
       "      <td>60.0</td>\n",
       "      <td>1</td>\n",
       "      <td>0</td>\n",
       "      <td>4.55</td>\n",
       "      <td>17.039293</td>\n",
       "      <td>14.283063</td>\n",
       "      <td>18.287003</td>\n",
       "      <td>17.740718</td>\n",
       "      <td>24.995039</td>\n",
       "      <td>22.775842</td>\n",
       "      <td>47.022823</td>\n",
       "      <td>51.162436</td>\n",
       "      <td>37.128520</td>\n",
       "      <td>44.167462</td>\n",
       "      <td>9.645337</td>\n",
       "      <td>18.809305</td>\n",
       "      <td>1.080698</td>\n",
       "      <td>2.756229</td>\n",
       "      <td>0.546285</td>\n",
       "      <td>-7.038942</td>\n",
       "      <td>7.267905</td>\n",
       "      <td>6.387014</td>\n",
       "      <td>0.757816</td>\n",
       "      <td>17</td>\n",
       "      <td>6</td>\n",
       "      <td>3.075640</td>\n",
       "      <td>2.015081</td>\n",
       "      <td>3.100971</td>\n",
       "      <td>3.050096</td>\n",
       "      <td>13.469302</td>\n",
       "      <td>0.956887</td>\n",
       "      <td>1.629658</td>\n",
       "      <td>1.837165</td>\n",
       "      <td>0.265018</td>\n",
       "      <td>0</td>\n",
       "      <td>-91.055115</td>\n",
       "      <td>1032.430298</td>\n",
       "      <td>-116.544983</td>\n",
       "      <td>/kaggle/input/isic-2024-challenge/train-image/...</td>\n",
       "    </tr>\n",
       "    <tr>\n",
       "      <th>1</th>\n",
       "      <td>0</td>\n",
       "      <td>60.0</td>\n",
       "      <td>1</td>\n",
       "      <td>2</td>\n",
       "      <td>3.20</td>\n",
       "      <td>17.297090</td>\n",
       "      <td>13.842030</td>\n",
       "      <td>18.530230</td>\n",
       "      <td>20.370760</td>\n",
       "      <td>25.348740</td>\n",
       "      <td>24.628640</td>\n",
       "      <td>46.971280</td>\n",
       "      <td>55.803700</td>\n",
       "      <td>20.258580</td>\n",
       "      <td>33.948420</td>\n",
       "      <td>6.267592</td>\n",
       "      <td>13.250990</td>\n",
       "      <td>2.002159</td>\n",
       "      <td>3.455056</td>\n",
       "      <td>-1.840533</td>\n",
       "      <td>-13.689840</td>\n",
       "      <td>14.223060</td>\n",
       "      <td>14.856430</td>\n",
       "      <td>0.654377</td>\n",
       "      <td>12</td>\n",
       "      <td>4</td>\n",
       "      <td>2.328767</td>\n",
       "      <td>98.424420</td>\n",
       "      <td>1.666269</td>\n",
       "      <td>5.285059</td>\n",
       "      <td>9.113276</td>\n",
       "      <td>1.533457</td>\n",
       "      <td>6.230410</td>\n",
       "      <td>2.477048</td>\n",
       "      <td>0.208093</td>\n",
       "      <td>165</td>\n",
       "      <td>142.681100</td>\n",
       "      <td>614.559200</td>\n",
       "      <td>-7.413940</td>\n",
       "      <td>/kaggle/input/isic-2024-challenge/train-image/...</td>\n",
       "    </tr>\n",
       "    <tr>\n",
       "      <th>2</th>\n",
       "      <td>0</td>\n",
       "      <td>65.0</td>\n",
       "      <td>1</td>\n",
       "      <td>0</td>\n",
       "      <td>2.78</td>\n",
       "      <td>25.445058</td>\n",
       "      <td>21.695291</td>\n",
       "      <td>30.435845</td>\n",
       "      <td>27.975466</td>\n",
       "      <td>39.671043</td>\n",
       "      <td>35.402152</td>\n",
       "      <td>50.103610</td>\n",
       "      <td>52.206016</td>\n",
       "      <td>35.701040</td>\n",
       "      <td>40.852079</td>\n",
       "      <td>2.964909</td>\n",
       "      <td>21.321714</td>\n",
       "      <td>0.091567</td>\n",
       "      <td>3.749767</td>\n",
       "      <td>2.460379</td>\n",
       "      <td>-5.151039</td>\n",
       "      <td>5.864022</td>\n",
       "      <td>5.242296</td>\n",
       "      <td>0.887620</td>\n",
       "      <td>18</td>\n",
       "      <td>6</td>\n",
       "      <td>1.456421</td>\n",
       "      <td>0.000403</td>\n",
       "      <td>4.588670</td>\n",
       "      <td>0.202686</td>\n",
       "      <td>7.950908</td>\n",
       "      <td>0.044595</td>\n",
       "      <td>1.005375</td>\n",
       "      <td>2.017189</td>\n",
       "      <td>0.404040</td>\n",
       "      <td>110</td>\n",
       "      <td>-22.539593</td>\n",
       "      <td>1350.984863</td>\n",
       "      <td>-38.696411</td>\n",
       "      <td>/kaggle/input/isic-2024-challenge/train-image/...</td>\n",
       "    </tr>\n",
       "    <tr>\n",
       "      <th>3</th>\n",
       "      <td>0</td>\n",
       "      <td>30.0</td>\n",
       "      <td>1</td>\n",
       "      <td>4</td>\n",
       "      <td>2.66</td>\n",
       "      <td>22.156392</td>\n",
       "      <td>18.991310</td>\n",
       "      <td>38.214378</td>\n",
       "      <td>33.739333</td>\n",
       "      <td>44.172892</td>\n",
       "      <td>38.717082</td>\n",
       "      <td>59.895184</td>\n",
       "      <td>60.625562</td>\n",
       "      <td>54.987482</td>\n",
       "      <td>60.350980</td>\n",
       "      <td>3.039970</td>\n",
       "      <td>19.964219</td>\n",
       "      <td>0.287787</td>\n",
       "      <td>3.165082</td>\n",
       "      <td>4.475045</td>\n",
       "      <td>-5.363498</td>\n",
       "      <td>7.058075</td>\n",
       "      <td>4.985807</td>\n",
       "      <td>0.839318</td>\n",
       "      <td>3</td>\n",
       "      <td>1</td>\n",
       "      <td>1.585048</td>\n",
       "      <td>0.000426</td>\n",
       "      <td>4.246918</td>\n",
       "      <td>0.812312</td>\n",
       "      <td>7.790419</td>\n",
       "      <td>0.254869</td>\n",
       "      <td>0.838690</td>\n",
       "      <td>1.873863</td>\n",
       "      <td>0.391304</td>\n",
       "      <td>20</td>\n",
       "      <td>-387.454468</td>\n",
       "      <td>1380.942871</td>\n",
       "      <td>142.082703</td>\n",
       "      <td>/kaggle/input/isic-2024-challenge/train-image/...</td>\n",
       "    </tr>\n",
       "    <tr>\n",
       "      <th>4</th>\n",
       "      <td>1</td>\n",
       "      <td>55.0</td>\n",
       "      <td>1</td>\n",
       "      <td>4</td>\n",
       "      <td>2.11</td>\n",
       "      <td>31.787660</td>\n",
       "      <td>25.694930</td>\n",
       "      <td>33.371060</td>\n",
       "      <td>34.688920</td>\n",
       "      <td>46.087770</td>\n",
       "      <td>43.168860</td>\n",
       "      <td>46.392050</td>\n",
       "      <td>53.471750</td>\n",
       "      <td>35.406070</td>\n",
       "      <td>45.280460</td>\n",
       "      <td>2.758491</td>\n",
       "      <td>13.757490</td>\n",
       "      <td>0.562755</td>\n",
       "      <td>6.092734</td>\n",
       "      <td>-1.317865</td>\n",
       "      <td>-9.874387</td>\n",
       "      <td>10.160410</td>\n",
       "      <td>8.401830</td>\n",
       "      <td>0.668058</td>\n",
       "      <td>9</td>\n",
       "      <td>3</td>\n",
       "      <td>1.580169</td>\n",
       "      <td>76.485220</td>\n",
       "      <td>1.823582</td>\n",
       "      <td>1.517963</td>\n",
       "      <td>6.160351</td>\n",
       "      <td>0.452263</td>\n",
       "      <td>3.570706</td>\n",
       "      <td>2.064051</td>\n",
       "      <td>0.216867</td>\n",
       "      <td>45</td>\n",
       "      <td>313.384500</td>\n",
       "      <td>1511.212000</td>\n",
       "      <td>121.424400</td>\n",
       "      <td>/kaggle/input/isic-2024-challenge/train-image/...</td>\n",
       "    </tr>\n",
       "  </tbody>\n",
       "</table>\n",
       "</div>"
      ],
      "text/plain": [
       "   target  age_approx  sex  anatom_site_general  clin_size_long_diam_mm  \\\n",
       "0       0        60.0    1                    0                    4.55   \n",
       "1       0        60.0    1                    2                    3.20   \n",
       "2       0        65.0    1                    0                    2.78   \n",
       "3       0        30.0    1                    4                    2.66   \n",
       "4       1        55.0    1                    4                    2.11   \n",
       "\n",
       "    tbp_lv_A  tbp_lv_Aext   tbp_lv_B  tbp_lv_Bext   tbp_lv_C  tbp_lv_Cext  \\\n",
       "0  17.039293    14.283063  18.287003    17.740718  24.995039    22.775842   \n",
       "1  17.297090    13.842030  18.530230    20.370760  25.348740    24.628640   \n",
       "2  25.445058    21.695291  30.435845    27.975466  39.671043    35.402152   \n",
       "3  22.156392    18.991310  38.214378    33.739333  44.172892    38.717082   \n",
       "4  31.787660    25.694930  33.371060    34.688920  46.087770    43.168860   \n",
       "\n",
       "    tbp_lv_H  tbp_lv_Hext   tbp_lv_L  tbp_lv_Lext  tbp_lv_areaMM2  \\\n",
       "0  47.022823    51.162436  37.128520    44.167462        9.645337   \n",
       "1  46.971280    55.803700  20.258580    33.948420        6.267592   \n",
       "2  50.103610    52.206016  35.701040    40.852079        2.964909   \n",
       "3  59.895184    60.625562  54.987482    60.350980        3.039970   \n",
       "4  46.392050    53.471750  35.406070    45.280460        2.758491   \n",
       "\n",
       "   tbp_lv_area_perim_ratio  tbp_lv_color_std_mean  tbp_lv_deltaA  \\\n",
       "0                18.809305               1.080698       2.756229   \n",
       "1                13.250990               2.002159       3.455056   \n",
       "2                21.321714               0.091567       3.749767   \n",
       "3                19.964219               0.287787       3.165082   \n",
       "4                13.757490               0.562755       6.092734   \n",
       "\n",
       "   tbp_lv_deltaB  tbp_lv_deltaL  tbp_lv_deltaLB  tbp_lv_deltaLBnorm  \\\n",
       "0       0.546285      -7.038942        7.267905            6.387014   \n",
       "1      -1.840533     -13.689840       14.223060           14.856430   \n",
       "2       2.460379      -5.151039        5.864022            5.242296   \n",
       "3       4.475045      -5.363498        7.058075            4.985807   \n",
       "4      -1.317865      -9.874387       10.160410            8.401830   \n",
       "\n",
       "   tbp_lv_eccentricity  tbp_lv_location  tbp_lv_location_simple  \\\n",
       "0             0.757816               17                       6   \n",
       "1             0.654377               12                       4   \n",
       "2             0.887620               18                       6   \n",
       "3             0.839318                3                       1   \n",
       "4             0.668058                9                       3   \n",
       "\n",
       "   tbp_lv_minorAxisMM  tbp_lv_nevi_confidence  tbp_lv_norm_border  \\\n",
       "0            3.075640                2.015081            3.100971   \n",
       "1            2.328767               98.424420            1.666269   \n",
       "2            1.456421                0.000403            4.588670   \n",
       "3            1.585048                0.000426            4.246918   \n",
       "4            1.580169               76.485220            1.823582   \n",
       "\n",
       "   tbp_lv_norm_color  tbp_lv_perimeterMM  tbp_lv_radial_color_std_max  \\\n",
       "0           3.050096           13.469302                     0.956887   \n",
       "1           5.285059            9.113276                     1.533457   \n",
       "2           0.202686            7.950908                     0.044595   \n",
       "3           0.812312            7.790419                     0.254869   \n",
       "4           1.517963            6.160351                     0.452263   \n",
       "\n",
       "   tbp_lv_stdL  tbp_lv_stdLExt  tbp_lv_symm_2axis  tbp_lv_symm_2axis_angle  \\\n",
       "0     1.629658        1.837165           0.265018                        0   \n",
       "1     6.230410        2.477048           0.208093                      165   \n",
       "2     1.005375        2.017189           0.404040                      110   \n",
       "3     0.838690        1.873863           0.391304                       20   \n",
       "4     3.570706        2.064051           0.216867                       45   \n",
       "\n",
       "     tbp_lv_x     tbp_lv_y    tbp_lv_z  \\\n",
       "0  -91.055115  1032.430298 -116.544983   \n",
       "1  142.681100   614.559200   -7.413940   \n",
       "2  -22.539593  1350.984863  -38.696411   \n",
       "3 -387.454468  1380.942871  142.082703   \n",
       "4  313.384500  1511.212000  121.424400   \n",
       "\n",
       "                                           file_path  \n",
       "0  /kaggle/input/isic-2024-challenge/train-image/...  \n",
       "1  /kaggle/input/isic-2024-challenge/train-image/...  \n",
       "2  /kaggle/input/isic-2024-challenge/train-image/...  \n",
       "3  /kaggle/input/isic-2024-challenge/train-image/...  \n",
       "4  /kaggle/input/isic-2024-challenge/train-image/...  "
      ]
     },
     "execution_count": 48,
     "metadata": {},
     "output_type": "execute_result"
    }
   ],
   "source": [
    "df_concat.head()"
   ]
  },
  {
   "cell_type": "code",
   "execution_count": 49,
   "id": "6ffbaa27",
   "metadata": {
    "execution": {
     "iopub.execute_input": "2024-08-07T18:09:52.878770Z",
     "iopub.status.busy": "2024-08-07T18:09:52.877873Z",
     "iopub.status.idle": "2024-08-07T18:09:52.884877Z",
     "shell.execute_reply": "2024-08-07T18:09:52.883759Z"
    },
    "papermill": {
     "duration": 0.036524,
     "end_time": "2024-08-07T18:09:52.887083",
     "exception": false,
     "start_time": "2024-08-07T18:09:52.850559",
     "status": "completed"
    },
    "tags": []
   },
   "outputs": [
    {
     "data": {
      "text/plain": [
       "Index(['target', 'age_approx', 'sex', 'anatom_site_general',\n",
       "       'clin_size_long_diam_mm', 'tbp_lv_A', 'tbp_lv_Aext', 'tbp_lv_B',\n",
       "       'tbp_lv_Bext', 'tbp_lv_C', 'tbp_lv_Cext', 'tbp_lv_H', 'tbp_lv_Hext',\n",
       "       'tbp_lv_L', 'tbp_lv_Lext', 'tbp_lv_areaMM2', 'tbp_lv_area_perim_ratio',\n",
       "       'tbp_lv_color_std_mean', 'tbp_lv_deltaA', 'tbp_lv_deltaB',\n",
       "       'tbp_lv_deltaL', 'tbp_lv_deltaLB', 'tbp_lv_deltaLBnorm',\n",
       "       'tbp_lv_eccentricity', 'tbp_lv_location', 'tbp_lv_location_simple',\n",
       "       'tbp_lv_minorAxisMM', 'tbp_lv_nevi_confidence', 'tbp_lv_norm_border',\n",
       "       'tbp_lv_norm_color', 'tbp_lv_perimeterMM',\n",
       "       'tbp_lv_radial_color_std_max', 'tbp_lv_stdL', 'tbp_lv_stdLExt',\n",
       "       'tbp_lv_symm_2axis', 'tbp_lv_symm_2axis_angle', 'tbp_lv_x', 'tbp_lv_y',\n",
       "       'tbp_lv_z', 'file_path'],\n",
       "      dtype='object')"
      ]
     },
     "execution_count": 49,
     "metadata": {},
     "output_type": "execute_result"
    }
   ],
   "source": [
    "df_concat.columns"
   ]
  },
  {
   "cell_type": "code",
   "execution_count": 50,
   "id": "baf82b7c",
   "metadata": {
    "execution": {
     "iopub.execute_input": "2024-08-07T18:09:52.939983Z",
     "iopub.status.busy": "2024-08-07T18:09:52.939579Z",
     "iopub.status.idle": "2024-08-07T18:09:52.946314Z",
     "shell.execute_reply": "2024-08-07T18:09:52.945340Z"
    },
    "papermill": {
     "duration": 0.035667,
     "end_time": "2024-08-07T18:09:52.948481",
     "exception": false,
     "start_time": "2024-08-07T18:09:52.912814",
     "status": "completed"
    },
    "tags": []
   },
   "outputs": [],
   "source": [
    "columns = ['age_approx', 'sex', 'anatom_site_general',\n",
    "       'clin_size_long_diam_mm', 'tbp_lv_A', 'tbp_lv_Aext', 'tbp_lv_B',\n",
    "       'tbp_lv_Bext', 'tbp_lv_C', 'tbp_lv_Cext', 'tbp_lv_H', 'tbp_lv_Hext',\n",
    "       'tbp_lv_L', 'tbp_lv_Lext', 'tbp_lv_areaMM2', 'tbp_lv_area_perim_ratio',\n",
    "       'tbp_lv_color_std_mean', 'tbp_lv_deltaA', 'tbp_lv_deltaB',\n",
    "       'tbp_lv_deltaL', 'tbp_lv_deltaLB', 'tbp_lv_deltaLBnorm',\n",
    "       'tbp_lv_eccentricity', 'tbp_lv_location', 'tbp_lv_location_simple',\n",
    "       'tbp_lv_minorAxisMM', 'tbp_lv_nevi_confidence', 'tbp_lv_norm_border',\n",
    "       'tbp_lv_norm_color', 'tbp_lv_perimeterMM',\n",
    "       'tbp_lv_radial_color_std_max', 'tbp_lv_stdL', 'tbp_lv_stdLExt',\n",
    "       'tbp_lv_symm_2axis', 'tbp_lv_symm_2axis_angle', 'tbp_lv_x', 'tbp_lv_y',\n",
    "       'tbp_lv_z']"
   ]
  },
  {
   "cell_type": "code",
   "execution_count": 51,
   "id": "d0103cc1",
   "metadata": {
    "execution": {
     "iopub.execute_input": "2024-08-07T18:09:53.001868Z",
     "iopub.status.busy": "2024-08-07T18:09:53.001459Z",
     "iopub.status.idle": "2024-08-07T18:09:53.127631Z",
     "shell.execute_reply": "2024-08-07T18:09:53.126687Z"
    },
    "papermill": {
     "duration": 0.156049,
     "end_time": "2024-08-07T18:09:53.130100",
     "exception": false,
     "start_time": "2024-08-07T18:09:52.974051",
     "status": "completed"
    },
    "tags": []
   },
   "outputs": [],
   "source": [
    "df_concat = scale_columns(df_concat,columns)"
   ]
  },
  {
   "cell_type": "code",
   "execution_count": 52,
   "id": "8d9e5523",
   "metadata": {
    "execution": {
     "iopub.execute_input": "2024-08-07T18:09:53.187548Z",
     "iopub.status.busy": "2024-08-07T18:09:53.186647Z",
     "iopub.status.idle": "2024-08-07T18:09:53.224842Z",
     "shell.execute_reply": "2024-08-07T18:09:53.223821Z"
    },
    "papermill": {
     "duration": 0.06966,
     "end_time": "2024-08-07T18:09:53.226968",
     "exception": false,
     "start_time": "2024-08-07T18:09:53.157308",
     "status": "completed"
    },
    "tags": []
   },
   "outputs": [
    {
     "data": {
      "text/html": [
       "<div>\n",
       "<style scoped>\n",
       "    .dataframe tbody tr th:only-of-type {\n",
       "        vertical-align: middle;\n",
       "    }\n",
       "\n",
       "    .dataframe tbody tr th {\n",
       "        vertical-align: top;\n",
       "    }\n",
       "\n",
       "    .dataframe thead th {\n",
       "        text-align: right;\n",
       "    }\n",
       "</style>\n",
       "<table border=\"1\" class=\"dataframe\">\n",
       "  <thead>\n",
       "    <tr style=\"text-align: right;\">\n",
       "      <th></th>\n",
       "      <th>target</th>\n",
       "      <th>age_approx</th>\n",
       "      <th>sex</th>\n",
       "      <th>anatom_site_general</th>\n",
       "      <th>clin_size_long_diam_mm</th>\n",
       "      <th>tbp_lv_A</th>\n",
       "      <th>tbp_lv_Aext</th>\n",
       "      <th>tbp_lv_B</th>\n",
       "      <th>tbp_lv_Bext</th>\n",
       "      <th>tbp_lv_C</th>\n",
       "      <th>tbp_lv_Cext</th>\n",
       "      <th>tbp_lv_H</th>\n",
       "      <th>tbp_lv_Hext</th>\n",
       "      <th>tbp_lv_L</th>\n",
       "      <th>tbp_lv_Lext</th>\n",
       "      <th>tbp_lv_areaMM2</th>\n",
       "      <th>tbp_lv_area_perim_ratio</th>\n",
       "      <th>tbp_lv_color_std_mean</th>\n",
       "      <th>tbp_lv_deltaA</th>\n",
       "      <th>tbp_lv_deltaB</th>\n",
       "      <th>tbp_lv_deltaL</th>\n",
       "      <th>tbp_lv_deltaLB</th>\n",
       "      <th>tbp_lv_deltaLBnorm</th>\n",
       "      <th>tbp_lv_eccentricity</th>\n",
       "      <th>tbp_lv_location</th>\n",
       "      <th>tbp_lv_location_simple</th>\n",
       "      <th>tbp_lv_minorAxisMM</th>\n",
       "      <th>tbp_lv_nevi_confidence</th>\n",
       "      <th>tbp_lv_norm_border</th>\n",
       "      <th>tbp_lv_norm_color</th>\n",
       "      <th>tbp_lv_perimeterMM</th>\n",
       "      <th>tbp_lv_radial_color_std_max</th>\n",
       "      <th>tbp_lv_stdL</th>\n",
       "      <th>tbp_lv_stdLExt</th>\n",
       "      <th>tbp_lv_symm_2axis</th>\n",
       "      <th>tbp_lv_symm_2axis_angle</th>\n",
       "      <th>tbp_lv_x</th>\n",
       "      <th>tbp_lv_y</th>\n",
       "      <th>tbp_lv_z</th>\n",
       "      <th>file_path</th>\n",
       "    </tr>\n",
       "  </thead>\n",
       "  <tbody>\n",
       "    <tr>\n",
       "      <th>0</th>\n",
       "      <td>0</td>\n",
       "      <td>0.148115</td>\n",
       "      <td>0.557359</td>\n",
       "      <td>-1.584460</td>\n",
       "      <td>0.281186</td>\n",
       "      <td>-0.719557</td>\n",
       "      <td>-0.193560</td>\n",
       "      <td>-1.825143</td>\n",
       "      <td>-1.998549</td>\n",
       "      <td>-1.666486</td>\n",
       "      <td>-1.659158</td>\n",
       "      <td>-1.273984</td>\n",
       "      <td>-1.628760</td>\n",
       "      <td>-0.468864</td>\n",
       "      <td>-0.585625</td>\n",
       "      <td>0.042815</td>\n",
       "      <td>-0.056022</td>\n",
       "      <td>-0.026933</td>\n",
       "      <td>-0.871538</td>\n",
       "      <td>-0.318074</td>\n",
       "      <td>0.547263</td>\n",
       "      <td>-0.634359</td>\n",
       "      <td>-0.475747</td>\n",
       "      <td>0.121507</td>\n",
       "      <td>0.995758</td>\n",
       "      <td>1.100169</td>\n",
       "      <td>0.365204</td>\n",
       "      <td>-0.875425</td>\n",
       "      <td>-0.208529</td>\n",
       "      <td>-0.053840</td>\n",
       "      <td>0.196558</td>\n",
       "      <td>-0.111844</td>\n",
       "      <td>-0.629245</td>\n",
       "      <td>-0.629681</td>\n",
       "      <td>-0.337447</td>\n",
       "      <td>-1.643822</td>\n",
       "      <td>-0.422911</td>\n",
       "      <td>-0.014564</td>\n",
       "      <td>-1.946918</td>\n",
       "      <td>/kaggle/input/isic-2024-challenge/train-image/...</td>\n",
       "    </tr>\n",
       "    <tr>\n",
       "      <th>1</th>\n",
       "      <td>0</td>\n",
       "      <td>0.148115</td>\n",
       "      <td>0.557359</td>\n",
       "      <td>-0.154469</td>\n",
       "      <td>-0.418759</td>\n",
       "      <td>-0.657341</td>\n",
       "      <td>-0.313735</td>\n",
       "      <td>-1.779863</td>\n",
       "      <td>-1.419253</td>\n",
       "      <td>-1.605582</td>\n",
       "      <td>-1.280150</td>\n",
       "      <td>-1.282878</td>\n",
       "      <td>-0.843999</td>\n",
       "      <td>-2.015858</td>\n",
       "      <td>-1.434365</td>\n",
       "      <td>-0.254650</td>\n",
       "      <td>-1.086258</td>\n",
       "      <td>1.093430</td>\n",
       "      <td>-0.603368</td>\n",
       "      <td>-1.357617</td>\n",
       "      <td>-1.330737</td>\n",
       "      <td>1.320934</td>\n",
       "      <td>2.846799</td>\n",
       "      <td>-0.606196</td>\n",
       "      <td>0.084794</td>\n",
       "      <td>0.004514</td>\n",
       "      <td>-0.207093</td>\n",
       "      <td>1.445756</td>\n",
       "      <td>-1.040879</td>\n",
       "      <td>0.985581</td>\n",
       "      <td>-0.461528</td>\n",
       "      <td>0.622578</td>\n",
       "      <td>1.939138</td>\n",
       "      <td>0.324147</td>\n",
       "      <td>-0.791434</td>\n",
       "      <td>1.482484</td>\n",
       "      <td>0.775065</td>\n",
       "      <td>-1.007958</td>\n",
       "      <td>-0.714289</td>\n",
       "      <td>/kaggle/input/isic-2024-challenge/train-image/...</td>\n",
       "    </tr>\n",
       "    <tr>\n",
       "      <th>2</th>\n",
       "      <td>0</td>\n",
       "      <td>0.515668</td>\n",
       "      <td>0.557359</td>\n",
       "      <td>-1.584460</td>\n",
       "      <td>-0.636520</td>\n",
       "      <td>1.309095</td>\n",
       "      <td>1.826162</td>\n",
       "      <td>0.436557</td>\n",
       "      <td>0.255767</td>\n",
       "      <td>0.860606</td>\n",
       "      <td>0.923673</td>\n",
       "      <td>-0.742394</td>\n",
       "      <td>-1.452308</td>\n",
       "      <td>-0.599766</td>\n",
       "      <td>-0.860983</td>\n",
       "      <td>-0.545505</td>\n",
       "      <td>0.409654</td>\n",
       "      <td>-1.229574</td>\n",
       "      <td>-0.490275</td>\n",
       "      <td>0.515581</td>\n",
       "      <td>1.080346</td>\n",
       "      <td>-1.029031</td>\n",
       "      <td>-0.924819</td>\n",
       "      <td>1.034700</td>\n",
       "      <td>1.177951</td>\n",
       "      <td>1.100169</td>\n",
       "      <td>-0.875534</td>\n",
       "      <td>-0.923931</td>\n",
       "      <td>0.654567</td>\n",
       "      <td>-1.378093</td>\n",
       "      <td>-0.637133</td>\n",
       "      <td>-1.273900</td>\n",
       "      <td>-0.977753</td>\n",
       "      <td>-0.361332</td>\n",
       "      <td>0.771282</td>\n",
       "      <td>0.440382</td>\n",
       "      <td>-0.071746</td>\n",
       "      <td>0.742728</td>\n",
       "      <td>-1.067623</td>\n",
       "      <td>/kaggle/input/isic-2024-challenge/train-image/...</td>\n",
       "    </tr>\n",
       "    <tr>\n",
       "      <th>3</th>\n",
       "      <td>0</td>\n",
       "      <td>-2.057202</td>\n",
       "      <td>0.557359</td>\n",
       "      <td>1.275521</td>\n",
       "      <td>-0.698737</td>\n",
       "      <td>0.515406</td>\n",
       "      <td>1.089368</td>\n",
       "      <td>1.884655</td>\n",
       "      <td>1.525323</td>\n",
       "      <td>1.635788</td>\n",
       "      <td>1.601773</td>\n",
       "      <td>0.947141</td>\n",
       "      <td>-0.028702</td>\n",
       "      <td>1.168824</td>\n",
       "      <td>0.758493</td>\n",
       "      <td>-0.538895</td>\n",
       "      <td>0.158041</td>\n",
       "      <td>-0.990999</td>\n",
       "      <td>-0.714644</td>\n",
       "      <td>1.393039</td>\n",
       "      <td>1.020354</td>\n",
       "      <td>-0.693349</td>\n",
       "      <td>-1.025440</td>\n",
       "      <td>0.694889</td>\n",
       "      <td>-1.554942</td>\n",
       "      <td>-1.638969</td>\n",
       "      <td>-0.776972</td>\n",
       "      <td>-0.923930</td>\n",
       "      <td>0.456298</td>\n",
       "      <td>-1.094573</td>\n",
       "      <td>-0.661379</td>\n",
       "      <td>-1.006059</td>\n",
       "      <td>-1.070806</td>\n",
       "      <td>-0.574978</td>\n",
       "      <td>0.669710</td>\n",
       "      <td>-1.264876</td>\n",
       "      <td>-1.942057</td>\n",
       "      <td>0.813946</td>\n",
       "      <td>0.974267</td>\n",
       "      <td>/kaggle/input/isic-2024-challenge/train-image/...</td>\n",
       "    </tr>\n",
       "    <tr>\n",
       "      <th>4</th>\n",
       "      <td>1</td>\n",
       "      <td>-0.219438</td>\n",
       "      <td>0.557359</td>\n",
       "      <td>1.275521</td>\n",
       "      <td>-0.983900</td>\n",
       "      <td>2.839823</td>\n",
       "      <td>2.916004</td>\n",
       "      <td>0.982994</td>\n",
       "      <td>1.734480</td>\n",
       "      <td>1.965515</td>\n",
       "      <td>2.512426</td>\n",
       "      <td>-1.382824</td>\n",
       "      <td>-1.238293</td>\n",
       "      <td>-0.626815</td>\n",
       "      <td>-0.493185</td>\n",
       "      <td>-0.563683</td>\n",
       "      <td>-0.992378</td>\n",
       "      <td>-0.656677</td>\n",
       "      <td>0.408821</td>\n",
       "      <td>-1.129977</td>\n",
       "      <td>-0.253376</td>\n",
       "      <td>0.178807</td>\n",
       "      <td>0.314664</td>\n",
       "      <td>-0.509952</td>\n",
       "      <td>-0.461785</td>\n",
       "      <td>-0.543314</td>\n",
       "      <td>-0.780711</td>\n",
       "      <td>0.917541</td>\n",
       "      <td>-0.949613</td>\n",
       "      <td>-0.766394</td>\n",
       "      <td>-0.907641</td>\n",
       "      <td>-0.754622</td>\n",
       "      <td>0.454351</td>\n",
       "      <td>-0.291478</td>\n",
       "      <td>-0.721452</td>\n",
       "      <td>-0.791193</td>\n",
       "      <td>1.649977</td>\n",
       "      <td>1.123631</td>\n",
       "      <td>0.740933</td>\n",
       "      <td>/kaggle/input/isic-2024-challenge/train-image/...</td>\n",
       "    </tr>\n",
       "  </tbody>\n",
       "</table>\n",
       "</div>"
      ],
      "text/plain": [
       "   target  age_approx       sex  anatom_site_general  clin_size_long_diam_mm  \\\n",
       "0       0    0.148115  0.557359            -1.584460                0.281186   \n",
       "1       0    0.148115  0.557359            -0.154469               -0.418759   \n",
       "2       0    0.515668  0.557359            -1.584460               -0.636520   \n",
       "3       0   -2.057202  0.557359             1.275521               -0.698737   \n",
       "4       1   -0.219438  0.557359             1.275521               -0.983900   \n",
       "\n",
       "   tbp_lv_A  tbp_lv_Aext  tbp_lv_B  tbp_lv_Bext  tbp_lv_C  tbp_lv_Cext  \\\n",
       "0 -0.719557    -0.193560 -1.825143    -1.998549 -1.666486    -1.659158   \n",
       "1 -0.657341    -0.313735 -1.779863    -1.419253 -1.605582    -1.280150   \n",
       "2  1.309095     1.826162  0.436557     0.255767  0.860606     0.923673   \n",
       "3  0.515406     1.089368  1.884655     1.525323  1.635788     1.601773   \n",
       "4  2.839823     2.916004  0.982994     1.734480  1.965515     2.512426   \n",
       "\n",
       "   tbp_lv_H  tbp_lv_Hext  tbp_lv_L  tbp_lv_Lext  tbp_lv_areaMM2  \\\n",
       "0 -1.273984    -1.628760 -0.468864    -0.585625        0.042815   \n",
       "1 -1.282878    -0.843999 -2.015858    -1.434365       -0.254650   \n",
       "2 -0.742394    -1.452308 -0.599766    -0.860983       -0.545505   \n",
       "3  0.947141    -0.028702  1.168824     0.758493       -0.538895   \n",
       "4 -1.382824    -1.238293 -0.626815    -0.493185       -0.563683   \n",
       "\n",
       "   tbp_lv_area_perim_ratio  tbp_lv_color_std_mean  tbp_lv_deltaA  \\\n",
       "0                -0.056022              -0.026933      -0.871538   \n",
       "1                -1.086258               1.093430      -0.603368   \n",
       "2                 0.409654              -1.229574      -0.490275   \n",
       "3                 0.158041              -0.990999      -0.714644   \n",
       "4                -0.992378              -0.656677       0.408821   \n",
       "\n",
       "   tbp_lv_deltaB  tbp_lv_deltaL  tbp_lv_deltaLB  tbp_lv_deltaLBnorm  \\\n",
       "0      -0.318074       0.547263       -0.634359           -0.475747   \n",
       "1      -1.357617      -1.330737        1.320934            2.846799   \n",
       "2       0.515581       1.080346       -1.029031           -0.924819   \n",
       "3       1.393039       1.020354       -0.693349           -1.025440   \n",
       "4      -1.129977      -0.253376        0.178807            0.314664   \n",
       "\n",
       "   tbp_lv_eccentricity  tbp_lv_location  tbp_lv_location_simple  \\\n",
       "0             0.121507         0.995758                1.100169   \n",
       "1            -0.606196         0.084794                0.004514   \n",
       "2             1.034700         1.177951                1.100169   \n",
       "3             0.694889        -1.554942               -1.638969   \n",
       "4            -0.509952        -0.461785               -0.543314   \n",
       "\n",
       "   tbp_lv_minorAxisMM  tbp_lv_nevi_confidence  tbp_lv_norm_border  \\\n",
       "0            0.365204               -0.875425           -0.208529   \n",
       "1           -0.207093                1.445756           -1.040879   \n",
       "2           -0.875534               -0.923931            0.654567   \n",
       "3           -0.776972               -0.923930            0.456298   \n",
       "4           -0.780711                0.917541           -0.949613   \n",
       "\n",
       "   tbp_lv_norm_color  tbp_lv_perimeterMM  tbp_lv_radial_color_std_max  \\\n",
       "0          -0.053840            0.196558                    -0.111844   \n",
       "1           0.985581           -0.461528                     0.622578   \n",
       "2          -1.378093           -0.637133                    -1.273900   \n",
       "3          -1.094573           -0.661379                    -1.006059   \n",
       "4          -0.766394           -0.907641                    -0.754622   \n",
       "\n",
       "   tbp_lv_stdL  tbp_lv_stdLExt  tbp_lv_symm_2axis  tbp_lv_symm_2axis_angle  \\\n",
       "0    -0.629245       -0.629681          -0.337447                -1.643822   \n",
       "1     1.939138        0.324147          -0.791434                 1.482484   \n",
       "2    -0.977753       -0.361332           0.771282                 0.440382   \n",
       "3    -1.070806       -0.574978           0.669710                -1.264876   \n",
       "4     0.454351       -0.291478          -0.721452                -0.791193   \n",
       "\n",
       "   tbp_lv_x  tbp_lv_y  tbp_lv_z  \\\n",
       "0 -0.422911 -0.014564 -1.946918   \n",
       "1  0.775065 -1.007958 -0.714289   \n",
       "2 -0.071746  0.742728 -1.067623   \n",
       "3 -1.942057  0.813946  0.974267   \n",
       "4  1.649977  1.123631  0.740933   \n",
       "\n",
       "                                           file_path  \n",
       "0  /kaggle/input/isic-2024-challenge/train-image/...  \n",
       "1  /kaggle/input/isic-2024-challenge/train-image/...  \n",
       "2  /kaggle/input/isic-2024-challenge/train-image/...  \n",
       "3  /kaggle/input/isic-2024-challenge/train-image/...  \n",
       "4  /kaggle/input/isic-2024-challenge/train-image/...  "
      ]
     },
     "execution_count": 52,
     "metadata": {},
     "output_type": "execute_result"
    }
   ],
   "source": [
    "df_concat.head()"
   ]
  },
  {
   "cell_type": "code",
   "execution_count": 53,
   "id": "537fa8ee",
   "metadata": {
    "execution": {
     "iopub.execute_input": "2024-08-07T18:09:53.282312Z",
     "iopub.status.busy": "2024-08-07T18:09:53.281411Z",
     "iopub.status.idle": "2024-08-07T18:09:53.286192Z",
     "shell.execute_reply": "2024-08-07T18:09:53.285135Z"
    },
    "papermill": {
     "duration": 0.034199,
     "end_time": "2024-08-07T18:09:53.288183",
     "exception": false,
     "start_time": "2024-08-07T18:09:53.253984",
     "status": "completed"
    },
    "tags": []
   },
   "outputs": [],
   "source": [
    "# train_df, test_df = train_test_split(df_concat, test_size=0.11, \n",
    "#                                      stratify=df_concat[\"target\"].values, random_state=42)\n",
    "# # 5% for validation\n",
    "# # train_df, val_df = train_test_split(train_df, test_size=0.11,stratify=train_df[\"target\"].values, random_state=42)\n",
    "\n",
    "# print(f\"Total training examples: {len(train_df)}\")\n",
    "# # print(f\"Total validation examples: {len(val_df)}\")\n",
    "# print(f\"Total test examples: {len(test_df)}\")"
   ]
  },
  {
   "cell_type": "code",
   "execution_count": 54,
   "id": "6ff0ef85",
   "metadata": {
    "execution": {
     "iopub.execute_input": "2024-08-07T18:09:53.344837Z",
     "iopub.status.busy": "2024-08-07T18:09:53.344422Z",
     "iopub.status.idle": "2024-08-07T18:09:53.349038Z",
     "shell.execute_reply": "2024-08-07T18:09:53.348082Z"
    },
    "papermill": {
     "duration": 0.035561,
     "end_time": "2024-08-07T18:09:53.351202",
     "exception": false,
     "start_time": "2024-08-07T18:09:53.315641",
     "status": "completed"
    },
    "tags": []
   },
   "outputs": [],
   "source": [
    "# labels = df['target']"
   ]
  },
  {
   "cell_type": "code",
   "execution_count": 55,
   "id": "ccc76787",
   "metadata": {
    "execution": {
     "iopub.execute_input": "2024-08-07T18:09:53.407700Z",
     "iopub.status.busy": "2024-08-07T18:09:53.407295Z",
     "iopub.status.idle": "2024-08-07T18:09:53.412183Z",
     "shell.execute_reply": "2024-08-07T18:09:53.411061Z"
    },
    "papermill": {
     "duration": 0.035889,
     "end_time": "2024-08-07T18:09:53.414617",
     "exception": false,
     "start_time": "2024-08-07T18:09:53.378728",
     "status": "completed"
    },
    "tags": []
   },
   "outputs": [],
   "source": [
    "# labels.shape"
   ]
  },
  {
   "cell_type": "markdown",
   "id": "764717ba",
   "metadata": {
    "papermill": {
     "duration": 0.026332,
     "end_time": "2024-08-07T18:09:53.469556",
     "exception": false,
     "start_time": "2024-08-07T18:09:53.443224",
     "status": "completed"
    },
    "tags": []
   },
   "source": [
    "https://github.com/sayakpaul/Multimodal-Entailment-Baseline/blob/main/multimodal_entailment.ipynb"
   ]
  },
  {
   "cell_type": "code",
   "execution_count": 56,
   "id": "e0b28b2f",
   "metadata": {
    "execution": {
     "iopub.execute_input": "2024-08-07T18:09:53.524881Z",
     "iopub.status.busy": "2024-08-07T18:09:53.524055Z",
     "iopub.status.idle": "2024-08-07T18:09:53.532436Z",
     "shell.execute_reply": "2024-08-07T18:09:53.531465Z"
    },
    "papermill": {
     "duration": 0.038,
     "end_time": "2024-08-07T18:09:53.534549",
     "exception": false,
     "start_time": "2024-08-07T18:09:53.496549",
     "status": "completed"
    },
    "tags": []
   },
   "outputs": [],
   "source": [
    "class ProjectEmbeddings(keras.layers.Layer):\n",
    "    def __init__(self, num_projection_layers, projection_dims, dropout_rate, **kwargs):\n",
    "        super(ProjectEmbeddings, self).__init__(**kwargs)\n",
    "        self.num_projection_layers = num_projection_layers\n",
    "        self.projection_dims = projection_dims\n",
    "        self.dropout_rate = dropout_rate\n",
    "        \n",
    "        # Initialize Dense and Dropout layers in __init__ or build\n",
    "        self.projection_layers = [layers.Dense(self.projection_dims) for _ in range(self.num_projection_layers)]\n",
    "        self.dropout_layers = [layers.Dropout(self.dropout_rate) for _ in range(self.num_projection_layers - 1)]\n",
    "\n",
    "    def call(self, embeddings):\n",
    "        x = embeddings\n",
    "        for i in range(self.num_projection_layers):\n",
    "            x = self.projection_layers[i](x)\n",
    "            if i < self.num_projection_layers - 1:\n",
    "                x = tf.nn.gelu(x)\n",
    "                x = self.dropout_layers[i](x)\n",
    "        return x"
   ]
  },
  {
   "cell_type": "code",
   "execution_count": 57,
   "id": "4345ab0b",
   "metadata": {
    "execution": {
     "iopub.execute_input": "2024-08-07T18:09:53.590022Z",
     "iopub.status.busy": "2024-08-07T18:09:53.589663Z",
     "iopub.status.idle": "2024-08-07T18:09:53.595766Z",
     "shell.execute_reply": "2024-08-07T18:09:53.594773Z"
    },
    "papermill": {
     "duration": 0.036285,
     "end_time": "2024-08-07T18:09:53.597707",
     "exception": false,
     "start_time": "2024-08-07T18:09:53.561422",
     "status": "completed"
    },
    "tags": []
   },
   "outputs": [
    {
     "data": {
      "text/plain": [
       "(8253, 40)"
      ]
     },
     "execution_count": 57,
     "metadata": {},
     "output_type": "execute_result"
    }
   ],
   "source": [
    "df_concat.shape"
   ]
  },
  {
   "cell_type": "markdown",
   "id": "8d003bac",
   "metadata": {
    "papermill": {
     "duration": 0.026405,
     "end_time": "2024-08-07T18:09:53.650655",
     "exception": false,
     "start_time": "2024-08-07T18:09:53.624250",
     "status": "completed"
    },
    "tags": []
   },
   "source": [
    "(7860, 56), negative shape: (11790, 56)"
   ]
  },
  {
   "cell_type": "code",
   "execution_count": 58,
   "id": "6c44a663",
   "metadata": {
    "execution": {
     "iopub.execute_input": "2024-08-07T18:09:53.704688Z",
     "iopub.status.busy": "2024-08-07T18:09:53.703853Z",
     "iopub.status.idle": "2024-08-07T18:09:53.707815Z",
     "shell.execute_reply": "2024-08-07T18:09:53.706928Z"
    },
    "papermill": {
     "duration": 0.033123,
     "end_time": "2024-08-07T18:09:53.709822",
     "exception": false,
     "start_time": "2024-08-07T18:09:53.676699",
     "status": "completed"
    },
    "tags": []
   },
   "outputs": [],
   "source": [
    "# vision_test_ds"
   ]
  },
  {
   "cell_type": "code",
   "execution_count": 59,
   "id": "2aefab3b",
   "metadata": {
    "execution": {
     "iopub.execute_input": "2024-08-07T18:09:53.764348Z",
     "iopub.status.busy": "2024-08-07T18:09:53.763419Z",
     "iopub.status.idle": "2024-08-07T18:09:53.767947Z",
     "shell.execute_reply": "2024-08-07T18:09:53.766953Z"
    },
    "papermill": {
     "duration": 0.033979,
     "end_time": "2024-08-07T18:09:53.770001",
     "exception": false,
     "start_time": "2024-08-07T18:09:53.736022",
     "status": "completed"
    },
    "tags": []
   },
   "outputs": [],
   "source": [
    "# # Create the dataset\n",
    "# vision_train_ds = create_dataset(train_df, IMAGE_SIZE, batch_size,training=True,return_type='images')\n",
    "# vision_test_ds = create_dataset(test_df, IMAGE_SIZE, batch_size,return_type='images')\n",
    "# # val_ds = create_dataset(val_df, image_size, batch_size)"
   ]
  },
  {
   "cell_type": "code",
   "execution_count": 60,
   "id": "6b1b112d",
   "metadata": {
    "execution": {
     "iopub.execute_input": "2024-08-07T18:09:53.825354Z",
     "iopub.status.busy": "2024-08-07T18:09:53.824483Z",
     "iopub.status.idle": "2024-08-07T18:09:53.828914Z",
     "shell.execute_reply": "2024-08-07T18:09:53.827932Z"
    },
    "papermill": {
     "duration": 0.034348,
     "end_time": "2024-08-07T18:09:53.831006",
     "exception": false,
     "start_time": "2024-08-07T18:09:53.796658",
     "status": "completed"
    },
    "tags": []
   },
   "outputs": [],
   "source": [
    "# vision_history = vision_model.fit(\n",
    "#     train_ds,\n",
    "#     validation_data=test_ds,\n",
    "#     epochs=20,\n",
    "#     class_weight=class_weight,\n",
    "#     callbacks=[partial_auc_callback]\n",
    "# )"
   ]
  },
  {
   "cell_type": "code",
   "execution_count": 61,
   "id": "9847b28f",
   "metadata": {
    "execution": {
     "iopub.execute_input": "2024-08-07T18:09:53.888388Z",
     "iopub.status.busy": "2024-08-07T18:09:53.887763Z",
     "iopub.status.idle": "2024-08-07T18:09:53.892003Z",
     "shell.execute_reply": "2024-08-07T18:09:53.891083Z"
    },
    "papermill": {
     "duration": 0.034414,
     "end_time": "2024-08-07T18:09:53.894130",
     "exception": false,
     "start_time": "2024-08-07T18:09:53.859716",
     "status": "completed"
    },
    "tags": []
   },
   "outputs": [],
   "source": [
    "# for (images, metadata), labels in train_ds.take(1):\n",
    "#     print(images.shape,metadata.shape,labels.shape)"
   ]
  },
  {
   "cell_type": "code",
   "execution_count": 62,
   "id": "5e066483",
   "metadata": {
    "execution": {
     "iopub.execute_input": "2024-08-07T18:09:53.952118Z",
     "iopub.status.busy": "2024-08-07T18:09:53.951438Z",
     "iopub.status.idle": "2024-08-07T18:09:53.955475Z",
     "shell.execute_reply": "2024-08-07T18:09:53.954565Z"
    },
    "papermill": {
     "duration": 0.035824,
     "end_time": "2024-08-07T18:09:53.957498",
     "exception": false,
     "start_time": "2024-08-07T18:09:53.921674",
     "status": "completed"
    },
    "tags": []
   },
   "outputs": [],
   "source": [
    "# !pip install -q focal-loss"
   ]
  },
  {
   "cell_type": "code",
   "execution_count": 63,
   "id": "09a50d07",
   "metadata": {
    "execution": {
     "iopub.execute_input": "2024-08-07T18:09:54.010700Z",
     "iopub.status.busy": "2024-08-07T18:09:54.010324Z",
     "iopub.status.idle": "2024-08-07T18:09:54.014403Z",
     "shell.execute_reply": "2024-08-07T18:09:54.013455Z"
    },
    "papermill": {
     "duration": 0.033154,
     "end_time": "2024-08-07T18:09:54.016467",
     "exception": false,
     "start_time": "2024-08-07T18:09:53.983313",
     "status": "completed"
    },
    "tags": []
   },
   "outputs": [],
   "source": [
    "# from focal_loss import BinaryFocalLoss"
   ]
  },
  {
   "cell_type": "code",
   "execution_count": 64,
   "id": "450c4fc2",
   "metadata": {
    "execution": {
     "iopub.execute_input": "2024-08-07T18:09:54.070239Z",
     "iopub.status.busy": "2024-08-07T18:09:54.069567Z",
     "iopub.status.idle": "2024-08-07T18:09:54.074122Z",
     "shell.execute_reply": "2024-08-07T18:09:54.073172Z"
    },
    "papermill": {
     "duration": 0.033431,
     "end_time": "2024-08-07T18:09:54.076066",
     "exception": false,
     "start_time": "2024-08-07T18:09:54.042635",
     "status": "completed"
    },
    "tags": []
   },
   "outputs": [],
   "source": [
    "# def create_table_encoder(\n",
    "#     num_projection_layers, projection_dims, dropout_rate, trainable=False\n",
    "# ):\n",
    "#     table_input = tf.keras.Input(shape=(38,))\n",
    "#     dense_1024 = tf.keras.layers.Dense(1024, activation='relu')(table_input)\n",
    "#     dense_512 = tf.keras.layers.Dense(512, activation='relu')(dense_1024)\n",
    "\n",
    "#     # Project the embeddings produced by the model.\n",
    "#     outputs = ProjectEmbeddings(num_projection_layers, projection_dims, dropout_rate)(dense_512)\n",
    "\n",
    "#     # Create the text encoder model.\n",
    "#     return keras.Model(table_input, outputs, name=\"table_encoder\")"
   ]
  },
  {
   "cell_type": "code",
   "execution_count": 65,
   "id": "57f3ca96",
   "metadata": {
    "execution": {
     "iopub.execute_input": "2024-08-07T18:09:54.129584Z",
     "iopub.status.busy": "2024-08-07T18:09:54.128881Z",
     "iopub.status.idle": "2024-08-07T18:09:54.132896Z",
     "shell.execute_reply": "2024-08-07T18:09:54.131991Z"
    },
    "papermill": {
     "duration": 0.033441,
     "end_time": "2024-08-07T18:09:54.135185",
     "exception": false,
     "start_time": "2024-08-07T18:09:54.101744",
     "status": "completed"
    },
    "tags": []
   },
   "outputs": [],
   "source": [
    "# table_encoder = create_table_encoder(num_projection_layers=1, projection_dims=256, dropout_rate=0.1)\n",
    "# # keras.utils.plot_model(table_encoder, show_shapes=True)"
   ]
  },
  {
   "cell_type": "code",
   "execution_count": 66,
   "id": "fdf8f02f",
   "metadata": {
    "execution": {
     "iopub.execute_input": "2024-08-07T18:09:54.190986Z",
     "iopub.status.busy": "2024-08-07T18:09:54.190605Z",
     "iopub.status.idle": "2024-08-07T18:09:54.195651Z",
     "shell.execute_reply": "2024-08-07T18:09:54.194739Z"
    },
    "papermill": {
     "duration": 0.036268,
     "end_time": "2024-08-07T18:09:54.197555",
     "exception": false,
     "start_time": "2024-08-07T18:09:54.161287",
     "status": "completed"
    },
    "tags": []
   },
   "outputs": [],
   "source": [
    "# def create_multimodal_model(num_projection_layers=1, projection_dims=256, dropout_rate=0.1, \n",
    "#                      vision_trainable=False, text_trainable=False):\n",
    "#     # Receive the images as inputs.\n",
    "#     image_1 = keras.Input(shape=(139, 139, 3), name=\"image_1\")\n",
    "#     table_input = tf.keras.Input(shape=(38,))\n",
    "\n",
    "    \n",
    "\n",
    "#     # Create the encoders.\n",
    "#     vision_encoder = create_vision_encoder(num_projection_layers, projection_dims, dropout_rate, vision_trainable)\n",
    "#     table_encoder = create_table_encoder(num_projection_layers, projection_dims, dropout_rate, text_trainable)\n",
    "\n",
    "#     # Fetch the embedding projections.\n",
    "#     vision_projections = vision_encoder(image_1)\n",
    "#     table_projections = table_encoder(table_input)\n",
    "\n",
    "#     # Concatenate the projections and pass through the classification layer.\n",
    "#     concatenated = keras.layers.Concatenate()([vision_projections, table_projections])\n",
    "#     outputs = keras.layers.Dense(1, activation=\"sigmoid\")(concatenated)\n",
    "#     return keras.Model([image_1, table_input], outputs)"
   ]
  },
  {
   "cell_type": "code",
   "execution_count": 67,
   "id": "cb50b0e9",
   "metadata": {
    "execution": {
     "iopub.execute_input": "2024-08-07T18:09:54.252108Z",
     "iopub.status.busy": "2024-08-07T18:09:54.251402Z",
     "iopub.status.idle": "2024-08-07T18:09:54.255914Z",
     "shell.execute_reply": "2024-08-07T18:09:54.254937Z"
    },
    "papermill": {
     "duration": 0.034023,
     "end_time": "2024-08-07T18:09:54.258094",
     "exception": false,
     "start_time": "2024-08-07T18:09:54.224071",
     "status": "completed"
    },
    "tags": []
   },
   "outputs": [],
   "source": [
    "# vision_model = create_vision_encoder(2, 256, 0.5,True)\n",
    "# keras.utils.plot_model(vision_model, show_shapes=True)"
   ]
  },
  {
   "cell_type": "code",
   "execution_count": 68,
   "id": "e4621cad",
   "metadata": {
    "execution": {
     "iopub.execute_input": "2024-08-07T18:09:54.312274Z",
     "iopub.status.busy": "2024-08-07T18:09:54.311407Z",
     "iopub.status.idle": "2024-08-07T18:09:54.315769Z",
     "shell.execute_reply": "2024-08-07T18:09:54.314865Z"
    },
    "papermill": {
     "duration": 0.033652,
     "end_time": "2024-08-07T18:09:54.317821",
     "exception": false,
     "start_time": "2024-08-07T18:09:54.284169",
     "status": "completed"
    },
    "tags": []
   },
   "outputs": [],
   "source": [
    "# vision_model.output"
   ]
  },
  {
   "cell_type": "code",
   "execution_count": 69,
   "id": "59ace47b",
   "metadata": {
    "execution": {
     "iopub.execute_input": "2024-08-07T18:09:54.372957Z",
     "iopub.status.busy": "2024-08-07T18:09:54.372059Z",
     "iopub.status.idle": "2024-08-07T18:09:54.376500Z",
     "shell.execute_reply": "2024-08-07T18:09:54.375557Z"
    },
    "papermill": {
     "duration": 0.033914,
     "end_time": "2024-08-07T18:09:54.378521",
     "exception": false,
     "start_time": "2024-08-07T18:09:54.344607",
     "status": "completed"
    },
    "tags": []
   },
   "outputs": [],
   "source": [
    "\n",
    "# multimodal_model = create_multimodal_model(vision_trainable=True, text_trainable=True)\n",
    "# keras.utils.plot_model(multimodal_model, show_shapes=True)"
   ]
  },
  {
   "cell_type": "code",
   "execution_count": 70,
   "id": "d0547b6c",
   "metadata": {
    "execution": {
     "iopub.execute_input": "2024-08-07T18:09:54.434466Z",
     "iopub.status.busy": "2024-08-07T18:09:54.434089Z",
     "iopub.status.idle": "2024-08-07T18:09:54.438468Z",
     "shell.execute_reply": "2024-08-07T18:09:54.437588Z"
    },
    "papermill": {
     "duration": 0.035082,
     "end_time": "2024-08-07T18:09:54.440578",
     "exception": false,
     "start_time": "2024-08-07T18:09:54.405496",
     "status": "completed"
    },
    "tags": []
   },
   "outputs": [],
   "source": [
    "# multimodal_model.compile(optimizer=\"adam\", loss=\"binary_crossentropy\", metrics=METRICS)\n"
   ]
  },
  {
   "cell_type": "code",
   "execution_count": 71,
   "id": "11a169e2",
   "metadata": {
    "execution": {
     "iopub.execute_input": "2024-08-07T18:09:54.496637Z",
     "iopub.status.busy": "2024-08-07T18:09:54.495904Z",
     "iopub.status.idle": "2024-08-07T18:09:54.500231Z",
     "shell.execute_reply": "2024-08-07T18:09:54.499307Z"
    },
    "papermill": {
     "duration": 0.035076,
     "end_time": "2024-08-07T18:09:54.502268",
     "exception": false,
     "start_time": "2024-08-07T18:09:54.467192",
     "status": "completed"
    },
    "tags": []
   },
   "outputs": [],
   "source": [
    "# history = multimodal_model.fit(\n",
    "#     train_ds,\n",
    "#     validation_data=test_ds,\n",
    "#     epochs=10,\n",
    "#     class_weight=class_weight\n",
    "# )"
   ]
  },
  {
   "cell_type": "code",
   "execution_count": 72,
   "id": "2e809cf1",
   "metadata": {
    "execution": {
     "iopub.execute_input": "2024-08-07T18:09:54.558318Z",
     "iopub.status.busy": "2024-08-07T18:09:54.557445Z",
     "iopub.status.idle": "2024-08-07T18:09:54.561526Z",
     "shell.execute_reply": "2024-08-07T18:09:54.560652Z"
    },
    "papermill": {
     "duration": 0.034252,
     "end_time": "2024-08-07T18:09:54.563625",
     "exception": false,
     "start_time": "2024-08-07T18:09:54.529373",
     "status": "completed"
    },
    "tags": []
   },
   "outputs": [],
   "source": [
    "# from focal_loss import BinaryFocalLoss"
   ]
  },
  {
   "cell_type": "code",
   "execution_count": 73,
   "id": "c2776fc5",
   "metadata": {
    "execution": {
     "iopub.execute_input": "2024-08-07T18:09:54.618340Z",
     "iopub.status.busy": "2024-08-07T18:09:54.617502Z",
     "iopub.status.idle": "2024-08-07T18:09:54.621751Z",
     "shell.execute_reply": "2024-08-07T18:09:54.620828Z"
    },
    "papermill": {
     "duration": 0.03376,
     "end_time": "2024-08-07T18:09:54.623803",
     "exception": false,
     "start_time": "2024-08-07T18:09:54.590043",
     "status": "completed"
    },
    "tags": []
   },
   "outputs": [],
   "source": [
    "# multimodal_model_focal = create_multimodal_model()\n",
    "# multimodal_model_focal.compile(\n",
    "#     optimizer=\"adam\", loss=BinaryFocalLoss(gamma=2), metrics=METRICS\n",
    "# )\n",
    "# history = multimodal_model_focal.fit(\n",
    "#     train_ds,\n",
    "#     validation_data=test_ds,\n",
    "#     epochs=10\n",
    "# )"
   ]
  },
  {
   "cell_type": "code",
   "execution_count": null,
   "id": "1fd5925c",
   "metadata": {
    "papermill": {
     "duration": 0.025748,
     "end_time": "2024-08-07T18:09:54.675150",
     "exception": false,
     "start_time": "2024-08-07T18:09:54.649402",
     "status": "completed"
    },
    "tags": []
   },
   "outputs": [],
   "source": []
  },
  {
   "cell_type": "code",
   "execution_count": null,
   "id": "489c7fbe",
   "metadata": {
    "papermill": {
     "duration": 0.026102,
     "end_time": "2024-08-07T18:09:54.727258",
     "exception": false,
     "start_time": "2024-08-07T18:09:54.701156",
     "status": "completed"
    },
    "tags": []
   },
   "outputs": [],
   "source": []
  }
 ],
 "metadata": {
  "kaggle": {
   "accelerator": "gpu",
   "dataSources": [
    {
     "databundleVersionId": 9094797,
     "sourceId": 63056,
     "sourceType": "competition"
    },
    {
     "datasetId": 5295517,
     "sourceId": 8805063,
     "sourceType": "datasetVersion"
    },
    {
     "datasetId": 5295538,
     "sourceId": 8805089,
     "sourceType": "datasetVersion"
    },
    {
     "datasetId": 5295507,
     "sourceId": 8805188,
     "sourceType": "datasetVersion"
    }
   ],
   "dockerImageVersionId": 30746,
   "isGpuEnabled": true,
   "isInternetEnabled": true,
   "language": "python",
   "sourceType": "notebook"
  },
  "kernelspec": {
   "display_name": "Python 3",
   "language": "python",
   "name": "python3"
  },
  "language_info": {
   "codemirror_mode": {
    "name": "ipython",
    "version": 3
   },
   "file_extension": ".py",
   "mimetype": "text/x-python",
   "name": "python",
   "nbconvert_exporter": "python",
   "pygments_lexer": "ipython3",
   "version": "3.10.13"
  },
  "papermill": {
   "default_parameters": {},
   "duration": 43.370838,
   "end_time": "2024-08-07T18:09:57.815050",
   "environment_variables": {},
   "exception": null,
   "input_path": "__notebook__.ipynb",
   "output_path": "__notebook__.ipynb",
   "parameters": {},
   "start_time": "2024-08-07T18:09:14.444212",
   "version": "2.5.0"
  }
 },
 "nbformat": 4,
 "nbformat_minor": 5
}
