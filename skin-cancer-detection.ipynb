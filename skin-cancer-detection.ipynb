{
 "cells": [
  {
   "cell_type": "code",
   "execution_count": 1,
   "id": "91134b12",
   "metadata": {
    "_cell_guid": "b1076dfc-b9ad-4769-8c92-a6c4dae69d19",
    "_uuid": "8f2839f25d086af736a60e9eeb907d3b93b6e0e5",
    "execution": {
     "iopub.execute_input": "2024-08-09T17:42:39.014262Z",
     "iopub.status.busy": "2024-08-09T17:42:39.013913Z",
     "iopub.status.idle": "2024-08-09T17:42:54.888221Z",
     "shell.execute_reply": "2024-08-09T17:42:54.887399Z"
    },
    "papermill": {
     "duration": 15.90747,
     "end_time": "2024-08-09T17:42:54.890499",
     "exception": false,
     "start_time": "2024-08-09T17:42:38.983029",
     "status": "completed"
    },
    "tags": []
   },
   "outputs": [
    {
     "name": "stderr",
     "output_type": "stream",
     "text": [
      "2024-08-09 17:42:41.990847: E external/local_xla/xla/stream_executor/cuda/cuda_dnn.cc:9261] Unable to register cuDNN factory: Attempting to register factory for plugin cuDNN when one has already been registered\n",
      "2024-08-09 17:42:41.990971: E external/local_xla/xla/stream_executor/cuda/cuda_fft.cc:607] Unable to register cuFFT factory: Attempting to register factory for plugin cuFFT when one has already been registered\n",
      "2024-08-09 17:42:42.155952: E external/local_xla/xla/stream_executor/cuda/cuda_blas.cc:1515] Unable to register cuBLAS factory: Attempting to register factory for plugin cuBLAS when one has already been registered\n"
     ]
    }
   ],
   "source": [
    "import random\n",
    "import numpy as np\n",
    "import pandas as pd\n",
    "import matplotlib.pyplot as plt\n",
    "import matplotlib.image as mpimg\n",
    "\n",
    "import tensorflow as tf\n",
    "import tensorflow_hub as hub\n",
    "from tensorflow import keras\n",
    "from tensorflow.keras import layers\n",
    "\n",
    "import tensorflow as tf\n",
    "from typing import NamedTuple, Optional\n",
    "from sklearn import preprocessing \n",
    "\n",
    "from sklearn.model_selection import train_test_split\n",
    "from sklearn.preprocessing import StandardScaler\n",
    "from sklearn.model_selection import StratifiedKFold\n",
    "from sklearn.utils import resample\n",
    "from sklearn.utils import shuffle\n",
    "     \n",
    "import os\n",
    "# for dirname, _, filenames in os.walk('/kaggle/input'):\n",
    "#     for filename in filenames:\n",
    "#         print(os.path.join(dirname, filename))\n",
    "pd.set_option('display.max_columns', None)\n",
    "pd.set_option('display.max_rows', None)"
   ]
  },
  {
   "cell_type": "code",
   "execution_count": 2,
   "id": "3e4e9040",
   "metadata": {
    "execution": {
     "iopub.execute_input": "2024-08-09T17:42:54.947722Z",
     "iopub.status.busy": "2024-08-09T17:42:54.946857Z",
     "iopub.status.idle": "2024-08-09T17:43:01.682128Z",
     "shell.execute_reply": "2024-08-09T17:43:01.681277Z"
    },
    "papermill": {
     "duration": 6.766099,
     "end_time": "2024-08-09T17:43:01.684676",
     "exception": false,
     "start_time": "2024-08-09T17:42:54.918577",
     "status": "completed"
    },
    "tags": []
   },
   "outputs": [
    {
     "name": "stderr",
     "output_type": "stream",
     "text": [
      "/tmp/ipykernel_24/2653809078.py:1: DtypeWarning: Columns (51,52) have mixed types. Specify dtype option on import or set low_memory=False.\n",
      "  df = pd.read_csv('/kaggle/input/isic-2024-challenge/train-metadata.csv')\n"
     ]
    }
   ],
   "source": [
    "df = pd.read_csv('/kaggle/input/isic-2024-challenge/train-metadata.csv')\n",
    "df_test = pd.read_csv('/kaggle/input/isic-2024-challenge/test-metadata.csv')"
   ]
  },
  {
   "cell_type": "code",
   "execution_count": 3,
   "id": "708f46c1",
   "metadata": {
    "execution": {
     "iopub.execute_input": "2024-08-09T17:43:01.744153Z",
     "iopub.status.busy": "2024-08-09T17:43:01.743819Z",
     "iopub.status.idle": "2024-08-09T17:43:01.837949Z",
     "shell.execute_reply": "2024-08-09T17:43:01.837175Z"
    },
    "papermill": {
     "duration": 0.124888,
     "end_time": "2024-08-09T17:43:01.840264",
     "exception": false,
     "start_time": "2024-08-09T17:43:01.715376",
     "status": "completed"
    },
    "tags": []
   },
   "outputs": [],
   "source": [
    "df_2018 = pd.read_csv('/kaggle/input/isic-2018-jpg-224x224-resized/train-metadata.csv')\n",
    "df_2019 = pd.read_csv('/kaggle/input/isic-2019-jpg-224x224-resized/train-metadata.csv')\n",
    "df_2020 = pd.read_csv('/kaggle/input/isic-2020-jpg-224x224-resized/train-metadata.csv')"
   ]
  },
  {
   "cell_type": "code",
   "execution_count": 4,
   "id": "959f864e",
   "metadata": {
    "execution": {
     "iopub.execute_input": "2024-08-09T17:43:01.898951Z",
     "iopub.status.busy": "2024-08-09T17:43:01.898656Z",
     "iopub.status.idle": "2024-08-09T17:43:01.902460Z",
     "shell.execute_reply": "2024-08-09T17:43:01.901669Z"
    },
    "papermill": {
     "duration": 0.034127,
     "end_time": "2024-08-09T17:43:01.904325",
     "exception": false,
     "start_time": "2024-08-09T17:43:01.870198",
     "status": "completed"
    },
    "tags": []
   },
   "outputs": [],
   "source": [
    "# df_2019.head()"
   ]
  },
  {
   "cell_type": "markdown",
   "id": "2bbac959",
   "metadata": {
    "papermill": {
     "duration": 0.027006,
     "end_time": "2024-08-09T17:43:01.958563",
     "exception": false,
     "start_time": "2024-08-09T17:43:01.931557",
     "status": "completed"
    },
    "tags": []
   },
   "source": [
    "## Constants"
   ]
  },
  {
   "cell_type": "code",
   "execution_count": 5,
   "id": "b9d2e24e",
   "metadata": {
    "execution": {
     "iopub.execute_input": "2024-08-09T17:43:02.020996Z",
     "iopub.status.busy": "2024-08-09T17:43:02.020670Z",
     "iopub.status.idle": "2024-08-09T17:43:02.025356Z",
     "shell.execute_reply": "2024-08-09T17:43:02.024533Z"
    },
    "papermill": {
     "duration": 0.040954,
     "end_time": "2024-08-09T17:43:02.027243",
     "exception": false,
     "start_time": "2024-08-09T17:43:01.986289",
     "status": "completed"
    },
    "tags": []
   },
   "outputs": [],
   "source": [
    "RANDOM_STATE = 42\n",
    "IMAGE_SIZE=224\n",
    "BATCH_SIZE = 32\n",
    "# METRICS = [\n",
    "#       keras.metrics.TruePositives(name='tp'),\n",
    "#       keras.metrics.FalsePositives(name='fp'),\n",
    "#       keras.metrics.TrueNegatives(name='tn'),\n",
    "#       keras.metrics.FalseNegatives(name='fn'),\n",
    "#       keras.metrics.AUC(name='auc'),\n",
    "#       keras.metrics.AUC(name='prc', curve='PR'), # precision-recall curve\n",
    "# ]\n",
    "# img_augmentation_layers = [\n",
    "#     layers.RandomRotation(factor=0.15),\n",
    "#     layers.RandomTranslation(height_factor=0.1, width_factor=0.1),\n",
    "#     layers.RandomFlip(),\n",
    "#     layers.RandomContrast(factor=0.1),\n",
    "# ]\n",
    "\n",
    "\n"
   ]
  },
  {
   "cell_type": "markdown",
   "id": "5de81082",
   "metadata": {
    "papermill": {
     "duration": 0.027096,
     "end_time": "2024-08-09T17:43:02.081377",
     "exception": false,
     "start_time": "2024-08-09T17:43:02.054281",
     "status": "completed"
    },
    "tags": []
   },
   "source": [
    "## Helper functions"
   ]
  },
  {
   "cell_type": "code",
   "execution_count": 6,
   "id": "12c07b1c",
   "metadata": {
    "execution": {
     "iopub.execute_input": "2024-08-09T17:43:02.136961Z",
     "iopub.status.busy": "2024-08-09T17:43:02.136657Z",
     "iopub.status.idle": "2024-08-09T17:43:02.145747Z",
     "shell.execute_reply": "2024-08-09T17:43:02.145011Z"
    },
    "papermill": {
     "duration": 0.039106,
     "end_time": "2024-08-09T17:43:02.147631",
     "exception": false,
     "start_time": "2024-08-09T17:43:02.108525",
     "status": "completed"
    },
    "tags": []
   },
   "outputs": [],
   "source": [
    "\n",
    "def add_path(path,dir):\n",
    "    return f\"{dir}/{path}.jpg\"\n",
    "\n",
    "\n",
    "\n",
    "def get_sample(df,ratio):\n",
    "    df_positive = df[df['target']==1].reset_index(drop=True)\n",
    "    df_negative = df[df['target']==0].reset_index(drop=True)\n",
    "    df_negative= resample(df_negative,n_samples=len(df_positive)*ratio,random_state=RANDOM_STATE)\n",
    "#     df_positive = resample(df_positive,n_samples=len(df_positive),random_state=RANDOM_STATE)\n",
    "    \n",
    "    df_concat = pd.concat([df_positive,df_negative])\n",
    "    df_concat = shuffle(df_concat).reset_index(drop=True)\n",
    "    \n",
    "    print(f'positive shape: {df_positive.shape}, negative shape: {df_negative.shape}')\n",
    "    print(f'Full dataset shape: {df_concat.shape}')\n",
    "    \n",
    "    return df_concat\n",
    "\n",
    "def visualize(df,idx):\n",
    "    images = []\n",
    "    labels = []\n",
    "    for id in idx:\n",
    "        current_row = df.iloc[id]\n",
    "        images.append(plt.imread(current_row[\"file_path\"]))\n",
    "        labels.append(current_row[\"target\"])\n",
    "    \n",
    "    for i, (image, label) in enumerate(zip(images, labels), start=1):\n",
    "        plt.subplot(3, 3, i)  # Adjusted to start from 1\n",
    "        plt.imshow(image)\n",
    "        plt.axis(\"off\")\n",
    "        plt.title(label)\n",
    "    plt.show()"
   ]
  },
  {
   "cell_type": "code",
   "execution_count": 7,
   "id": "ea2945f6",
   "metadata": {
    "execution": {
     "iopub.execute_input": "2024-08-09T17:43:02.203413Z",
     "iopub.status.busy": "2024-08-09T17:43:02.203143Z",
     "iopub.status.idle": "2024-08-09T17:43:02.208990Z",
     "shell.execute_reply": "2024-08-09T17:43:02.208198Z"
    },
    "papermill": {
     "duration": 0.035951,
     "end_time": "2024-08-09T17:43:02.210840",
     "exception": false,
     "start_time": "2024-08-09T17:43:02.174889",
     "status": "completed"
    },
    "tags": []
   },
   "outputs": [],
   "source": [
    "# def encode(df, columns):\n",
    "#     label_encoder = preprocessing.LabelEncoder() \n",
    "#     for col in columns:\n",
    "#         df[col]= label_encoder.fit_transform(df[col])\n",
    "#     return df\n",
    "\n",
    "# def scale_columns(df, columns):\n",
    "#     scaler = preprocessing.StandardScaler()\n",
    "    \n",
    "#     # Transform each specified column\n",
    "#     for col in columns:\n",
    "#         df[col] = scaler.fit_transform(df[[col]])\n",
    "        \n",
    "#     return df\n",
    "\n",
    "# class Metadata(NamedTuple):\n",
    "#     image: Optional[tf.Tensor] = None\n",
    "#     metadata: Optional[tf.Tensor] = None\n",
    "\n",
    "\n",
    "# def img_augmentation(images):\n",
    "#     for layer in img_augmentation_layers:\n",
    "#         images = layer(images)\n",
    "#     return images\n",
    "\n",
    "# @tf.function(input_signature=[\n",
    "#     tf.TensorSpec(shape=[], dtype=tf.string, name='image_path'),\n",
    "# ])\n",
    "# def preprocess_image(path):\n",
    "#     image = tf.io.read_file(path)\n",
    "#     image = tf.image.decode_jpeg(image, channels=3)\n",
    "#     image = tf.image.resize(image, IMAGE_SIZE)\n",
    "#     image = image / 255.0\n",
    "# #     image = img_augmentation(image)\n",
    "#     return image\n",
    "\n",
    "# def preprocess_metadata(filtered_dict):\n",
    "#     # Convert metadata to tensor\n",
    "#     tensor_dict = tf.stack(list(filtered_dict.values()), axis=-1)\n",
    "#     return tensor_dict\n",
    "\n",
    "# def load_image_and_metadata(metadata, image_size):\n",
    "#     image = preprocess_image(metadata['file_path'], image_size)\n",
    "#     filtered_dict = {k: v for k, v in metadata.items() if k != 'file_path'}\n",
    "#     metadata_tensor = preprocess_metadata(filtered_dict)\n",
    "#     return Metadata(image=image, metadata=metadata_tensor)\n",
    "\n",
    "\n",
    "# def unbatch_test_dataset(test_dataset,model):\n",
    "#     unbatched_dataset = test_dataset.unbatch()\n",
    "\n",
    "#     # Initialize lists to store true labels and predictions\n",
    "#     images = []\n",
    "#     labels = []\n",
    "\n",
    "\n",
    "#     # Iterate over the unbatched dataset to get predictions and true labels\n",
    "#     for img_batch, label_batch in test_dataset:\n",
    "#         images.append(img_batch)\n",
    "#         labels.append(label_batch)\n",
    "\n",
    "#     # Convert lists to numpy arrays\n",
    "#     images = np.concatenate(images, axis=0)\n",
    "#     labels = np.concatenate(labels, axis=0)\n",
    "\n",
    "#     # Make predictions on the entire dataset\n",
    "#     y_pred = model.predict(images).ravel()  # Flatten predictions if necessary\n",
    "\n",
    "#     # Convert labels to a flat array\n",
    "#     y_true = labels.ravel()\n",
    "#     # Convert lists to numpy arrays\n",
    "#     y_true = np.array(y_true)\n",
    "#     y_pred = np.array(y_pred)\n",
    "#     return y_true, y_pred\n"
   ]
  },
  {
   "cell_type": "code",
   "execution_count": 8,
   "id": "1e5f07b3",
   "metadata": {
    "execution": {
     "iopub.execute_input": "2024-08-09T17:43:02.308597Z",
     "iopub.status.busy": "2024-08-09T17:43:02.307761Z",
     "iopub.status.idle": "2024-08-09T17:43:02.311952Z",
     "shell.execute_reply": "2024-08-09T17:43:02.311041Z"
    },
    "papermill": {
     "duration": 0.034688,
     "end_time": "2024-08-09T17:43:02.313877",
     "exception": false,
     "start_time": "2024-08-09T17:43:02.279189",
     "status": "completed"
    },
    "tags": []
   },
   "outputs": [],
   "source": [
    "# def calculate_weight(pos,neg):\n",
    "\n",
    "#     # Total number of samples\n",
    "#     total = pos + neg\n",
    "\n",
    "#     # Calculate class weights\n",
    "#     weight_for_0 = (1 / neg) * (total / 2.0)\n",
    "#     weight_for_1 = (1 / pos) * (total / 2.0)\n",
    "\n",
    "#     class_weight = {0: weight_for_0, 1: weight_for_1}\n",
    "\n",
    "#     print('Weight for class 0 (Negative): {:.2f}'.format(weight_for_0))\n",
    "#     print('Weight for class 1 (Positive): {:.2f}'.format(weight_for_1))\n",
    "#     return class_weight"
   ]
  },
  {
   "cell_type": "code",
   "execution_count": 9,
   "id": "0ce5fe62",
   "metadata": {
    "execution": {
     "iopub.execute_input": "2024-08-09T17:43:02.370642Z",
     "iopub.status.busy": "2024-08-09T17:43:02.370326Z",
     "iopub.status.idle": "2024-08-09T17:43:02.373966Z",
     "shell.execute_reply": "2024-08-09T17:43:02.373138Z"
    },
    "papermill": {
     "duration": 0.033969,
     "end_time": "2024-08-09T17:43:02.375819",
     "exception": false,
     "start_time": "2024-08-09T17:43:02.341850",
     "status": "completed"
    },
    "tags": []
   },
   "outputs": [],
   "source": [
    "# random_choices = random.choices(list(range(df.shape[0])), k=9)\n",
    "# visualize(df,random_choices)"
   ]
  },
  {
   "cell_type": "code",
   "execution_count": 10,
   "id": "9ff059e7",
   "metadata": {
    "execution": {
     "iopub.execute_input": "2024-08-09T17:43:02.437003Z",
     "iopub.status.busy": "2024-08-09T17:43:02.436700Z",
     "iopub.status.idle": "2024-08-09T17:43:02.440801Z",
     "shell.execute_reply": "2024-08-09T17:43:02.439972Z"
    },
    "papermill": {
     "duration": 0.03474,
     "end_time": "2024-08-09T17:43:02.442719",
     "exception": false,
     "start_time": "2024-08-09T17:43:02.407979",
     "status": "completed"
    },
    "tags": []
   },
   "outputs": [],
   "source": [
    "# def create_dataset(df, image_size=(139, 139), batch_size=32, training=False, return_type='both'):\n",
    "#     labels = df[['target']]\n",
    "\n",
    "#     dataset = tf.data.Dataset.from_tensor_slices((df['file_path'].values, labels))\n",
    "#     dataset = dataset.map(lambda x, y: (preprocess_image(x, image_size), y),\n",
    "#                               num_parallel_calls=tf.data.experimental.AUTOTUNE)\n",
    "#     # Shuffle and batch the dataset\n",
    "#     if training:\n",
    "#         dataset = dataset.shuffle(len(df))\n",
    "#     dataset = dataset.batch(batch_size)\n",
    "#     dataset = dataset.prefetch(buffer_size=tf.data.experimental.AUTOTUNE)\n",
    "    \n",
    "#     return dataset\n"
   ]
  },
  {
   "cell_type": "code",
   "execution_count": 11,
   "id": "6f4e2576",
   "metadata": {
    "execution": {
     "iopub.execute_input": "2024-08-09T17:43:02.500477Z",
     "iopub.status.busy": "2024-08-09T17:43:02.500191Z",
     "iopub.status.idle": "2024-08-09T17:43:02.505534Z",
     "shell.execute_reply": "2024-08-09T17:43:02.504491Z"
    },
    "papermill": {
     "duration": 0.0382,
     "end_time": "2024-08-09T17:43:02.508183",
     "exception": false,
     "start_time": "2024-08-09T17:43:02.469983",
     "status": "completed"
    },
    "tags": []
   },
   "outputs": [],
   "source": [
    "# from sklearn.metrics import roc_auc_score\n",
    "# import numpy as np\n",
    "\n",
    "# def compute_partial_auc(y_true, y_pred, min_tpr):\n",
    "#     \"\"\"\n",
    "#     Computes the partial AUC score given true labels, predicted scores, and minimum TPR.\n",
    "\n",
    "#     Parameters:\n",
    "#     y_true (np.array): True binary labels.\n",
    "#     y_pred (np.array): Predicted probabilities or scores.\n",
    "#     min_tpr (float): Minimum true positive rate (TPR) to consider for partial AUC.\n",
    "\n",
    "#     Returns:\n",
    "#     partial_auc (float): The computed partial AUC score.\n",
    "#     \"\"\"\n",
    "#     # Compute the transformed ground truth and predictions\n",
    "#     v_gt = np.abs(y_true - 1)\n",
    "#     v_pred = 1.0 - y_pred\n",
    "\n",
    "#     # Compute the maximum false positive rate (FPR) based on the minimum TPR\n",
    "#     max_fpr = 1 - min_tpr\n",
    "\n",
    "#     # Compute the partial AUC using roc_auc_score\n",
    "#     partial_auc_scaled = roc_auc_score(v_gt, v_pred, max_fpr=max_fpr)\n",
    "\n",
    "#     # Rescale the partial AUC\n",
    "#     partial_auc = 0.5 * max_fpr**2 + (max_fpr - 0.5 * max_fpr**2) * (partial_auc_scaled - 0.5)\n",
    "\n",
    "#     return partial_auc\n",
    "\n",
    "# # Example usage\n",
    "# # y_true = np.array([...])  # Replace with your true labels\n",
    "# # y_pred = np.array([...])  # Replace with your predicted scores\n",
    "# # min_tpr = 0.9  # Example minimum TPR value\n",
    "# # partial_auc = compute_partial_auc(y_true, y_pred, min_tpr)\n",
    "# # print(f\"Partial AUC: {partial_auc:.4f}\")"
   ]
  },
  {
   "cell_type": "code",
   "execution_count": 12,
   "id": "56850f2c",
   "metadata": {
    "execution": {
     "iopub.execute_input": "2024-08-09T17:43:02.595853Z",
     "iopub.status.busy": "2024-08-09T17:43:02.595396Z",
     "iopub.status.idle": "2024-08-09T17:43:02.621685Z",
     "shell.execute_reply": "2024-08-09T17:43:02.620839Z"
    },
    "papermill": {
     "duration": 0.072839,
     "end_time": "2024-08-09T17:43:02.623567",
     "exception": false,
     "start_time": "2024-08-09T17:43:02.550728",
     "status": "completed"
    },
    "tags": []
   },
   "outputs": [],
   "source": [
    "# def create_dataset(df, image_size=(139, 139), batch_size=32, training=False, return_type='both'):\n",
    "#     # Extract labels\n",
    "#     labels = df[['target']]\n",
    "    \n",
    "#     # Depending on the return type, prepare the dataset accordingly\n",
    "#     if return_type == 'both':\n",
    "#         dataset = tf.data.Dataset.from_tensor_slices((dict(df.drop(columns=['target'])), labels))\n",
    "#         dataset = dataset.map(lambda x, y: (load_image_and_metadata(x, image_size), y),\n",
    "#                               num_parallel_calls=tf.data.experimental.AUTOTUNE)\n",
    "#     elif return_type == 'metadata':\n",
    "#         dataset = tf.data.Dataset.from_tensor_slices((dict(df.drop(columns=['target'])), labels))\n",
    "#         dataset = dataset.map(lambda x, y: (preprocess_metadata({k: v for k, v in x.items() if k != 'file_path'}), y),\n",
    "#                               num_parallel_calls=tf.data.experimental.AUTOTUNE)\n",
    "#     elif return_type == 'images':\n",
    "#         dataset = tf.data.Dataset.from_tensor_slices((df['file_path'].values, labels))\n",
    "#         dataset = dataset.map(lambda x, y: (preprocess_image(x, image_size), y),\n",
    "#                               num_parallel_calls=tf.data.experimental.AUTOTUNE)\n",
    "#     else:\n",
    "#         raise ValueError(\"Invalid return_type. Must be one of ['both', 'metadata', 'images']\")\n",
    "    \n",
    "#     # Shuffle and batch the dataset\n",
    "#     if training:\n",
    "#         dataset = dataset.shuffle(len(df))\n",
    "#     dataset = dataset.batch(batch_size)\n",
    "#     dataset = dataset.prefetch(buffer_size=tf.data.experimental.AUTOTUNE)\n",
    "    \n",
    "#     return dataset\n",
    "\n",
    "# from sklearn.metrics import roc_auc_score\n",
    "# import numpy as np\n",
    "\n",
    "\n",
    "class PartialAUC(tf.keras.metrics.Metric):\n",
    "    def __init__(self, name='partial_auc', **kwargs):\n",
    "        super(PartialAUC, self).__init__(name=name, **kwargs)\n",
    "        self.thresholds = tf.linspace(0.0, 1.0, 101)\n",
    "        self.tp = self.add_weight(name='tp', shape=(101,), initializer='zeros', dtype=tf.float32)\n",
    "        self.fp = self.add_weight(name='fp', shape=(101,), initializer='zeros', dtype=tf.float32)\n",
    "        self.fn = self.add_weight(name='fn', shape=(101,), initializer='zeros', dtype=tf.float32)\n",
    "        self.tn = self.add_weight(name='tn', shape=(101,), initializer='zeros', dtype=tf.float32)\n",
    "\n",
    "    def update_state(self, y_true, y_pred, sample_weight=None):\n",
    "        y_true = tf.reshape(tf.cast(y_true, tf.float32), (-1, 1))\n",
    "        y_pred = tf.cast(y_pred, tf.float32)\n",
    "\n",
    "        # Debugging shapes\n",
    "        #tf.print(\"reshaped y_true shape:\", tf.shape(y_true))\n",
    "        #tf.print(\"y_pred shape:\", tf.shape(y_pred))\n",
    "\n",
    "        thresholds = self.thresholds[tf.newaxis, :]\n",
    "        preds = tf.cast(y_pred[:, tf.newaxis] >= thresholds, tf.float32)\n",
    "\n",
    "        tp = tf.reduce_sum(preds * y_true[:, tf.newaxis], axis=0)\n",
    "        fp = tf.reduce_sum(preds * (1 - y_true)[:, tf.newaxis], axis=0)\n",
    "        fn = tf.reduce_sum((1 - preds) * y_true[:, tf.newaxis], axis=0)\n",
    "        tn = tf.reduce_sum((1 - preds) * (1 - y_true)[:, tf.newaxis], axis=0)\n",
    "\n",
    "        # Check tensor shapes\n",
    "        #tf.print(\"tp shape:\", tf.shape(tp))\n",
    "        #tf.print(\"fp shape:\", tf.shape(fp))\n",
    "        #tf.print(\"fn shape:\", tf.shape(fn))\n",
    "        #tf.print(\"tn shape:\", tf.shape(tn))\n",
    "\n",
    "        # Reshape assuming desired shape is (num_thresholds,)\n",
    "        num_thresholds = tf.shape(self.thresholds)[0]\n",
    "        \n",
    "        reshaped_tp = tf.reshape(tp, [num_thresholds])\n",
    "        reshaped_fp = tf.reshape(fp, [num_thresholds])\n",
    "        reshaped_fn = tf.reshape(fn, [num_thresholds])\n",
    "        reshaped_tn = tf.reshape(tn, [num_thresholds])\n",
    "        \n",
    "        self.tp.assign_add(reshaped_tp)\n",
    "        self.fp.assign_add(reshaped_fp)\n",
    "        self.fn.assign_add(reshaped_fn)\n",
    "        self.tn.assign_add(reshaped_tn)\n",
    "\n",
    "    def result(self):\n",
    "        # Avoid division by zero\n",
    "        epsilon = tf.keras.backend.epsilon()\n",
    "        tpr = self.tp / (self.tp + self.fn + epsilon)\n",
    "        fpr = self.fp / (self.fp + self.tn + epsilon)\n",
    "\n",
    "        # Sort fpr and corresponding tpr\n",
    "        sorted_indices = tf.argsort(fpr)\n",
    "        sorted_fpr = tf.gather(fpr, sorted_indices)\n",
    "        sorted_tpr = tf.gather(tpr, sorted_indices)\n",
    "\n",
    "        # Apply mask for TPR >= 0.8\n",
    "        mask = sorted_tpr >= 0.8\n",
    "        partial_fpr = tf.boolean_mask(sorted_fpr, mask)\n",
    "        partial_tpr = tf.boolean_mask(sorted_tpr, mask)\n",
    "\n",
    "        # Calculate partial AUC using the trapezoidal rule\n",
    "        def compute_partial_auc():\n",
    "            delta_fpr = partial_fpr[1:] - partial_fpr[:-1]\n",
    "            tpr_sum = partial_tpr[1:] + partial_tpr[:-1]\n",
    "            return tf.reduce_sum(delta_fpr * tpr_sum / 2)\n",
    "\n",
    "        partial_auc = tf.cond(tf.shape(partial_fpr)[0] > 1,\n",
    "                              compute_partial_auc,\n",
    "                              lambda: tf.constant(0.0))\n",
    "\n",
    "        return partial_auc * 0.2\n",
    "\n",
    "    def reset_states(self):\n",
    "        self.tp.assign(tf.zeros_like(self.tp))\n",
    "        self.fp.assign(tf.zeros_like(self.fp))\n",
    "        self.fn.assign(tf.zeros_like(self.fn))\n",
    "        self.tn.assign(tf.zeros_like(self.tn))\n",
    "\n",
    "# def compute_partial_auc(y_true, y_pred, min_tpr):\n",
    "#     \"\"\"\n",
    "#     Computes the partial AUC score given true labels, predicted scores, and minimum TPR.\n",
    "\n",
    "#     Parameters:\n",
    "#     y_true (np.array): True binary labels.\n",
    "#     y_pred (np.array): Predicted probabilities or scores.\n",
    "#     min_tpr (float): Minimum true positive rate (TPR) to consider for partial AUC.\n",
    "\n",
    "#     Returns:\n",
    "#     partial_auc (float): The computed partial AUC score.\n",
    "#     \"\"\"\n",
    "#     # Compute the transformed ground truth and predictions\n",
    "#     v_gt = np.abs(y_true - 1)\n",
    "#     v_pred = 1.0 - y_pred\n",
    "\n",
    "#     # Compute the maximum false positive rate (FPR) based on the minimum TPR\n",
    "#     max_fpr = 1 - min_tpr\n",
    "\n",
    "#     # Compute the partial AUC using roc_auc_score\n",
    "#     partial_auc_scaled = roc_auc_score(v_gt, v_pred, max_fpr=max_fpr)\n",
    "\n",
    "#     # Rescale the partial AUC\n",
    "#     partial_auc = 0.5 * max_fpr**2 + (max_fpr - 0.5 * max_fpr**2) * (partial_auc_scaled - 0.5)\n",
    "\n",
    "#     return partial_auc\n",
    "\n",
    "# Example usage\n",
    "# y_true = np.array([...])  # Replace with your true labels\n",
    "# y_pred = np.array([...])  # Replace with your predicted scores\n",
    "# min_tpr = 0.9  # Example minimum TPR value\n",
    "# partial_auc = compute_partial_auc(y_true, y_pred, min_tpr)\n",
    "# print(f\"Partial AUC: {partial_auc:.4f}\")\n"
   ]
  },
  {
   "cell_type": "code",
   "execution_count": 13,
   "id": "41c08220",
   "metadata": {
    "execution": {
     "iopub.execute_input": "2024-08-09T17:43:02.680971Z",
     "iopub.status.busy": "2024-08-09T17:43:02.680668Z",
     "iopub.status.idle": "2024-08-09T17:43:02.685147Z",
     "shell.execute_reply": "2024-08-09T17:43:02.684321Z"
    },
    "papermill": {
     "duration": 0.035258,
     "end_time": "2024-08-09T17:43:02.686934",
     "exception": false,
     "start_time": "2024-08-09T17:43:02.651676",
     "status": "completed"
    },
    "tags": []
   },
   "outputs": [],
   "source": [
    "class ClearMemory(tf.keras.callbacks.Callback):\n",
    "    def on_epoch_end(self, epoch, logs=None):\n",
    "        gc.collect()\n",
    "\n",
    "clear_memory = ClearMemory()\n"
   ]
  },
  {
   "cell_type": "code",
   "execution_count": 14,
   "id": "dd811259",
   "metadata": {
    "execution": {
     "iopub.execute_input": "2024-08-09T17:43:02.742678Z",
     "iopub.status.busy": "2024-08-09T17:43:02.742192Z",
     "iopub.status.idle": "2024-08-09T17:43:02.745901Z",
     "shell.execute_reply": "2024-08-09T17:43:02.745058Z"
    },
    "papermill": {
     "duration": 0.033674,
     "end_time": "2024-08-09T17:43:02.747836",
     "exception": false,
     "start_time": "2024-08-09T17:43:02.714162",
     "status": "completed"
    },
    "tags": []
   },
   "outputs": [],
   "source": [
    "# df_concat = get_sample(df,ratio=20)"
   ]
  },
  {
   "cell_type": "code",
   "execution_count": 15,
   "id": "40e72f24",
   "metadata": {
    "execution": {
     "iopub.execute_input": "2024-08-09T17:43:02.804697Z",
     "iopub.status.busy": "2024-08-09T17:43:02.804407Z",
     "iopub.status.idle": "2024-08-09T17:43:02.808073Z",
     "shell.execute_reply": "2024-08-09T17:43:02.807247Z"
    },
    "papermill": {
     "duration": 0.03465,
     "end_time": "2024-08-09T17:43:02.810000",
     "exception": false,
     "start_time": "2024-08-09T17:43:02.775350",
     "status": "completed"
    },
    "tags": []
   },
   "outputs": [],
   "source": [
    "# directory = '/kaggle/input/isic-2024-challenge/train-image'\n",
    "# df_concat['file_path'] = df_concat['isic_id'].apply(lambda x: add_path(x, directory))"
   ]
  },
  {
   "cell_type": "code",
   "execution_count": 16,
   "id": "23dc10ae",
   "metadata": {
    "execution": {
     "iopub.execute_input": "2024-08-09T17:43:02.865945Z",
     "iopub.status.busy": "2024-08-09T17:43:02.865673Z",
     "iopub.status.idle": "2024-08-09T17:43:02.909346Z",
     "shell.execute_reply": "2024-08-09T17:43:02.908292Z"
    },
    "papermill": {
     "duration": 0.074289,
     "end_time": "2024-08-09T17:43:02.911655",
     "exception": false,
     "start_time": "2024-08-09T17:43:02.837366",
     "status": "completed"
    },
    "tags": []
   },
   "outputs": [
    {
     "name": "stdout",
     "output_type": "stream",
     "text": [
      "positive shape: (785, 4), negative shape: (7850, 4)\n",
      "Full dataset shape: (8635, 4)\n",
      "positive shape: (4522, 4), negative shape: (45220, 4)\n",
      "Full dataset shape: (49742, 4)\n",
      "positive shape: (584, 4), negative shape: (3504, 4)\n",
      "Full dataset shape: (4088, 4)\n"
     ]
    }
   ],
   "source": [
    "df_2018 = get_sample(df_2018,ratio = 10)\n",
    "# df_2018['file_path'] = df_2018['isic_id'].apply(lambda x: add_path(x, '/kaggle/input/isic-2019-jpg-224x224-resized/train-image/image'))\n",
    "df_2019 = get_sample(df_2019,ratio = 10)\n",
    "# df_2019['file_path'] = df_2019['isic_id'].apply(lambda x: add_path(x, '/kaggle/input/isic-2019-jpg-224x224-resized/train-image/image'))\n",
    "df_2020 = get_sample(df_2020,ratio = 6)\n",
    "# df_2020['file_path'] = df_2020['isic_id'].apply(lambda x: add_path(x, '/kaggle/input/isic-2020-jpg-224x224-resized/train-image/image'))\n",
    "\n",
    "# df_concat_previous = pd.concat([df_2019,df_2020],axis=0)"
   ]
  },
  {
   "cell_type": "code",
   "execution_count": 17,
   "id": "2dab8ee0",
   "metadata": {
    "execution": {
     "iopub.execute_input": "2024-08-09T17:43:02.969251Z",
     "iopub.status.busy": "2024-08-09T17:43:02.968959Z",
     "iopub.status.idle": "2024-08-09T17:43:02.972692Z",
     "shell.execute_reply": "2024-08-09T17:43:02.971844Z"
    },
    "papermill": {
     "duration": 0.033771,
     "end_time": "2024-08-09T17:43:02.974481",
     "exception": false,
     "start_time": "2024-08-09T17:43:02.940710",
     "status": "completed"
    },
    "tags": []
   },
   "outputs": [],
   "source": [
    "# type(df_2018)"
   ]
  },
  {
   "cell_type": "code",
   "execution_count": 18,
   "id": "b63e0241",
   "metadata": {
    "execution": {
     "iopub.execute_input": "2024-08-09T17:43:03.030658Z",
     "iopub.status.busy": "2024-08-09T17:43:03.029924Z",
     "iopub.status.idle": "2024-08-09T17:43:03.034892Z",
     "shell.execute_reply": "2024-08-09T17:43:03.034010Z"
    },
    "papermill": {
     "duration": 0.034992,
     "end_time": "2024-08-09T17:43:03.036782",
     "exception": false,
     "start_time": "2024-08-09T17:43:03.001790",
     "status": "completed"
    },
    "tags": []
   },
   "outputs": [],
   "source": [
    "from tensorflow.keras.preprocessing.image import ImageDataGenerator"
   ]
  },
  {
   "cell_type": "code",
   "execution_count": 19,
   "id": "9b229425",
   "metadata": {
    "execution": {
     "iopub.execute_input": "2024-08-09T17:43:03.092449Z",
     "iopub.status.busy": "2024-08-09T17:43:03.091997Z",
     "iopub.status.idle": "2024-08-09T17:43:03.095769Z",
     "shell.execute_reply": "2024-08-09T17:43:03.094962Z"
    },
    "papermill": {
     "duration": 0.033925,
     "end_time": "2024-08-09T17:43:03.097885",
     "exception": false,
     "start_time": "2024-08-09T17:43:03.063960",
     "status": "completed"
    },
    "tags": []
   },
   "outputs": [],
   "source": [
    "train_datagen_2018 = ImageDataGenerator(rescale=1./255)"
   ]
  },
  {
   "cell_type": "code",
   "execution_count": 20,
   "id": "97066bb1",
   "metadata": {
    "execution": {
     "iopub.execute_input": "2024-08-09T17:43:03.153245Z",
     "iopub.status.busy": "2024-08-09T17:43:03.152976Z",
     "iopub.status.idle": "2024-08-09T17:43:03.164411Z",
     "shell.execute_reply": "2024-08-09T17:43:03.163590Z"
    },
    "papermill": {
     "duration": 0.041269,
     "end_time": "2024-08-09T17:43:03.166280",
     "exception": false,
     "start_time": "2024-08-09T17:43:03.125011",
     "status": "completed"
    },
    "tags": []
   },
   "outputs": [],
   "source": [
    "df_2018['target'] = df_2018['target'].astype(str)\n",
    "df_2018['isic_id'] = df_2018['isic_id'] + \".jpg\" "
   ]
  },
  {
   "cell_type": "code",
   "execution_count": 21,
   "id": "25d58ed8",
   "metadata": {
    "execution": {
     "iopub.execute_input": "2024-08-09T17:43:03.222782Z",
     "iopub.status.busy": "2024-08-09T17:43:03.222005Z",
     "iopub.status.idle": "2024-08-09T17:43:03.225642Z",
     "shell.execute_reply": "2024-08-09T17:43:03.224912Z"
    },
    "papermill": {
     "duration": 0.03404,
     "end_time": "2024-08-09T17:43:03.227540",
     "exception": false,
     "start_time": "2024-08-09T17:43:03.193500",
     "status": "completed"
    },
    "tags": []
   },
   "outputs": [],
   "source": [
    " # Add correct extension if missing\n"
   ]
  },
  {
   "cell_type": "code",
   "execution_count": 22,
   "id": "a3081d84",
   "metadata": {
    "execution": {
     "iopub.execute_input": "2024-08-09T17:43:03.283694Z",
     "iopub.status.busy": "2024-08-09T17:43:03.283376Z",
     "iopub.status.idle": "2024-08-09T17:43:12.617197Z",
     "shell.execute_reply": "2024-08-09T17:43:12.616183Z"
    },
    "papermill": {
     "duration": 9.364512,
     "end_time": "2024-08-09T17:43:12.619623",
     "exception": false,
     "start_time": "2024-08-09T17:43:03.255111",
     "status": "completed"
    },
    "tags": []
   },
   "outputs": [
    {
     "name": "stdout",
     "output_type": "stream",
     "text": [
      "Found 7205 validated image filenames belonging to 2 classes.\n"
     ]
    },
    {
     "name": "stderr",
     "output_type": "stream",
     "text": [
      "/opt/conda/lib/python3.10/site-packages/keras/src/legacy/preprocessing/image.py:920: UserWarning: Found 1430 invalid image filename(s) in x_col=\"isic_id\". These filename(s) will be ignored.\n",
      "  warnings.warn(\n"
     ]
    }
   ],
   "source": [
    "train_2018 = train_datagen_2018.flow_from_dataframe(df_2018,\n",
    "                                              directory=\"/kaggle/input/isic-2018-jpg-224x224-resized/train-image/image\",\n",
    "                                              x_col=\"isic_id\",\n",
    "                                              y_col=\"target\",\n",
    "                                              target_size=(IMAGE_SIZE, IMAGE_SIZE),\n",
    "                                              batch_size=BATCH_SIZE,\n",
    "                                              class_mode='binary',\n",
    "                                              )"
   ]
  },
  {
   "cell_type": "code",
   "execution_count": 23,
   "id": "924c26a2",
   "metadata": {
    "execution": {
     "iopub.execute_input": "2024-08-09T17:43:12.677685Z",
     "iopub.status.busy": "2024-08-09T17:43:12.677319Z",
     "iopub.status.idle": "2024-08-09T17:43:12.708735Z",
     "shell.execute_reply": "2024-08-09T17:43:12.707980Z"
    },
    "papermill": {
     "duration": 0.062358,
     "end_time": "2024-08-09T17:43:12.710722",
     "exception": false,
     "start_time": "2024-08-09T17:43:12.648364",
     "status": "completed"
    },
    "tags": []
   },
   "outputs": [],
   "source": [
    "df_2019['target'] = df_2019['target'].astype(str)\n",
    "df_2019['isic_id'] = df_2019['isic_id'] + \".jpg\" "
   ]
  },
  {
   "cell_type": "code",
   "execution_count": 24,
   "id": "518ecfc3",
   "metadata": {
    "execution": {
     "iopub.execute_input": "2024-08-09T17:43:12.768183Z",
     "iopub.status.busy": "2024-08-09T17:43:12.767642Z",
     "iopub.status.idle": "2024-08-09T17:43:12.771594Z",
     "shell.execute_reply": "2024-08-09T17:43:12.770795Z"
    },
    "papermill": {
     "duration": 0.034489,
     "end_time": "2024-08-09T17:43:12.773450",
     "exception": false,
     "start_time": "2024-08-09T17:43:12.738961",
     "status": "completed"
    },
    "tags": []
   },
   "outputs": [],
   "source": [
    "# df_2019['isic_id'].head()"
   ]
  },
  {
   "cell_type": "code",
   "execution_count": 25,
   "id": "c456dbf1",
   "metadata": {
    "execution": {
     "iopub.execute_input": "2024-08-09T17:43:12.829788Z",
     "iopub.status.busy": "2024-08-09T17:43:12.829497Z",
     "iopub.status.idle": "2024-08-09T17:43:12.834504Z",
     "shell.execute_reply": "2024-08-09T17:43:12.833802Z"
    },
    "papermill": {
     "duration": 0.035144,
     "end_time": "2024-08-09T17:43:12.836302",
     "exception": false,
     "start_time": "2024-08-09T17:43:12.801158",
     "status": "completed"
    },
    "tags": []
   },
   "outputs": [],
   "source": [
    "train_datagen_2019 = ImageDataGenerator(rescale=1./255,validation_split=0.2)\n",
    "# train_datagen_2020 = ImageDataGenerator(rescale=1./255)"
   ]
  },
  {
   "cell_type": "code",
   "execution_count": 26,
   "id": "d1d43cd7",
   "metadata": {
    "execution": {
     "iopub.execute_input": "2024-08-09T17:43:12.892948Z",
     "iopub.status.busy": "2024-08-09T17:43:12.892409Z",
     "iopub.status.idle": "2024-08-09T17:44:05.545516Z",
     "shell.execute_reply": "2024-08-09T17:44:05.544595Z"
    },
    "papermill": {
     "duration": 52.683884,
     "end_time": "2024-08-09T17:44:05.547724",
     "exception": false,
     "start_time": "2024-08-09T17:43:12.863840",
     "status": "completed"
    },
    "tags": []
   },
   "outputs": [
    {
     "name": "stdout",
     "output_type": "stream",
     "text": [
      "Found 39794 validated image filenames belonging to 2 classes.\n",
      "Found 9948 validated image filenames belonging to 2 classes.\n"
     ]
    }
   ],
   "source": [
    "# Training set\n",
    "train_2019 = train_datagen_2019.flow_from_dataframe(\n",
    "    df_2019,\n",
    "    directory=\"/kaggle/input/isic-2019-jpg-224x224-resized/train-image/image\",\n",
    "    x_col=\"isic_id\",\n",
    "    y_col=\"target\",\n",
    "    target_size=(IMAGE_SIZE, IMAGE_SIZE),\n",
    "    batch_size=BATCH_SIZE,\n",
    "    class_mode='binary',\n",
    "    subset='training'  # Specify that this is the training set\n",
    ")\n",
    "\n",
    "# Validation set\n",
    "val_2019 = train_datagen_2019.flow_from_dataframe(\n",
    "    df_2019,\n",
    "    directory=\"/kaggle/input/isic-2019-jpg-224x224-resized/train-image/image\",\n",
    "    x_col=\"isic_id\",\n",
    "    y_col=\"target\",\n",
    "    target_size=(IMAGE_SIZE, IMAGE_SIZE),\n",
    "    batch_size=BATCH_SIZE,\n",
    "    class_mode='binary',\n",
    "    subset='validation'  # Specify that this is the validation set\n",
    ")"
   ]
  },
  {
   "cell_type": "code",
   "execution_count": 27,
   "id": "254632cc",
   "metadata": {
    "execution": {
     "iopub.execute_input": "2024-08-09T17:44:05.604730Z",
     "iopub.status.busy": "2024-08-09T17:44:05.604401Z",
     "iopub.status.idle": "2024-08-09T17:44:05.612394Z",
     "shell.execute_reply": "2024-08-09T17:44:05.611587Z"
    },
    "papermill": {
     "duration": 0.038374,
     "end_time": "2024-08-09T17:44:05.614228",
     "exception": false,
     "start_time": "2024-08-09T17:44:05.575854",
     "status": "completed"
    },
    "tags": []
   },
   "outputs": [],
   "source": [
    "df_2020['target'] = df_2020['target'].astype(str)\n",
    "df_2020['isic_id'] = df_2020['isic_id'] + \".jpg\" \n",
    "train_datagen_2020 = ImageDataGenerator(rescale=1./255,validation_split=0.2)\n",
    "# Training set"
   ]
  },
  {
   "cell_type": "code",
   "execution_count": 28,
   "id": "938287f5",
   "metadata": {
    "execution": {
     "iopub.execute_input": "2024-08-09T17:44:05.670580Z",
     "iopub.status.busy": "2024-08-09T17:44:05.670261Z",
     "iopub.status.idle": "2024-08-09T17:44:14.452711Z",
     "shell.execute_reply": "2024-08-09T17:44:14.451577Z"
    },
    "papermill": {
     "duration": 8.813,
     "end_time": "2024-08-09T17:44:14.454740",
     "exception": false,
     "start_time": "2024-08-09T17:44:05.641740",
     "status": "completed"
    },
    "tags": []
   },
   "outputs": [
    {
     "name": "stdout",
     "output_type": "stream",
     "text": [
      "Found 3271 validated image filenames belonging to 2 classes.\n",
      "Found 817 validated image filenames belonging to 2 classes.\n"
     ]
    }
   ],
   "source": [
    "\n",
    "train_2020 = train_datagen_2020.flow_from_dataframe(\n",
    "    df_2020,\n",
    "    directory=\"/kaggle/input/isic-2020-jpg-224x224-resized/train-image/image\",\n",
    "    x_col=\"isic_id\",\n",
    "    y_col=\"target\",\n",
    "    target_size=(IMAGE_SIZE, IMAGE_SIZE),\n",
    "    batch_size=BATCH_SIZE,\n",
    "    class_mode='binary',\n",
    "    subset='training'  # Specify that this is the training set\n",
    ")\n",
    "\n",
    "# Validation set\n",
    "val_2020 = train_datagen_2020.flow_from_dataframe(\n",
    "    df_2020,\n",
    "    directory=\"/kaggle/input/isic-2020-jpg-224x224-resized/train-image/image\",\n",
    "    x_col=\"isic_id\",\n",
    "    y_col=\"target\",\n",
    "    target_size=(IMAGE_SIZE, IMAGE_SIZE),\n",
    "    batch_size=BATCH_SIZE,\n",
    "    class_mode='binary',\n",
    "    subset='validation'  # Specify that this is the validation set\n",
    ")"
   ]
  },
  {
   "cell_type": "code",
   "execution_count": 29,
   "id": "44331e4e",
   "metadata": {
    "execution": {
     "iopub.execute_input": "2024-08-09T17:44:14.512660Z",
     "iopub.status.busy": "2024-08-09T17:44:14.512312Z",
     "iopub.status.idle": "2024-08-09T17:44:14.861394Z",
     "shell.execute_reply": "2024-08-09T17:44:14.860234Z"
    },
    "papermill": {
     "duration": 0.380591,
     "end_time": "2024-08-09T17:44:14.863863",
     "exception": false,
     "start_time": "2024-08-09T17:44:14.483272",
     "status": "completed"
    },
    "tags": []
   },
   "outputs": [
    {
     "name": "stdout",
     "output_type": "stream",
     "text": [
      "positive shape: (393, 55), negative shape: (7860, 55)\n",
      "Full dataset shape: (8253, 55)\n"
     ]
    }
   ],
   "source": [
    "df = get_sample(df,ratio=20)"
   ]
  },
  {
   "cell_type": "code",
   "execution_count": 30,
   "id": "cc311fe5",
   "metadata": {
    "execution": {
     "iopub.execute_input": "2024-08-09T17:44:14.928329Z",
     "iopub.status.busy": "2024-08-09T17:44:14.927997Z",
     "iopub.status.idle": "2024-08-09T17:44:14.931928Z",
     "shell.execute_reply": "2024-08-09T17:44:14.931087Z"
    },
    "papermill": {
     "duration": 0.038233,
     "end_time": "2024-08-09T17:44:14.933906",
     "exception": false,
     "start_time": "2024-08-09T17:44:14.895673",
     "status": "completed"
    },
    "tags": []
   },
   "outputs": [],
   "source": [
    "# df.head()"
   ]
  },
  {
   "cell_type": "code",
   "execution_count": 31,
   "id": "7955aeb4",
   "metadata": {
    "execution": {
     "iopub.execute_input": "2024-08-09T17:44:14.993832Z",
     "iopub.status.busy": "2024-08-09T17:44:14.993534Z",
     "iopub.status.idle": "2024-08-09T17:44:15.003686Z",
     "shell.execute_reply": "2024-08-09T17:44:15.002862Z"
    },
    "papermill": {
     "duration": 0.041322,
     "end_time": "2024-08-09T17:44:15.005684",
     "exception": false,
     "start_time": "2024-08-09T17:44:14.964362",
     "status": "completed"
    },
    "tags": []
   },
   "outputs": [],
   "source": [
    "df['target'] = df['target'].astype(str)\n",
    "df['isic_id'] = df['isic_id'] + \".jpg\" \n",
    "train_datagen = ImageDataGenerator(rescale=1./255)"
   ]
  },
  {
   "cell_type": "code",
   "execution_count": 32,
   "id": "50251fe0",
   "metadata": {
    "execution": {
     "iopub.execute_input": "2024-08-09T17:44:15.063061Z",
     "iopub.status.busy": "2024-08-09T17:44:15.062802Z",
     "iopub.status.idle": "2024-08-09T17:44:25.481267Z",
     "shell.execute_reply": "2024-08-09T17:44:25.480502Z"
    },
    "papermill": {
     "duration": 10.449264,
     "end_time": "2024-08-09T17:44:25.483402",
     "exception": false,
     "start_time": "2024-08-09T17:44:15.034138",
     "status": "completed"
    },
    "tags": []
   },
   "outputs": [
    {
     "name": "stdout",
     "output_type": "stream",
     "text": [
      "Found 8253 validated image filenames belonging to 2 classes.\n"
     ]
    }
   ],
   "source": [
    "\n",
    "# Training set\n",
    "train_data = train_datagen.flow_from_dataframe(\n",
    "    df,\n",
    "    directory=\"/kaggle/input/isic-2024-challenge/train-image/image\",\n",
    "    x_col=\"isic_id\",\n",
    "    y_col=\"target\",\n",
    "    target_size=(IMAGE_SIZE, IMAGE_SIZE),\n",
    "    batch_size=BATCH_SIZE,\n",
    "    class_mode='binary',\n",
    "    subset='training' \n",
    ")\n",
    "\n",
    "# Validation set\n",
    "# val_data = train_datagen.flow_from_dataframe(\n",
    "#     df,\n",
    "#     directory=\"/kaggle/input/isic-2024-challenge/train-image/image\",\n",
    "#     x_col=\"isic_id\",\n",
    "#     y_col=\"target\",\n",
    "#     target_size=(IMAGE_SIZE, IMAGE_SIZE),\n",
    "#     batch_size=BATCH_SIZE,\n",
    "#     class_mode='binary',\n",
    "#     subset='validation'  # Specify that this is the validation set\n",
    "# )"
   ]
  },
  {
   "cell_type": "code",
   "execution_count": 33,
   "id": "e643176f",
   "metadata": {
    "execution": {
     "iopub.execute_input": "2024-08-09T17:44:25.541642Z",
     "iopub.status.busy": "2024-08-09T17:44:25.541300Z",
     "iopub.status.idle": "2024-08-09T17:44:25.545518Z",
     "shell.execute_reply": "2024-08-09T17:44:25.544609Z"
    },
    "papermill": {
     "duration": 0.035341,
     "end_time": "2024-08-09T17:44:25.547431",
     "exception": false,
     "start_time": "2024-08-09T17:44:25.512090",
     "status": "completed"
    },
    "tags": []
   },
   "outputs": [],
   "source": [
    "# train_datagen = ImageDataGenerator(rescale=1./255)\n",
    "# train_set = train_datagen.flow_from_dataframe(df_2018,\n",
    "#                                               directory=\"/kaggle/input/isic-2018-jpg-224x224-resized/train-image/image\",\n",
    "#                                               x_col=\"isic_id\",\n",
    "#                                               y_col=\"target\",\n",
    "#                                               target_size=(224, 224),\n",
    "#                                               batch_size=32,\n",
    "#                                               class_mode='binary',\n",
    "#                                               shuffle=True)\n",
    "# print(\"Number of batches:\", len(train_set))  # This should now be > 0\n"
   ]
  },
  {
   "cell_type": "code",
   "execution_count": 34,
   "id": "44a7644e",
   "metadata": {
    "execution": {
     "iopub.execute_input": "2024-08-09T17:44:25.604856Z",
     "iopub.status.busy": "2024-08-09T17:44:25.604590Z",
     "iopub.status.idle": "2024-08-09T17:44:25.608406Z",
     "shell.execute_reply": "2024-08-09T17:44:25.607535Z"
    },
    "papermill": {
     "duration": 0.034815,
     "end_time": "2024-08-09T17:44:25.610260",
     "exception": false,
     "start_time": "2024-08-09T17:44:25.575445",
     "status": "completed"
    },
    "tags": []
   },
   "outputs": [],
   "source": [
    "# for data_batch, labels_batch in train_2018:\n",
    "#     print(\"data batch shape:\", data_batch.shape)\n",
    "#     print(\"labels batch shape:\", labels_batch.shape)\n",
    "#     break"
   ]
  },
  {
   "cell_type": "code",
   "execution_count": 35,
   "id": "05458b78",
   "metadata": {
    "execution": {
     "iopub.execute_input": "2024-08-09T17:44:25.669104Z",
     "iopub.status.busy": "2024-08-09T17:44:25.668842Z",
     "iopub.status.idle": "2024-08-09T17:44:25.672278Z",
     "shell.execute_reply": "2024-08-09T17:44:25.671448Z"
    },
    "papermill": {
     "duration": 0.034163,
     "end_time": "2024-08-09T17:44:25.674081",
     "exception": false,
     "start_time": "2024-08-09T17:44:25.639918",
     "status": "completed"
    },
    "tags": []
   },
   "outputs": [],
   "source": [
    "# train_set"
   ]
  },
  {
   "cell_type": "code",
   "execution_count": 36,
   "id": "b444c4ae",
   "metadata": {
    "execution": {
     "iopub.execute_input": "2024-08-09T17:44:25.731349Z",
     "iopub.status.busy": "2024-08-09T17:44:25.731064Z",
     "iopub.status.idle": "2024-08-09T17:44:25.734498Z",
     "shell.execute_reply": "2024-08-09T17:44:25.733779Z"
    },
    "papermill": {
     "duration": 0.034264,
     "end_time": "2024-08-09T17:44:25.736278",
     "exception": false,
     "start_time": "2024-08-09T17:44:25.702014",
     "status": "completed"
    },
    "tags": []
   },
   "outputs": [],
   "source": [
    "# df_concat_previous.columns"
   ]
  },
  {
   "cell_type": "code",
   "execution_count": 37,
   "id": "223ba876",
   "metadata": {
    "execution": {
     "iopub.execute_input": "2024-08-09T17:44:25.793860Z",
     "iopub.status.busy": "2024-08-09T17:44:25.793096Z",
     "iopub.status.idle": "2024-08-09T17:44:25.797160Z",
     "shell.execute_reply": "2024-08-09T17:44:25.796403Z"
    },
    "papermill": {
     "duration": 0.034576,
     "end_time": "2024-08-09T17:44:25.798976",
     "exception": false,
     "start_time": "2024-08-09T17:44:25.764400",
     "status": "completed"
    },
    "tags": []
   },
   "outputs": [],
   "source": [
    "# df_concat_previous = df_concat_previous[['file_path','target']]"
   ]
  },
  {
   "cell_type": "code",
   "execution_count": 38,
   "id": "0687e9be",
   "metadata": {
    "execution": {
     "iopub.execute_input": "2024-08-09T17:44:25.856334Z",
     "iopub.status.busy": "2024-08-09T17:44:25.856062Z",
     "iopub.status.idle": "2024-08-09T17:44:25.859711Z",
     "shell.execute_reply": "2024-08-09T17:44:25.858863Z"
    },
    "papermill": {
     "duration": 0.034582,
     "end_time": "2024-08-09T17:44:25.861532",
     "exception": false,
     "start_time": "2024-08-09T17:44:25.826950",
     "status": "completed"
    },
    "tags": []
   },
   "outputs": [],
   "source": [
    "# visualize(df_2020,[1,2,4,5,44,342])"
   ]
  },
  {
   "cell_type": "code",
   "execution_count": 39,
   "id": "9fb89d0c",
   "metadata": {
    "execution": {
     "iopub.execute_input": "2024-08-09T17:44:25.918763Z",
     "iopub.status.busy": "2024-08-09T17:44:25.918487Z",
     "iopub.status.idle": "2024-08-09T17:44:25.921804Z",
     "shell.execute_reply": "2024-08-09T17:44:25.921000Z"
    },
    "papermill": {
     "duration": 0.033799,
     "end_time": "2024-08-09T17:44:25.923617",
     "exception": false,
     "start_time": "2024-08-09T17:44:25.889818",
     "status": "completed"
    },
    "tags": []
   },
   "outputs": [],
   "source": [
    "# df_concat_previous.shape"
   ]
  },
  {
   "cell_type": "code",
   "execution_count": 40,
   "id": "21a13b99",
   "metadata": {
    "execution": {
     "iopub.execute_input": "2024-08-09T17:44:25.980687Z",
     "iopub.status.busy": "2024-08-09T17:44:25.979924Z",
     "iopub.status.idle": "2024-08-09T17:44:25.983367Z",
     "shell.execute_reply": "2024-08-09T17:44:25.982714Z"
    },
    "papermill": {
     "duration": 0.03353,
     "end_time": "2024-08-09T17:44:25.985147",
     "exception": false,
     "start_time": "2024-08-09T17:44:25.951617",
     "status": "completed"
    },
    "tags": []
   },
   "outputs": [],
   "source": [
    "# df_concat_previous.tail()"
   ]
  },
  {
   "cell_type": "code",
   "execution_count": 41,
   "id": "cdf46c85",
   "metadata": {
    "execution": {
     "iopub.execute_input": "2024-08-09T17:44:26.041637Z",
     "iopub.status.busy": "2024-08-09T17:44:26.041350Z",
     "iopub.status.idle": "2024-08-09T17:44:26.044867Z",
     "shell.execute_reply": "2024-08-09T17:44:26.044054Z"
    },
    "papermill": {
     "duration": 0.03388,
     "end_time": "2024-08-09T17:44:26.046693",
     "exception": false,
     "start_time": "2024-08-09T17:44:26.012813",
     "status": "completed"
    },
    "tags": []
   },
   "outputs": [],
   "source": [
    "# directory = '/kaggle/input/isic-2024-challenge/train-image'\n",
    "# df_concat['file_path'] = df_concat['isic_id'].apply(lambda x: add_path(x, directory))"
   ]
  },
  {
   "cell_type": "code",
   "execution_count": 42,
   "id": "f6d10ba1",
   "metadata": {
    "execution": {
     "iopub.execute_input": "2024-08-09T17:44:26.103384Z",
     "iopub.status.busy": "2024-08-09T17:44:26.103122Z",
     "iopub.status.idle": "2024-08-09T17:44:26.106535Z",
     "shell.execute_reply": "2024-08-09T17:44:26.105762Z"
    },
    "papermill": {
     "duration": 0.033825,
     "end_time": "2024-08-09T17:44:26.108314",
     "exception": false,
     "start_time": "2024-08-09T17:44:26.074489",
     "status": "completed"
    },
    "tags": []
   },
   "outputs": [],
   "source": [
    "# df_concat_previous = df_concat_previous[df_concat_previous['file_path'].apply(os.path.exists)]"
   ]
  },
  {
   "cell_type": "code",
   "execution_count": 43,
   "id": "32f56a6f",
   "metadata": {
    "execution": {
     "iopub.execute_input": "2024-08-09T17:44:26.165449Z",
     "iopub.status.busy": "2024-08-09T17:44:26.164986Z",
     "iopub.status.idle": "2024-08-09T17:44:26.168495Z",
     "shell.execute_reply": "2024-08-09T17:44:26.167673Z"
    },
    "papermill": {
     "duration": 0.034245,
     "end_time": "2024-08-09T17:44:26.170384",
     "exception": false,
     "start_time": "2024-08-09T17:44:26.136139",
     "status": "completed"
    },
    "tags": []
   },
   "outputs": [],
   "source": [
    "# df_concat_previous.shape"
   ]
  },
  {
   "cell_type": "markdown",
   "id": "d1c90cc8",
   "metadata": {
    "papermill": {
     "duration": 0.02749,
     "end_time": "2024-08-09T17:44:26.225519",
     "exception": false,
     "start_time": "2024-08-09T17:44:26.198029",
     "status": "completed"
    },
    "tags": []
   },
   "source": [
    "## Vision Model"
   ]
  },
  {
   "cell_type": "code",
   "execution_count": 44,
   "id": "8baf5ea5",
   "metadata": {
    "execution": {
     "iopub.execute_input": "2024-08-09T17:44:26.282600Z",
     "iopub.status.busy": "2024-08-09T17:44:26.281939Z",
     "iopub.status.idle": "2024-08-09T17:44:26.285309Z",
     "shell.execute_reply": "2024-08-09T17:44:26.284584Z"
    },
    "papermill": {
     "duration": 0.033827,
     "end_time": "2024-08-09T17:44:26.287236",
     "exception": false,
     "start_time": "2024-08-09T17:44:26.253409",
     "status": "completed"
    },
    "tags": []
   },
   "outputs": [],
   "source": [
    "# positive = df_concat[df_concat['target']==1]"
   ]
  },
  {
   "cell_type": "code",
   "execution_count": 45,
   "id": "189a768d",
   "metadata": {
    "execution": {
     "iopub.execute_input": "2024-08-09T17:44:26.343928Z",
     "iopub.status.busy": "2024-08-09T17:44:26.343484Z",
     "iopub.status.idle": "2024-08-09T17:44:26.347015Z",
     "shell.execute_reply": "2024-08-09T17:44:26.346227Z"
    },
    "papermill": {
     "duration": 0.033818,
     "end_time": "2024-08-09T17:44:26.348851",
     "exception": false,
     "start_time": "2024-08-09T17:44:26.315033",
     "status": "completed"
    },
    "tags": []
   },
   "outputs": [],
   "source": [
    "\n",
    "# augmented_positive = tf.data.Dataset.from_tensor_slices((positive['file_path'].values, positive['target'].values))\n",
    "# augmented_positive = augmented_positive.map(lambda x, y: (preprocess_image(x), y),\n",
    "#                               num_parallel_calls=tf.data.experimental.AUTOTUNE)"
   ]
  },
  {
   "cell_type": "code",
   "execution_count": 46,
   "id": "4295b021",
   "metadata": {
    "execution": {
     "iopub.execute_input": "2024-08-09T17:44:26.406421Z",
     "iopub.status.busy": "2024-08-09T17:44:26.406159Z",
     "iopub.status.idle": "2024-08-09T17:44:26.409696Z",
     "shell.execute_reply": "2024-08-09T17:44:26.408888Z"
    },
    "papermill": {
     "duration": 0.034239,
     "end_time": "2024-08-09T17:44:26.411619",
     "exception": false,
     "start_time": "2024-08-09T17:44:26.377380",
     "status": "completed"
    },
    "tags": []
   },
   "outputs": [],
   "source": [
    "\n",
    "# augmented_positive1 = tf.data.Dataset.from_tensor_slices((positive['file_path'].values, positive['target'].values))\n",
    "# augmented_positive1 = augmented_positive1.map(lambda x, y: (preprocess_image(x), y),\n",
    "#                               num_parallel_calls=tf.data.experimental.AUTOTUNE)"
   ]
  },
  {
   "cell_type": "code",
   "execution_count": 47,
   "id": "b8a3c473",
   "metadata": {
    "execution": {
     "iopub.execute_input": "2024-08-09T17:44:26.470109Z",
     "iopub.status.busy": "2024-08-09T17:44:26.469471Z",
     "iopub.status.idle": "2024-08-09T17:44:26.473208Z",
     "shell.execute_reply": "2024-08-09T17:44:26.472379Z"
    },
    "papermill": {
     "duration": 0.035318,
     "end_time": "2024-08-09T17:44:26.475022",
     "exception": false,
     "start_time": "2024-08-09T17:44:26.439704",
     "status": "completed"
    },
    "tags": []
   },
   "outputs": [],
   "source": [
    "# df_concat['image'] = df_concat['file_path'].apply(preprocess_image)\n",
    "\n",
    "# dataset = tf.data.Dataset.from_tensor_slices((df_concat['file_path'].values, df_concat['target']))\n",
    "# dataset = dataset.map(lambda x, y: (preprocess_image(x), y),\n",
    "#                               num_parallel_calls=tf.data.experimental.AUTOTUNE)"
   ]
  },
  {
   "cell_type": "code",
   "execution_count": 48,
   "id": "fc3f0cc3",
   "metadata": {
    "execution": {
     "iopub.execute_input": "2024-08-09T17:44:26.536239Z",
     "iopub.status.busy": "2024-08-09T17:44:26.535931Z",
     "iopub.status.idle": "2024-08-09T17:44:26.539928Z",
     "shell.execute_reply": "2024-08-09T17:44:26.538980Z"
    },
    "papermill": {
     "duration": 0.038124,
     "end_time": "2024-08-09T17:44:26.542081",
     "exception": false,
     "start_time": "2024-08-09T17:44:26.503957",
     "status": "completed"
    },
    "tags": []
   },
   "outputs": [],
   "source": [
    "# df_concat_previous.head()"
   ]
  },
  {
   "cell_type": "code",
   "execution_count": null,
   "id": "a57b8686",
   "metadata": {
    "papermill": {
     "duration": 0.028628,
     "end_time": "2024-08-09T17:44:26.602379",
     "exception": false,
     "start_time": "2024-08-09T17:44:26.573751",
     "status": "completed"
    },
    "tags": []
   },
   "outputs": [],
   "source": []
  },
  {
   "cell_type": "code",
   "execution_count": 49,
   "id": "bd78967f",
   "metadata": {
    "execution": {
     "iopub.execute_input": "2024-08-09T17:44:26.660090Z",
     "iopub.status.busy": "2024-08-09T17:44:26.659429Z",
     "iopub.status.idle": "2024-08-09T17:44:26.663273Z",
     "shell.execute_reply": "2024-08-09T17:44:26.662448Z"
    },
    "papermill": {
     "duration": 0.034756,
     "end_time": "2024-08-09T17:44:26.665205",
     "exception": false,
     "start_time": "2024-08-09T17:44:26.630449",
     "status": "completed"
    },
    "tags": []
   },
   "outputs": [],
   "source": [
    "# len(df_concat_previous)"
   ]
  },
  {
   "cell_type": "code",
   "execution_count": 50,
   "id": "ead0c438",
   "metadata": {
    "execution": {
     "iopub.execute_input": "2024-08-09T17:44:26.722865Z",
     "iopub.status.busy": "2024-08-09T17:44:26.722594Z",
     "iopub.status.idle": "2024-08-09T17:44:26.726222Z",
     "shell.execute_reply": "2024-08-09T17:44:26.725462Z"
    },
    "papermill": {
     "duration": 0.035072,
     "end_time": "2024-08-09T17:44:26.728033",
     "exception": false,
     "start_time": "2024-08-09T17:44:26.692961",
     "status": "completed"
    },
    "tags": []
   },
   "outputs": [],
   "source": [
    "# previous_dataset = tf.data.Dataset.from_tensor_slices((df_concat_previous['file_path'].values, df_concat_previous['target']))\n",
    "# previous_dataset = previous_dataset.map(lambda x, y: (preprocess_image(x), y))\n",
    "# previous_dataset = previous_dataset.shuffle(len(df_concat_previous))\n",
    "# previous_dataset = previous_dataset.batch(BATCH_SIZE)\n",
    "# previous_dataset = previous_dataset.prefetch(buffer_size=tf.data.experimental.AUTOTUNE)"
   ]
  },
  {
   "cell_type": "code",
   "execution_count": 51,
   "id": "09e0442f",
   "metadata": {
    "execution": {
     "iopub.execute_input": "2024-08-09T17:44:26.785050Z",
     "iopub.status.busy": "2024-08-09T17:44:26.784323Z",
     "iopub.status.idle": "2024-08-09T17:44:26.787722Z",
     "shell.execute_reply": "2024-08-09T17:44:26.787013Z"
    },
    "papermill": {
     "duration": 0.033764,
     "end_time": "2024-08-09T17:44:26.789618",
     "exception": false,
     "start_time": "2024-08-09T17:44:26.755854",
     "status": "completed"
    },
    "tags": []
   },
   "outputs": [],
   "source": [
    "# for data in previous_dataset.take(1):\n",
    "#     print(data)"
   ]
  },
  {
   "cell_type": "code",
   "execution_count": 52,
   "id": "b7d3565c",
   "metadata": {
    "execution": {
     "iopub.execute_input": "2024-08-09T17:44:26.847142Z",
     "iopub.status.busy": "2024-08-09T17:44:26.846877Z",
     "iopub.status.idle": "2024-08-09T17:44:26.850189Z",
     "shell.execute_reply": "2024-08-09T17:44:26.849407Z"
    },
    "papermill": {
     "duration": 0.033602,
     "end_time": "2024-08-09T17:44:26.851987",
     "exception": false,
     "start_time": "2024-08-09T17:44:26.818385",
     "status": "completed"
    },
    "tags": []
   },
   "outputs": [],
   "source": [
    "# for image,label in previous_dataset.take(1):\n",
    "#     print(image.shape,label.shape)"
   ]
  },
  {
   "cell_type": "code",
   "execution_count": 53,
   "id": "80de826a",
   "metadata": {
    "execution": {
     "iopub.execute_input": "2024-08-09T17:44:26.909012Z",
     "iopub.status.busy": "2024-08-09T17:44:26.908705Z",
     "iopub.status.idle": "2024-08-09T17:44:26.912272Z",
     "shell.execute_reply": "2024-08-09T17:44:26.911470Z"
    },
    "papermill": {
     "duration": 0.034104,
     "end_time": "2024-08-09T17:44:26.914103",
     "exception": false,
     "start_time": "2024-08-09T17:44:26.879999",
     "status": "completed"
    },
    "tags": []
   },
   "outputs": [],
   "source": [
    "# dataset = dataset.concatenate(augmented_positive,name='first')\n",
    "# dataset = dataset.concatenate(augmented_positive1,name='version2')"
   ]
  },
  {
   "cell_type": "code",
   "execution_count": 54,
   "id": "db0750e0",
   "metadata": {
    "execution": {
     "iopub.execute_input": "2024-08-09T17:44:26.971118Z",
     "iopub.status.busy": "2024-08-09T17:44:26.970825Z",
     "iopub.status.idle": "2024-08-09T17:44:26.974477Z",
     "shell.execute_reply": "2024-08-09T17:44:26.973786Z"
    },
    "papermill": {
     "duration": 0.034415,
     "end_time": "2024-08-09T17:44:26.976345",
     "exception": false,
     "start_time": "2024-08-09T17:44:26.941930",
     "status": "completed"
    },
    "tags": []
   },
   "outputs": [],
   "source": [
    "# dataset = dataset.shuffle(len(dataset))\n",
    "# dataset = dataset.batch(BATCH_SIZE)\n",
    "# dataset = dataset.prefetch(buffer_size=tf.data.experimental.AUTOTUNE)"
   ]
  },
  {
   "cell_type": "code",
   "execution_count": 55,
   "id": "7b7fe646",
   "metadata": {
    "execution": {
     "iopub.execute_input": "2024-08-09T17:44:27.032911Z",
     "iopub.status.busy": "2024-08-09T17:44:27.032617Z",
     "iopub.status.idle": "2024-08-09T17:44:27.036373Z",
     "shell.execute_reply": "2024-08-09T17:44:27.035527Z"
    },
    "papermill": {
     "duration": 0.034211,
     "end_time": "2024-08-09T17:44:27.038306",
     "exception": false,
     "start_time": "2024-08-09T17:44:27.004095",
     "status": "completed"
    },
    "tags": []
   },
   "outputs": [],
   "source": [
    "# efficient.get_layer(name='block4c_add').output"
   ]
  },
  {
   "cell_type": "code",
   "execution_count": 56,
   "id": "dad3360f",
   "metadata": {
    "execution": {
     "iopub.execute_input": "2024-08-09T17:44:27.094651Z",
     "iopub.status.busy": "2024-08-09T17:44:27.094375Z",
     "iopub.status.idle": "2024-08-09T17:44:27.098166Z",
     "shell.execute_reply": "2024-08-09T17:44:27.097313Z"
    },
    "papermill": {
     "duration": 0.034153,
     "end_time": "2024-08-09T17:44:27.100091",
     "exception": false,
     "start_time": "2024-08-09T17:44:27.065938",
     "status": "completed"
    },
    "tags": []
   },
   "outputs": [],
   "source": [
    "# layer_index = None\n",
    "# for i, layer in enumerate(efficient.layers):\n",
    "#     if layer.name == 'block4c_add':\n",
    "#         layer_index = i\n",
    "#         break"
   ]
  },
  {
   "cell_type": "code",
   "execution_count": 57,
   "id": "f9885330",
   "metadata": {
    "execution": {
     "iopub.execute_input": "2024-08-09T17:44:27.157535Z",
     "iopub.status.busy": "2024-08-09T17:44:27.157280Z",
     "iopub.status.idle": "2024-08-09T17:44:27.160996Z",
     "shell.execute_reply": "2024-08-09T17:44:27.160170Z"
    },
    "papermill": {
     "duration": 0.034719,
     "end_time": "2024-08-09T17:44:27.163060",
     "exception": false,
     "start_time": "2024-08-09T17:44:27.128341",
     "status": "completed"
    },
    "tags": []
   },
   "outputs": [],
   "source": [
    "# model = keras.applications.EfficientNetB0(include_top=True, weights='imagenet',input_shape=(IMAGE_SIZE[0], IMAGE_SIZE[0], 3),pooling='avg')\n"
   ]
  },
  {
   "cell_type": "code",
   "execution_count": 58,
   "id": "3f12cafe",
   "metadata": {
    "execution": {
     "iopub.execute_input": "2024-08-09T17:44:27.220328Z",
     "iopub.status.busy": "2024-08-09T17:44:27.220086Z",
     "iopub.status.idle": "2024-08-09T17:44:27.223536Z",
     "shell.execute_reply": "2024-08-09T17:44:27.222740Z"
    },
    "papermill": {
     "duration": 0.03439,
     "end_time": "2024-08-09T17:44:27.225327",
     "exception": false,
     "start_time": "2024-08-09T17:44:27.190937",
     "status": "completed"
    },
    "tags": []
   },
   "outputs": [],
   "source": [
    "# len(model.layers)"
   ]
  },
  {
   "cell_type": "code",
   "execution_count": 59,
   "id": "ae28fedd",
   "metadata": {
    "execution": {
     "iopub.execute_input": "2024-08-09T17:44:27.282217Z",
     "iopub.status.busy": "2024-08-09T17:44:27.281965Z",
     "iopub.status.idle": "2024-08-09T17:44:27.288390Z",
     "shell.execute_reply": "2024-08-09T17:44:27.287579Z"
    },
    "papermill": {
     "duration": 0.037115,
     "end_time": "2024-08-09T17:44:27.290265",
     "exception": false,
     "start_time": "2024-08-09T17:44:27.253150",
     "status": "completed"
    },
    "tags": []
   },
   "outputs": [],
   "source": [
    "def create_vision_encoder(trainable_layer, trainable=False, input_shape=(139,139,3)):\n",
    "    # Load ResNet50V2 model with lower computational complexity\n",
    "    model = keras.applications.ResNet50V2(include_top=False, weights='imagenet', input_shape=input_shape)\n",
    "    \n",
    "    # Freeze all layers by default\n",
    "    model.trainable = False\n",
    "    \n",
    "    # Optionally unfreeze layers up to trainable_layer\n",
    "    if trainable:\n",
    "        for layer in model.layers[-10:]:\n",
    "            layer.trainable = trainable\n",
    "    \n",
    "    # Define input and apply preprocessing\n",
    "    image = keras.Input(shape=input_shape, name=\"image\")\n",
    "    preprocessed = keras.applications.resnet_v2.preprocess_input(image)\n",
    "    \n",
    "    # Get the output from the model\n",
    "    outputs = model(preprocessed)\n",
    "    \n",
    "    # Return the final model\n",
    "    return keras.Model(inputs=[image], outputs=outputs, name=\"vision_encoder\")\n"
   ]
  },
  {
   "cell_type": "code",
   "execution_count": 60,
   "id": "19cabbbb",
   "metadata": {
    "execution": {
     "iopub.execute_input": "2024-08-09T17:44:27.346953Z",
     "iopub.status.busy": "2024-08-09T17:44:27.346711Z",
     "iopub.status.idle": "2024-08-09T17:44:27.350961Z",
     "shell.execute_reply": "2024-08-09T17:44:27.350037Z"
    },
    "papermill": {
     "duration": 0.034914,
     "end_time": "2024-08-09T17:44:27.352966",
     "exception": false,
     "start_time": "2024-08-09T17:44:27.318052",
     "status": "completed"
    },
    "tags": []
   },
   "outputs": [],
   "source": [
    "# def create_vision_encoder(trainable_layer,trainable=False,input_shape=(139,139,3)):\n",
    "    \n",
    "# #     resnet_v2 = keras.applications.ResNet50V2(include_top=False, weights=\"imagenet\", pooling=\"max\")\n",
    "#     model = keras.applications.EfficientNetB0(include_top=False, weights='imagenet',input_shape=(IMAGE_SIZE[0], IMAGE_SIZE[0], 3))\n",
    "#     model.trainable= False\n",
    "#     if trainable:\n",
    "#         for layer in model.layers[:trainable_layer]:\n",
    "#             layer.trainable = trainable\n",
    "    \n",
    "    \n",
    "    \n",
    "#     image = keras.Input(shape=input_shape, name=\"image\")\n",
    "    \n",
    "#     preprocessed = keras.applications.efficientnet.preprocess_input(image)\n",
    "    \n",
    "    \n",
    "#     outputs = model(preprocessed)\n",
    "# #     outputs = model.get_layer(name='block4c_add').output\n",
    "# #     outputs = model.layers[118].output\n",
    "# #     outputs = Flatten()(outputs)\n",
    "# #     outputs = layers.GlobalAveragePooling2D()(outputs)\n",
    "#     return keras.Model(inputs=[image], outputs=outputs, name=\"vision_encoder\")"
   ]
  },
  {
   "cell_type": "code",
   "execution_count": 61,
   "id": "4bfa0fab",
   "metadata": {
    "execution": {
     "iopub.execute_input": "2024-08-09T17:44:27.410365Z",
     "iopub.status.busy": "2024-08-09T17:44:27.410117Z",
     "iopub.status.idle": "2024-08-09T17:44:27.413665Z",
     "shell.execute_reply": "2024-08-09T17:44:27.412856Z"
    },
    "papermill": {
     "duration": 0.03439,
     "end_time": "2024-08-09T17:44:27.415446",
     "exception": false,
     "start_time": "2024-08-09T17:44:27.381056",
     "status": "completed"
    },
    "tags": []
   },
   "outputs": [],
   "source": [
    "# IMAGE_SIZE[0]"
   ]
  },
  {
   "cell_type": "code",
   "execution_count": 62,
   "id": "c959d6cd",
   "metadata": {
    "execution": {
     "iopub.execute_input": "2024-08-09T17:44:27.472121Z",
     "iopub.status.busy": "2024-08-09T17:44:27.471627Z",
     "iopub.status.idle": "2024-08-09T17:44:27.475130Z",
     "shell.execute_reply": "2024-08-09T17:44:27.474313Z"
    },
    "papermill": {
     "duration": 0.033656,
     "end_time": "2024-08-09T17:44:27.476998",
     "exception": false,
     "start_time": "2024-08-09T17:44:27.443342",
     "status": "completed"
    },
    "tags": []
   },
   "outputs": [],
   "source": [
    "# vision_encoder = create_vision_encoder(trainable_layer=100,input_shape=(IMAGE_SIZE[0],IMAGE_SIZE[0],3),trainable=True)\n",
    "# len(vision_encoder.layers)"
   ]
  },
  {
   "cell_type": "code",
   "execution_count": 63,
   "id": "2c928f48",
   "metadata": {
    "execution": {
     "iopub.execute_input": "2024-08-09T17:44:27.535198Z",
     "iopub.status.busy": "2024-08-09T17:44:27.534892Z",
     "iopub.status.idle": "2024-08-09T17:44:27.541395Z",
     "shell.execute_reply": "2024-08-09T17:44:27.540480Z"
    },
    "papermill": {
     "duration": 0.037463,
     "end_time": "2024-08-09T17:44:27.543282",
     "exception": false,
     "start_time": "2024-08-09T17:44:27.505819",
     "status": "completed"
    },
    "tags": []
   },
   "outputs": [],
   "source": [
    "def vision_model():\n",
    "    vision_encoder = create_vision_encoder(trainable_layer=235,input_shape=(IMAGE_SIZE,IMAGE_SIZE,3),trainable=True)\n",
    "    \n",
    "    x = layers.MaxPooling2D()(vision_encoder.output)\n",
    "    x = layers.Flatten()(x)\n",
    "    x = layers.Dense(128,activation='relu')(x)\n",
    "    x = layers.Dropout(0.2)(x)\n",
    "    x = layers.Dense(64,activation='relu')(x)\n",
    "    x = layers.Dense(1,activation='sigmoid')(x)\n",
    "\n",
    "    vision_model = keras.Model(inputs = vision_encoder.input, outputs=x)\n",
    "    vision_model.compile(optimizer=\"adam\", loss=\"binary_crossentropy\", metrics=[PartialAUC()])\n",
    "    return vision_model"
   ]
  },
  {
   "cell_type": "code",
   "execution_count": 64,
   "id": "e3f6cda7",
   "metadata": {
    "execution": {
     "iopub.execute_input": "2024-08-09T17:44:27.600157Z",
     "iopub.status.busy": "2024-08-09T17:44:27.599888Z",
     "iopub.status.idle": "2024-08-09T17:44:31.854241Z",
     "shell.execute_reply": "2024-08-09T17:44:31.853437Z"
    },
    "papermill": {
     "duration": 4.285289,
     "end_time": "2024-08-09T17:44:31.856508",
     "exception": false,
     "start_time": "2024-08-09T17:44:27.571219",
     "status": "completed"
    },
    "tags": []
   },
   "outputs": [
    {
     "name": "stdout",
     "output_type": "stream",
     "text": [
      "Downloading data from https://storage.googleapis.com/tensorflow/keras-applications/resnet/resnet50v2_weights_tf_dim_ordering_tf_kernels_notop.h5\n",
      "\u001b[1m94668760/94668760\u001b[0m \u001b[32m━━━━━━━━━━━━━━━━━━━━\u001b[0m\u001b[37m\u001b[0m \u001b[1m1s\u001b[0m 0us/step\n"
     ]
    }
   ],
   "source": [
    "model = vision_model()"
   ]
  },
  {
   "cell_type": "code",
   "execution_count": 65,
   "id": "fb98951c",
   "metadata": {
    "execution": {
     "iopub.execute_input": "2024-08-09T17:44:31.916119Z",
     "iopub.status.busy": "2024-08-09T17:44:31.915803Z",
     "iopub.status.idle": "2024-08-09T17:44:32.128027Z",
     "shell.execute_reply": "2024-08-09T17:44:32.127110Z"
    },
    "papermill": {
     "duration": 0.244408,
     "end_time": "2024-08-09T17:44:32.130345",
     "exception": false,
     "start_time": "2024-08-09T17:44:31.885937",
     "status": "completed"
    },
    "tags": []
   },
   "outputs": [],
   "source": [
    "tf.keras.backend.clear_session()"
   ]
  },
  {
   "cell_type": "code",
   "execution_count": 66,
   "id": "a57c2149",
   "metadata": {
    "execution": {
     "iopub.execute_input": "2024-08-09T17:44:32.191861Z",
     "iopub.status.busy": "2024-08-09T17:44:32.191147Z",
     "iopub.status.idle": "2024-08-09T17:44:32.195023Z",
     "shell.execute_reply": "2024-08-09T17:44:32.194209Z"
    },
    "papermill": {
     "duration": 0.036386,
     "end_time": "2024-08-09T17:44:32.196888",
     "exception": false,
     "start_time": "2024-08-09T17:44:32.160502",
     "status": "completed"
    },
    "tags": []
   },
   "outputs": [],
   "source": [
    "# from tensorflow.keras.mixed_precision import experimental as mixed_precision\n",
    "# policy = mixed_precision.Policy('mixed_float16')\n",
    "# mixed_precision.set_policy(policy)\n"
   ]
  },
  {
   "cell_type": "code",
   "execution_count": 67,
   "id": "8e55e34e",
   "metadata": {
    "execution": {
     "iopub.execute_input": "2024-08-09T17:44:32.255859Z",
     "iopub.status.busy": "2024-08-09T17:44:32.255610Z",
     "iopub.status.idle": "2024-08-09T17:44:32.259085Z",
     "shell.execute_reply": "2024-08-09T17:44:32.258291Z"
    },
    "papermill": {
     "duration": 0.03518,
     "end_time": "2024-08-09T17:44:32.260986",
     "exception": false,
     "start_time": "2024-08-09T17:44:32.225806",
     "status": "completed"
    },
    "tags": []
   },
   "outputs": [],
   "source": [
    "# from tensorflow.keras import backend as K\n",
    "# K.clear_session()"
   ]
  },
  {
   "cell_type": "code",
   "execution_count": 68,
   "id": "1baac72c",
   "metadata": {
    "execution": {
     "iopub.execute_input": "2024-08-09T17:44:32.319654Z",
     "iopub.status.busy": "2024-08-09T17:44:32.319364Z",
     "iopub.status.idle": "2024-08-09T17:44:32.323181Z",
     "shell.execute_reply": "2024-08-09T17:44:32.322349Z"
    },
    "papermill": {
     "duration": 0.035179,
     "end_time": "2024-08-09T17:44:32.324985",
     "exception": false,
     "start_time": "2024-08-09T17:44:32.289806",
     "status": "completed"
    },
    "tags": []
   },
   "outputs": [],
   "source": [
    "# # Check the length of the DataFrameIterator\n",
    "# print(\"Number of batches:\", len(train_2018))\n",
    "\n",
    "# # Fetch a batch to inspect\n",
    "# batch = next(train_2018)\n",
    "# print(\"Batch shape (images):\", batch[0].shape)\n",
    "# print(\"Batch shape (labels):\", batch[1].shape)\n",
    "\n",
    "# # Try a simple fit to see if the data passes through correctly\n",
    "# try:\n",
    "#     history = model.fit(train_2018, epochs=5)\n",
    "# except Exception as e:\n",
    "#     print(\"Error:\", e)\n"
   ]
  },
  {
   "cell_type": "code",
   "execution_count": 69,
   "id": "c284fab3",
   "metadata": {
    "execution": {
     "iopub.execute_input": "2024-08-09T17:44:32.384730Z",
     "iopub.status.busy": "2024-08-09T17:44:32.384008Z",
     "iopub.status.idle": "2024-08-09T17:44:32.388792Z",
     "shell.execute_reply": "2024-08-09T17:44:32.387362Z"
    },
    "papermill": {
     "duration": 0.037349,
     "end_time": "2024-08-09T17:44:32.391151",
     "exception": false,
     "start_time": "2024-08-09T17:44:32.353802",
     "status": "completed"
    },
    "tags": []
   },
   "outputs": [],
   "source": [
    "# history = model.fit(train_2018, epochs=5)"
   ]
  },
  {
   "cell_type": "code",
   "execution_count": 70,
   "id": "7c9d00b4",
   "metadata": {
    "execution": {
     "iopub.execute_input": "2024-08-09T17:44:32.459699Z",
     "iopub.status.busy": "2024-08-09T17:44:32.459401Z",
     "iopub.status.idle": "2024-08-09T17:44:32.463047Z",
     "shell.execute_reply": "2024-08-09T17:44:32.462199Z"
    },
    "papermill": {
     "duration": 0.035467,
     "end_time": "2024-08-09T17:44:32.464904",
     "exception": false,
     "start_time": "2024-08-09T17:44:32.429437",
     "status": "completed"
    },
    "tags": []
   },
   "outputs": [],
   "source": [
    "# history = model.fit(train_2019,validation_data=val_2019, epochs=5)"
   ]
  },
  {
   "cell_type": "code",
   "execution_count": 71,
   "id": "12e701c6",
   "metadata": {
    "execution": {
     "iopub.execute_input": "2024-08-09T17:44:32.523625Z",
     "iopub.status.busy": "2024-08-09T17:44:32.523361Z",
     "iopub.status.idle": "2024-08-09T17:44:32.527014Z",
     "shell.execute_reply": "2024-08-09T17:44:32.526199Z"
    },
    "papermill": {
     "duration": 0.035149,
     "end_time": "2024-08-09T17:44:32.528941",
     "exception": false,
     "start_time": "2024-08-09T17:44:32.493792",
     "status": "completed"
    },
    "tags": []
   },
   "outputs": [],
   "source": [
    "# history = model.fit(train_2020,validation_data=val_2020, epochs=5)"
   ]
  },
  {
   "cell_type": "code",
   "execution_count": 72,
   "id": "5e3f4ae5",
   "metadata": {
    "execution": {
     "iopub.execute_input": "2024-08-09T17:44:32.605354Z",
     "iopub.status.busy": "2024-08-09T17:44:32.604498Z",
     "iopub.status.idle": "2024-08-09T17:48:41.480400Z",
     "shell.execute_reply": "2024-08-09T17:48:41.479274Z"
    },
    "papermill": {
     "duration": 248.914301,
     "end_time": "2024-08-09T17:48:41.482585",
     "exception": false,
     "start_time": "2024-08-09T17:44:32.568284",
     "status": "completed"
    },
    "tags": []
   },
   "outputs": [
    {
     "name": "stdout",
     "output_type": "stream",
     "text": [
      "Epoch 1/10\n"
     ]
    },
    {
     "name": "stderr",
     "output_type": "stream",
     "text": [
      "/opt/conda/lib/python3.10/site-packages/keras/src/trainers/data_adapters/py_dataset_adapter.py:121: UserWarning: Your `PyDataset` class should call `super().__init__(**kwargs)` in its constructor. `**kwargs` can include `workers`, `use_multiprocessing`, `max_queue_size`. Do not pass these arguments to `fit()`, as they will be ignored.\n",
      "  self._warn_if_super_not_called()\n"
     ]
    },
    {
     "name": "stdout",
     "output_type": "stream",
     "text": [
      "\u001b[1m  1/258\u001b[0m \u001b[37m━━━━━━━━━━━━━━━━━━━━\u001b[0m \u001b[1m1:47:06\u001b[0m 25s/step - loss: 1.2894 - partial_auc: 0.0552"
     ]
    },
    {
     "name": "stderr",
     "output_type": "stream",
     "text": [
      "WARNING: All log messages before absl::InitializeLog() is called are written to STDERR\n",
      "I0000 00:00:1723225497.775141      71 device_compiler.h:186] Compiled cluster using XLA!  This line is logged at most once for the lifetime of the process.\n",
      "W0000 00:00:1723225497.824111      71 graph_launch.cc:671] Fallback to op-by-op mode because memset node breaks graph update\n"
     ]
    },
    {
     "name": "stdout",
     "output_type": "stream",
     "text": [
      "\u001b[1m 86/258\u001b[0m \u001b[32m━━━━━━\u001b[0m\u001b[37m━━━━━━━━━━━━━━\u001b[0m \u001b[1m51s\u001b[0m 300ms/step - loss: 0.5678 - partial_auc: 6.4154e-04"
     ]
    },
    {
     "name": "stderr",
     "output_type": "stream",
     "text": [
      "W0000 00:00:1723225523.205001      72 graph_launch.cc:671] Fallback to op-by-op mode because memset node breaks graph update\n"
     ]
    },
    {
     "name": "stdout",
     "output_type": "stream",
     "text": [
      "\u001b[1m258/258\u001b[0m \u001b[32m━━━━━━━━━━━━━━━━━━━━\u001b[0m\u001b[37m\u001b[0m \u001b[1m72s\u001b[0m 181ms/step - loss: 0.3618 - partial_auc: 0.0132\n",
      "Epoch 2/10\n",
      "\u001b[1m258/258\u001b[0m \u001b[32m━━━━━━━━━━━━━━━━━━━━\u001b[0m\u001b[37m\u001b[0m \u001b[1m19s\u001b[0m 71ms/step - loss: 0.1957 - partial_auc: 0.0376\n",
      "Epoch 3/10\n",
      "\u001b[1m258/258\u001b[0m \u001b[32m━━━━━━━━━━━━━━━━━━━━\u001b[0m\u001b[37m\u001b[0m \u001b[1m19s\u001b[0m 72ms/step - loss: 0.1849 - partial_auc: 0.0494\n",
      "Epoch 4/10\n",
      "\u001b[1m258/258\u001b[0m \u001b[32m━━━━━━━━━━━━━━━━━━━━\u001b[0m\u001b[37m\u001b[0m \u001b[1m19s\u001b[0m 73ms/step - loss: 0.1852 - partial_auc: 0.0649\n",
      "Epoch 5/10\n",
      "\u001b[1m258/258\u001b[0m \u001b[32m━━━━━━━━━━━━━━━━━━━━\u001b[0m\u001b[37m\u001b[0m \u001b[1m20s\u001b[0m 74ms/step - loss: 0.1800 - partial_auc: 0.0789\n",
      "Epoch 6/10\n",
      "\u001b[1m258/258\u001b[0m \u001b[32m━━━━━━━━━━━━━━━━━━━━\u001b[0m\u001b[37m\u001b[0m \u001b[1m20s\u001b[0m 75ms/step - loss: 0.1738 - partial_auc: 0.0802\n",
      "Epoch 7/10\n",
      "\u001b[1m258/258\u001b[0m \u001b[32m━━━━━━━━━━━━━━━━━━━━\u001b[0m\u001b[37m\u001b[0m \u001b[1m20s\u001b[0m 76ms/step - loss: 0.1674 - partial_auc: 0.0922\n",
      "Epoch 8/10\n",
      "\u001b[1m258/258\u001b[0m \u001b[32m━━━━━━━━━━━━━━━━━━━━\u001b[0m\u001b[37m\u001b[0m \u001b[1m20s\u001b[0m 75ms/step - loss: 0.1686 - partial_auc: 0.1001\n",
      "Epoch 9/10\n",
      "\u001b[1m258/258\u001b[0m \u001b[32m━━━━━━━━━━━━━━━━━━━━\u001b[0m\u001b[37m\u001b[0m \u001b[1m21s\u001b[0m 81ms/step - loss: 0.1749 - partial_auc: 0.0930\n",
      "Epoch 10/10\n",
      "\u001b[1m258/258\u001b[0m \u001b[32m━━━━━━━━━━━━━━━━━━━━\u001b[0m\u001b[37m\u001b[0m \u001b[1m20s\u001b[0m 75ms/step - loss: 0.1702 - partial_auc: 0.1015\n"
     ]
    }
   ],
   "source": [
    "history = model.fit(train_data, epochs=10)"
   ]
  },
  {
   "cell_type": "code",
   "execution_count": 73,
   "id": "17baba79",
   "metadata": {
    "execution": {
     "iopub.execute_input": "2024-08-09T17:48:41.958211Z",
     "iopub.status.busy": "2024-08-09T17:48:41.957253Z",
     "iopub.status.idle": "2024-08-09T17:48:41.961937Z",
     "shell.execute_reply": "2024-08-09T17:48:41.961073Z"
    },
    "papermill": {
     "duration": 0.242465,
     "end_time": "2024-08-09T17:48:41.963802",
     "exception": false,
     "start_time": "2024-08-09T17:48:41.721337",
     "status": "completed"
    },
    "tags": []
   },
   "outputs": [],
   "source": [
    "import h5py\n"
   ]
  },
  {
   "cell_type": "code",
   "execution_count": 74,
   "id": "1d5d9c78",
   "metadata": {
    "execution": {
     "iopub.execute_input": "2024-08-09T17:48:42.480677Z",
     "iopub.status.busy": "2024-08-09T17:48:42.479658Z",
     "iopub.status.idle": "2024-08-09T17:48:42.484522Z",
     "shell.execute_reply": "2024-08-09T17:48:42.483759Z"
    },
    "papermill": {
     "duration": 0.288962,
     "end_time": "2024-08-09T17:48:42.486442",
     "exception": false,
     "start_time": "2024-08-09T17:48:42.197480",
     "status": "completed"
    },
    "tags": []
   },
   "outputs": [],
   "source": [
    "\n",
    "\n",
    "# # Load the HDF5 file\n",
    "hdf5_file_path = '/kaggle/input/isic-2024-challenge/test-image.hdf5'\n",
    "# hdf5_file = h5py.File(hdf5_file_path, 'r')\n",
    "\n",
    "# # Explore the structure of the HDF5 file\n",
    "# def print_hdf5_structure(hdf5_file):\n",
    "#     for key in hdf5_file.keys():\n",
    "#         print(f\"Key: {key}\")\n",
    "#         print(f\"Shape: {hdf5_file[key].shape}\")\n",
    "#         print(f\"Datatype: {hdf5_file[key].dtype}\")\n",
    "\n",
    "# # Print the structure\n",
    "# print_hdf5_structure(hdf5_file)\n",
    "\n",
    "# # Close the file\n",
    "# hdf5_file.close()\n"
   ]
  },
  {
   "cell_type": "code",
   "execution_count": 75,
   "id": "2c39b77f",
   "metadata": {
    "execution": {
     "iopub.execute_input": "2024-08-09T17:48:42.977380Z",
     "iopub.status.busy": "2024-08-09T17:48:42.976641Z",
     "iopub.status.idle": "2024-08-09T17:48:43.008925Z",
     "shell.execute_reply": "2024-08-09T17:48:43.008084Z"
    },
    "papermill": {
     "duration": 0.269863,
     "end_time": "2024-08-09T17:48:43.010837",
     "exception": false,
     "start_time": "2024-08-09T17:48:42.740974",
     "status": "completed"
    },
    "tags": []
   },
   "outputs": [],
   "source": [
    "hdf5_file = h5py.File(hdf5_file_path, 'r')\n",
    "\n",
    "# Function to preprocess the image\n",
    "def preprocess_image(image_bytes):\n",
    "    # Decode the image from the byte string\n",
    "    image = tf.io.decode_jpeg(image_bytes)\n",
    "    \n",
    "    # Resize to the required input size of your model\n",
    "    image = tf.image.resize(image, [224, 224])  # Adjust size as per your model\n",
    "    \n",
    "    # Normalize the image (if required)\n",
    "    image = image / 255.0\n",
    "    \n",
    "    return image\n",
    "\n",
    "# Prepare the images and their corresponding IDs\n",
    "image_list = []\n",
    "image_ids = []\n",
    "\n",
    "for key in hdf5_file.keys():\n",
    "    image_bytes = hdf5_file[key][()]\n",
    "    image = preprocess_image(image_bytes)\n",
    "    \n",
    "    image_list.append(image)\n",
    "    image_ids.append(key)\n",
    "\n",
    "# Convert the list of images to a TensorFlow tensor\n",
    "images_tensor = tf.stack(image_list)\n",
    "\n",
    "# You now have the images ready for prediction\n",
    "# Example: predictions = model.predict(images_tensor)\n",
    "\n",
    "# Make sure to close the file\n",
    "hdf5_file.close()"
   ]
  },
  {
   "cell_type": "code",
   "execution_count": 76,
   "id": "b2fba8b7",
   "metadata": {
    "execution": {
     "iopub.execute_input": "2024-08-09T17:48:43.483119Z",
     "iopub.status.busy": "2024-08-09T17:48:43.482217Z",
     "iopub.status.idle": "2024-08-09T17:48:43.500427Z",
     "shell.execute_reply": "2024-08-09T17:48:43.499586Z"
    },
    "papermill": {
     "duration": 0.256536,
     "end_time": "2024-08-09T17:48:43.502396",
     "exception": false,
     "start_time": "2024-08-09T17:48:43.245860",
     "status": "completed"
    },
    "tags": []
   },
   "outputs": [
    {
     "data": {
      "text/html": [
       "<div>\n",
       "<style scoped>\n",
       "    .dataframe tbody tr th:only-of-type {\n",
       "        vertical-align: middle;\n",
       "    }\n",
       "\n",
       "    .dataframe tbody tr th {\n",
       "        vertical-align: top;\n",
       "    }\n",
       "\n",
       "    .dataframe thead th {\n",
       "        text-align: right;\n",
       "    }\n",
       "</style>\n",
       "<table border=\"1\" class=\"dataframe\">\n",
       "  <thead>\n",
       "    <tr style=\"text-align: right;\">\n",
       "      <th></th>\n",
       "      <th>isic_id</th>\n",
       "      <th>target</th>\n",
       "    </tr>\n",
       "  </thead>\n",
       "  <tbody>\n",
       "    <tr>\n",
       "      <th>0</th>\n",
       "      <td>ISIC_0015657</td>\n",
       "      <td>0.3</td>\n",
       "    </tr>\n",
       "    <tr>\n",
       "      <th>1</th>\n",
       "      <td>ISIC_0015729</td>\n",
       "      <td>0.3</td>\n",
       "    </tr>\n",
       "    <tr>\n",
       "      <th>2</th>\n",
       "      <td>ISIC_0015740</td>\n",
       "      <td>0.3</td>\n",
       "    </tr>\n",
       "  </tbody>\n",
       "</table>\n",
       "</div>"
      ],
      "text/plain": [
       "        isic_id  target\n",
       "0  ISIC_0015657     0.3\n",
       "1  ISIC_0015729     0.3\n",
       "2  ISIC_0015740     0.3"
      ]
     },
     "execution_count": 76,
     "metadata": {},
     "output_type": "execute_result"
    }
   ],
   "source": [
    "submission = pd.read_csv('/kaggle/input/isic-2024-challenge/sample_submission.csv')\n",
    "submission"
   ]
  },
  {
   "cell_type": "code",
   "execution_count": 77,
   "id": "beefeaf2",
   "metadata": {
    "execution": {
     "iopub.execute_input": "2024-08-09T17:48:43.982437Z",
     "iopub.status.busy": "2024-08-09T17:48:43.981601Z",
     "iopub.status.idle": "2024-08-09T17:48:51.084530Z",
     "shell.execute_reply": "2024-08-09T17:48:51.083250Z"
    },
    "papermill": {
     "duration": 7.339257,
     "end_time": "2024-08-09T17:48:51.086708",
     "exception": false,
     "start_time": "2024-08-09T17:48:43.747451",
     "status": "completed"
    },
    "tags": []
   },
   "outputs": [
    {
     "name": "stdout",
     "output_type": "stream",
     "text": [
      "\u001b[1m1/1\u001b[0m \u001b[32m━━━━━━━━━━━━━━━━━━━━\u001b[0m\u001b[37m\u001b[0m \u001b[1m7s\u001b[0m 7s/step\n"
     ]
    },
    {
     "name": "stderr",
     "output_type": "stream",
     "text": [
      "W0000 00:00:1723225731.071587      72 graph_launch.cc:671] Fallback to op-by-op mode because memset node breaks graph update\n"
     ]
    }
   ],
   "source": [
    "# Assuming `model` is your trained TensorFlow model\n",
    "\n",
    "# Make predictions\n",
    "predictions = model.predict(images_tensor)\n",
    "\n",
    "# Assuming binary classification, get the predicted class\n",
    "predicted_classes = np.argmax(predictions, axis=1)\n",
    "\n",
    "# Create a DataFrame for submission\n",
    "# import pandas as pd\n",
    "\n",
    "submission_df = pd.DataFrame({\n",
    "    'isic_id': image_ids,\n",
    "    'target': predicted_classes\n",
    "})\n",
    "\n",
    "# Save to a CSV file for submission\n",
    "submission_df.to_csv('submission.csv', index=False)\n"
   ]
  },
  {
   "cell_type": "code",
   "execution_count": 78,
   "id": "9d52ec59",
   "metadata": {
    "execution": {
     "iopub.execute_input": "2024-08-09T17:48:51.625533Z",
     "iopub.status.busy": "2024-08-09T17:48:51.624645Z",
     "iopub.status.idle": "2024-08-09T17:48:51.633381Z",
     "shell.execute_reply": "2024-08-09T17:48:51.632586Z"
    },
    "papermill": {
     "duration": 0.288292,
     "end_time": "2024-08-09T17:48:51.635434",
     "exception": false,
     "start_time": "2024-08-09T17:48:51.347142",
     "status": "completed"
    },
    "tags": []
   },
   "outputs": [
    {
     "data": {
      "text/html": [
       "<div>\n",
       "<style scoped>\n",
       "    .dataframe tbody tr th:only-of-type {\n",
       "        vertical-align: middle;\n",
       "    }\n",
       "\n",
       "    .dataframe tbody tr th {\n",
       "        vertical-align: top;\n",
       "    }\n",
       "\n",
       "    .dataframe thead th {\n",
       "        text-align: right;\n",
       "    }\n",
       "</style>\n",
       "<table border=\"1\" class=\"dataframe\">\n",
       "  <thead>\n",
       "    <tr style=\"text-align: right;\">\n",
       "      <th></th>\n",
       "      <th>isic_id</th>\n",
       "      <th>target</th>\n",
       "    </tr>\n",
       "  </thead>\n",
       "  <tbody>\n",
       "    <tr>\n",
       "      <th>0</th>\n",
       "      <td>ISIC_0015657</td>\n",
       "      <td>0</td>\n",
       "    </tr>\n",
       "    <tr>\n",
       "      <th>1</th>\n",
       "      <td>ISIC_0015729</td>\n",
       "      <td>0</td>\n",
       "    </tr>\n",
       "    <tr>\n",
       "      <th>2</th>\n",
       "      <td>ISIC_0015740</td>\n",
       "      <td>0</td>\n",
       "    </tr>\n",
       "  </tbody>\n",
       "</table>\n",
       "</div>"
      ],
      "text/plain": [
       "        isic_id  target\n",
       "0  ISIC_0015657       0\n",
       "1  ISIC_0015729       0\n",
       "2  ISIC_0015740       0"
      ]
     },
     "execution_count": 78,
     "metadata": {},
     "output_type": "execute_result"
    }
   ],
   "source": [
    "submission_df"
   ]
  },
  {
   "cell_type": "code",
   "execution_count": 79,
   "id": "66581d6e",
   "metadata": {
    "execution": {
     "iopub.execute_input": "2024-08-09T17:48:52.120460Z",
     "iopub.status.busy": "2024-08-09T17:48:52.120101Z",
     "iopub.status.idle": "2024-08-09T17:48:52.124208Z",
     "shell.execute_reply": "2024-08-09T17:48:52.123397Z"
    },
    "papermill": {
     "duration": 0.242857,
     "end_time": "2024-08-09T17:48:52.126074",
     "exception": false,
     "start_time": "2024-08-09T17:48:51.883217",
     "status": "completed"
    },
    "tags": []
   },
   "outputs": [],
   "source": [
    "# shuffled_dataset = dataset.shuffle(len(dataset))\n",
    "# num_test_samples = int(len(dataset) * 0.2)  # Assuming 20% of the dataset for testing\n",
    "# test_dataset = shuffled_dataset.take(num_test_samples)\n",
    "# train_dataset = shuffled_dataset.take(int(len(dataset) * 0.8))"
   ]
  },
  {
   "cell_type": "code",
   "execution_count": 80,
   "id": "bd21575a",
   "metadata": {
    "execution": {
     "iopub.execute_input": "2024-08-09T17:48:52.619729Z",
     "iopub.status.busy": "2024-08-09T17:48:52.619057Z",
     "iopub.status.idle": "2024-08-09T17:48:52.623209Z",
     "shell.execute_reply": "2024-08-09T17:48:52.622334Z"
    },
    "papermill": {
     "duration": 0.264034,
     "end_time": "2024-08-09T17:48:52.625040",
     "exception": false,
     "start_time": "2024-08-09T17:48:52.361006",
     "status": "completed"
    },
    "tags": []
   },
   "outputs": [],
   "source": [
    "# len(test_dataset)"
   ]
  },
  {
   "cell_type": "code",
   "execution_count": 81,
   "id": "05ffe653",
   "metadata": {
    "execution": {
     "iopub.execute_input": "2024-08-09T17:48:53.102372Z",
     "iopub.status.busy": "2024-08-09T17:48:53.101517Z",
     "iopub.status.idle": "2024-08-09T17:48:53.105673Z",
     "shell.execute_reply": "2024-08-09T17:48:53.104770Z"
    },
    "papermill": {
     "duration": 0.244847,
     "end_time": "2024-08-09T17:48:53.107563",
     "exception": false,
     "start_time": "2024-08-09T17:48:52.862716",
     "status": "completed"
    },
    "tags": []
   },
   "outputs": [],
   "source": [
    "# for image, label in dataset.take(1):\n",
    "#     print(label)"
   ]
  },
  {
   "cell_type": "code",
   "execution_count": 82,
   "id": "6f9dcd95",
   "metadata": {
    "execution": {
     "iopub.execute_input": "2024-08-09T17:48:53.581011Z",
     "iopub.status.busy": "2024-08-09T17:48:53.580648Z",
     "iopub.status.idle": "2024-08-09T17:48:53.584684Z",
     "shell.execute_reply": "2024-08-09T17:48:53.583811Z"
    },
    "papermill": {
     "duration": 0.244013,
     "end_time": "2024-08-09T17:48:53.586853",
     "exception": false,
     "start_time": "2024-08-09T17:48:53.342840",
     "status": "completed"
    },
    "tags": []
   },
   "outputs": [],
   "source": [
    "# model = vision_model()\n",
    "# history = model.fit(previous_dataset, epochs=1)"
   ]
  },
  {
   "cell_type": "code",
   "execution_count": 83,
   "id": "7dbf57c6",
   "metadata": {
    "execution": {
     "iopub.execute_input": "2024-08-09T17:48:54.107691Z",
     "iopub.status.busy": "2024-08-09T17:48:54.106837Z",
     "iopub.status.idle": "2024-08-09T17:48:54.112226Z",
     "shell.execute_reply": "2024-08-09T17:48:54.111364Z"
    },
    "papermill": {
     "duration": 0.243596,
     "end_time": "2024-08-09T17:48:54.114162",
     "exception": false,
     "start_time": "2024-08-09T17:48:53.870566",
     "status": "completed"
    },
    "tags": []
   },
   "outputs": [],
   "source": [
    "# skf = StratifiedKFold(n_splits=5)\n",
    "# fold_no = 1\n",
    "# results = []\n",
    "# images = df_concat[['file_path']]\n",
    "# target = df_concat[['target']]\n",
    "\n",
    "# for train_index, val_index in skf.split(images, target):\n",
    "#     print(f'Fold {fold_no}...')\n",
    "    \n",
    "#     X_train, X_val = images.iloc[train_index], images.iloc[val_index]\n",
    "#     y_train, y_val = target.iloc[train_index], target.iloc[val_index]\n",
    "    \n",
    "#     train_df = pd.concat([X_train, y_train],axis=1)\n",
    "#     test_df = pd.concat([X_val, y_val],axis=1)\n",
    "#     print(train_df.shape,test_df.shape)\n",
    "    \n",
    "#     vision_train_ds = create_dataset(train_df, IMAGE_SIZE, BATCH_SIZE,training=True,return_type='images')\n",
    "#     vision_test_ds = create_dataset(test_df, IMAGE_SIZE, BATCH_SIZE,return_type='images')\n",
    "#     # Instantiate the model for each fold\n",
    "#     model = vision_model()\n",
    "    \n",
    "#     # Train the model\n",
    "#     history = model.fit(vision_train_ds, epochs=2, validation_data=vision_test_ds,class_weight=class_weight)\n",
    "    \n",
    "#     # Evaluate the model on the validation set\n",
    "#     y_true,y_pred = unbatch_test_dataset(vision_test_ds,model)\n",
    "#     score = compute_partial_auc(y_true,y_pred, min_tpr=0.80)\n",
    "# #     scores = model.evaluate(vision_test_ds, verbose=0)\n",
    "#     print(f'Validation auc: {score}')\n",
    "    \n",
    "#     results.append(score)\n",
    "#     fold_no += 1\n",
    "\n",
    "# # Calculate the average performance\n",
    "# # average_score = np.mean(results, axis=0)\n",
    "# # print(f'\\nAverage validation loss: {average_score[0]} - Average validation accuracy: {average_score[1]}')\n"
   ]
  },
  {
   "cell_type": "markdown",
   "id": "8113f0e5",
   "metadata": {
    "papermill": {
     "duration": 0.233921,
     "end_time": "2024-08-09T17:48:54.583366",
     "exception": false,
     "start_time": "2024-08-09T17:48:54.349445",
     "status": "completed"
    },
    "tags": []
   },
   "source": [
    "### Metadata Transformations "
   ]
  },
  {
   "cell_type": "code",
   "execution_count": 84,
   "id": "a0d773be",
   "metadata": {
    "execution": {
     "iopub.execute_input": "2024-08-09T17:48:55.055719Z",
     "iopub.status.busy": "2024-08-09T17:48:55.054875Z",
     "iopub.status.idle": "2024-08-09T17:48:55.058915Z",
     "shell.execute_reply": "2024-08-09T17:48:55.058033Z"
    },
    "papermill": {
     "duration": 0.240408,
     "end_time": "2024-08-09T17:48:55.060727",
     "exception": false,
     "start_time": "2024-08-09T17:48:54.820319",
     "status": "completed"
    },
    "tags": []
   },
   "outputs": [],
   "source": [
    "# df_concat.columns"
   ]
  },
  {
   "cell_type": "code",
   "execution_count": 85,
   "id": "d7ab573b",
   "metadata": {
    "execution": {
     "iopub.execute_input": "2024-08-09T17:48:55.530363Z",
     "iopub.status.busy": "2024-08-09T17:48:55.529999Z",
     "iopub.status.idle": "2024-08-09T17:48:55.534339Z",
     "shell.execute_reply": "2024-08-09T17:48:55.533422Z"
    },
    "papermill": {
     "duration": 0.240843,
     "end_time": "2024-08-09T17:48:55.536253",
     "exception": false,
     "start_time": "2024-08-09T17:48:55.295410",
     "status": "completed"
    },
    "tags": []
   },
   "outputs": [],
   "source": [
    "# drop_columns = [\n",
    "#     'isic_id', 'patient_id', 'image_type', 'tbp_tile_type', 'attribution', \n",
    "#     'copyright_license', 'lesion_id', 'iddx_full', 'iddx_1', 'iddx_2', \n",
    "#     'iddx_3', 'iddx_4', 'iddx_5', 'mel_mitotic_index', 'mel_thick_mm', \n",
    "#     'tbp_lv_dnn_lesion_confidence'\n",
    "# ]\n",
    "# df_concat = df_concat.drop(drop_columns,axis=1)"
   ]
  },
  {
   "cell_type": "code",
   "execution_count": 86,
   "id": "8c122e4c",
   "metadata": {
    "execution": {
     "iopub.execute_input": "2024-08-09T17:48:56.009455Z",
     "iopub.status.busy": "2024-08-09T17:48:56.009090Z",
     "iopub.status.idle": "2024-08-09T17:48:56.013194Z",
     "shell.execute_reply": "2024-08-09T17:48:56.012397Z"
    },
    "papermill": {
     "duration": 0.243517,
     "end_time": "2024-08-09T17:48:56.015106",
     "exception": false,
     "start_time": "2024-08-09T17:48:55.771589",
     "status": "completed"
    },
    "tags": []
   },
   "outputs": [],
   "source": [
    "# df_concat.shape"
   ]
  },
  {
   "cell_type": "code",
   "execution_count": 87,
   "id": "8fc50fb1",
   "metadata": {
    "execution": {
     "iopub.execute_input": "2024-08-09T17:48:56.491662Z",
     "iopub.status.busy": "2024-08-09T17:48:56.491308Z",
     "iopub.status.idle": "2024-08-09T17:48:56.495276Z",
     "shell.execute_reply": "2024-08-09T17:48:56.494381Z"
    },
    "papermill": {
     "duration": 0.246138,
     "end_time": "2024-08-09T17:48:56.497193",
     "exception": false,
     "start_time": "2024-08-09T17:48:56.251055",
     "status": "completed"
    },
    "tags": []
   },
   "outputs": [],
   "source": [
    "# df_concat.head()"
   ]
  },
  {
   "cell_type": "code",
   "execution_count": 88,
   "id": "54db1b67",
   "metadata": {
    "execution": {
     "iopub.execute_input": "2024-08-09T17:48:57.015714Z",
     "iopub.status.busy": "2024-08-09T17:48:57.015068Z",
     "iopub.status.idle": "2024-08-09T17:48:57.019150Z",
     "shell.execute_reply": "2024-08-09T17:48:57.018279Z"
    },
    "papermill": {
     "duration": 0.241577,
     "end_time": "2024-08-09T17:48:57.021023",
     "exception": false,
     "start_time": "2024-08-09T17:48:56.779446",
     "status": "completed"
    },
    "tags": []
   },
   "outputs": [],
   "source": [
    "# df_concat.dtypes"
   ]
  },
  {
   "cell_type": "code",
   "execution_count": 89,
   "id": "6226e7fe",
   "metadata": {
    "execution": {
     "iopub.execute_input": "2024-08-09T17:48:57.491538Z",
     "iopub.status.busy": "2024-08-09T17:48:57.491186Z",
     "iopub.status.idle": "2024-08-09T17:48:57.495343Z",
     "shell.execute_reply": "2024-08-09T17:48:57.494426Z"
    },
    "papermill": {
     "duration": 0.242144,
     "end_time": "2024-08-09T17:48:57.497337",
     "exception": false,
     "start_time": "2024-08-09T17:48:57.255193",
     "status": "completed"
    },
    "tags": []
   },
   "outputs": [],
   "source": [
    "# df_concat  = encode(df_concat,['sex','anatom_site_general','tbp_lv_location','tbp_lv_location_simple'])"
   ]
  },
  {
   "cell_type": "code",
   "execution_count": 90,
   "id": "a594e9c1",
   "metadata": {
    "execution": {
     "iopub.execute_input": "2024-08-09T17:48:57.976638Z",
     "iopub.status.busy": "2024-08-09T17:48:57.975993Z",
     "iopub.status.idle": "2024-08-09T17:48:57.980014Z",
     "shell.execute_reply": "2024-08-09T17:48:57.979150Z"
    },
    "papermill": {
     "duration": 0.247273,
     "end_time": "2024-08-09T17:48:57.981865",
     "exception": false,
     "start_time": "2024-08-09T17:48:57.734592",
     "status": "completed"
    },
    "tags": []
   },
   "outputs": [],
   "source": [
    "# df_concat.head()"
   ]
  },
  {
   "cell_type": "code",
   "execution_count": 91,
   "id": "27268b63",
   "metadata": {
    "execution": {
     "iopub.execute_input": "2024-08-09T17:48:58.453518Z",
     "iopub.status.busy": "2024-08-09T17:48:58.452785Z",
     "iopub.status.idle": "2024-08-09T17:48:58.456908Z",
     "shell.execute_reply": "2024-08-09T17:48:58.456027Z"
    },
    "papermill": {
     "duration": 0.243707,
     "end_time": "2024-08-09T17:48:58.458829",
     "exception": false,
     "start_time": "2024-08-09T17:48:58.215122",
     "status": "completed"
    },
    "tags": []
   },
   "outputs": [],
   "source": [
    "# df_concat.columns"
   ]
  },
  {
   "cell_type": "code",
   "execution_count": 92,
   "id": "a3ff5fa3",
   "metadata": {
    "execution": {
     "iopub.execute_input": "2024-08-09T17:48:58.931647Z",
     "iopub.status.busy": "2024-08-09T17:48:58.931251Z",
     "iopub.status.idle": "2024-08-09T17:48:58.935810Z",
     "shell.execute_reply": "2024-08-09T17:48:58.934940Z"
    },
    "papermill": {
     "duration": 0.243787,
     "end_time": "2024-08-09T17:48:58.937624",
     "exception": false,
     "start_time": "2024-08-09T17:48:58.693837",
     "status": "completed"
    },
    "tags": []
   },
   "outputs": [],
   "source": [
    "# columns = ['age_approx', 'sex', 'anatom_site_general',\n",
    "#        'clin_size_long_diam_mm', 'tbp_lv_A', 'tbp_lv_Aext', 'tbp_lv_B',\n",
    "#        'tbp_lv_Bext', 'tbp_lv_C', 'tbp_lv_Cext', 'tbp_lv_H', 'tbp_lv_Hext',\n",
    "#        'tbp_lv_L', 'tbp_lv_Lext', 'tbp_lv_areaMM2', 'tbp_lv_area_perim_ratio',\n",
    "#        'tbp_lv_color_std_mean', 'tbp_lv_deltaA', 'tbp_lv_deltaB',\n",
    "#        'tbp_lv_deltaL', 'tbp_lv_deltaLB', 'tbp_lv_deltaLBnorm',\n",
    "#        'tbp_lv_eccentricity', 'tbp_lv_location', 'tbp_lv_location_simple',\n",
    "#        'tbp_lv_minorAxisMM', 'tbp_lv_nevi_confidence', 'tbp_lv_norm_border',\n",
    "#        'tbp_lv_norm_color', 'tbp_lv_perimeterMM',\n",
    "#        'tbp_lv_radial_color_std_max', 'tbp_lv_stdL', 'tbp_lv_stdLExt',\n",
    "#        'tbp_lv_symm_2axis', 'tbp_lv_symm_2axis_angle', 'tbp_lv_x', 'tbp_lv_y',\n",
    "#        'tbp_lv_z']"
   ]
  },
  {
   "cell_type": "code",
   "execution_count": 93,
   "id": "ab91fac2",
   "metadata": {
    "execution": {
     "iopub.execute_input": "2024-08-09T17:48:59.406569Z",
     "iopub.status.busy": "2024-08-09T17:48:59.405900Z",
     "iopub.status.idle": "2024-08-09T17:48:59.410073Z",
     "shell.execute_reply": "2024-08-09T17:48:59.409078Z"
    },
    "papermill": {
     "duration": 0.241375,
     "end_time": "2024-08-09T17:48:59.412070",
     "exception": false,
     "start_time": "2024-08-09T17:48:59.170695",
     "status": "completed"
    },
    "tags": []
   },
   "outputs": [],
   "source": [
    "# df_concat = scale_columns(df_concat,columns)"
   ]
  },
  {
   "cell_type": "code",
   "execution_count": 94,
   "id": "24b028f2",
   "metadata": {
    "execution": {
     "iopub.execute_input": "2024-08-09T17:48:59.884484Z",
     "iopub.status.busy": "2024-08-09T17:48:59.884129Z",
     "iopub.status.idle": "2024-08-09T17:48:59.888187Z",
     "shell.execute_reply": "2024-08-09T17:48:59.887295Z"
    },
    "papermill": {
     "duration": 0.243973,
     "end_time": "2024-08-09T17:48:59.890071",
     "exception": false,
     "start_time": "2024-08-09T17:48:59.646098",
     "status": "completed"
    },
    "tags": []
   },
   "outputs": [],
   "source": [
    "# df_concat.head()"
   ]
  },
  {
   "cell_type": "code",
   "execution_count": 95,
   "id": "96e82e9f",
   "metadata": {
    "execution": {
     "iopub.execute_input": "2024-08-09T17:49:00.404976Z",
     "iopub.status.busy": "2024-08-09T17:49:00.404606Z",
     "iopub.status.idle": "2024-08-09T17:49:00.409003Z",
     "shell.execute_reply": "2024-08-09T17:49:00.408052Z"
    },
    "papermill": {
     "duration": 0.242644,
     "end_time": "2024-08-09T17:49:00.410952",
     "exception": false,
     "start_time": "2024-08-09T17:49:00.168308",
     "status": "completed"
    },
    "tags": []
   },
   "outputs": [],
   "source": [
    "# train_df, test_df = train_test_split(df_concat, test_size=0.11, \n",
    "#                                      stratify=df_concat[\"target\"].values, random_state=42)\n",
    "# # 5% for validation\n",
    "# # train_df, val_df = train_test_split(train_df, test_size=0.11,stratify=train_df[\"target\"].values, random_state=42)\n",
    "\n",
    "# print(f\"Total training examples: {len(train_df)}\")\n",
    "# # print(f\"Total validation examples: {len(val_df)}\")\n",
    "# print(f\"Total test examples: {len(test_df)}\")"
   ]
  },
  {
   "cell_type": "code",
   "execution_count": 96,
   "id": "81afa99b",
   "metadata": {
    "execution": {
     "iopub.execute_input": "2024-08-09T17:49:00.880861Z",
     "iopub.status.busy": "2024-08-09T17:49:00.880146Z",
     "iopub.status.idle": "2024-08-09T17:49:00.884187Z",
     "shell.execute_reply": "2024-08-09T17:49:00.883312Z"
    },
    "papermill": {
     "duration": 0.242597,
     "end_time": "2024-08-09T17:49:00.886004",
     "exception": false,
     "start_time": "2024-08-09T17:49:00.643407",
     "status": "completed"
    },
    "tags": []
   },
   "outputs": [],
   "source": [
    "# labels = df['target']"
   ]
  },
  {
   "cell_type": "code",
   "execution_count": 97,
   "id": "8b1bbf5a",
   "metadata": {
    "execution": {
     "iopub.execute_input": "2024-08-09T17:49:01.371478Z",
     "iopub.status.busy": "2024-08-09T17:49:01.370378Z",
     "iopub.status.idle": "2024-08-09T17:49:01.374693Z",
     "shell.execute_reply": "2024-08-09T17:49:01.373878Z"
    },
    "papermill": {
     "duration": 0.256501,
     "end_time": "2024-08-09T17:49:01.376841",
     "exception": false,
     "start_time": "2024-08-09T17:49:01.120340",
     "status": "completed"
    },
    "tags": []
   },
   "outputs": [],
   "source": [
    "# labels.shape"
   ]
  },
  {
   "cell_type": "markdown",
   "id": "732dc3db",
   "metadata": {
    "papermill": {
     "duration": 0.234527,
     "end_time": "2024-08-09T17:49:01.852619",
     "exception": false,
     "start_time": "2024-08-09T17:49:01.618092",
     "status": "completed"
    },
    "tags": []
   },
   "source": [
    "https://github.com/sayakpaul/Multimodal-Entailment-Baseline/blob/main/multimodal_entailment.ipynb"
   ]
  },
  {
   "cell_type": "code",
   "execution_count": 98,
   "id": "240b3642",
   "metadata": {
    "execution": {
     "iopub.execute_input": "2024-08-09T17:49:02.364130Z",
     "iopub.status.busy": "2024-08-09T17:49:02.363419Z",
     "iopub.status.idle": "2024-08-09T17:49:02.368204Z",
     "shell.execute_reply": "2024-08-09T17:49:02.367198Z"
    },
    "papermill": {
     "duration": 0.243772,
     "end_time": "2024-08-09T17:49:02.370155",
     "exception": false,
     "start_time": "2024-08-09T17:49:02.126383",
     "status": "completed"
    },
    "tags": []
   },
   "outputs": [],
   "source": [
    "# class ProjectEmbeddings(keras.layers.Layer):\n",
    "#     def __init__(self, num_projection_layers, projection_dims, dropout_rate, **kwargs):\n",
    "#         super(ProjectEmbeddings, self).__init__(**kwargs)\n",
    "#         self.num_projection_layers = num_projection_layers\n",
    "#         self.projection_dims = projection_dims\n",
    "#         self.dropout_rate = dropout_rate\n",
    "        \n",
    "#         # Initialize Dense and Dropout layers in __init__ or build\n",
    "#         self.projection_layers = [layers.Dense(self.projection_dims) for _ in range(self.num_projection_layers)]\n",
    "#         self.dropout_layers = [layers.Dropout(self.dropout_rate) for _ in range(self.num_projection_layers - 1)]\n",
    "\n",
    "#     def call(self, embeddings):\n",
    "#         x = embeddings\n",
    "#         for i in range(self.num_projection_layers):\n",
    "#             x = self.projection_layers[i](x)\n",
    "#             if i < self.num_projection_layers - 1:\n",
    "#                 x = tf.nn.gelu(x)\n",
    "#                 x = self.dropout_layers[i](x)\n",
    "#         return x"
   ]
  },
  {
   "cell_type": "code",
   "execution_count": 99,
   "id": "8991d6cd",
   "metadata": {
    "execution": {
     "iopub.execute_input": "2024-08-09T17:49:02.865291Z",
     "iopub.status.busy": "2024-08-09T17:49:02.864452Z",
     "iopub.status.idle": "2024-08-09T17:49:02.868605Z",
     "shell.execute_reply": "2024-08-09T17:49:02.867739Z"
    },
    "papermill": {
     "duration": 0.244445,
     "end_time": "2024-08-09T17:49:02.870589",
     "exception": false,
     "start_time": "2024-08-09T17:49:02.626144",
     "status": "completed"
    },
    "tags": []
   },
   "outputs": [],
   "source": [
    "# df_concat.shape"
   ]
  },
  {
   "cell_type": "markdown",
   "id": "d1075ca0",
   "metadata": {
    "papermill": {
     "duration": 0.235794,
     "end_time": "2024-08-09T17:49:03.341839",
     "exception": false,
     "start_time": "2024-08-09T17:49:03.106045",
     "status": "completed"
    },
    "tags": []
   },
   "source": [
    "(7860, 56), negative shape: (11790, 56)"
   ]
  },
  {
   "cell_type": "code",
   "execution_count": 100,
   "id": "4aafd776",
   "metadata": {
    "execution": {
     "iopub.execute_input": "2024-08-09T17:49:03.815365Z",
     "iopub.status.busy": "2024-08-09T17:49:03.815005Z",
     "iopub.status.idle": "2024-08-09T17:49:03.819172Z",
     "shell.execute_reply": "2024-08-09T17:49:03.818244Z"
    },
    "papermill": {
     "duration": 0.244024,
     "end_time": "2024-08-09T17:49:03.821127",
     "exception": false,
     "start_time": "2024-08-09T17:49:03.577103",
     "status": "completed"
    },
    "tags": []
   },
   "outputs": [],
   "source": [
    "# vision_test_ds"
   ]
  },
  {
   "cell_type": "code",
   "execution_count": 101,
   "id": "789943a9",
   "metadata": {
    "execution": {
     "iopub.execute_input": "2024-08-09T17:49:04.331001Z",
     "iopub.status.busy": "2024-08-09T17:49:04.330630Z",
     "iopub.status.idle": "2024-08-09T17:49:04.334758Z",
     "shell.execute_reply": "2024-08-09T17:49:04.333880Z"
    },
    "papermill": {
     "duration": 0.28231,
     "end_time": "2024-08-09T17:49:04.336795",
     "exception": false,
     "start_time": "2024-08-09T17:49:04.054485",
     "status": "completed"
    },
    "tags": []
   },
   "outputs": [],
   "source": [
    "# # Create the dataset\n",
    "# vision_train_ds = create_dataset(train_df, IMAGE_SIZE, batch_size,training=True,return_type='images')\n",
    "# vision_test_ds = create_dataset(test_df, IMAGE_SIZE, batch_size,return_type='images')\n",
    "# # val_ds = create_dataset(val_df, image_size, batch_size)"
   ]
  },
  {
   "cell_type": "code",
   "execution_count": 102,
   "id": "e317c729",
   "metadata": {
    "execution": {
     "iopub.execute_input": "2024-08-09T17:49:04.807526Z",
     "iopub.status.busy": "2024-08-09T17:49:04.806430Z",
     "iopub.status.idle": "2024-08-09T17:49:04.811277Z",
     "shell.execute_reply": "2024-08-09T17:49:04.810394Z"
    },
    "papermill": {
     "duration": 0.242305,
     "end_time": "2024-08-09T17:49:04.813185",
     "exception": false,
     "start_time": "2024-08-09T17:49:04.570880",
     "status": "completed"
    },
    "tags": []
   },
   "outputs": [],
   "source": [
    "# vision_history = vision_model.fit(\n",
    "#     train_ds,\n",
    "#     validation_data=test_ds,\n",
    "#     epochs=20,\n",
    "#     class_weight=class_weight,\n",
    "#     callbacks=[partial_auc_callback]\n",
    "# )"
   ]
  },
  {
   "cell_type": "code",
   "execution_count": 103,
   "id": "5260b9df",
   "metadata": {
    "execution": {
     "iopub.execute_input": "2024-08-09T17:49:05.283389Z",
     "iopub.status.busy": "2024-08-09T17:49:05.282681Z",
     "iopub.status.idle": "2024-08-09T17:49:05.286648Z",
     "shell.execute_reply": "2024-08-09T17:49:05.285802Z"
    },
    "papermill": {
     "duration": 0.240692,
     "end_time": "2024-08-09T17:49:05.288475",
     "exception": false,
     "start_time": "2024-08-09T17:49:05.047783",
     "status": "completed"
    },
    "tags": []
   },
   "outputs": [],
   "source": [
    "# for (images, metadata), labels in train_ds.take(1):\n",
    "#     print(images.shape,metadata.shape,labels.shape)"
   ]
  },
  {
   "cell_type": "code",
   "execution_count": 104,
   "id": "bc737832",
   "metadata": {
    "execution": {
     "iopub.execute_input": "2024-08-09T17:49:05.757740Z",
     "iopub.status.busy": "2024-08-09T17:49:05.756943Z",
     "iopub.status.idle": "2024-08-09T17:49:05.760893Z",
     "shell.execute_reply": "2024-08-09T17:49:05.760033Z"
    },
    "papermill": {
     "duration": 0.240835,
     "end_time": "2024-08-09T17:49:05.762706",
     "exception": false,
     "start_time": "2024-08-09T17:49:05.521871",
     "status": "completed"
    },
    "tags": []
   },
   "outputs": [],
   "source": [
    "# !pip install -q focal-loss"
   ]
  },
  {
   "cell_type": "code",
   "execution_count": 105,
   "id": "fdb69d7e",
   "metadata": {
    "execution": {
     "iopub.execute_input": "2024-08-09T17:49:06.234728Z",
     "iopub.status.busy": "2024-08-09T17:49:06.233979Z",
     "iopub.status.idle": "2024-08-09T17:49:06.238094Z",
     "shell.execute_reply": "2024-08-09T17:49:06.237276Z"
    },
    "papermill": {
     "duration": 0.24217,
     "end_time": "2024-08-09T17:49:06.239993",
     "exception": false,
     "start_time": "2024-08-09T17:49:05.997823",
     "status": "completed"
    },
    "tags": []
   },
   "outputs": [],
   "source": [
    "# from focal_loss import BinaryFocalLoss"
   ]
  },
  {
   "cell_type": "code",
   "execution_count": 106,
   "id": "2ecbb51e",
   "metadata": {
    "execution": {
     "iopub.execute_input": "2024-08-09T17:49:06.782558Z",
     "iopub.status.busy": "2024-08-09T17:49:06.781640Z",
     "iopub.status.idle": "2024-08-09T17:49:06.786270Z",
     "shell.execute_reply": "2024-08-09T17:49:06.785345Z"
    },
    "papermill": {
     "duration": 0.255697,
     "end_time": "2024-08-09T17:49:06.788274",
     "exception": false,
     "start_time": "2024-08-09T17:49:06.532577",
     "status": "completed"
    },
    "tags": []
   },
   "outputs": [],
   "source": [
    "# def create_table_encoder(\n",
    "#     num_projection_layers, projection_dims, dropout_rate, trainable=False\n",
    "# ):\n",
    "#     table_input = tf.keras.Input(shape=(38,))\n",
    "#     dense_1024 = tf.keras.layers.Dense(1024, activation='relu')(table_input)\n",
    "#     dense_512 = tf.keras.layers.Dense(512, activation='relu')(dense_1024)\n",
    "\n",
    "#     # Project the embeddings produced by the model.\n",
    "#     outputs = ProjectEmbeddings(num_projection_layers, projection_dims, dropout_rate)(dense_512)\n",
    "\n",
    "#     # Create the text encoder model.\n",
    "#     return keras.Model(table_input, outputs, name=\"table_encoder\")"
   ]
  },
  {
   "cell_type": "code",
   "execution_count": 107,
   "id": "0f14650b",
   "metadata": {
    "execution": {
     "iopub.execute_input": "2024-08-09T17:49:07.269621Z",
     "iopub.status.busy": "2024-08-09T17:49:07.269178Z",
     "iopub.status.idle": "2024-08-09T17:49:07.273604Z",
     "shell.execute_reply": "2024-08-09T17:49:07.272738Z"
    },
    "papermill": {
     "duration": 0.24327,
     "end_time": "2024-08-09T17:49:07.275899",
     "exception": false,
     "start_time": "2024-08-09T17:49:07.032629",
     "status": "completed"
    },
    "tags": []
   },
   "outputs": [],
   "source": [
    "# table_encoder = create_table_encoder(num_projection_layers=1, projection_dims=256, dropout_rate=0.1)\n",
    "# # keras.utils.plot_model(table_encoder, show_shapes=True)"
   ]
  },
  {
   "cell_type": "code",
   "execution_count": 108,
   "id": "ab96bd87",
   "metadata": {
    "execution": {
     "iopub.execute_input": "2024-08-09T17:49:07.755362Z",
     "iopub.status.busy": "2024-08-09T17:49:07.754472Z",
     "iopub.status.idle": "2024-08-09T17:49:07.759327Z",
     "shell.execute_reply": "2024-08-09T17:49:07.758423Z"
    },
    "papermill": {
     "duration": 0.242195,
     "end_time": "2024-08-09T17:49:07.761134",
     "exception": false,
     "start_time": "2024-08-09T17:49:07.518939",
     "status": "completed"
    },
    "tags": []
   },
   "outputs": [],
   "source": [
    "# def create_multimodal_model(num_projection_layers=1, projection_dims=256, dropout_rate=0.1, \n",
    "#                      vision_trainable=False, text_trainable=False):\n",
    "#     # Receive the images as inputs.\n",
    "#     image_1 = keras.Input(shape=(139, 139, 3), name=\"image_1\")\n",
    "#     table_input = tf.keras.Input(shape=(38,))\n",
    "\n",
    "    \n",
    "\n",
    "#     # Create the encoders.\n",
    "#     vision_encoder = create_vision_encoder(num_projection_layers, projection_dims, dropout_rate, vision_trainable)\n",
    "#     table_encoder = create_table_encoder(num_projection_layers, projection_dims, dropout_rate, text_trainable)\n",
    "\n",
    "#     # Fetch the embedding projections.\n",
    "#     vision_projections = vision_encoder(image_1)\n",
    "#     table_projections = table_encoder(table_input)\n",
    "\n",
    "#     # Concatenate the projections and pass through the classification layer.\n",
    "#     concatenated = keras.layers.Concatenate()([vision_projections, table_projections])\n",
    "#     outputs = keras.layers.Dense(1, activation=\"sigmoid\")(concatenated)\n",
    "#     return keras.Model([image_1, table_input], outputs)"
   ]
  },
  {
   "cell_type": "code",
   "execution_count": 109,
   "id": "cba298f0",
   "metadata": {
    "execution": {
     "iopub.execute_input": "2024-08-09T17:49:08.232912Z",
     "iopub.status.busy": "2024-08-09T17:49:08.232507Z",
     "iopub.status.idle": "2024-08-09T17:49:08.236995Z",
     "shell.execute_reply": "2024-08-09T17:49:08.236012Z"
    },
    "papermill": {
     "duration": 0.241748,
     "end_time": "2024-08-09T17:49:08.238841",
     "exception": false,
     "start_time": "2024-08-09T17:49:07.997093",
     "status": "completed"
    },
    "tags": []
   },
   "outputs": [],
   "source": [
    "# vision_model = create_vision_encoder(2, 256, 0.5,True)\n",
    "# keras.utils.plot_model(vision_model, show_shapes=True)"
   ]
  },
  {
   "cell_type": "code",
   "execution_count": 110,
   "id": "27d40c05",
   "metadata": {
    "execution": {
     "iopub.execute_input": "2024-08-09T17:49:08.708953Z",
     "iopub.status.busy": "2024-08-09T17:49:08.708604Z",
     "iopub.status.idle": "2024-08-09T17:49:08.712573Z",
     "shell.execute_reply": "2024-08-09T17:49:08.711705Z"
    },
    "papermill": {
     "duration": 0.241563,
     "end_time": "2024-08-09T17:49:08.714392",
     "exception": false,
     "start_time": "2024-08-09T17:49:08.472829",
     "status": "completed"
    },
    "tags": []
   },
   "outputs": [],
   "source": [
    "# vision_model.output"
   ]
  },
  {
   "cell_type": "code",
   "execution_count": 111,
   "id": "7c481e25",
   "metadata": {
    "execution": {
     "iopub.execute_input": "2024-08-09T17:49:09.233663Z",
     "iopub.status.busy": "2024-08-09T17:49:09.232951Z",
     "iopub.status.idle": "2024-08-09T17:49:09.237002Z",
     "shell.execute_reply": "2024-08-09T17:49:09.236151Z"
    },
    "papermill": {
     "duration": 0.286139,
     "end_time": "2024-08-09T17:49:09.238851",
     "exception": false,
     "start_time": "2024-08-09T17:49:08.952712",
     "status": "completed"
    },
    "tags": []
   },
   "outputs": [],
   "source": [
    "\n",
    "# multimodal_model = create_multimodal_model(vision_trainable=True, text_trainable=True)\n",
    "# keras.utils.plot_model(multimodal_model, show_shapes=True)"
   ]
  },
  {
   "cell_type": "code",
   "execution_count": 112,
   "id": "7e01124a",
   "metadata": {
    "execution": {
     "iopub.execute_input": "2024-08-09T17:49:09.716240Z",
     "iopub.status.busy": "2024-08-09T17:49:09.715511Z",
     "iopub.status.idle": "2024-08-09T17:49:09.719728Z",
     "shell.execute_reply": "2024-08-09T17:49:09.718817Z"
    },
    "papermill": {
     "duration": 0.243931,
     "end_time": "2024-08-09T17:49:09.721625",
     "exception": false,
     "start_time": "2024-08-09T17:49:09.477694",
     "status": "completed"
    },
    "tags": []
   },
   "outputs": [],
   "source": [
    "# multimodal_model.compile(optimizer=\"adam\", loss=\"binary_crossentropy\", metrics=METRICS)\n"
   ]
  },
  {
   "cell_type": "code",
   "execution_count": 113,
   "id": "54750dcd",
   "metadata": {
    "execution": {
     "iopub.execute_input": "2024-08-09T17:49:10.204425Z",
     "iopub.status.busy": "2024-08-09T17:49:10.204058Z",
     "iopub.status.idle": "2024-08-09T17:49:10.208249Z",
     "shell.execute_reply": "2024-08-09T17:49:10.207355Z"
    },
    "papermill": {
     "duration": 0.244136,
     "end_time": "2024-08-09T17:49:10.210232",
     "exception": false,
     "start_time": "2024-08-09T17:49:09.966096",
     "status": "completed"
    },
    "tags": []
   },
   "outputs": [],
   "source": [
    "# history = multimodal_model.fit(\n",
    "#     train_ds,\n",
    "#     validation_data=test_ds,\n",
    "#     epochs=10,\n",
    "#     class_weight=class_weight\n",
    "# )"
   ]
  },
  {
   "cell_type": "code",
   "execution_count": 114,
   "id": "78ba03df",
   "metadata": {
    "execution": {
     "iopub.execute_input": "2024-08-09T17:49:10.687653Z",
     "iopub.status.busy": "2024-08-09T17:49:10.686813Z",
     "iopub.status.idle": "2024-08-09T17:49:10.691000Z",
     "shell.execute_reply": "2024-08-09T17:49:10.690133Z"
    },
    "papermill": {
     "duration": 0.243536,
     "end_time": "2024-08-09T17:49:10.692881",
     "exception": false,
     "start_time": "2024-08-09T17:49:10.449345",
     "status": "completed"
    },
    "tags": []
   },
   "outputs": [],
   "source": [
    "# from focal_loss import BinaryFocalLoss"
   ]
  },
  {
   "cell_type": "code",
   "execution_count": 115,
   "id": "da81be29",
   "metadata": {
    "execution": {
     "iopub.execute_input": "2024-08-09T17:49:11.180667Z",
     "iopub.status.busy": "2024-08-09T17:49:11.180191Z",
     "iopub.status.idle": "2024-08-09T17:49:11.185314Z",
     "shell.execute_reply": "2024-08-09T17:49:11.184090Z"
    },
    "papermill": {
     "duration": 0.254877,
     "end_time": "2024-08-09T17:49:11.187568",
     "exception": false,
     "start_time": "2024-08-09T17:49:10.932691",
     "status": "completed"
    },
    "tags": []
   },
   "outputs": [],
   "source": [
    "# multimodal_model_focal = create_multimodal_model()\n",
    "# multimodal_model_focal.compile(\n",
    "#     optimizer=\"adam\", loss=BinaryFocalLoss(gamma=2), metrics=METRICS\n",
    "# )\n",
    "# history = multimodal_model_focal.fit(\n",
    "#     train_ds,\n",
    "#     validation_data=test_ds,\n",
    "#     epochs=10\n",
    "# )"
   ]
  },
  {
   "cell_type": "code",
   "execution_count": null,
   "id": "b4c284fe",
   "metadata": {
    "papermill": {
     "duration": 0.236253,
     "end_time": "2024-08-09T17:49:11.674019",
     "exception": false,
     "start_time": "2024-08-09T17:49:11.437766",
     "status": "completed"
    },
    "tags": []
   },
   "outputs": [],
   "source": []
  },
  {
   "cell_type": "code",
   "execution_count": null,
   "id": "b89565b6",
   "metadata": {
    "papermill": {
     "duration": 0.234261,
     "end_time": "2024-08-09T17:49:12.145237",
     "exception": false,
     "start_time": "2024-08-09T17:49:11.910976",
     "status": "completed"
    },
    "tags": []
   },
   "outputs": [],
   "source": []
  }
 ],
 "metadata": {
  "kaggle": {
   "accelerator": "nvidiaTeslaT4",
   "dataSources": [
    {
     "databundleVersionId": 9094797,
     "sourceId": 63056,
     "sourceType": "competition"
    },
    {
     "datasetId": 5295517,
     "sourceId": 8805063,
     "sourceType": "datasetVersion"
    },
    {
     "datasetId": 5295538,
     "sourceId": 8805089,
     "sourceType": "datasetVersion"
    },
    {
     "datasetId": 5295507,
     "sourceId": 8805188,
     "sourceType": "datasetVersion"
    }
   ],
   "dockerImageVersionId": 30746,
   "isGpuEnabled": true,
   "isInternetEnabled": true,
   "language": "python",
   "sourceType": "notebook"
  },
  "kernelspec": {
   "display_name": "Python 3",
   "language": "python",
   "name": "python3"
  },
  "language_info": {
   "codemirror_mode": {
    "name": "ipython",
    "version": 3
   },
   "file_extension": ".py",
   "mimetype": "text/x-python",
   "name": "python",
   "nbconvert_exporter": "python",
   "pygments_lexer": "ipython3",
   "version": "3.10.13"
  },
  "papermill": {
   "default_parameters": {},
   "duration": 399.957153,
   "end_time": "2024-08-09T17:49:15.833185",
   "environment_variables": {},
   "exception": null,
   "input_path": "__notebook__.ipynb",
   "output_path": "__notebook__.ipynb",
   "parameters": {},
   "start_time": "2024-08-09T17:42:35.876032",
   "version": "2.5.0"
  }
 },
 "nbformat": 4,
 "nbformat_minor": 5
}
