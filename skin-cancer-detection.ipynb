{
 "cells": [
  {
   "cell_type": "code",
   "execution_count": 1,
   "id": "61944d9c",
   "metadata": {
    "_cell_guid": "b1076dfc-b9ad-4769-8c92-a6c4dae69d19",
    "_uuid": "8f2839f25d086af736a60e9eeb907d3b93b6e0e5",
    "execution": {
     "iopub.execute_input": "2024-08-10T11:59:42.284585Z",
     "iopub.status.busy": "2024-08-10T11:59:42.284161Z",
     "iopub.status.idle": "2024-08-10T11:59:56.236471Z",
     "shell.execute_reply": "2024-08-10T11:59:56.235488Z"
    },
    "papermill": {
     "duration": 13.990521,
     "end_time": "2024-08-10T11:59:56.238937",
     "exception": false,
     "start_time": "2024-08-10T11:59:42.248416",
     "status": "completed"
    },
    "tags": []
   },
   "outputs": [
    {
     "name": "stderr",
     "output_type": "stream",
     "text": [
      "2024-08-10 11:59:44.426278: E external/local_xla/xla/stream_executor/cuda/cuda_dnn.cc:9261] Unable to register cuDNN factory: Attempting to register factory for plugin cuDNN when one has already been registered\n",
      "2024-08-10 11:59:44.426415: E external/local_xla/xla/stream_executor/cuda/cuda_fft.cc:607] Unable to register cuFFT factory: Attempting to register factory for plugin cuFFT when one has already been registered\n",
      "2024-08-10 11:59:44.533901: E external/local_xla/xla/stream_executor/cuda/cuda_blas.cc:1515] Unable to register cuBLAS factory: Attempting to register factory for plugin cuBLAS when one has already been registered\n"
     ]
    }
   ],
   "source": [
    "import random\n",
    "import numpy as np\n",
    "import pandas as pd\n",
    "import matplotlib.pyplot as plt\n",
    "import matplotlib.image as mpimg\n",
    "\n",
    "import tensorflow as tf\n",
    "import tensorflow_hub as hub\n",
    "from tensorflow import keras\n",
    "from tensorflow.keras import layers\n",
    "\n",
    "import tensorflow as tf\n",
    "from typing import NamedTuple, Optional\n",
    "from sklearn import preprocessing \n",
    "\n",
    "from sklearn.model_selection import train_test_split\n",
    "from sklearn.preprocessing import StandardScaler\n",
    "from sklearn.model_selection import StratifiedKFold\n",
    "from sklearn.utils import resample\n",
    "from sklearn.utils import shuffle\n",
    "     \n",
    "import os\n",
    "# for dirname, _, filenames in os.walk('/kaggle/input'):\n",
    "#     for filename in filenames:\n",
    "#         print(os.path.join(dirname, filename))\n",
    "pd.set_option('display.max_columns', None)\n",
    "pd.set_option('display.max_rows', None)"
   ]
  },
  {
   "cell_type": "code",
   "execution_count": 2,
   "id": "506395e4",
   "metadata": {
    "execution": {
     "iopub.execute_input": "2024-08-10T11:59:56.304863Z",
     "iopub.status.busy": "2024-08-10T11:59:56.303931Z",
     "iopub.status.idle": "2024-08-10T12:00:03.648245Z",
     "shell.execute_reply": "2024-08-10T12:00:03.647098Z"
    },
    "papermill": {
     "duration": 7.379231,
     "end_time": "2024-08-10T12:00:03.650562",
     "exception": false,
     "start_time": "2024-08-10T11:59:56.271331",
     "status": "completed"
    },
    "tags": []
   },
   "outputs": [
    {
     "name": "stderr",
     "output_type": "stream",
     "text": [
      "/tmp/ipykernel_24/2653809078.py:1: DtypeWarning: Columns (51,52) have mixed types. Specify dtype option on import or set low_memory=False.\n",
      "  df = pd.read_csv('/kaggle/input/isic-2024-challenge/train-metadata.csv')\n"
     ]
    }
   ],
   "source": [
    "df = pd.read_csv('/kaggle/input/isic-2024-challenge/train-metadata.csv')\n",
    "df_test = pd.read_csv('/kaggle/input/isic-2024-challenge/test-metadata.csv')"
   ]
  },
  {
   "cell_type": "code",
   "execution_count": 3,
   "id": "a6fb7b51",
   "metadata": {
    "execution": {
     "iopub.execute_input": "2024-08-10T12:00:03.716651Z",
     "iopub.status.busy": "2024-08-10T12:00:03.716301Z",
     "iopub.status.idle": "2024-08-10T12:00:03.720637Z",
     "shell.execute_reply": "2024-08-10T12:00:03.719625Z"
    },
    "papermill": {
     "duration": 0.039523,
     "end_time": "2024-08-10T12:00:03.722899",
     "exception": false,
     "start_time": "2024-08-10T12:00:03.683376",
     "status": "completed"
    },
    "tags": []
   },
   "outputs": [],
   "source": [
    "# df_2018 = pd.read_csv('/kaggle/input/isic-2018-jpg-224x224-resized/train-metadata.csv')\n",
    "# df_2019 = pd.read_csv('/kaggle/input/isic-2019-jpg-224x224-resized/train-metadata.csv')\n",
    "# df_2020 = pd.read_csv('/kaggle/input/isic-2020-jpg-224x224-resized/train-metadata.csv')"
   ]
  },
  {
   "cell_type": "code",
   "execution_count": 4,
   "id": "3e39e0de",
   "metadata": {
    "execution": {
     "iopub.execute_input": "2024-08-10T12:00:03.786737Z",
     "iopub.status.busy": "2024-08-10T12:00:03.786427Z",
     "iopub.status.idle": "2024-08-10T12:00:03.790478Z",
     "shell.execute_reply": "2024-08-10T12:00:03.789553Z"
    },
    "papermill": {
     "duration": 0.038398,
     "end_time": "2024-08-10T12:00:03.792608",
     "exception": false,
     "start_time": "2024-08-10T12:00:03.754210",
     "status": "completed"
    },
    "tags": []
   },
   "outputs": [],
   "source": [
    "# df_2019.head()"
   ]
  },
  {
   "cell_type": "markdown",
   "id": "9789295b",
   "metadata": {
    "papermill": {
     "duration": 0.032209,
     "end_time": "2024-08-10T12:00:03.857246",
     "exception": false,
     "start_time": "2024-08-10T12:00:03.825037",
     "status": "completed"
    },
    "tags": []
   },
   "source": [
    "## Constants"
   ]
  },
  {
   "cell_type": "code",
   "execution_count": 5,
   "id": "6dc2af2f",
   "metadata": {
    "execution": {
     "iopub.execute_input": "2024-08-10T12:00:03.925477Z",
     "iopub.status.busy": "2024-08-10T12:00:03.925123Z",
     "iopub.status.idle": "2024-08-10T12:00:03.929946Z",
     "shell.execute_reply": "2024-08-10T12:00:03.929038Z"
    },
    "papermill": {
     "duration": 0.042243,
     "end_time": "2024-08-10T12:00:03.932052",
     "exception": false,
     "start_time": "2024-08-10T12:00:03.889809",
     "status": "completed"
    },
    "tags": []
   },
   "outputs": [],
   "source": [
    "RANDOM_STATE = 42\n",
    "IMAGE_SIZE=224\n",
    "BATCH_SIZE = 32\n",
    "# METRICS = [\n",
    "#       keras.metrics.TruePositives(name='tp'),\n",
    "#       keras.metrics.FalsePositives(name='fp'),\n",
    "#       keras.metrics.TrueNegatives(name='tn'),\n",
    "#       keras.metrics.FalseNegatives(name='fn'),\n",
    "#       keras.metrics.AUC(name='auc'),\n",
    "#       keras.metrics.AUC(name='prc', curve='PR'), # precision-recall curve\n",
    "# ]\n",
    "# img_augmentation_layers = [\n",
    "#     layers.RandomRotation(factor=0.15),\n",
    "#     layers.RandomTranslation(height_factor=0.1, width_factor=0.1),\n",
    "#     layers.RandomFlip(),\n",
    "#     layers.RandomContrast(factor=0.1),\n",
    "# ]\n",
    "\n",
    "\n"
   ]
  },
  {
   "cell_type": "markdown",
   "id": "cd5d70b4",
   "metadata": {
    "papermill": {
     "duration": 0.032427,
     "end_time": "2024-08-10T12:00:03.996797",
     "exception": false,
     "start_time": "2024-08-10T12:00:03.964370",
     "status": "completed"
    },
    "tags": []
   },
   "source": [
    "## Helper functions"
   ]
  },
  {
   "cell_type": "code",
   "execution_count": 6,
   "id": "eda8d56a",
   "metadata": {
    "execution": {
     "iopub.execute_input": "2024-08-10T12:00:04.063971Z",
     "iopub.status.busy": "2024-08-10T12:00:04.063599Z",
     "iopub.status.idle": "2024-08-10T12:00:04.074253Z",
     "shell.execute_reply": "2024-08-10T12:00:04.073222Z"
    },
    "papermill": {
     "duration": 0.046772,
     "end_time": "2024-08-10T12:00:04.076317",
     "exception": false,
     "start_time": "2024-08-10T12:00:04.029545",
     "status": "completed"
    },
    "tags": []
   },
   "outputs": [],
   "source": [
    "\n",
    "def add_path(path,dir):\n",
    "    return f\"{dir}/{path}.jpg\"\n",
    "\n",
    "\n",
    "\n",
    "def get_sample(df,ratio):\n",
    "    df_positive = df[df['target']==1].reset_index(drop=True)\n",
    "    df_negative = df[df['target']==0].reset_index(drop=True)\n",
    "    df_negative= resample(df_negative,n_samples=len(df_positive)*ratio,random_state=RANDOM_STATE)\n",
    "#     df_positive = resample(df_positive,n_samples=len(df_positive),random_state=RANDOM_STATE)\n",
    "    \n",
    "    df_concat = pd.concat([df_positive,df_negative])\n",
    "    df_concat = shuffle(df_concat).reset_index(drop=True)\n",
    "    \n",
    "    print(f'positive shape: {df_positive.shape}, negative shape: {df_negative.shape}')\n",
    "    print(f'Full dataset shape: {df_concat.shape}')\n",
    "    \n",
    "    return df_concat\n",
    "\n",
    "def visualize(df,idx):\n",
    "    images = []\n",
    "    labels = []\n",
    "    for id in idx:\n",
    "        current_row = df.iloc[id]\n",
    "        images.append(plt.imread(current_row[\"file_path\"]))\n",
    "        labels.append(current_row[\"target\"])\n",
    "    \n",
    "    for i, (image, label) in enumerate(zip(images, labels), start=1):\n",
    "        plt.subplot(3, 3, i)  # Adjusted to start from 1\n",
    "        plt.imshow(image)\n",
    "        plt.axis(\"off\")\n",
    "        plt.title(label)\n",
    "    plt.show()"
   ]
  },
  {
   "cell_type": "code",
   "execution_count": 7,
   "id": "6ca65d89",
   "metadata": {
    "execution": {
     "iopub.execute_input": "2024-08-10T12:00:04.144152Z",
     "iopub.status.busy": "2024-08-10T12:00:04.143824Z",
     "iopub.status.idle": "2024-08-10T12:00:04.150346Z",
     "shell.execute_reply": "2024-08-10T12:00:04.149356Z"
    },
    "papermill": {
     "duration": 0.043261,
     "end_time": "2024-08-10T12:00:04.152361",
     "exception": false,
     "start_time": "2024-08-10T12:00:04.109100",
     "status": "completed"
    },
    "tags": []
   },
   "outputs": [],
   "source": [
    "# def encode(df, columns):\n",
    "#     label_encoder = preprocessing.LabelEncoder() \n",
    "#     for col in columns:\n",
    "#         df[col]= label_encoder.fit_transform(df[col])\n",
    "#     return df\n",
    "\n",
    "# def scale_columns(df, columns):\n",
    "#     scaler = preprocessing.StandardScaler()\n",
    "    \n",
    "#     # Transform each specified column\n",
    "#     for col in columns:\n",
    "#         df[col] = scaler.fit_transform(df[[col]])\n",
    "        \n",
    "#     return df\n",
    "\n",
    "# class Metadata(NamedTuple):\n",
    "#     image: Optional[tf.Tensor] = None\n",
    "#     metadata: Optional[tf.Tensor] = None\n",
    "\n",
    "\n",
    "# def img_augmentation(images):\n",
    "#     for layer in img_augmentation_layers:\n",
    "#         images = layer(images)\n",
    "#     return images\n",
    "\n",
    "# @tf.function(input_signature=[\n",
    "#     tf.TensorSpec(shape=[], dtype=tf.string, name='image_path'),\n",
    "# ])\n",
    "# def preprocess_image(path):\n",
    "#     image = tf.io.read_file(path)\n",
    "#     image = tf.image.decode_jpeg(image, channels=3)\n",
    "#     image = tf.image.resize(image, IMAGE_SIZE)\n",
    "#     image = image / 255.0\n",
    "# #     image = img_augmentation(image)\n",
    "#     return image\n",
    "\n",
    "# def preprocess_metadata(filtered_dict):\n",
    "#     # Convert metadata to tensor\n",
    "#     tensor_dict = tf.stack(list(filtered_dict.values()), axis=-1)\n",
    "#     return tensor_dict\n",
    "\n",
    "# def load_image_and_metadata(metadata, image_size):\n",
    "#     image = preprocess_image(metadata['file_path'], image_size)\n",
    "#     filtered_dict = {k: v for k, v in metadata.items() if k != 'file_path'}\n",
    "#     metadata_tensor = preprocess_metadata(filtered_dict)\n",
    "#     return Metadata(image=image, metadata=metadata_tensor)\n",
    "\n",
    "\n",
    "# def unbatch_test_dataset(test_dataset,model):\n",
    "#     unbatched_dataset = test_dataset.unbatch()\n",
    "\n",
    "#     # Initialize lists to store true labels and predictions\n",
    "#     images = []\n",
    "#     labels = []\n",
    "\n",
    "\n",
    "#     # Iterate over the unbatched dataset to get predictions and true labels\n",
    "#     for img_batch, label_batch in test_dataset:\n",
    "#         images.append(img_batch)\n",
    "#         labels.append(label_batch)\n",
    "\n",
    "#     # Convert lists to numpy arrays\n",
    "#     images = np.concatenate(images, axis=0)\n",
    "#     labels = np.concatenate(labels, axis=0)\n",
    "\n",
    "#     # Make predictions on the entire dataset\n",
    "#     y_pred = model.predict(images).ravel()  # Flatten predictions if necessary\n",
    "\n",
    "#     # Convert labels to a flat array\n",
    "#     y_true = labels.ravel()\n",
    "#     # Convert lists to numpy arrays\n",
    "#     y_true = np.array(y_true)\n",
    "#     y_pred = np.array(y_pred)\n",
    "#     return y_true, y_pred\n"
   ]
  },
  {
   "cell_type": "code",
   "execution_count": 8,
   "id": "09f46028",
   "metadata": {
    "execution": {
     "iopub.execute_input": "2024-08-10T12:00:04.268711Z",
     "iopub.status.busy": "2024-08-10T12:00:04.267838Z",
     "iopub.status.idle": "2024-08-10T12:00:04.274139Z",
     "shell.execute_reply": "2024-08-10T12:00:04.273125Z"
    },
    "papermill": {
     "duration": 0.043203,
     "end_time": "2024-08-10T12:00:04.276299",
     "exception": false,
     "start_time": "2024-08-10T12:00:04.233096",
     "status": "completed"
    },
    "tags": []
   },
   "outputs": [],
   "source": [
    "def calculate_weight(pos,neg):\n",
    "\n",
    "    # Total number of samples\n",
    "    total = pos + neg\n",
    "\n",
    "    # Calculate class weights\n",
    "    weight_for_0 = (1 / neg) * (total / 2.0)\n",
    "    weight_for_1 = (1 / pos) * (total / 2.0)\n",
    "\n",
    "    class_weight = {0: weight_for_0, 1: weight_for_1}\n",
    "\n",
    "    print('Weight for class 0 (Negative): {:.2f}'.format(weight_for_0))\n",
    "    print('Weight for class 1 (Positive): {:.2f}'.format(weight_for_1))\n",
    "    return class_weight"
   ]
  },
  {
   "cell_type": "code",
   "execution_count": 9,
   "id": "a950c36e",
   "metadata": {
    "execution": {
     "iopub.execute_input": "2024-08-10T12:00:04.343122Z",
     "iopub.status.busy": "2024-08-10T12:00:04.342769Z",
     "iopub.status.idle": "2024-08-10T12:00:04.347006Z",
     "shell.execute_reply": "2024-08-10T12:00:04.346037Z"
    },
    "papermill": {
     "duration": 0.040568,
     "end_time": "2024-08-10T12:00:04.349169",
     "exception": false,
     "start_time": "2024-08-10T12:00:04.308601",
     "status": "completed"
    },
    "tags": []
   },
   "outputs": [],
   "source": [
    "# random_choices = random.choices(list(range(df.shape[0])), k=9)\n",
    "# visualize(df,random_choices)"
   ]
  },
  {
   "cell_type": "code",
   "execution_count": 10,
   "id": "44415d4f",
   "metadata": {
    "execution": {
     "iopub.execute_input": "2024-08-10T12:00:04.415311Z",
     "iopub.status.busy": "2024-08-10T12:00:04.414947Z",
     "iopub.status.idle": "2024-08-10T12:00:04.419482Z",
     "shell.execute_reply": "2024-08-10T12:00:04.418484Z"
    },
    "papermill": {
     "duration": 0.039495,
     "end_time": "2024-08-10T12:00:04.421478",
     "exception": false,
     "start_time": "2024-08-10T12:00:04.381983",
     "status": "completed"
    },
    "tags": []
   },
   "outputs": [],
   "source": [
    "# def create_dataset(df, image_size=(139, 139), batch_size=32, training=False, return_type='both'):\n",
    "#     labels = df[['target']]\n",
    "\n",
    "#     dataset = tf.data.Dataset.from_tensor_slices((df['file_path'].values, labels))\n",
    "#     dataset = dataset.map(lambda x, y: (preprocess_image(x, image_size), y),\n",
    "#                               num_parallel_calls=tf.data.experimental.AUTOTUNE)\n",
    "#     # Shuffle and batch the dataset\n",
    "#     if training:\n",
    "#         dataset = dataset.shuffle(len(df))\n",
    "#     dataset = dataset.batch(batch_size)\n",
    "#     dataset = dataset.prefetch(buffer_size=tf.data.experimental.AUTOTUNE)\n",
    "    \n",
    "#     return dataset\n"
   ]
  },
  {
   "cell_type": "code",
   "execution_count": 11,
   "id": "11c2e968",
   "metadata": {
    "execution": {
     "iopub.execute_input": "2024-08-10T12:00:04.485815Z",
     "iopub.status.busy": "2024-08-10T12:00:04.485530Z",
     "iopub.status.idle": "2024-08-10T12:00:04.491033Z",
     "shell.execute_reply": "2024-08-10T12:00:04.490038Z"
    },
    "papermill": {
     "duration": 0.040244,
     "end_time": "2024-08-10T12:00:04.493092",
     "exception": false,
     "start_time": "2024-08-10T12:00:04.452848",
     "status": "completed"
    },
    "tags": []
   },
   "outputs": [],
   "source": [
    "# from sklearn.metrics import roc_auc_score\n",
    "# import numpy as np\n",
    "\n",
    "# def compute_partial_auc(y_true, y_pred, min_tpr):\n",
    "#     \"\"\"\n",
    "#     Computes the partial AUC score given true labels, predicted scores, and minimum TPR.\n",
    "\n",
    "#     Parameters:\n",
    "#     y_true (np.array): True binary labels.\n",
    "#     y_pred (np.array): Predicted probabilities or scores.\n",
    "#     min_tpr (float): Minimum true positive rate (TPR) to consider for partial AUC.\n",
    "\n",
    "#     Returns:\n",
    "#     partial_auc (float): The computed partial AUC score.\n",
    "#     \"\"\"\n",
    "#     # Compute the transformed ground truth and predictions\n",
    "#     v_gt = np.abs(y_true - 1)\n",
    "#     v_pred = 1.0 - y_pred\n",
    "\n",
    "#     # Compute the maximum false positive rate (FPR) based on the minimum TPR\n",
    "#     max_fpr = 1 - min_tpr\n",
    "\n",
    "#     # Compute the partial AUC using roc_auc_score\n",
    "#     partial_auc_scaled = roc_auc_score(v_gt, v_pred, max_fpr=max_fpr)\n",
    "\n",
    "#     # Rescale the partial AUC\n",
    "#     partial_auc = 0.5 * max_fpr**2 + (max_fpr - 0.5 * max_fpr**2) * (partial_auc_scaled - 0.5)\n",
    "\n",
    "#     return partial_auc\n",
    "\n",
    "# # Example usage\n",
    "# # y_true = np.array([...])  # Replace with your true labels\n",
    "# # y_pred = np.array([...])  # Replace with your predicted scores\n",
    "# # min_tpr = 0.9  # Example minimum TPR value\n",
    "# # partial_auc = compute_partial_auc(y_true, y_pred, min_tpr)\n",
    "# # print(f\"Partial AUC: {partial_auc:.4f}\")"
   ]
  },
  {
   "cell_type": "code",
   "execution_count": 12,
   "id": "f8469db5",
   "metadata": {
    "execution": {
     "iopub.execute_input": "2024-08-10T12:00:04.557426Z",
     "iopub.status.busy": "2024-08-10T12:00:04.557098Z",
     "iopub.status.idle": "2024-08-10T12:00:04.580390Z",
     "shell.execute_reply": "2024-08-10T12:00:04.579390Z"
    },
    "papermill": {
     "duration": 0.05818,
     "end_time": "2024-08-10T12:00:04.582540",
     "exception": false,
     "start_time": "2024-08-10T12:00:04.524360",
     "status": "completed"
    },
    "tags": []
   },
   "outputs": [],
   "source": [
    "# def create_dataset(df, image_size=(139, 139), batch_size=32, training=False, return_type='both'):\n",
    "#     # Extract labels\n",
    "#     labels = df[['target']]\n",
    "    \n",
    "#     # Depending on the return type, prepare the dataset accordingly\n",
    "#     if return_type == 'both':\n",
    "#         dataset = tf.data.Dataset.from_tensor_slices((dict(df.drop(columns=['target'])), labels))\n",
    "#         dataset = dataset.map(lambda x, y: (load_image_and_metadata(x, image_size), y),\n",
    "#                               num_parallel_calls=tf.data.experimental.AUTOTUNE)\n",
    "#     elif return_type == 'metadata':\n",
    "#         dataset = tf.data.Dataset.from_tensor_slices((dict(df.drop(columns=['target'])), labels))\n",
    "#         dataset = dataset.map(lambda x, y: (preprocess_metadata({k: v for k, v in x.items() if k != 'file_path'}), y),\n",
    "#                               num_parallel_calls=tf.data.experimental.AUTOTUNE)\n",
    "#     elif return_type == 'images':\n",
    "#         dataset = tf.data.Dataset.from_tensor_slices((df['file_path'].values, labels))\n",
    "#         dataset = dataset.map(lambda x, y: (preprocess_image(x, image_size), y),\n",
    "#                               num_parallel_calls=tf.data.experimental.AUTOTUNE)\n",
    "#     else:\n",
    "#         raise ValueError(\"Invalid return_type. Must be one of ['both', 'metadata', 'images']\")\n",
    "    \n",
    "#     # Shuffle and batch the dataset\n",
    "#     if training:\n",
    "#         dataset = dataset.shuffle(len(df))\n",
    "#     dataset = dataset.batch(batch_size)\n",
    "#     dataset = dataset.prefetch(buffer_size=tf.data.experimental.AUTOTUNE)\n",
    "    \n",
    "#     return dataset\n",
    "\n",
    "# from sklearn.metrics import roc_auc_score\n",
    "# import numpy as np\n",
    "\n",
    "\n",
    "class PartialAUC(tf.keras.metrics.Metric):\n",
    "    def __init__(self, name='partial_auc', **kwargs):\n",
    "        super(PartialAUC, self).__init__(name=name, **kwargs)\n",
    "        self.thresholds = tf.linspace(0.0, 1.0, 101)\n",
    "        self.tp = self.add_weight(name='tp', shape=(101,), initializer='zeros', dtype=tf.float32)\n",
    "        self.fp = self.add_weight(name='fp', shape=(101,), initializer='zeros', dtype=tf.float32)\n",
    "        self.fn = self.add_weight(name='fn', shape=(101,), initializer='zeros', dtype=tf.float32)\n",
    "        self.tn = self.add_weight(name='tn', shape=(101,), initializer='zeros', dtype=tf.float32)\n",
    "\n",
    "    def update_state(self, y_true, y_pred, sample_weight=None):\n",
    "        y_true = tf.reshape(tf.cast(y_true, tf.float32), (-1, 1))\n",
    "        y_pred = tf.cast(y_pred, tf.float32)\n",
    "\n",
    "        # Debugging shapes\n",
    "        #tf.print(\"reshaped y_true shape:\", tf.shape(y_true))\n",
    "        #tf.print(\"y_pred shape:\", tf.shape(y_pred))\n",
    "\n",
    "        thresholds = self.thresholds[tf.newaxis, :]\n",
    "        preds = tf.cast(y_pred[:, tf.newaxis] >= thresholds, tf.float32)\n",
    "\n",
    "        tp = tf.reduce_sum(preds * y_true[:, tf.newaxis], axis=0)\n",
    "        fp = tf.reduce_sum(preds * (1 - y_true)[:, tf.newaxis], axis=0)\n",
    "        fn = tf.reduce_sum((1 - preds) * y_true[:, tf.newaxis], axis=0)\n",
    "        tn = tf.reduce_sum((1 - preds) * (1 - y_true)[:, tf.newaxis], axis=0)\n",
    "\n",
    "        # Check tensor shapes\n",
    "        #tf.print(\"tp shape:\", tf.shape(tp))\n",
    "        #tf.print(\"fp shape:\", tf.shape(fp))\n",
    "        #tf.print(\"fn shape:\", tf.shape(fn))\n",
    "        #tf.print(\"tn shape:\", tf.shape(tn))\n",
    "\n",
    "        # Reshape assuming desired shape is (num_thresholds,)\n",
    "        num_thresholds = tf.shape(self.thresholds)[0]\n",
    "        \n",
    "        reshaped_tp = tf.reshape(tp, [num_thresholds])\n",
    "        reshaped_fp = tf.reshape(fp, [num_thresholds])\n",
    "        reshaped_fn = tf.reshape(fn, [num_thresholds])\n",
    "        reshaped_tn = tf.reshape(tn, [num_thresholds])\n",
    "        \n",
    "        self.tp.assign_add(reshaped_tp)\n",
    "        self.fp.assign_add(reshaped_fp)\n",
    "        self.fn.assign_add(reshaped_fn)\n",
    "        self.tn.assign_add(reshaped_tn)\n",
    "\n",
    "    def result(self):\n",
    "        # Avoid division by zero\n",
    "        epsilon = tf.keras.backend.epsilon()\n",
    "        tpr = self.tp / (self.tp + self.fn + epsilon)\n",
    "        fpr = self.fp / (self.fp + self.tn + epsilon)\n",
    "\n",
    "        # Sort fpr and corresponding tpr\n",
    "        sorted_indices = tf.argsort(fpr)\n",
    "        sorted_fpr = tf.gather(fpr, sorted_indices)\n",
    "        sorted_tpr = tf.gather(tpr, sorted_indices)\n",
    "\n",
    "        # Apply mask for TPR >= 0.8\n",
    "        mask = sorted_tpr >= 0.8\n",
    "        partial_fpr = tf.boolean_mask(sorted_fpr, mask)\n",
    "        partial_tpr = tf.boolean_mask(sorted_tpr, mask)\n",
    "\n",
    "        # Calculate partial AUC using the trapezoidal rule\n",
    "        def compute_partial_auc():\n",
    "            delta_fpr = partial_fpr[1:] - partial_fpr[:-1]\n",
    "            tpr_sum = partial_tpr[1:] + partial_tpr[:-1]\n",
    "            return tf.reduce_sum(delta_fpr * tpr_sum / 2)\n",
    "\n",
    "        partial_auc = tf.cond(tf.shape(partial_fpr)[0] > 1,\n",
    "                              compute_partial_auc,\n",
    "                              lambda: tf.constant(0.0))\n",
    "\n",
    "        return partial_auc * 0.2\n",
    "\n",
    "    def reset_states(self):\n",
    "        self.tp.assign(tf.zeros_like(self.tp))\n",
    "        self.fp.assign(tf.zeros_like(self.fp))\n",
    "        self.fn.assign(tf.zeros_like(self.fn))\n",
    "        self.tn.assign(tf.zeros_like(self.tn))\n",
    "\n",
    "# def compute_partial_auc(y_true, y_pred, min_tpr):\n",
    "#     \"\"\"\n",
    "#     Computes the partial AUC score given true labels, predicted scores, and minimum TPR.\n",
    "\n",
    "#     Parameters:\n",
    "#     y_true (np.array): True binary labels.\n",
    "#     y_pred (np.array): Predicted probabilities or scores.\n",
    "#     min_tpr (float): Minimum true positive rate (TPR) to consider for partial AUC.\n",
    "\n",
    "#     Returns:\n",
    "#     partial_auc (float): The computed partial AUC score.\n",
    "#     \"\"\"\n",
    "#     # Compute the transformed ground truth and predictions\n",
    "#     v_gt = np.abs(y_true - 1)\n",
    "#     v_pred = 1.0 - y_pred\n",
    "\n",
    "#     # Compute the maximum false positive rate (FPR) based on the minimum TPR\n",
    "#     max_fpr = 1 - min_tpr\n",
    "\n",
    "#     # Compute the partial AUC using roc_auc_score\n",
    "#     partial_auc_scaled = roc_auc_score(v_gt, v_pred, max_fpr=max_fpr)\n",
    "\n",
    "#     # Rescale the partial AUC\n",
    "#     partial_auc = 0.5 * max_fpr**2 + (max_fpr - 0.5 * max_fpr**2) * (partial_auc_scaled - 0.5)\n",
    "\n",
    "#     return partial_auc\n",
    "\n",
    "# Example usage\n",
    "# y_true = np.array([...])  # Replace with your true labels\n",
    "# y_pred = np.array([...])  # Replace with your predicted scores\n",
    "# min_tpr = 0.9  # Example minimum TPR value\n",
    "# partial_auc = compute_partial_auc(y_true, y_pred, min_tpr)\n",
    "# print(f\"Partial AUC: {partial_auc:.4f}\")\n"
   ]
  },
  {
   "cell_type": "code",
   "execution_count": 13,
   "id": "93fea37a",
   "metadata": {
    "execution": {
     "iopub.execute_input": "2024-08-10T12:00:04.648766Z",
     "iopub.status.busy": "2024-08-10T12:00:04.648394Z",
     "iopub.status.idle": "2024-08-10T12:00:04.653452Z",
     "shell.execute_reply": "2024-08-10T12:00:04.652273Z"
    },
    "papermill": {
     "duration": 0.039664,
     "end_time": "2024-08-10T12:00:04.655446",
     "exception": false,
     "start_time": "2024-08-10T12:00:04.615782",
     "status": "completed"
    },
    "tags": []
   },
   "outputs": [],
   "source": [
    "class ClearMemory(tf.keras.callbacks.Callback):\n",
    "    def on_epoch_end(self, epoch, logs=None):\n",
    "        gc.collect()\n",
    "\n",
    "clear_memory = ClearMemory()\n"
   ]
  },
  {
   "cell_type": "code",
   "execution_count": 14,
   "id": "f322dda4",
   "metadata": {
    "execution": {
     "iopub.execute_input": "2024-08-10T12:00:04.717618Z",
     "iopub.status.busy": "2024-08-10T12:00:04.717304Z",
     "iopub.status.idle": "2024-08-10T12:00:04.721114Z",
     "shell.execute_reply": "2024-08-10T12:00:04.720273Z"
    },
    "papermill": {
     "duration": 0.037123,
     "end_time": "2024-08-10T12:00:04.723157",
     "exception": false,
     "start_time": "2024-08-10T12:00:04.686034",
     "status": "completed"
    },
    "tags": []
   },
   "outputs": [],
   "source": [
    "# df_concat = get_sample(df,ratio=20)"
   ]
  },
  {
   "cell_type": "code",
   "execution_count": 15,
   "id": "63474116",
   "metadata": {
    "execution": {
     "iopub.execute_input": "2024-08-10T12:00:04.787749Z",
     "iopub.status.busy": "2024-08-10T12:00:04.787427Z",
     "iopub.status.idle": "2024-08-10T12:00:04.791385Z",
     "shell.execute_reply": "2024-08-10T12:00:04.790384Z"
    },
    "papermill": {
     "duration": 0.038921,
     "end_time": "2024-08-10T12:00:04.793595",
     "exception": false,
     "start_time": "2024-08-10T12:00:04.754674",
     "status": "completed"
    },
    "tags": []
   },
   "outputs": [],
   "source": [
    "# directory = '/kaggle/input/isic-2024-challenge/train-image'\n",
    "# df_concat['file_path'] = df_concat['isic_id'].apply(lambda x: add_path(x, directory))"
   ]
  },
  {
   "cell_type": "code",
   "execution_count": 16,
   "id": "7b856df0",
   "metadata": {
    "execution": {
     "iopub.execute_input": "2024-08-10T12:00:04.859199Z",
     "iopub.status.busy": "2024-08-10T12:00:04.858878Z",
     "iopub.status.idle": "2024-08-10T12:00:04.863374Z",
     "shell.execute_reply": "2024-08-10T12:00:04.862407Z"
    },
    "papermill": {
     "duration": 0.039354,
     "end_time": "2024-08-10T12:00:04.865443",
     "exception": false,
     "start_time": "2024-08-10T12:00:04.826089",
     "status": "completed"
    },
    "tags": []
   },
   "outputs": [],
   "source": [
    "# df_2018 = get_sample(df_2018,ratio = 10)\n",
    "# # df_2018['file_path'] = df_2018['isic_id'].apply(lambda x: add_path(x, '/kaggle/input/isic-2019-jpg-224x224-resized/train-image/image'))\n",
    "# df_2019 = get_sample(df_2019,ratio = 10)\n",
    "# # df_2019['file_path'] = df_2019['isic_id'].apply(lambda x: add_path(x, '/kaggle/input/isic-2019-jpg-224x224-resized/train-image/image'))\n",
    "# df_2020 = get_sample(df_2020,ratio = 6)\n",
    "# # df_2020['file_path'] = df_2020['isic_id'].apply(lambda x: add_path(x, '/kaggle/input/isic-2020-jpg-224x224-resized/train-image/image'))\n",
    "\n",
    "# # df_concat_previous = pd.concat([df_2019,df_2020],axis=0)"
   ]
  },
  {
   "cell_type": "code",
   "execution_count": 17,
   "id": "789fb62e",
   "metadata": {
    "execution": {
     "iopub.execute_input": "2024-08-10T12:00:04.931849Z",
     "iopub.status.busy": "2024-08-10T12:00:04.931553Z",
     "iopub.status.idle": "2024-08-10T12:00:04.935743Z",
     "shell.execute_reply": "2024-08-10T12:00:04.934847Z"
    },
    "papermill": {
     "duration": 0.040334,
     "end_time": "2024-08-10T12:00:04.937861",
     "exception": false,
     "start_time": "2024-08-10T12:00:04.897527",
     "status": "completed"
    },
    "tags": []
   },
   "outputs": [],
   "source": [
    "# type(df_2018)"
   ]
  },
  {
   "cell_type": "code",
   "execution_count": 18,
   "id": "e198b358",
   "metadata": {
    "execution": {
     "iopub.execute_input": "2024-08-10T12:00:05.003026Z",
     "iopub.status.busy": "2024-08-10T12:00:05.002726Z",
     "iopub.status.idle": "2024-08-10T12:00:05.007901Z",
     "shell.execute_reply": "2024-08-10T12:00:05.007013Z"
    },
    "papermill": {
     "duration": 0.039371,
     "end_time": "2024-08-10T12:00:05.009777",
     "exception": false,
     "start_time": "2024-08-10T12:00:04.970406",
     "status": "completed"
    },
    "tags": []
   },
   "outputs": [],
   "source": [
    "from tensorflow.keras.preprocessing.image import ImageDataGenerator"
   ]
  },
  {
   "cell_type": "code",
   "execution_count": 19,
   "id": "8921f262",
   "metadata": {
    "execution": {
     "iopub.execute_input": "2024-08-10T12:00:05.075206Z",
     "iopub.status.busy": "2024-08-10T12:00:05.074861Z",
     "iopub.status.idle": "2024-08-10T12:00:05.078939Z",
     "shell.execute_reply": "2024-08-10T12:00:05.077977Z"
    },
    "papermill": {
     "duration": 0.039228,
     "end_time": "2024-08-10T12:00:05.081095",
     "exception": false,
     "start_time": "2024-08-10T12:00:05.041867",
     "status": "completed"
    },
    "tags": []
   },
   "outputs": [],
   "source": [
    "# train_datagen_2018 = ImageDataGenerator(rescale=1./255)"
   ]
  },
  {
   "cell_type": "code",
   "execution_count": 20,
   "id": "4a8fda4a",
   "metadata": {
    "execution": {
     "iopub.execute_input": "2024-08-10T12:00:05.146376Z",
     "iopub.status.busy": "2024-08-10T12:00:05.146035Z",
     "iopub.status.idle": "2024-08-10T12:00:05.149788Z",
     "shell.execute_reply": "2024-08-10T12:00:05.149016Z"
    },
    "papermill": {
     "duration": 0.038506,
     "end_time": "2024-08-10T12:00:05.151768",
     "exception": false,
     "start_time": "2024-08-10T12:00:05.113262",
     "status": "completed"
    },
    "tags": []
   },
   "outputs": [],
   "source": [
    "# df_2018['target'] = df_2018['target'].astype(str)\n",
    "# df_2018['isic_id'] = df_2018['isic_id'] + \".jpg\" "
   ]
  },
  {
   "cell_type": "code",
   "execution_count": 21,
   "id": "32419abe",
   "metadata": {
    "execution": {
     "iopub.execute_input": "2024-08-10T12:00:05.214501Z",
     "iopub.status.busy": "2024-08-10T12:00:05.214146Z",
     "iopub.status.idle": "2024-08-10T12:00:05.218482Z",
     "shell.execute_reply": "2024-08-10T12:00:05.217519Z"
    },
    "papermill": {
     "duration": 0.03827,
     "end_time": "2024-08-10T12:00:05.220577",
     "exception": false,
     "start_time": "2024-08-10T12:00:05.182307",
     "status": "completed"
    },
    "tags": []
   },
   "outputs": [],
   "source": [
    " # Add correct extension if missing\n"
   ]
  },
  {
   "cell_type": "code",
   "execution_count": 22,
   "id": "59abcccc",
   "metadata": {
    "execution": {
     "iopub.execute_input": "2024-08-10T12:00:05.287751Z",
     "iopub.status.busy": "2024-08-10T12:00:05.287445Z",
     "iopub.status.idle": "2024-08-10T12:00:05.291819Z",
     "shell.execute_reply": "2024-08-10T12:00:05.290880Z"
    },
    "papermill": {
     "duration": 0.040079,
     "end_time": "2024-08-10T12:00:05.294009",
     "exception": false,
     "start_time": "2024-08-10T12:00:05.253930",
     "status": "completed"
    },
    "tags": []
   },
   "outputs": [],
   "source": [
    "# train_2018 = train_datagen_2018.flow_from_dataframe(df_2018,\n",
    "#                                               directory=\"/kaggle/input/isic-2018-jpg-224x224-resized/train-image/image\",\n",
    "#                                               x_col=\"isic_id\",\n",
    "#                                               y_col=\"target\",\n",
    "#                                               target_size=(IMAGE_SIZE, IMAGE_SIZE),\n",
    "#                                               batch_size=BATCH_SIZE,\n",
    "#                                               class_mode='binary',\n",
    "#                                               )"
   ]
  },
  {
   "cell_type": "code",
   "execution_count": 23,
   "id": "62b8614f",
   "metadata": {
    "execution": {
     "iopub.execute_input": "2024-08-10T12:00:05.361597Z",
     "iopub.status.busy": "2024-08-10T12:00:05.361267Z",
     "iopub.status.idle": "2024-08-10T12:00:05.365462Z",
     "shell.execute_reply": "2024-08-10T12:00:05.364458Z"
    },
    "papermill": {
     "duration": 0.041085,
     "end_time": "2024-08-10T12:00:05.367658",
     "exception": false,
     "start_time": "2024-08-10T12:00:05.326573",
     "status": "completed"
    },
    "tags": []
   },
   "outputs": [],
   "source": [
    "# df_2019['target'] = df_2019['target'].astype(str)\n",
    "# df_2019['isic_id'] = df_2019['isic_id'] + \".jpg\" "
   ]
  },
  {
   "cell_type": "code",
   "execution_count": 24,
   "id": "8fc203ad",
   "metadata": {
    "execution": {
     "iopub.execute_input": "2024-08-10T12:00:05.434813Z",
     "iopub.status.busy": "2024-08-10T12:00:05.434499Z",
     "iopub.status.idle": "2024-08-10T12:00:05.438630Z",
     "shell.execute_reply": "2024-08-10T12:00:05.437626Z"
    },
    "papermill": {
     "duration": 0.039787,
     "end_time": "2024-08-10T12:00:05.440780",
     "exception": false,
     "start_time": "2024-08-10T12:00:05.400993",
     "status": "completed"
    },
    "tags": []
   },
   "outputs": [],
   "source": [
    "# df_2019['isic_id'].head()"
   ]
  },
  {
   "cell_type": "code",
   "execution_count": 25,
   "id": "1b224b69",
   "metadata": {
    "execution": {
     "iopub.execute_input": "2024-08-10T12:00:05.505710Z",
     "iopub.status.busy": "2024-08-10T12:00:05.505377Z",
     "iopub.status.idle": "2024-08-10T12:00:05.509084Z",
     "shell.execute_reply": "2024-08-10T12:00:05.508231Z"
    },
    "papermill": {
     "duration": 0.037686,
     "end_time": "2024-08-10T12:00:05.511041",
     "exception": false,
     "start_time": "2024-08-10T12:00:05.473355",
     "status": "completed"
    },
    "tags": []
   },
   "outputs": [],
   "source": [
    "# train_datagen_2019 = ImageDataGenerator(rescale=1./255,validation_split=0.2)\n",
    "# # train_datagen_2020 = ImageDataGenerator(rescale=1./255)"
   ]
  },
  {
   "cell_type": "code",
   "execution_count": 26,
   "id": "0c406945",
   "metadata": {
    "execution": {
     "iopub.execute_input": "2024-08-10T12:00:05.575628Z",
     "iopub.status.busy": "2024-08-10T12:00:05.575292Z",
     "iopub.status.idle": "2024-08-10T12:00:05.580010Z",
     "shell.execute_reply": "2024-08-10T12:00:05.579026Z"
    },
    "papermill": {
     "duration": 0.039942,
     "end_time": "2024-08-10T12:00:05.582202",
     "exception": false,
     "start_time": "2024-08-10T12:00:05.542260",
     "status": "completed"
    },
    "tags": []
   },
   "outputs": [],
   "source": [
    "# # Training set\n",
    "# train_2019 = train_datagen_2019.flow_from_dataframe(\n",
    "#     df_2019,\n",
    "#     directory=\"/kaggle/input/isic-2019-jpg-224x224-resized/train-image/image\",\n",
    "#     x_col=\"isic_id\",\n",
    "#     y_col=\"target\",\n",
    "#     target_size=(IMAGE_SIZE, IMAGE_SIZE),\n",
    "#     batch_size=BATCH_SIZE,\n",
    "#     class_mode='binary',\n",
    "#     subset='training'  # Specify that this is the training set\n",
    "# )\n",
    "\n",
    "# # Validation set\n",
    "# val_2019 = train_datagen_2019.flow_from_dataframe(\n",
    "#     df_2019,\n",
    "#     directory=\"/kaggle/input/isic-2019-jpg-224x224-resized/train-image/image\",\n",
    "#     x_col=\"isic_id\",\n",
    "#     y_col=\"target\",\n",
    "#     target_size=(IMAGE_SIZE, IMAGE_SIZE),\n",
    "#     batch_size=BATCH_SIZE,\n",
    "#     class_mode='binary',\n",
    "#     subset='validation'  # Specify that this is the validation set\n",
    "# )"
   ]
  },
  {
   "cell_type": "code",
   "execution_count": 27,
   "id": "fb1e4d0b",
   "metadata": {
    "execution": {
     "iopub.execute_input": "2024-08-10T12:00:05.647870Z",
     "iopub.status.busy": "2024-08-10T12:00:05.647541Z",
     "iopub.status.idle": "2024-08-10T12:00:05.651584Z",
     "shell.execute_reply": "2024-08-10T12:00:05.650643Z"
    },
    "papermill": {
     "duration": 0.039336,
     "end_time": "2024-08-10T12:00:05.653700",
     "exception": false,
     "start_time": "2024-08-10T12:00:05.614364",
     "status": "completed"
    },
    "tags": []
   },
   "outputs": [],
   "source": [
    "# df_2020['target'] = df_2020['target'].astype(str)\n",
    "# df_2020['isic_id'] = df_2020['isic_id'] + \".jpg\" \n",
    "# train_datagen_2020 = ImageDataGenerator(rescale=1./255,validation_split=0.2)\n",
    "# # Training set"
   ]
  },
  {
   "cell_type": "code",
   "execution_count": 28,
   "id": "354f3791",
   "metadata": {
    "execution": {
     "iopub.execute_input": "2024-08-10T12:00:05.722031Z",
     "iopub.status.busy": "2024-08-10T12:00:05.721688Z",
     "iopub.status.idle": "2024-08-10T12:00:05.726481Z",
     "shell.execute_reply": "2024-08-10T12:00:05.725497Z"
    },
    "papermill": {
     "duration": 0.042372,
     "end_time": "2024-08-10T12:00:05.728701",
     "exception": false,
     "start_time": "2024-08-10T12:00:05.686329",
     "status": "completed"
    },
    "tags": []
   },
   "outputs": [],
   "source": [
    "\n",
    "# train_2020 = train_datagen_2020.flow_from_dataframe(\n",
    "#     df_2020,\n",
    "#     directory=\"/kaggle/input/isic-2020-jpg-224x224-resized/train-image/image\",\n",
    "#     x_col=\"isic_id\",\n",
    "#     y_col=\"target\",\n",
    "#     target_size=(IMAGE_SIZE, IMAGE_SIZE),\n",
    "#     batch_size=BATCH_SIZE,\n",
    "#     class_mode='binary',\n",
    "#     subset='training'  # Specify that this is the training set\n",
    "# )\n",
    "\n",
    "# # Validation set\n",
    "# val_2020 = train_datagen_2020.flow_from_dataframe(\n",
    "#     df_2020,\n",
    "#     directory=\"/kaggle/input/isic-2020-jpg-224x224-resized/train-image/image\",\n",
    "#     x_col=\"isic_id\",\n",
    "#     y_col=\"target\",\n",
    "#     target_size=(IMAGE_SIZE, IMAGE_SIZE),\n",
    "#     batch_size=BATCH_SIZE,\n",
    "#     class_mode='binary',\n",
    "#     subset='validation'  # Specify that this is the validation set\n",
    "# )"
   ]
  },
  {
   "cell_type": "code",
   "execution_count": 29,
   "id": "b97c348f",
   "metadata": {
    "execution": {
     "iopub.execute_input": "2024-08-10T12:00:05.798560Z",
     "iopub.status.busy": "2024-08-10T12:00:05.798126Z",
     "iopub.status.idle": "2024-08-10T12:00:06.184531Z",
     "shell.execute_reply": "2024-08-10T12:00:06.183458Z"
    },
    "papermill": {
     "duration": 0.423694,
     "end_time": "2024-08-10T12:00:06.186667",
     "exception": false,
     "start_time": "2024-08-10T12:00:05.762973",
     "status": "completed"
    },
    "tags": []
   },
   "outputs": [
    {
     "name": "stdout",
     "output_type": "stream",
     "text": [
      "positive shape: (393, 55), negative shape: (7860, 55)\n",
      "Full dataset shape: (8253, 55)\n"
     ]
    }
   ],
   "source": [
    "df = get_sample(df,ratio=20)"
   ]
  },
  {
   "cell_type": "code",
   "execution_count": 30,
   "id": "833ff11f",
   "metadata": {
    "execution": {
     "iopub.execute_input": "2024-08-10T12:00:06.252847Z",
     "iopub.status.busy": "2024-08-10T12:00:06.252480Z",
     "iopub.status.idle": "2024-08-10T12:00:06.257644Z",
     "shell.execute_reply": "2024-08-10T12:00:06.256698Z"
    },
    "papermill": {
     "duration": 0.040947,
     "end_time": "2024-08-10T12:00:06.259810",
     "exception": false,
     "start_time": "2024-08-10T12:00:06.218863",
     "status": "completed"
    },
    "tags": []
   },
   "outputs": [
    {
     "name": "stdout",
     "output_type": "stream",
     "text": [
      "Weight for class 0 (Negative): 0.53\n",
      "Weight for class 1 (Positive): 10.50\n"
     ]
    }
   ],
   "source": [
    "weights = calculate_weight(393,7860)"
   ]
  },
  {
   "cell_type": "code",
   "execution_count": 31,
   "id": "2c0bc74f",
   "metadata": {
    "execution": {
     "iopub.execute_input": "2024-08-10T12:00:06.325975Z",
     "iopub.status.busy": "2024-08-10T12:00:06.325645Z",
     "iopub.status.idle": "2024-08-10T12:00:06.337562Z",
     "shell.execute_reply": "2024-08-10T12:00:06.336379Z"
    },
    "papermill": {
     "duration": 0.047272,
     "end_time": "2024-08-10T12:00:06.339690",
     "exception": false,
     "start_time": "2024-08-10T12:00:06.292418",
     "status": "completed"
    },
    "tags": []
   },
   "outputs": [],
   "source": [
    "df['target'] = df['target'].astype(str)\n",
    "df['isic_id'] = df['isic_id'] + \".jpg\" \n",
    "train_datagen = ImageDataGenerator(rescale=1./255)"
   ]
  },
  {
   "cell_type": "code",
   "execution_count": 32,
   "id": "b103e431",
   "metadata": {
    "execution": {
     "iopub.execute_input": "2024-08-10T12:00:06.404621Z",
     "iopub.status.busy": "2024-08-10T12:00:06.404292Z",
     "iopub.status.idle": "2024-08-10T12:00:14.127660Z",
     "shell.execute_reply": "2024-08-10T12:00:14.126770Z"
    },
    "papermill": {
     "duration": 7.758769,
     "end_time": "2024-08-10T12:00:14.130101",
     "exception": false,
     "start_time": "2024-08-10T12:00:06.371332",
     "status": "completed"
    },
    "tags": []
   },
   "outputs": [
    {
     "name": "stdout",
     "output_type": "stream",
     "text": [
      "Found 8253 validated image filenames belonging to 2 classes.\n"
     ]
    }
   ],
   "source": [
    "\n",
    "# Training set\n",
    "train_data = train_datagen.flow_from_dataframe(\n",
    "    df,\n",
    "    directory=\"/kaggle/input/isic-2024-challenge/train-image/image\",\n",
    "    x_col=\"isic_id\",\n",
    "    y_col=\"target\",\n",
    "    target_size=(IMAGE_SIZE, IMAGE_SIZE),\n",
    "    batch_size=BATCH_SIZE,\n",
    "    class_mode='binary',\n",
    "    subset='training' \n",
    ")\n",
    "\n",
    "# Validation set\n",
    "# val_data = train_datagen.flow_from_dataframe(\n",
    "#     df,\n",
    "#     directory=\"/kaggle/input/isic-2024-challenge/train-image/image\",\n",
    "#     x_col=\"isic_id\",\n",
    "#     y_col=\"target\",\n",
    "#     target_size=(IMAGE_SIZE, IMAGE_SIZE),\n",
    "#     batch_size=BATCH_SIZE,\n",
    "#     class_mode='binary',\n",
    "#     subset='validation'  # Specify that this is the validation set\n",
    "# )"
   ]
  },
  {
   "cell_type": "code",
   "execution_count": 33,
   "id": "88f115be",
   "metadata": {
    "execution": {
     "iopub.execute_input": "2024-08-10T12:00:14.203667Z",
     "iopub.status.busy": "2024-08-10T12:00:14.202940Z",
     "iopub.status.idle": "2024-08-10T12:00:14.427754Z",
     "shell.execute_reply": "2024-08-10T12:00:14.426724Z"
    },
    "papermill": {
     "duration": 0.264518,
     "end_time": "2024-08-10T12:00:14.430128",
     "exception": false,
     "start_time": "2024-08-10T12:00:14.165610",
     "status": "completed"
    },
    "tags": []
   },
   "outputs": [
    {
     "name": "stdout",
     "output_type": "stream",
     "text": [
      "GPUs available: [PhysicalDevice(name='/physical_device:GPU:0', device_type='GPU'), PhysicalDevice(name='/physical_device:GPU:1', device_type='GPU')]\n"
     ]
    }
   ],
   "source": [
    "gpus = tf.config.list_physical_devices('GPU')\n",
    "print(f\"GPUs available: {gpus}\")"
   ]
  },
  {
   "cell_type": "code",
   "execution_count": 34,
   "id": "faef18e2",
   "metadata": {
    "execution": {
     "iopub.execute_input": "2024-08-10T12:00:14.498896Z",
     "iopub.status.busy": "2024-08-10T12:00:14.498158Z",
     "iopub.status.idle": "2024-08-10T12:00:14.503005Z",
     "shell.execute_reply": "2024-08-10T12:00:14.502006Z"
    },
    "papermill": {
     "duration": 0.040692,
     "end_time": "2024-08-10T12:00:14.505072",
     "exception": false,
     "start_time": "2024-08-10T12:00:14.464380",
     "status": "completed"
    },
    "tags": []
   },
   "outputs": [],
   "source": [
    "# train_datagen = ImageDataGenerator(rescale=1./255)\n",
    "# train_set = train_datagen.flow_from_dataframe(df_2018,\n",
    "#                                               directory=\"/kaggle/input/isic-2018-jpg-224x224-resized/train-image/image\",\n",
    "#                                               x_col=\"isic_id\",\n",
    "#                                               y_col=\"target\",\n",
    "#                                               target_size=(224, 224),\n",
    "#                                               batch_size=32,\n",
    "#                                               class_mode='binary',\n",
    "#                                               shuffle=True)\n",
    "# print(\"Number of batches:\", len(train_set))  # This should now be > 0\n"
   ]
  },
  {
   "cell_type": "code",
   "execution_count": 35,
   "id": "6a88114c",
   "metadata": {
    "execution": {
     "iopub.execute_input": "2024-08-10T12:00:14.572406Z",
     "iopub.status.busy": "2024-08-10T12:00:14.571776Z",
     "iopub.status.idle": "2024-08-10T12:00:14.576529Z",
     "shell.execute_reply": "2024-08-10T12:00:14.575583Z"
    },
    "papermill": {
     "duration": 0.040821,
     "end_time": "2024-08-10T12:00:14.578642",
     "exception": false,
     "start_time": "2024-08-10T12:00:14.537821",
     "status": "completed"
    },
    "tags": []
   },
   "outputs": [],
   "source": [
    "# for data_batch, labels_batch in train_2018:\n",
    "#     print(\"data batch shape:\", data_batch.shape)\n",
    "#     print(\"labels batch shape:\", labels_batch.shape)\n",
    "#     break"
   ]
  },
  {
   "cell_type": "code",
   "execution_count": 36,
   "id": "0d908709",
   "metadata": {
    "execution": {
     "iopub.execute_input": "2024-08-10T12:00:14.650036Z",
     "iopub.status.busy": "2024-08-10T12:00:14.649687Z",
     "iopub.status.idle": "2024-08-10T12:00:14.654108Z",
     "shell.execute_reply": "2024-08-10T12:00:14.653068Z"
    },
    "papermill": {
     "duration": 0.042948,
     "end_time": "2024-08-10T12:00:14.656333",
     "exception": false,
     "start_time": "2024-08-10T12:00:14.613385",
     "status": "completed"
    },
    "tags": []
   },
   "outputs": [],
   "source": [
    "# train_set"
   ]
  },
  {
   "cell_type": "code",
   "execution_count": 37,
   "id": "2bb3c155",
   "metadata": {
    "execution": {
     "iopub.execute_input": "2024-08-10T12:00:14.725691Z",
     "iopub.status.busy": "2024-08-10T12:00:14.725375Z",
     "iopub.status.idle": "2024-08-10T12:00:14.729442Z",
     "shell.execute_reply": "2024-08-10T12:00:14.728508Z"
    },
    "papermill": {
     "duration": 0.039943,
     "end_time": "2024-08-10T12:00:14.731630",
     "exception": false,
     "start_time": "2024-08-10T12:00:14.691687",
     "status": "completed"
    },
    "tags": []
   },
   "outputs": [],
   "source": [
    "# df_concat_previous.columns"
   ]
  },
  {
   "cell_type": "code",
   "execution_count": 38,
   "id": "5097f965",
   "metadata": {
    "execution": {
     "iopub.execute_input": "2024-08-10T12:00:14.800606Z",
     "iopub.status.busy": "2024-08-10T12:00:14.800276Z",
     "iopub.status.idle": "2024-08-10T12:00:14.804567Z",
     "shell.execute_reply": "2024-08-10T12:00:14.803552Z"
    },
    "papermill": {
     "duration": 0.041906,
     "end_time": "2024-08-10T12:00:14.806811",
     "exception": false,
     "start_time": "2024-08-10T12:00:14.764905",
     "status": "completed"
    },
    "tags": []
   },
   "outputs": [],
   "source": [
    "# df_concat_previous = df_concat_previous[['file_path','target']]"
   ]
  },
  {
   "cell_type": "code",
   "execution_count": 39,
   "id": "a980f1f3",
   "metadata": {
    "execution": {
     "iopub.execute_input": "2024-08-10T12:00:14.876143Z",
     "iopub.status.busy": "2024-08-10T12:00:14.875803Z",
     "iopub.status.idle": "2024-08-10T12:00:14.880107Z",
     "shell.execute_reply": "2024-08-10T12:00:14.879142Z"
    },
    "papermill": {
     "duration": 0.041917,
     "end_time": "2024-08-10T12:00:14.882416",
     "exception": false,
     "start_time": "2024-08-10T12:00:14.840499",
     "status": "completed"
    },
    "tags": []
   },
   "outputs": [],
   "source": [
    "# visualize(df_2020,[1,2,4,5,44,342])"
   ]
  },
  {
   "cell_type": "code",
   "execution_count": 40,
   "id": "992a4d07",
   "metadata": {
    "execution": {
     "iopub.execute_input": "2024-08-10T12:00:14.952990Z",
     "iopub.status.busy": "2024-08-10T12:00:14.952635Z",
     "iopub.status.idle": "2024-08-10T12:00:14.956763Z",
     "shell.execute_reply": "2024-08-10T12:00:14.955781Z"
    },
    "papermill": {
     "duration": 0.042213,
     "end_time": "2024-08-10T12:00:14.959069",
     "exception": false,
     "start_time": "2024-08-10T12:00:14.916856",
     "status": "completed"
    },
    "tags": []
   },
   "outputs": [],
   "source": [
    "# df_concat_previous.shape"
   ]
  },
  {
   "cell_type": "code",
   "execution_count": 41,
   "id": "22fc2957",
   "metadata": {
    "execution": {
     "iopub.execute_input": "2024-08-10T12:00:15.032647Z",
     "iopub.status.busy": "2024-08-10T12:00:15.032222Z",
     "iopub.status.idle": "2024-08-10T12:00:15.037056Z",
     "shell.execute_reply": "2024-08-10T12:00:15.035926Z"
    },
    "papermill": {
     "duration": 0.043313,
     "end_time": "2024-08-10T12:00:15.039285",
     "exception": false,
     "start_time": "2024-08-10T12:00:14.995972",
     "status": "completed"
    },
    "tags": []
   },
   "outputs": [],
   "source": [
    "# df_concat_previous.tail()"
   ]
  },
  {
   "cell_type": "code",
   "execution_count": 42,
   "id": "ec224a0e",
   "metadata": {
    "execution": {
     "iopub.execute_input": "2024-08-10T12:00:15.105635Z",
     "iopub.status.busy": "2024-08-10T12:00:15.105017Z",
     "iopub.status.idle": "2024-08-10T12:00:15.109259Z",
     "shell.execute_reply": "2024-08-10T12:00:15.108253Z"
    },
    "papermill": {
     "duration": 0.038872,
     "end_time": "2024-08-10T12:00:15.111230",
     "exception": false,
     "start_time": "2024-08-10T12:00:15.072358",
     "status": "completed"
    },
    "tags": []
   },
   "outputs": [],
   "source": [
    "# directory = '/kaggle/input/isic-2024-challenge/train-image'\n",
    "# df_concat['file_path'] = df_concat['isic_id'].apply(lambda x: add_path(x, directory))"
   ]
  },
  {
   "cell_type": "code",
   "execution_count": 43,
   "id": "9983dd19",
   "metadata": {
    "execution": {
     "iopub.execute_input": "2024-08-10T12:00:15.177148Z",
     "iopub.status.busy": "2024-08-10T12:00:15.176575Z",
     "iopub.status.idle": "2024-08-10T12:00:15.180932Z",
     "shell.execute_reply": "2024-08-10T12:00:15.179989Z"
    },
    "papermill": {
     "duration": 0.039663,
     "end_time": "2024-08-10T12:00:15.183037",
     "exception": false,
     "start_time": "2024-08-10T12:00:15.143374",
     "status": "completed"
    },
    "tags": []
   },
   "outputs": [],
   "source": [
    "# df_concat_previous = df_concat_previous[df_concat_previous['file_path'].apply(os.path.exists)]"
   ]
  },
  {
   "cell_type": "code",
   "execution_count": 44,
   "id": "24e9f5b7",
   "metadata": {
    "execution": {
     "iopub.execute_input": "2024-08-10T12:00:15.251083Z",
     "iopub.status.busy": "2024-08-10T12:00:15.250707Z",
     "iopub.status.idle": "2024-08-10T12:00:15.255235Z",
     "shell.execute_reply": "2024-08-10T12:00:15.254245Z"
    },
    "papermill": {
     "duration": 0.041028,
     "end_time": "2024-08-10T12:00:15.257355",
     "exception": false,
     "start_time": "2024-08-10T12:00:15.216327",
     "status": "completed"
    },
    "tags": []
   },
   "outputs": [],
   "source": [
    "# df_concat_previous.shape"
   ]
  },
  {
   "cell_type": "markdown",
   "id": "4e56822e",
   "metadata": {
    "papermill": {
     "duration": 0.032278,
     "end_time": "2024-08-10T12:00:15.321353",
     "exception": false,
     "start_time": "2024-08-10T12:00:15.289075",
     "status": "completed"
    },
    "tags": []
   },
   "source": [
    "## Vision Model"
   ]
  },
  {
   "cell_type": "code",
   "execution_count": 45,
   "id": "9f301bd2",
   "metadata": {
    "execution": {
     "iopub.execute_input": "2024-08-10T12:00:15.388352Z",
     "iopub.status.busy": "2024-08-10T12:00:15.387679Z",
     "iopub.status.idle": "2024-08-10T12:00:15.395475Z",
     "shell.execute_reply": "2024-08-10T12:00:15.394334Z"
    },
    "papermill": {
     "duration": 0.044089,
     "end_time": "2024-08-10T12:00:15.397739",
     "exception": false,
     "start_time": "2024-08-10T12:00:15.353650",
     "status": "completed"
    },
    "tags": []
   },
   "outputs": [],
   "source": [
    "positive = df[df['target']==1]"
   ]
  },
  {
   "cell_type": "code",
   "execution_count": 46,
   "id": "00e7e726",
   "metadata": {
    "execution": {
     "iopub.execute_input": "2024-08-10T12:00:15.465412Z",
     "iopub.status.busy": "2024-08-10T12:00:15.464763Z",
     "iopub.status.idle": "2024-08-10T12:00:15.471731Z",
     "shell.execute_reply": "2024-08-10T12:00:15.470797Z"
    },
    "papermill": {
     "duration": 0.04331,
     "end_time": "2024-08-10T12:00:15.473940",
     "exception": false,
     "start_time": "2024-08-10T12:00:15.430630",
     "status": "completed"
    },
    "tags": []
   },
   "outputs": [
    {
     "data": {
      "text/plain": [
       "(8253, 55)"
      ]
     },
     "execution_count": 46,
     "metadata": {},
     "output_type": "execute_result"
    }
   ],
   "source": [
    "df.shape"
   ]
  },
  {
   "cell_type": "code",
   "execution_count": 47,
   "id": "2ba6d931",
   "metadata": {
    "execution": {
     "iopub.execute_input": "2024-08-10T12:00:15.539935Z",
     "iopub.status.busy": "2024-08-10T12:00:15.539032Z",
     "iopub.status.idle": "2024-08-10T12:00:15.545855Z",
     "shell.execute_reply": "2024-08-10T12:00:15.544927Z"
    },
    "papermill": {
     "duration": 0.042485,
     "end_time": "2024-08-10T12:00:15.547949",
     "exception": false,
     "start_time": "2024-08-10T12:00:15.505464",
     "status": "completed"
    },
    "tags": []
   },
   "outputs": [
    {
     "data": {
      "text/plain": [
       "0"
      ]
     },
     "execution_count": 47,
     "metadata": {},
     "output_type": "execute_result"
    }
   ],
   "source": [
    "len(positive)"
   ]
  },
  {
   "cell_type": "code",
   "execution_count": 48,
   "id": "4b6e8210",
   "metadata": {
    "execution": {
     "iopub.execute_input": "2024-08-10T12:00:15.614369Z",
     "iopub.status.busy": "2024-08-10T12:00:15.614020Z",
     "iopub.status.idle": "2024-08-10T12:00:15.620366Z",
     "shell.execute_reply": "2024-08-10T12:00:15.619432Z"
    },
    "papermill": {
     "duration": 0.041841,
     "end_time": "2024-08-10T12:00:15.622517",
     "exception": false,
     "start_time": "2024-08-10T12:00:15.580676",
     "status": "completed"
    },
    "tags": []
   },
   "outputs": [
    {
     "data": {
      "text/plain": [
       "8253"
      ]
     },
     "execution_count": 48,
     "metadata": {},
     "output_type": "execute_result"
    }
   ],
   "source": [
    "8253-len(positive)"
   ]
  },
  {
   "cell_type": "code",
   "execution_count": 49,
   "id": "ef41f2df",
   "metadata": {
    "execution": {
     "iopub.execute_input": "2024-08-10T12:00:15.689896Z",
     "iopub.status.busy": "2024-08-10T12:00:15.689103Z",
     "iopub.status.idle": "2024-08-10T12:00:15.693181Z",
     "shell.execute_reply": "2024-08-10T12:00:15.692229Z"
    },
    "papermill": {
     "duration": 0.039884,
     "end_time": "2024-08-10T12:00:15.695288",
     "exception": false,
     "start_time": "2024-08-10T12:00:15.655404",
     "status": "completed"
    },
    "tags": []
   },
   "outputs": [],
   "source": [
    "\n",
    "# augmented_positive = tf.data.Dataset.from_tensor_slices((positive['file_path'].values, positive['target'].values))\n",
    "# augmented_positive = augmented_positive.map(lambda x, y: (preprocess_image(x), y),\n",
    "#                               num_parallel_calls=tf.data.experimental.AUTOTUNE)"
   ]
  },
  {
   "cell_type": "code",
   "execution_count": 50,
   "id": "f1194fca",
   "metadata": {
    "execution": {
     "iopub.execute_input": "2024-08-10T12:00:15.762663Z",
     "iopub.status.busy": "2024-08-10T12:00:15.761782Z",
     "iopub.status.idle": "2024-08-10T12:00:15.766144Z",
     "shell.execute_reply": "2024-08-10T12:00:15.765247Z"
    },
    "papermill": {
     "duration": 0.040688,
     "end_time": "2024-08-10T12:00:15.768284",
     "exception": false,
     "start_time": "2024-08-10T12:00:15.727596",
     "status": "completed"
    },
    "tags": []
   },
   "outputs": [],
   "source": [
    "\n",
    "# augmented_positive1 = tf.data.Dataset.from_tensor_slices((positive['file_path'].values, positive['target'].values))\n",
    "# augmented_positive1 = augmented_positive1.map(lambda x, y: (preprocess_image(x), y),\n",
    "#                               num_parallel_calls=tf.data.experimental.AUTOTUNE)"
   ]
  },
  {
   "cell_type": "code",
   "execution_count": 51,
   "id": "97ee47fd",
   "metadata": {
    "execution": {
     "iopub.execute_input": "2024-08-10T12:00:15.837641Z",
     "iopub.status.busy": "2024-08-10T12:00:15.837273Z",
     "iopub.status.idle": "2024-08-10T12:00:15.842781Z",
     "shell.execute_reply": "2024-08-10T12:00:15.841907Z"
    },
    "papermill": {
     "duration": 0.043063,
     "end_time": "2024-08-10T12:00:15.844972",
     "exception": false,
     "start_time": "2024-08-10T12:00:15.801909",
     "status": "completed"
    },
    "tags": []
   },
   "outputs": [],
   "source": [
    "# df_concat['image'] = df_concat['file_path'].apply(preprocess_image)\n",
    "\n",
    "# dataset = tf.data.Dataset.from_tensor_slices((df_concat['file_path'].values, df_concat['target']))\n",
    "# dataset = dataset.map(lambda x, y: (preprocess_image(x), y),\n",
    "#                               num_parallel_calls=tf.data.experimental.AUTOTUNE)"
   ]
  },
  {
   "cell_type": "code",
   "execution_count": 52,
   "id": "b1401384",
   "metadata": {
    "execution": {
     "iopub.execute_input": "2024-08-10T12:00:15.915080Z",
     "iopub.status.busy": "2024-08-10T12:00:15.914786Z",
     "iopub.status.idle": "2024-08-10T12:00:15.918903Z",
     "shell.execute_reply": "2024-08-10T12:00:15.917955Z"
    },
    "papermill": {
     "duration": 0.042001,
     "end_time": "2024-08-10T12:00:15.921092",
     "exception": false,
     "start_time": "2024-08-10T12:00:15.879091",
     "status": "completed"
    },
    "tags": []
   },
   "outputs": [],
   "source": [
    "# df_concat_previous.head()"
   ]
  },
  {
   "cell_type": "code",
   "execution_count": null,
   "id": "3e969cc7",
   "metadata": {
    "papermill": {
     "duration": 0.037115,
     "end_time": "2024-08-10T12:00:15.993707",
     "exception": false,
     "start_time": "2024-08-10T12:00:15.956592",
     "status": "completed"
    },
    "tags": []
   },
   "outputs": [],
   "source": []
  },
  {
   "cell_type": "code",
   "execution_count": 53,
   "id": "13420a1f",
   "metadata": {
    "execution": {
     "iopub.execute_input": "2024-08-10T12:00:16.063041Z",
     "iopub.status.busy": "2024-08-10T12:00:16.062334Z",
     "iopub.status.idle": "2024-08-10T12:00:16.066667Z",
     "shell.execute_reply": "2024-08-10T12:00:16.065697Z"
    },
    "papermill": {
     "duration": 0.041396,
     "end_time": "2024-08-10T12:00:16.068868",
     "exception": false,
     "start_time": "2024-08-10T12:00:16.027472",
     "status": "completed"
    },
    "tags": []
   },
   "outputs": [],
   "source": [
    "# len(df_concat_previous)"
   ]
  },
  {
   "cell_type": "code",
   "execution_count": 54,
   "id": "4d5e9d52",
   "metadata": {
    "execution": {
     "iopub.execute_input": "2024-08-10T12:00:16.137047Z",
     "iopub.status.busy": "2024-08-10T12:00:16.136495Z",
     "iopub.status.idle": "2024-08-10T12:00:16.140599Z",
     "shell.execute_reply": "2024-08-10T12:00:16.139644Z"
    },
    "papermill": {
     "duration": 0.040965,
     "end_time": "2024-08-10T12:00:16.142656",
     "exception": false,
     "start_time": "2024-08-10T12:00:16.101691",
     "status": "completed"
    },
    "tags": []
   },
   "outputs": [],
   "source": [
    "# previous_dataset = tf.data.Dataset.from_tensor_slices((df_concat_previous['file_path'].values, df_concat_previous['target']))\n",
    "# previous_dataset = previous_dataset.map(lambda x, y: (preprocess_image(x), y))\n",
    "# previous_dataset = previous_dataset.shuffle(len(df_concat_previous))\n",
    "# previous_dataset = previous_dataset.batch(BATCH_SIZE)\n",
    "# previous_dataset = previous_dataset.prefetch(buffer_size=tf.data.experimental.AUTOTUNE)"
   ]
  },
  {
   "cell_type": "code",
   "execution_count": 55,
   "id": "1318fe5e",
   "metadata": {
    "execution": {
     "iopub.execute_input": "2024-08-10T12:00:16.209173Z",
     "iopub.status.busy": "2024-08-10T12:00:16.208891Z",
     "iopub.status.idle": "2024-08-10T12:00:16.212837Z",
     "shell.execute_reply": "2024-08-10T12:00:16.211824Z"
    },
    "papermill": {
     "duration": 0.039338,
     "end_time": "2024-08-10T12:00:16.214894",
     "exception": false,
     "start_time": "2024-08-10T12:00:16.175556",
     "status": "completed"
    },
    "tags": []
   },
   "outputs": [],
   "source": [
    "# for data in previous_dataset.take(1):\n",
    "#     print(data)"
   ]
  },
  {
   "cell_type": "code",
   "execution_count": 56,
   "id": "307b00a7",
   "metadata": {
    "execution": {
     "iopub.execute_input": "2024-08-10T12:00:16.282360Z",
     "iopub.status.busy": "2024-08-10T12:00:16.282010Z",
     "iopub.status.idle": "2024-08-10T12:00:16.285985Z",
     "shell.execute_reply": "2024-08-10T12:00:16.285093Z"
    },
    "papermill": {
     "duration": 0.040305,
     "end_time": "2024-08-10T12:00:16.287969",
     "exception": false,
     "start_time": "2024-08-10T12:00:16.247664",
     "status": "completed"
    },
    "tags": []
   },
   "outputs": [],
   "source": [
    "# for image,label in previous_dataset.take(1):\n",
    "#     print(image.shape,label.shape)"
   ]
  },
  {
   "cell_type": "code",
   "execution_count": 57,
   "id": "8541460b",
   "metadata": {
    "execution": {
     "iopub.execute_input": "2024-08-10T12:00:16.354798Z",
     "iopub.status.busy": "2024-08-10T12:00:16.354481Z",
     "iopub.status.idle": "2024-08-10T12:00:16.358786Z",
     "shell.execute_reply": "2024-08-10T12:00:16.357881Z"
    },
    "papermill": {
     "duration": 0.039708,
     "end_time": "2024-08-10T12:00:16.360711",
     "exception": false,
     "start_time": "2024-08-10T12:00:16.321003",
     "status": "completed"
    },
    "tags": []
   },
   "outputs": [],
   "source": [
    "# dataset = dataset.concatenate(augmented_positive,name='first')\n",
    "# dataset = dataset.concatenate(augmented_positive1,name='version2')"
   ]
  },
  {
   "cell_type": "code",
   "execution_count": 58,
   "id": "406fe64e",
   "metadata": {
    "execution": {
     "iopub.execute_input": "2024-08-10T12:00:16.426975Z",
     "iopub.status.busy": "2024-08-10T12:00:16.426687Z",
     "iopub.status.idle": "2024-08-10T12:00:16.430478Z",
     "shell.execute_reply": "2024-08-10T12:00:16.429596Z"
    },
    "papermill": {
     "duration": 0.039345,
     "end_time": "2024-08-10T12:00:16.432477",
     "exception": false,
     "start_time": "2024-08-10T12:00:16.393132",
     "status": "completed"
    },
    "tags": []
   },
   "outputs": [],
   "source": [
    "# dataset = dataset.shuffle(len(dataset))\n",
    "# dataset = dataset.batch(BATCH_SIZE)\n",
    "# dataset = dataset.prefetch(buffer_size=tf.data.experimental.AUTOTUNE)"
   ]
  },
  {
   "cell_type": "code",
   "execution_count": 59,
   "id": "e67a245e",
   "metadata": {
    "execution": {
     "iopub.execute_input": "2024-08-10T12:00:16.500049Z",
     "iopub.status.busy": "2024-08-10T12:00:16.499733Z",
     "iopub.status.idle": "2024-08-10T12:00:16.503747Z",
     "shell.execute_reply": "2024-08-10T12:00:16.502853Z"
    },
    "papermill": {
     "duration": 0.040148,
     "end_time": "2024-08-10T12:00:16.505879",
     "exception": false,
     "start_time": "2024-08-10T12:00:16.465731",
     "status": "completed"
    },
    "tags": []
   },
   "outputs": [],
   "source": [
    "# efficient.get_layer(name='block4c_add').output"
   ]
  },
  {
   "cell_type": "code",
   "execution_count": 60,
   "id": "9348eb4e",
   "metadata": {
    "execution": {
     "iopub.execute_input": "2024-08-10T12:00:16.571940Z",
     "iopub.status.busy": "2024-08-10T12:00:16.571586Z",
     "iopub.status.idle": "2024-08-10T12:00:16.575899Z",
     "shell.execute_reply": "2024-08-10T12:00:16.575033Z"
    },
    "papermill": {
     "duration": 0.039838,
     "end_time": "2024-08-10T12:00:16.577969",
     "exception": false,
     "start_time": "2024-08-10T12:00:16.538131",
     "status": "completed"
    },
    "tags": []
   },
   "outputs": [],
   "source": [
    "# layer_index = None\n",
    "# for i, layer in enumerate(efficient.layers):\n",
    "#     if layer.name == 'block4c_add':\n",
    "#         layer_index = i\n",
    "#         break"
   ]
  },
  {
   "cell_type": "code",
   "execution_count": 61,
   "id": "bce40035",
   "metadata": {
    "execution": {
     "iopub.execute_input": "2024-08-10T12:00:16.642952Z",
     "iopub.status.busy": "2024-08-10T12:00:16.642408Z",
     "iopub.status.idle": "2024-08-10T12:00:16.646502Z",
     "shell.execute_reply": "2024-08-10T12:00:16.645526Z"
    },
    "papermill": {
     "duration": 0.038641,
     "end_time": "2024-08-10T12:00:16.648507",
     "exception": false,
     "start_time": "2024-08-10T12:00:16.609866",
     "status": "completed"
    },
    "tags": []
   },
   "outputs": [],
   "source": [
    "# model = keras.applications.EfficientNetB0(include_top=True, weights='imagenet',input_shape=(IMAGE_SIZE[0], IMAGE_SIZE[0], 3),pooling='avg')\n"
   ]
  },
  {
   "cell_type": "code",
   "execution_count": 62,
   "id": "7a000ca2",
   "metadata": {
    "execution": {
     "iopub.execute_input": "2024-08-10T12:00:16.715300Z",
     "iopub.status.busy": "2024-08-10T12:00:16.714956Z",
     "iopub.status.idle": "2024-08-10T12:00:16.718974Z",
     "shell.execute_reply": "2024-08-10T12:00:16.718061Z"
    },
    "papermill": {
     "duration": 0.038831,
     "end_time": "2024-08-10T12:00:16.720981",
     "exception": false,
     "start_time": "2024-08-10T12:00:16.682150",
     "status": "completed"
    },
    "tags": []
   },
   "outputs": [],
   "source": [
    "# len(model.layers)"
   ]
  },
  {
   "cell_type": "code",
   "execution_count": 63,
   "id": "17b6c344",
   "metadata": {
    "execution": {
     "iopub.execute_input": "2024-08-10T12:00:16.787495Z",
     "iopub.status.busy": "2024-08-10T12:00:16.787134Z",
     "iopub.status.idle": "2024-08-10T12:00:16.794849Z",
     "shell.execute_reply": "2024-08-10T12:00:16.793948Z"
    },
    "papermill": {
     "duration": 0.043513,
     "end_time": "2024-08-10T12:00:16.796941",
     "exception": false,
     "start_time": "2024-08-10T12:00:16.753428",
     "status": "completed"
    },
    "tags": []
   },
   "outputs": [],
   "source": [
    "def create_vision_encoder(trainable_layer, trainable=False, input_shape=(139,139,3)):\n",
    "    # Load ResNet50V2 model with lower computational complexity\n",
    "    model = keras.applications.ResNet50V2(include_top=False, weights='/kaggle/input/resnet-weights/resnet50v2_weights_tf_dim_ordering_tf_kernels_notop.h5', input_shape=input_shape)\n",
    "    \n",
    "    # Freeze all layers by default\n",
    "    model.trainable = False\n",
    "    \n",
    "    # Optionally unfreeze layers up to trainable_layer\n",
    "    if trainable:\n",
    "        for layer in model.layers[-10:]:\n",
    "            layer.trainable = trainable\n",
    "    \n",
    "    # Define input and apply preprocessing\n",
    "    image = keras.Input(shape=input_shape, name=\"image\")\n",
    "    preprocessed = keras.applications.resnet_v2.preprocess_input(image)\n",
    "    \n",
    "    # Get the output from the model\n",
    "    outputs = model(preprocessed)\n",
    "    \n",
    "    # Return the final model\n",
    "    return keras.Model(inputs=[image], outputs=outputs, name=\"vision_encoder\")\n"
   ]
  },
  {
   "cell_type": "code",
   "execution_count": 64,
   "id": "bd07109b",
   "metadata": {
    "execution": {
     "iopub.execute_input": "2024-08-10T12:00:16.864309Z",
     "iopub.status.busy": "2024-08-10T12:00:16.863929Z",
     "iopub.status.idle": "2024-08-10T12:00:16.868679Z",
     "shell.execute_reply": "2024-08-10T12:00:16.867769Z"
    },
    "papermill": {
     "duration": 0.039758,
     "end_time": "2024-08-10T12:00:16.870607",
     "exception": false,
     "start_time": "2024-08-10T12:00:16.830849",
     "status": "completed"
    },
    "tags": []
   },
   "outputs": [],
   "source": [
    "# def create_vision_encoder(trainable_layer,trainable=False,input_shape=(139,139,3)):\n",
    "    \n",
    "# #     resnet_v2 = keras.applications.ResNet50V2(include_top=False, weights=\"imagenet\", pooling=\"max\")\n",
    "#     model = keras.applications.EfficientNetB0(include_top=False, weights='imagenet',input_shape=(IMAGE_SIZE[0], IMAGE_SIZE[0], 3))\n",
    "#     model.trainable= False\n",
    "#     if trainable:\n",
    "#         for layer in model.layers[:trainable_layer]:\n",
    "#             layer.trainable = trainable\n",
    "    \n",
    "    \n",
    "    \n",
    "#     image = keras.Input(shape=input_shape, name=\"image\")\n",
    "    \n",
    "#     preprocessed = keras.applications.efficientnet.preprocess_input(image)\n",
    "    \n",
    "    \n",
    "#     outputs = model(preprocessed)\n",
    "# #     outputs = model.get_layer(name='block4c_add').output\n",
    "# #     outputs = model.layers[118].output\n",
    "# #     outputs = Flatten()(outputs)\n",
    "# #     outputs = layers.GlobalAveragePooling2D()(outputs)\n",
    "#     return keras.Model(inputs=[image], outputs=outputs, name=\"vision_encoder\")"
   ]
  },
  {
   "cell_type": "code",
   "execution_count": 65,
   "id": "f40e7b86",
   "metadata": {
    "execution": {
     "iopub.execute_input": "2024-08-10T12:00:16.935728Z",
     "iopub.status.busy": "2024-08-10T12:00:16.934968Z",
     "iopub.status.idle": "2024-08-10T12:00:16.938968Z",
     "shell.execute_reply": "2024-08-10T12:00:16.938057Z"
    },
    "papermill": {
     "duration": 0.038356,
     "end_time": "2024-08-10T12:00:16.940958",
     "exception": false,
     "start_time": "2024-08-10T12:00:16.902602",
     "status": "completed"
    },
    "tags": []
   },
   "outputs": [],
   "source": [
    "# IMAGE_SIZE[0]"
   ]
  },
  {
   "cell_type": "code",
   "execution_count": 66,
   "id": "a3f4750a",
   "metadata": {
    "execution": {
     "iopub.execute_input": "2024-08-10T12:00:17.018796Z",
     "iopub.status.busy": "2024-08-10T12:00:17.018427Z",
     "iopub.status.idle": "2024-08-10T12:00:17.023033Z",
     "shell.execute_reply": "2024-08-10T12:00:17.022012Z"
    },
    "papermill": {
     "duration": 0.051957,
     "end_time": "2024-08-10T12:00:17.025898",
     "exception": false,
     "start_time": "2024-08-10T12:00:16.973941",
     "status": "completed"
    },
    "tags": []
   },
   "outputs": [],
   "source": [
    "# vision_encoder = create_vision_encoder(trainable_layer=100,input_shape=(IMAGE_SIZE,IMAGE_SIZE,3),trainable=True)\n",
    "# len(vision_encoder.layers)"
   ]
  },
  {
   "cell_type": "code",
   "execution_count": 67,
   "id": "e6c8575c",
   "metadata": {
    "execution": {
     "iopub.execute_input": "2024-08-10T12:00:17.098564Z",
     "iopub.status.busy": "2024-08-10T12:00:17.098263Z",
     "iopub.status.idle": "2024-08-10T12:00:17.102461Z",
     "shell.execute_reply": "2024-08-10T12:00:17.101530Z"
    },
    "papermill": {
     "duration": 0.038543,
     "end_time": "2024-08-10T12:00:17.104392",
     "exception": false,
     "start_time": "2024-08-10T12:00:17.065849",
     "status": "completed"
    },
    "tags": []
   },
   "outputs": [],
   "source": [
    "# random_tensor = np.random.randint(0, 256, size=(1, 224, 224, 3), dtype=np.uint8)"
   ]
  },
  {
   "cell_type": "code",
   "execution_count": 68,
   "id": "052f02df",
   "metadata": {
    "execution": {
     "iopub.execute_input": "2024-08-10T12:00:17.168339Z",
     "iopub.status.busy": "2024-08-10T12:00:17.167797Z",
     "iopub.status.idle": "2024-08-10T12:00:17.171532Z",
     "shell.execute_reply": "2024-08-10T12:00:17.170679Z"
    },
    "papermill": {
     "duration": 0.038152,
     "end_time": "2024-08-10T12:00:17.173702",
     "exception": false,
     "start_time": "2024-08-10T12:00:17.135550",
     "status": "completed"
    },
    "tags": []
   },
   "outputs": [],
   "source": [
    "# random_tensor.shape"
   ]
  },
  {
   "cell_type": "code",
   "execution_count": 69,
   "id": "7474e79f",
   "metadata": {
    "execution": {
     "iopub.execute_input": "2024-08-10T12:00:17.237348Z",
     "iopub.status.busy": "2024-08-10T12:00:17.237027Z",
     "iopub.status.idle": "2024-08-10T12:00:17.240728Z",
     "shell.execute_reply": "2024-08-10T12:00:17.239948Z"
    },
    "papermill": {
     "duration": 0.037668,
     "end_time": "2024-08-10T12:00:17.242621",
     "exception": false,
     "start_time": "2024-08-10T12:00:17.204953",
     "status": "completed"
    },
    "tags": []
   },
   "outputs": [],
   "source": [
    "# vision_encoder(random_tensor)"
   ]
  },
  {
   "cell_type": "code",
   "execution_count": 70,
   "id": "885f1ed3",
   "metadata": {
    "execution": {
     "iopub.execute_input": "2024-08-10T12:00:17.305746Z",
     "iopub.status.busy": "2024-08-10T12:00:17.305443Z",
     "iopub.status.idle": "2024-08-10T12:00:17.312071Z",
     "shell.execute_reply": "2024-08-10T12:00:17.311212Z"
    },
    "papermill": {
     "duration": 0.040291,
     "end_time": "2024-08-10T12:00:17.314076",
     "exception": false,
     "start_time": "2024-08-10T12:00:17.273785",
     "status": "completed"
    },
    "tags": []
   },
   "outputs": [],
   "source": [
    "def vision_model():\n",
    "    vision_encoder = create_vision_encoder(trainable_layer=235,input_shape=(IMAGE_SIZE,IMAGE_SIZE,3),trainable=True)\n",
    "    \n",
    "    x = layers.MaxPooling2D()(vision_encoder.output)\n",
    "    x = layers.Flatten()(x)\n",
    "    x = layers.Dense(128,activation='relu')(x)\n",
    "    x = layers.Dropout(0.2)(x)\n",
    "    x = layers.Dense(64,activation='relu')(x)\n",
    "    x = layers.Dense(1,activation='sigmoid')(x)\n",
    "\n",
    "    vision_model = keras.Model(inputs = vision_encoder.input, outputs=x)\n",
    "    vision_model.compile(optimizer=\"adam\", loss=\"binary_crossentropy\", metrics=[PartialAUC()])\n",
    "    return vision_model"
   ]
  },
  {
   "cell_type": "code",
   "execution_count": 71,
   "id": "a86834d9",
   "metadata": {
    "execution": {
     "iopub.execute_input": "2024-08-10T12:00:17.380085Z",
     "iopub.status.busy": "2024-08-10T12:00:17.379784Z",
     "iopub.status.idle": "2024-08-10T12:00:22.595907Z",
     "shell.execute_reply": "2024-08-10T12:00:22.595063Z"
    },
    "papermill": {
     "duration": 5.252444,
     "end_time": "2024-08-10T12:00:22.598386",
     "exception": false,
     "start_time": "2024-08-10T12:00:17.345942",
     "status": "completed"
    },
    "tags": []
   },
   "outputs": [],
   "source": [
    "strategy = tf.distribute.MirroredStrategy()\n",
    "\n",
    "# Use the strategy to scope model creation and training\n",
    "with strategy.scope():\n",
    "    model = vision_model()"
   ]
  },
  {
   "cell_type": "code",
   "execution_count": 72,
   "id": "27cac181",
   "metadata": {
    "execution": {
     "iopub.execute_input": "2024-08-10T12:00:22.667570Z",
     "iopub.status.busy": "2024-08-10T12:00:22.666699Z",
     "iopub.status.idle": "2024-08-10T12:00:22.673173Z",
     "shell.execute_reply": "2024-08-10T12:00:22.672201Z"
    },
    "papermill": {
     "duration": 0.044106,
     "end_time": "2024-08-10T12:00:22.675886",
     "exception": false,
     "start_time": "2024-08-10T12:00:22.631780",
     "status": "completed"
    },
    "tags": []
   },
   "outputs": [
    {
     "data": {
      "text/plain": [
       "<Functional name=functional, built=True>"
      ]
     },
     "execution_count": 72,
     "metadata": {},
     "output_type": "execute_result"
    }
   ],
   "source": [
    "model"
   ]
  },
  {
   "cell_type": "code",
   "execution_count": 73,
   "id": "e4920dc2",
   "metadata": {
    "execution": {
     "iopub.execute_input": "2024-08-10T12:00:22.746949Z",
     "iopub.status.busy": "2024-08-10T12:00:22.746370Z",
     "iopub.status.idle": "2024-08-10T12:00:22.997812Z",
     "shell.execute_reply": "2024-08-10T12:00:22.996625Z"
    },
    "papermill": {
     "duration": 0.289849,
     "end_time": "2024-08-10T12:00:23.000246",
     "exception": false,
     "start_time": "2024-08-10T12:00:22.710397",
     "status": "completed"
    },
    "tags": []
   },
   "outputs": [],
   "source": [
    "tf.keras.backend.clear_session()"
   ]
  },
  {
   "cell_type": "code",
   "execution_count": 74,
   "id": "e99d42f1",
   "metadata": {
    "execution": {
     "iopub.execute_input": "2024-08-10T12:00:23.069513Z",
     "iopub.status.busy": "2024-08-10T12:00:23.069143Z",
     "iopub.status.idle": "2024-08-10T12:00:23.073682Z",
     "shell.execute_reply": "2024-08-10T12:00:23.072672Z"
    },
    "papermill": {
     "duration": 0.041746,
     "end_time": "2024-08-10T12:00:23.075701",
     "exception": false,
     "start_time": "2024-08-10T12:00:23.033955",
     "status": "completed"
    },
    "tags": []
   },
   "outputs": [],
   "source": [
    "# from tensorflow.keras.mixed_precision import experimental as mixed_precision\n",
    "# policy = mixed_precision.Policy('mixed_float16')\n",
    "# mixed_precision.set_policy(policy)\n"
   ]
  },
  {
   "cell_type": "code",
   "execution_count": 75,
   "id": "cd03e637",
   "metadata": {
    "execution": {
     "iopub.execute_input": "2024-08-10T12:00:23.141999Z",
     "iopub.status.busy": "2024-08-10T12:00:23.141659Z",
     "iopub.status.idle": "2024-08-10T12:00:23.145560Z",
     "shell.execute_reply": "2024-08-10T12:00:23.144672Z"
    },
    "papermill": {
     "duration": 0.04059,
     "end_time": "2024-08-10T12:00:23.147620",
     "exception": false,
     "start_time": "2024-08-10T12:00:23.107030",
     "status": "completed"
    },
    "tags": []
   },
   "outputs": [],
   "source": [
    "# from tensorflow.keras import backend as K\n",
    "# K.clear_session()"
   ]
  },
  {
   "cell_type": "code",
   "execution_count": 76,
   "id": "404efc5d",
   "metadata": {
    "execution": {
     "iopub.execute_input": "2024-08-10T12:00:23.214910Z",
     "iopub.status.busy": "2024-08-10T12:00:23.214551Z",
     "iopub.status.idle": "2024-08-10T12:00:23.219122Z",
     "shell.execute_reply": "2024-08-10T12:00:23.218323Z"
    },
    "papermill": {
     "duration": 0.040972,
     "end_time": "2024-08-10T12:00:23.221190",
     "exception": false,
     "start_time": "2024-08-10T12:00:23.180218",
     "status": "completed"
    },
    "tags": []
   },
   "outputs": [],
   "source": [
    "# # Check the length of the DataFrameIterator\n",
    "# print(\"Number of batches:\", len(train_2018))\n",
    "\n",
    "# # Fetch a batch to inspect\n",
    "# batch = next(train_2018)\n",
    "# print(\"Batch shape (images):\", batch[0].shape)\n",
    "# print(\"Batch shape (labels):\", batch[1].shape)\n",
    "\n",
    "# # Try a simple fit to see if the data passes through correctly\n",
    "# try:\n",
    "#     history = model.fit(train_2018, epochs=5)\n",
    "# except Exception as e:\n",
    "#     print(\"Error:\", e)\n"
   ]
  },
  {
   "cell_type": "code",
   "execution_count": 77,
   "id": "4a7abf92",
   "metadata": {
    "execution": {
     "iopub.execute_input": "2024-08-10T12:00:23.288205Z",
     "iopub.status.busy": "2024-08-10T12:00:23.287883Z",
     "iopub.status.idle": "2024-08-10T12:00:23.291749Z",
     "shell.execute_reply": "2024-08-10T12:00:23.290888Z"
    },
    "papermill": {
     "duration": 0.039202,
     "end_time": "2024-08-10T12:00:23.293752",
     "exception": false,
     "start_time": "2024-08-10T12:00:23.254550",
     "status": "completed"
    },
    "tags": []
   },
   "outputs": [],
   "source": [
    "# history = model.fit(train_2018, epochs=5)"
   ]
  },
  {
   "cell_type": "code",
   "execution_count": 78,
   "id": "6c7ceeaa",
   "metadata": {
    "execution": {
     "iopub.execute_input": "2024-08-10T12:00:23.358960Z",
     "iopub.status.busy": "2024-08-10T12:00:23.358654Z",
     "iopub.status.idle": "2024-08-10T12:00:23.362741Z",
     "shell.execute_reply": "2024-08-10T12:00:23.361911Z"
    },
    "papermill": {
     "duration": 0.038852,
     "end_time": "2024-08-10T12:00:23.364727",
     "exception": false,
     "start_time": "2024-08-10T12:00:23.325875",
     "status": "completed"
    },
    "tags": []
   },
   "outputs": [],
   "source": [
    "# history = model.fit(train_2019,validation_data=val_2019, epochs=5)"
   ]
  },
  {
   "cell_type": "code",
   "execution_count": 79,
   "id": "34c71313",
   "metadata": {
    "execution": {
     "iopub.execute_input": "2024-08-10T12:00:23.433333Z",
     "iopub.status.busy": "2024-08-10T12:00:23.432653Z",
     "iopub.status.idle": "2024-08-10T12:00:23.436859Z",
     "shell.execute_reply": "2024-08-10T12:00:23.435955Z"
    },
    "papermill": {
     "duration": 0.040567,
     "end_time": "2024-08-10T12:00:23.438908",
     "exception": false,
     "start_time": "2024-08-10T12:00:23.398341",
     "status": "completed"
    },
    "tags": []
   },
   "outputs": [],
   "source": [
    "# history = model.fit(train_2020,validation_data=val_2020, epochs=5)"
   ]
  },
  {
   "cell_type": "code",
   "execution_count": 80,
   "id": "11c92cef",
   "metadata": {
    "execution": {
     "iopub.execute_input": "2024-08-10T12:00:23.510533Z",
     "iopub.status.busy": "2024-08-10T12:00:23.509405Z",
     "iopub.status.idle": "2024-08-10T12:00:23.517522Z",
     "shell.execute_reply": "2024-08-10T12:00:23.516301Z"
    },
    "papermill": {
     "duration": 0.047268,
     "end_time": "2024-08-10T12:00:23.519884",
     "exception": false,
     "start_time": "2024-08-10T12:00:23.472616",
     "status": "completed"
    },
    "tags": []
   },
   "outputs": [],
   "source": [
    "# model.load_weights('/kaggle/working/final_weights.weights.h5')\n"
   ]
  },
  {
   "cell_type": "code",
   "execution_count": 81,
   "id": "7a67c30b",
   "metadata": {
    "execution": {
     "iopub.execute_input": "2024-08-10T12:00:23.606419Z",
     "iopub.status.busy": "2024-08-10T12:00:23.605586Z",
     "iopub.status.idle": "2024-08-10T12:04:44.832576Z",
     "shell.execute_reply": "2024-08-10T12:04:44.831616Z"
    },
    "papermill": {
     "duration": 261.271567,
     "end_time": "2024-08-10T12:04:44.835140",
     "exception": false,
     "start_time": "2024-08-10T12:00:23.563573",
     "status": "completed"
    },
    "tags": []
   },
   "outputs": [
    {
     "name": "stdout",
     "output_type": "stream",
     "text": [
      "Epoch 1/10\n"
     ]
    },
    {
     "name": "stderr",
     "output_type": "stream",
     "text": [
      "/opt/conda/lib/python3.10/site-packages/keras/src/trainers/data_adapters/py_dataset_adapter.py:121: UserWarning: Your `PyDataset` class should call `super().__init__(**kwargs)` in its constructor. `**kwargs` can include `workers`, `use_multiprocessing`, `max_queue_size`. Do not pass these arguments to `fit()`, as they will be ignored.\n",
      "  self._warn_if_super_not_called()\n"
     ]
    },
    {
     "name": "stdout",
     "output_type": "stream",
     "text": [
      "\u001b[1m258/258\u001b[0m \u001b[32m━━━━━━━━━━━━━━━━━━━━\u001b[0m\u001b[37m\u001b[0m \u001b[1m71s\u001b[0m 150ms/step - loss: 0.5055 - partial_auc: 0.0067\n",
      "Epoch 2/10\n",
      "\u001b[1m258/258\u001b[0m \u001b[32m━━━━━━━━━━━━━━━━━━━━\u001b[0m\u001b[37m\u001b[0m \u001b[1m21s\u001b[0m 78ms/step - loss: 0.1941 - partial_auc: 0.0290\n",
      "Epoch 3/10\n",
      "\u001b[1m258/258\u001b[0m \u001b[32m━━━━━━━━━━━━━━━━━━━━\u001b[0m\u001b[37m\u001b[0m \u001b[1m21s\u001b[0m 80ms/step - loss: 0.1924 - partial_auc: 0.0395\n",
      "Epoch 4/10\n",
      "\u001b[1m258/258\u001b[0m \u001b[32m━━━━━━━━━━━━━━━━━━━━\u001b[0m\u001b[37m\u001b[0m \u001b[1m21s\u001b[0m 80ms/step - loss: 0.2090 - partial_auc: 0.0473\n",
      "Epoch 5/10\n",
      "\u001b[1m258/258\u001b[0m \u001b[32m━━━━━━━━━━━━━━━━━━━━\u001b[0m\u001b[37m\u001b[0m \u001b[1m21s\u001b[0m 79ms/step - loss: 0.1819 - partial_auc: 0.0459\n",
      "Epoch 6/10\n",
      "\u001b[1m258/258\u001b[0m \u001b[32m━━━━━━━━━━━━━━━━━━━━\u001b[0m\u001b[37m\u001b[0m \u001b[1m21s\u001b[0m 79ms/step - loss: 0.1684 - partial_auc: 0.0570\n",
      "Epoch 7/10\n",
      "\u001b[1m258/258\u001b[0m \u001b[32m━━━━━━━━━━━━━━━━━━━━\u001b[0m\u001b[37m\u001b[0m \u001b[1m21s\u001b[0m 80ms/step - loss: 0.1872 - partial_auc: 0.0533\n",
      "Epoch 8/10\n",
      "\u001b[1m258/258\u001b[0m \u001b[32m━━━━━━━━━━━━━━━━━━━━\u001b[0m\u001b[37m\u001b[0m \u001b[1m21s\u001b[0m 79ms/step - loss: 0.1801 - partial_auc: 0.0694\n",
      "Epoch 9/10\n",
      "\u001b[1m258/258\u001b[0m \u001b[32m━━━━━━━━━━━━━━━━━━━━\u001b[0m\u001b[37m\u001b[0m \u001b[1m21s\u001b[0m 80ms/step - loss: 0.1729 - partial_auc: 0.0701\n",
      "Epoch 10/10\n",
      "\u001b[1m258/258\u001b[0m \u001b[32m━━━━━━━━━━━━━━━━━━━━\u001b[0m\u001b[37m\u001b[0m \u001b[1m21s\u001b[0m 79ms/step - loss: 0.1775 - partial_auc: 0.0720\n"
     ]
    }
   ],
   "source": [
    "history = model.fit(train_data, epochs=10)"
   ]
  },
  {
   "cell_type": "code",
   "execution_count": 82,
   "id": "f6a1b749",
   "metadata": {
    "execution": {
     "iopub.execute_input": "2024-08-10T12:04:45.354556Z",
     "iopub.status.busy": "2024-08-10T12:04:45.353691Z",
     "iopub.status.idle": "2024-08-10T12:04:45.358035Z",
     "shell.execute_reply": "2024-08-10T12:04:45.357086Z"
    },
    "papermill": {
     "duration": 0.264847,
     "end_time": "2024-08-10T12:04:45.360089",
     "exception": false,
     "start_time": "2024-08-10T12:04:45.095242",
     "status": "completed"
    },
    "tags": []
   },
   "outputs": [],
   "source": [
    "# model.save_weights('final_weights.weights.h5')"
   ]
  },
  {
   "cell_type": "code",
   "execution_count": 83,
   "id": "454873d3",
   "metadata": {
    "execution": {
     "iopub.execute_input": "2024-08-10T12:04:45.943380Z",
     "iopub.status.busy": "2024-08-10T12:04:45.942670Z",
     "iopub.status.idle": "2024-08-10T12:04:45.946987Z",
     "shell.execute_reply": "2024-08-10T12:04:45.946017Z"
    },
    "papermill": {
     "duration": 0.276162,
     "end_time": "2024-08-10T12:04:45.949323",
     "exception": false,
     "start_time": "2024-08-10T12:04:45.673161",
     "status": "completed"
    },
    "tags": []
   },
   "outputs": [],
   "source": [
    "import h5py\n"
   ]
  },
  {
   "cell_type": "code",
   "execution_count": 84,
   "id": "795bafda",
   "metadata": {
    "execution": {
     "iopub.execute_input": "2024-08-10T12:04:46.472050Z",
     "iopub.status.busy": "2024-08-10T12:04:46.471676Z",
     "iopub.status.idle": "2024-08-10T12:04:46.476526Z",
     "shell.execute_reply": "2024-08-10T12:04:46.475552Z"
    },
    "papermill": {
     "duration": 0.258537,
     "end_time": "2024-08-10T12:04:46.478568",
     "exception": false,
     "start_time": "2024-08-10T12:04:46.220031",
     "status": "completed"
    },
    "tags": []
   },
   "outputs": [],
   "source": [
    "\n",
    "\n",
    "# # Load the HDF5 file\n",
    "hdf5_file_path = '/kaggle/input/isic-2024-challenge/test-image.hdf5'\n",
    "# hdf5_file = h5py.File(hdf5_file_path, 'r')\n",
    "\n",
    "# # Explore the structure of the HDF5 file\n",
    "# def print_hdf5_structure(hdf5_file):\n",
    "#     for key in hdf5_file.keys():\n",
    "#         print(f\"Key: {key}\")\n",
    "#         print(f\"Shape: {hdf5_file[key].shape}\")\n",
    "#         print(f\"Datatype: {hdf5_file[key].dtype}\")\n",
    "\n",
    "# # Print the structure\n",
    "# print_hdf5_structure(hdf5_file)\n",
    "\n",
    "# # Close the file\n",
    "# hdf5_file.close()\n"
   ]
  },
  {
   "cell_type": "code",
   "execution_count": 85,
   "id": "8f8da6d1",
   "metadata": {
    "execution": {
     "iopub.execute_input": "2024-08-10T12:04:47.004380Z",
     "iopub.status.busy": "2024-08-10T12:04:47.003948Z",
     "iopub.status.idle": "2024-08-10T12:04:47.040420Z",
     "shell.execute_reply": "2024-08-10T12:04:47.039262Z"
    },
    "papermill": {
     "duration": 0.313489,
     "end_time": "2024-08-10T12:04:47.043184",
     "exception": false,
     "start_time": "2024-08-10T12:04:46.729695",
     "status": "completed"
    },
    "tags": []
   },
   "outputs": [],
   "source": [
    "hdf5_file = h5py.File(hdf5_file_path, 'r')\n",
    "\n",
    "# Function to preprocess the image\n",
    "def preprocess_image(image_bytes):\n",
    "    # Decode the image from the byte string\n",
    "    image = tf.io.decode_jpeg(image_bytes)\n",
    "    \n",
    "    # Resize to the required input size of your model\n",
    "    image = tf.image.resize(image, [224, 224])  # Adjust size as per your model\n",
    "    \n",
    "    # Normalize the image (if required)\n",
    "    image = image / 255.0\n",
    "    \n",
    "    return image\n",
    "\n",
    "# Prepare the images and their corresponding IDs\n",
    "image_list = []\n",
    "image_ids = []\n",
    "\n",
    "for key in hdf5_file.keys():\n",
    "    image_bytes = hdf5_file[key][()]\n",
    "    image = preprocess_image(image_bytes)\n",
    "    \n",
    "    image_list.append(image)\n",
    "    image_ids.append(key)\n",
    "\n",
    "# Convert the list of images to a TensorFlow tensor\n",
    "images_tensor = tf.stack(image_list)\n",
    "\n",
    "# You now have the images ready for prediction\n",
    "# Example: predictions = model.predict(images_tensor)\n",
    "\n",
    "# Make sure to close the file\n",
    "hdf5_file.close()"
   ]
  },
  {
   "cell_type": "code",
   "execution_count": 86,
   "id": "cc48d826",
   "metadata": {
    "execution": {
     "iopub.execute_input": "2024-08-10T12:04:47.559637Z",
     "iopub.status.busy": "2024-08-10T12:04:47.558797Z",
     "iopub.status.idle": "2024-08-10T12:04:47.577097Z",
     "shell.execute_reply": "2024-08-10T12:04:47.576147Z"
    },
    "papermill": {
     "duration": 0.284684,
     "end_time": "2024-08-10T12:04:47.579132",
     "exception": false,
     "start_time": "2024-08-10T12:04:47.294448",
     "status": "completed"
    },
    "tags": []
   },
   "outputs": [
    {
     "data": {
      "text/html": [
       "<div>\n",
       "<style scoped>\n",
       "    .dataframe tbody tr th:only-of-type {\n",
       "        vertical-align: middle;\n",
       "    }\n",
       "\n",
       "    .dataframe tbody tr th {\n",
       "        vertical-align: top;\n",
       "    }\n",
       "\n",
       "    .dataframe thead th {\n",
       "        text-align: right;\n",
       "    }\n",
       "</style>\n",
       "<table border=\"1\" class=\"dataframe\">\n",
       "  <thead>\n",
       "    <tr style=\"text-align: right;\">\n",
       "      <th></th>\n",
       "      <th>isic_id</th>\n",
       "      <th>target</th>\n",
       "    </tr>\n",
       "  </thead>\n",
       "  <tbody>\n",
       "    <tr>\n",
       "      <th>0</th>\n",
       "      <td>ISIC_0015657</td>\n",
       "      <td>0.3</td>\n",
       "    </tr>\n",
       "    <tr>\n",
       "      <th>1</th>\n",
       "      <td>ISIC_0015729</td>\n",
       "      <td>0.3</td>\n",
       "    </tr>\n",
       "    <tr>\n",
       "      <th>2</th>\n",
       "      <td>ISIC_0015740</td>\n",
       "      <td>0.3</td>\n",
       "    </tr>\n",
       "  </tbody>\n",
       "</table>\n",
       "</div>"
      ],
      "text/plain": [
       "        isic_id  target\n",
       "0  ISIC_0015657     0.3\n",
       "1  ISIC_0015729     0.3\n",
       "2  ISIC_0015740     0.3"
      ]
     },
     "execution_count": 86,
     "metadata": {},
     "output_type": "execute_result"
    }
   ],
   "source": [
    "submission = pd.read_csv('/kaggle/input/isic-2024-challenge/sample_submission.csv')\n",
    "submission"
   ]
  },
  {
   "cell_type": "code",
   "execution_count": 87,
   "id": "d6205ef6",
   "metadata": {
    "execution": {
     "iopub.execute_input": "2024-08-10T12:04:48.103230Z",
     "iopub.status.busy": "2024-08-10T12:04:48.102434Z",
     "iopub.status.idle": "2024-08-10T12:04:53.484015Z",
     "shell.execute_reply": "2024-08-10T12:04:53.483227Z"
    },
    "papermill": {
     "duration": 5.639149,
     "end_time": "2024-08-10T12:04:53.486312",
     "exception": false,
     "start_time": "2024-08-10T12:04:47.847163",
     "status": "completed"
    },
    "tags": []
   },
   "outputs": [
    {
     "name": "stdout",
     "output_type": "stream",
     "text": [
      "\u001b[1m1/1\u001b[0m \u001b[32m━━━━━━━━━━━━━━━━━━━━\u001b[0m\u001b[37m\u001b[0m \u001b[1m5s\u001b[0m 5s/step\n"
     ]
    }
   ],
   "source": [
    "# Assuming `model` is your trained TensorFlow model\n",
    "\n",
    "# Make predictions\n",
    "predictions = model.predict(images_tensor)\n",
    "\n",
    "# Assuming binary classification, get the predicted class\n",
    "predicted_classes = np.argmax(predictions, axis=1)\n",
    "\n",
    "# Create a DataFrame for submission\n",
    "# import pandas as pd\n",
    "\n",
    "submission_df = pd.DataFrame({\n",
    "    'isic_id': image_ids,\n",
    "    'target': predicted_classes\n",
    "})\n",
    "\n",
    "# Save to a CSV file for submission\n",
    "submission_df.to_csv('submission.csv', index=False)\n"
   ]
  },
  {
   "cell_type": "code",
   "execution_count": 88,
   "id": "fdcdf5eb",
   "metadata": {
    "execution": {
     "iopub.execute_input": "2024-08-10T12:04:53.996368Z",
     "iopub.status.busy": "2024-08-10T12:04:53.995493Z",
     "iopub.status.idle": "2024-08-10T12:04:54.004865Z",
     "shell.execute_reply": "2024-08-10T12:04:54.003953Z"
    },
    "papermill": {
     "duration": 0.268039,
     "end_time": "2024-08-10T12:04:54.007341",
     "exception": false,
     "start_time": "2024-08-10T12:04:53.739302",
     "status": "completed"
    },
    "tags": []
   },
   "outputs": [
    {
     "data": {
      "text/html": [
       "<div>\n",
       "<style scoped>\n",
       "    .dataframe tbody tr th:only-of-type {\n",
       "        vertical-align: middle;\n",
       "    }\n",
       "\n",
       "    .dataframe tbody tr th {\n",
       "        vertical-align: top;\n",
       "    }\n",
       "\n",
       "    .dataframe thead th {\n",
       "        text-align: right;\n",
       "    }\n",
       "</style>\n",
       "<table border=\"1\" class=\"dataframe\">\n",
       "  <thead>\n",
       "    <tr style=\"text-align: right;\">\n",
       "      <th></th>\n",
       "      <th>isic_id</th>\n",
       "      <th>target</th>\n",
       "    </tr>\n",
       "  </thead>\n",
       "  <tbody>\n",
       "    <tr>\n",
       "      <th>0</th>\n",
       "      <td>ISIC_0015657</td>\n",
       "      <td>0</td>\n",
       "    </tr>\n",
       "    <tr>\n",
       "      <th>1</th>\n",
       "      <td>ISIC_0015729</td>\n",
       "      <td>0</td>\n",
       "    </tr>\n",
       "    <tr>\n",
       "      <th>2</th>\n",
       "      <td>ISIC_0015740</td>\n",
       "      <td>0</td>\n",
       "    </tr>\n",
       "  </tbody>\n",
       "</table>\n",
       "</div>"
      ],
      "text/plain": [
       "        isic_id  target\n",
       "0  ISIC_0015657       0\n",
       "1  ISIC_0015729       0\n",
       "2  ISIC_0015740       0"
      ]
     },
     "execution_count": 88,
     "metadata": {},
     "output_type": "execute_result"
    }
   ],
   "source": [
    "submission_df"
   ]
  },
  {
   "cell_type": "code",
   "execution_count": 89,
   "id": "aa224a1e",
   "metadata": {
    "execution": {
     "iopub.execute_input": "2024-08-10T12:04:54.578671Z",
     "iopub.status.busy": "2024-08-10T12:04:54.577781Z",
     "iopub.status.idle": "2024-08-10T12:04:54.582072Z",
     "shell.execute_reply": "2024-08-10T12:04:54.581150Z"
    },
    "papermill": {
     "duration": 0.307781,
     "end_time": "2024-08-10T12:04:54.584011",
     "exception": false,
     "start_time": "2024-08-10T12:04:54.276230",
     "status": "completed"
    },
    "tags": []
   },
   "outputs": [],
   "source": [
    "# shuffled_dataset = dataset.shuffle(len(dataset))\n",
    "# num_test_samples = int(len(dataset) * 0.2)  # Assuming 20% of the dataset for testing\n",
    "# test_dataset = shuffled_dataset.take(num_test_samples)\n",
    "# train_dataset = shuffled_dataset.take(int(len(dataset) * 0.8))"
   ]
  },
  {
   "cell_type": "code",
   "execution_count": 90,
   "id": "3d52e662",
   "metadata": {
    "execution": {
     "iopub.execute_input": "2024-08-10T12:04:55.100414Z",
     "iopub.status.busy": "2024-08-10T12:04:55.099516Z",
     "iopub.status.idle": "2024-08-10T12:04:55.104039Z",
     "shell.execute_reply": "2024-08-10T12:04:55.103052Z"
    },
    "papermill": {
     "duration": 0.268229,
     "end_time": "2024-08-10T12:04:55.106307",
     "exception": false,
     "start_time": "2024-08-10T12:04:54.838078",
     "status": "completed"
    },
    "tags": []
   },
   "outputs": [],
   "source": [
    "# len(test_dataset)"
   ]
  },
  {
   "cell_type": "code",
   "execution_count": 91,
   "id": "b056f8ce",
   "metadata": {
    "execution": {
     "iopub.execute_input": "2024-08-10T12:04:55.611887Z",
     "iopub.status.busy": "2024-08-10T12:04:55.611481Z",
     "iopub.status.idle": "2024-08-10T12:04:55.615805Z",
     "shell.execute_reply": "2024-08-10T12:04:55.614916Z"
    },
    "papermill": {
     "duration": 0.256022,
     "end_time": "2024-08-10T12:04:55.617894",
     "exception": false,
     "start_time": "2024-08-10T12:04:55.361872",
     "status": "completed"
    },
    "tags": []
   },
   "outputs": [],
   "source": [
    "# for image, label in dataset.take(1):\n",
    "#     print(label)"
   ]
  },
  {
   "cell_type": "code",
   "execution_count": 92,
   "id": "c047c900",
   "metadata": {
    "execution": {
     "iopub.execute_input": "2024-08-10T12:04:56.125925Z",
     "iopub.status.busy": "2024-08-10T12:04:56.125588Z",
     "iopub.status.idle": "2024-08-10T12:04:56.130503Z",
     "shell.execute_reply": "2024-08-10T12:04:56.128923Z"
    },
    "papermill": {
     "duration": 0.260494,
     "end_time": "2024-08-10T12:04:56.133158",
     "exception": false,
     "start_time": "2024-08-10T12:04:55.872664",
     "status": "completed"
    },
    "tags": []
   },
   "outputs": [],
   "source": [
    "# model = vision_model()\n",
    "# history = model.fit(previous_dataset, epochs=1)"
   ]
  },
  {
   "cell_type": "code",
   "execution_count": 93,
   "id": "7091f452",
   "metadata": {
    "execution": {
     "iopub.execute_input": "2024-08-10T12:04:56.690404Z",
     "iopub.status.busy": "2024-08-10T12:04:56.689537Z",
     "iopub.status.idle": "2024-08-10T12:04:56.695363Z",
     "shell.execute_reply": "2024-08-10T12:04:56.694399Z"
    },
    "papermill": {
     "duration": 0.304384,
     "end_time": "2024-08-10T12:04:56.697460",
     "exception": false,
     "start_time": "2024-08-10T12:04:56.393076",
     "status": "completed"
    },
    "tags": []
   },
   "outputs": [],
   "source": [
    "# skf = StratifiedKFold(n_splits=5)\n",
    "# fold_no = 1\n",
    "# results = []\n",
    "# images = df_concat[['file_path']]\n",
    "# target = df_concat[['target']]\n",
    "\n",
    "# for train_index, val_index in skf.split(images, target):\n",
    "#     print(f'Fold {fold_no}...')\n",
    "    \n",
    "#     X_train, X_val = images.iloc[train_index], images.iloc[val_index]\n",
    "#     y_train, y_val = target.iloc[train_index], target.iloc[val_index]\n",
    "    \n",
    "#     train_df = pd.concat([X_train, y_train],axis=1)\n",
    "#     test_df = pd.concat([X_val, y_val],axis=1)\n",
    "#     print(train_df.shape,test_df.shape)\n",
    "    \n",
    "#     vision_train_ds = create_dataset(train_df, IMAGE_SIZE, BATCH_SIZE,training=True,return_type='images')\n",
    "#     vision_test_ds = create_dataset(test_df, IMAGE_SIZE, BATCH_SIZE,return_type='images')\n",
    "#     # Instantiate the model for each fold\n",
    "#     model = vision_model()\n",
    "    \n",
    "#     # Train the model\n",
    "#     history = model.fit(vision_train_ds, epochs=2, validation_data=vision_test_ds,class_weight=class_weight)\n",
    "    \n",
    "#     # Evaluate the model on the validation set\n",
    "#     y_true,y_pred = unbatch_test_dataset(vision_test_ds,model)\n",
    "#     score = compute_partial_auc(y_true,y_pred, min_tpr=0.80)\n",
    "# #     scores = model.evaluate(vision_test_ds, verbose=0)\n",
    "#     print(f'Validation auc: {score}')\n",
    "    \n",
    "#     results.append(score)\n",
    "#     fold_no += 1\n",
    "\n",
    "# # Calculate the average performance\n",
    "# # average_score = np.mean(results, axis=0)\n",
    "# # print(f'\\nAverage validation loss: {average_score[0]} - Average validation accuracy: {average_score[1]}')\n"
   ]
  },
  {
   "cell_type": "markdown",
   "id": "d7a6a48e",
   "metadata": {
    "papermill": {
     "duration": 0.285039,
     "end_time": "2024-08-10T12:04:57.249379",
     "exception": false,
     "start_time": "2024-08-10T12:04:56.964340",
     "status": "completed"
    },
    "tags": []
   },
   "source": [
    "### Metadata Transformations "
   ]
  },
  {
   "cell_type": "code",
   "execution_count": 94,
   "id": "3270ed6c",
   "metadata": {
    "execution": {
     "iopub.execute_input": "2024-08-10T12:04:57.760381Z",
     "iopub.status.busy": "2024-08-10T12:04:57.759911Z",
     "iopub.status.idle": "2024-08-10T12:04:57.764600Z",
     "shell.execute_reply": "2024-08-10T12:04:57.763613Z"
    },
    "papermill": {
     "duration": 0.258319,
     "end_time": "2024-08-10T12:04:57.766652",
     "exception": false,
     "start_time": "2024-08-10T12:04:57.508333",
     "status": "completed"
    },
    "tags": []
   },
   "outputs": [],
   "source": [
    "# df_concat.columns"
   ]
  },
  {
   "cell_type": "code",
   "execution_count": 95,
   "id": "d80a2fa5",
   "metadata": {
    "execution": {
     "iopub.execute_input": "2024-08-10T12:04:58.293037Z",
     "iopub.status.busy": "2024-08-10T12:04:58.292652Z",
     "iopub.status.idle": "2024-08-10T12:04:58.297027Z",
     "shell.execute_reply": "2024-08-10T12:04:58.296061Z"
    },
    "papermill": {
     "duration": 0.26602,
     "end_time": "2024-08-10T12:04:58.299162",
     "exception": false,
     "start_time": "2024-08-10T12:04:58.033142",
     "status": "completed"
    },
    "tags": []
   },
   "outputs": [],
   "source": [
    "# drop_columns = [\n",
    "#     'isic_id', 'patient_id', 'image_type', 'tbp_tile_type', 'attribution', \n",
    "#     'copyright_license', 'lesion_id', 'iddx_full', 'iddx_1', 'iddx_2', \n",
    "#     'iddx_3', 'iddx_4', 'iddx_5', 'mel_mitotic_index', 'mel_thick_mm', \n",
    "#     'tbp_lv_dnn_lesion_confidence'\n",
    "# ]\n",
    "# df_concat = df_concat.drop(drop_columns,axis=1)"
   ]
  },
  {
   "cell_type": "code",
   "execution_count": 96,
   "id": "029b2265",
   "metadata": {
    "execution": {
     "iopub.execute_input": "2024-08-10T12:04:58.877366Z",
     "iopub.status.busy": "2024-08-10T12:04:58.876314Z",
     "iopub.status.idle": "2024-08-10T12:04:58.881101Z",
     "shell.execute_reply": "2024-08-10T12:04:58.880077Z"
    },
    "papermill": {
     "duration": 0.326226,
     "end_time": "2024-08-10T12:04:58.883291",
     "exception": false,
     "start_time": "2024-08-10T12:04:58.557065",
     "status": "completed"
    },
    "tags": []
   },
   "outputs": [],
   "source": [
    "# df_concat.shape"
   ]
  },
  {
   "cell_type": "code",
   "execution_count": 97,
   "id": "29441f9d",
   "metadata": {
    "execution": {
     "iopub.execute_input": "2024-08-10T12:04:59.409922Z",
     "iopub.status.busy": "2024-08-10T12:04:59.409565Z",
     "iopub.status.idle": "2024-08-10T12:04:59.413877Z",
     "shell.execute_reply": "2024-08-10T12:04:59.412860Z"
    },
    "papermill": {
     "duration": 0.266469,
     "end_time": "2024-08-10T12:04:59.416022",
     "exception": false,
     "start_time": "2024-08-10T12:04:59.149553",
     "status": "completed"
    },
    "tags": []
   },
   "outputs": [],
   "source": [
    "# df_concat.head()"
   ]
  },
  {
   "cell_type": "code",
   "execution_count": 98,
   "id": "a26a781f",
   "metadata": {
    "execution": {
     "iopub.execute_input": "2024-08-10T12:04:59.932121Z",
     "iopub.status.busy": "2024-08-10T12:04:59.931736Z",
     "iopub.status.idle": "2024-08-10T12:04:59.936105Z",
     "shell.execute_reply": "2024-08-10T12:04:59.935221Z"
    },
    "papermill": {
     "duration": 0.268842,
     "end_time": "2024-08-10T12:04:59.938272",
     "exception": false,
     "start_time": "2024-08-10T12:04:59.669430",
     "status": "completed"
    },
    "tags": []
   },
   "outputs": [],
   "source": [
    "# df_concat.dtypes"
   ]
  },
  {
   "cell_type": "code",
   "execution_count": 99,
   "id": "35891ae0",
   "metadata": {
    "execution": {
     "iopub.execute_input": "2024-08-10T12:05:00.449749Z",
     "iopub.status.busy": "2024-08-10T12:05:00.448796Z",
     "iopub.status.idle": "2024-08-10T12:05:00.453976Z",
     "shell.execute_reply": "2024-08-10T12:05:00.452769Z"
    },
    "papermill": {
     "duration": 0.264705,
     "end_time": "2024-08-10T12:05:00.456223",
     "exception": false,
     "start_time": "2024-08-10T12:05:00.191518",
     "status": "completed"
    },
    "tags": []
   },
   "outputs": [],
   "source": [
    "# df_concat  = encode(df_concat,['sex','anatom_site_general','tbp_lv_location','tbp_lv_location_simple'])"
   ]
  },
  {
   "cell_type": "code",
   "execution_count": 100,
   "id": "9f70a13e",
   "metadata": {
    "execution": {
     "iopub.execute_input": "2024-08-10T12:05:00.970420Z",
     "iopub.status.busy": "2024-08-10T12:05:00.969684Z",
     "iopub.status.idle": "2024-08-10T12:05:00.974510Z",
     "shell.execute_reply": "2024-08-10T12:05:00.973550Z"
    },
    "papermill": {
     "duration": 0.265973,
     "end_time": "2024-08-10T12:05:00.976516",
     "exception": false,
     "start_time": "2024-08-10T12:05:00.710543",
     "status": "completed"
    },
    "tags": []
   },
   "outputs": [],
   "source": [
    "# df_concat.head()"
   ]
  },
  {
   "cell_type": "code",
   "execution_count": 101,
   "id": "e9773ff0",
   "metadata": {
    "execution": {
     "iopub.execute_input": "2024-08-10T12:05:01.497371Z",
     "iopub.status.busy": "2024-08-10T12:05:01.496674Z",
     "iopub.status.idle": "2024-08-10T12:05:01.500960Z",
     "shell.execute_reply": "2024-08-10T12:05:01.499999Z"
    },
    "papermill": {
     "duration": 0.273103,
     "end_time": "2024-08-10T12:05:01.503023",
     "exception": false,
     "start_time": "2024-08-10T12:05:01.229920",
     "status": "completed"
    },
    "tags": []
   },
   "outputs": [],
   "source": [
    "# df_concat.columns"
   ]
  },
  {
   "cell_type": "code",
   "execution_count": 102,
   "id": "3529b2d9",
   "metadata": {
    "execution": {
     "iopub.execute_input": "2024-08-10T12:05:02.074458Z",
     "iopub.status.busy": "2024-08-10T12:05:02.073953Z",
     "iopub.status.idle": "2024-08-10T12:05:02.078780Z",
     "shell.execute_reply": "2024-08-10T12:05:02.077923Z"
    },
    "papermill": {
     "duration": 0.271681,
     "end_time": "2024-08-10T12:05:02.080906",
     "exception": false,
     "start_time": "2024-08-10T12:05:01.809225",
     "status": "completed"
    },
    "tags": []
   },
   "outputs": [],
   "source": [
    "# columns = ['age_approx', 'sex', 'anatom_site_general',\n",
    "#        'clin_size_long_diam_mm', 'tbp_lv_A', 'tbp_lv_Aext', 'tbp_lv_B',\n",
    "#        'tbp_lv_Bext', 'tbp_lv_C', 'tbp_lv_Cext', 'tbp_lv_H', 'tbp_lv_Hext',\n",
    "#        'tbp_lv_L', 'tbp_lv_Lext', 'tbp_lv_areaMM2', 'tbp_lv_area_perim_ratio',\n",
    "#        'tbp_lv_color_std_mean', 'tbp_lv_deltaA', 'tbp_lv_deltaB',\n",
    "#        'tbp_lv_deltaL', 'tbp_lv_deltaLB', 'tbp_lv_deltaLBnorm',\n",
    "#        'tbp_lv_eccentricity', 'tbp_lv_location', 'tbp_lv_location_simple',\n",
    "#        'tbp_lv_minorAxisMM', 'tbp_lv_nevi_confidence', 'tbp_lv_norm_border',\n",
    "#        'tbp_lv_norm_color', 'tbp_lv_perimeterMM',\n",
    "#        'tbp_lv_radial_color_std_max', 'tbp_lv_stdL', 'tbp_lv_stdLExt',\n",
    "#        'tbp_lv_symm_2axis', 'tbp_lv_symm_2axis_angle', 'tbp_lv_x', 'tbp_lv_y',\n",
    "#        'tbp_lv_z']"
   ]
  },
  {
   "cell_type": "code",
   "execution_count": 103,
   "id": "4eddd1be",
   "metadata": {
    "execution": {
     "iopub.execute_input": "2024-08-10T12:05:02.598809Z",
     "iopub.status.busy": "2024-08-10T12:05:02.598434Z",
     "iopub.status.idle": "2024-08-10T12:05:02.602816Z",
     "shell.execute_reply": "2024-08-10T12:05:02.601751Z"
    },
    "papermill": {
     "duration": 0.268512,
     "end_time": "2024-08-10T12:05:02.604884",
     "exception": false,
     "start_time": "2024-08-10T12:05:02.336372",
     "status": "completed"
    },
    "tags": []
   },
   "outputs": [],
   "source": [
    "# df_concat = scale_columns(df_concat,columns)"
   ]
  },
  {
   "cell_type": "code",
   "execution_count": 104,
   "id": "74966780",
   "metadata": {
    "execution": {
     "iopub.execute_input": "2024-08-10T12:05:03.123892Z",
     "iopub.status.busy": "2024-08-10T12:05:03.123137Z",
     "iopub.status.idle": "2024-08-10T12:05:03.127167Z",
     "shell.execute_reply": "2024-08-10T12:05:03.126276Z"
    },
    "papermill": {
     "duration": 0.268042,
     "end_time": "2024-08-10T12:05:03.129285",
     "exception": false,
     "start_time": "2024-08-10T12:05:02.861243",
     "status": "completed"
    },
    "tags": []
   },
   "outputs": [],
   "source": [
    "# df_concat.head()"
   ]
  },
  {
   "cell_type": "code",
   "execution_count": 105,
   "id": "2393ffcf",
   "metadata": {
    "execution": {
     "iopub.execute_input": "2024-08-10T12:05:03.646871Z",
     "iopub.status.busy": "2024-08-10T12:05:03.646494Z",
     "iopub.status.idle": "2024-08-10T12:05:03.651126Z",
     "shell.execute_reply": "2024-08-10T12:05:03.650109Z"
    },
    "papermill": {
     "duration": 0.268933,
     "end_time": "2024-08-10T12:05:03.653384",
     "exception": false,
     "start_time": "2024-08-10T12:05:03.384451",
     "status": "completed"
    },
    "tags": []
   },
   "outputs": [],
   "source": [
    "# train_df, test_df = train_test_split(df_concat, test_size=0.11, \n",
    "#                                      stratify=df_concat[\"target\"].values, random_state=42)\n",
    "# # 5% for validation\n",
    "# # train_df, val_df = train_test_split(train_df, test_size=0.11,stratify=train_df[\"target\"].values, random_state=42)\n",
    "\n",
    "# print(f\"Total training examples: {len(train_df)}\")\n",
    "# # print(f\"Total validation examples: {len(val_df)}\")\n",
    "# print(f\"Total test examples: {len(test_df)}\")"
   ]
  },
  {
   "cell_type": "code",
   "execution_count": 106,
   "id": "8bbb0956",
   "metadata": {
    "execution": {
     "iopub.execute_input": "2024-08-10T12:05:04.178313Z",
     "iopub.status.busy": "2024-08-10T12:05:04.177637Z",
     "iopub.status.idle": "2024-08-10T12:05:04.181988Z",
     "shell.execute_reply": "2024-08-10T12:05:04.180996Z"
    },
    "papermill": {
     "duration": 0.269593,
     "end_time": "2024-08-10T12:05:04.184162",
     "exception": false,
     "start_time": "2024-08-10T12:05:03.914569",
     "status": "completed"
    },
    "tags": []
   },
   "outputs": [],
   "source": [
    "# labels = df['target']"
   ]
  },
  {
   "cell_type": "code",
   "execution_count": 107,
   "id": "d71c8bd4",
   "metadata": {
    "execution": {
     "iopub.execute_input": "2024-08-10T12:05:04.699295Z",
     "iopub.status.busy": "2024-08-10T12:05:04.698873Z",
     "iopub.status.idle": "2024-08-10T12:05:04.703264Z",
     "shell.execute_reply": "2024-08-10T12:05:04.702239Z"
    },
    "papermill": {
     "duration": 0.264483,
     "end_time": "2024-08-10T12:05:04.705316",
     "exception": false,
     "start_time": "2024-08-10T12:05:04.440833",
     "status": "completed"
    },
    "tags": []
   },
   "outputs": [],
   "source": [
    "# labels.shape"
   ]
  },
  {
   "cell_type": "markdown",
   "id": "96ea829e",
   "metadata": {
    "papermill": {
     "duration": 0.255983,
     "end_time": "2024-08-10T12:05:05.219695",
     "exception": false,
     "start_time": "2024-08-10T12:05:04.963712",
     "status": "completed"
    },
    "tags": []
   },
   "source": [
    "https://github.com/sayakpaul/Multimodal-Entailment-Baseline/blob/main/multimodal_entailment.ipynb"
   ]
  },
  {
   "cell_type": "code",
   "execution_count": 108,
   "id": "c804019e",
   "metadata": {
    "execution": {
     "iopub.execute_input": "2024-08-10T12:05:05.784212Z",
     "iopub.status.busy": "2024-08-10T12:05:05.783785Z",
     "iopub.status.idle": "2024-08-10T12:05:05.789047Z",
     "shell.execute_reply": "2024-08-10T12:05:05.788116Z"
    },
    "papermill": {
     "duration": 0.268037,
     "end_time": "2024-08-10T12:05:05.791127",
     "exception": false,
     "start_time": "2024-08-10T12:05:05.523090",
     "status": "completed"
    },
    "tags": []
   },
   "outputs": [],
   "source": [
    "# class ProjectEmbeddings(keras.layers.Layer):\n",
    "#     def __init__(self, num_projection_layers, projection_dims, dropout_rate, **kwargs):\n",
    "#         super(ProjectEmbeddings, self).__init__(**kwargs)\n",
    "#         self.num_projection_layers = num_projection_layers\n",
    "#         self.projection_dims = projection_dims\n",
    "#         self.dropout_rate = dropout_rate\n",
    "        \n",
    "#         # Initialize Dense and Dropout layers in __init__ or build\n",
    "#         self.projection_layers = [layers.Dense(self.projection_dims) for _ in range(self.num_projection_layers)]\n",
    "#         self.dropout_layers = [layers.Dropout(self.dropout_rate) for _ in range(self.num_projection_layers - 1)]\n",
    "\n",
    "#     def call(self, embeddings):\n",
    "#         x = embeddings\n",
    "#         for i in range(self.num_projection_layers):\n",
    "#             x = self.projection_layers[i](x)\n",
    "#             if i < self.num_projection_layers - 1:\n",
    "#                 x = tf.nn.gelu(x)\n",
    "#                 x = self.dropout_layers[i](x)\n",
    "#         return x"
   ]
  },
  {
   "cell_type": "code",
   "execution_count": 109,
   "id": "9354a3a1",
   "metadata": {
    "execution": {
     "iopub.execute_input": "2024-08-10T12:05:06.322136Z",
     "iopub.status.busy": "2024-08-10T12:05:06.321153Z",
     "iopub.status.idle": "2024-08-10T12:05:06.325994Z",
     "shell.execute_reply": "2024-08-10T12:05:06.325000Z"
    },
    "papermill": {
     "duration": 0.277061,
     "end_time": "2024-08-10T12:05:06.327950",
     "exception": false,
     "start_time": "2024-08-10T12:05:06.050889",
     "status": "completed"
    },
    "tags": []
   },
   "outputs": [],
   "source": [
    "# df_concat.shape"
   ]
  },
  {
   "cell_type": "markdown",
   "id": "fe98893a",
   "metadata": {
    "papermill": {
     "duration": 0.259279,
     "end_time": "2024-08-10T12:05:06.847536",
     "exception": false,
     "start_time": "2024-08-10T12:05:06.588257",
     "status": "completed"
    },
    "tags": []
   },
   "source": [
    "(7860, 56), negative shape: (11790, 56)"
   ]
  },
  {
   "cell_type": "code",
   "execution_count": 110,
   "id": "3cf485d9",
   "metadata": {
    "execution": {
     "iopub.execute_input": "2024-08-10T12:05:07.395377Z",
     "iopub.status.busy": "2024-08-10T12:05:07.394957Z",
     "iopub.status.idle": "2024-08-10T12:05:07.399472Z",
     "shell.execute_reply": "2024-08-10T12:05:07.398440Z"
    },
    "papermill": {
     "duration": 0.269099,
     "end_time": "2024-08-10T12:05:07.401556",
     "exception": false,
     "start_time": "2024-08-10T12:05:07.132457",
     "status": "completed"
    },
    "tags": []
   },
   "outputs": [],
   "source": [
    "# vision_test_ds"
   ]
  },
  {
   "cell_type": "code",
   "execution_count": 111,
   "id": "b466c64c",
   "metadata": {
    "execution": {
     "iopub.execute_input": "2024-08-10T12:05:07.956664Z",
     "iopub.status.busy": "2024-08-10T12:05:07.956285Z",
     "iopub.status.idle": "2024-08-10T12:05:07.960458Z",
     "shell.execute_reply": "2024-08-10T12:05:07.959562Z"
    },
    "papermill": {
     "duration": 0.309296,
     "end_time": "2024-08-10T12:05:07.962591",
     "exception": false,
     "start_time": "2024-08-10T12:05:07.653295",
     "status": "completed"
    },
    "tags": []
   },
   "outputs": [],
   "source": [
    "# # Create the dataset\n",
    "# vision_train_ds = create_dataset(train_df, IMAGE_SIZE, batch_size,training=True,return_type='images')\n",
    "# vision_test_ds = create_dataset(test_df, IMAGE_SIZE, batch_size,return_type='images')\n",
    "# # val_ds = create_dataset(val_df, image_size, batch_size)"
   ]
  },
  {
   "cell_type": "code",
   "execution_count": 112,
   "id": "1346d7da",
   "metadata": {
    "execution": {
     "iopub.execute_input": "2024-08-10T12:05:08.477781Z",
     "iopub.status.busy": "2024-08-10T12:05:08.477383Z",
     "iopub.status.idle": "2024-08-10T12:05:08.481924Z",
     "shell.execute_reply": "2024-08-10T12:05:08.481044Z"
    },
    "papermill": {
     "duration": 0.267461,
     "end_time": "2024-08-10T12:05:08.484129",
     "exception": false,
     "start_time": "2024-08-10T12:05:08.216668",
     "status": "completed"
    },
    "tags": []
   },
   "outputs": [],
   "source": [
    "# vision_history = vision_model.fit(\n",
    "#     train_ds,\n",
    "#     validation_data=test_ds,\n",
    "#     epochs=20,\n",
    "#     class_weight=class_weight,\n",
    "#     callbacks=[partial_auc_callback]\n",
    "# )"
   ]
  },
  {
   "cell_type": "code",
   "execution_count": 113,
   "id": "33136c88",
   "metadata": {
    "execution": {
     "iopub.execute_input": "2024-08-10T12:05:09.003817Z",
     "iopub.status.busy": "2024-08-10T12:05:09.003409Z",
     "iopub.status.idle": "2024-08-10T12:05:09.007670Z",
     "shell.execute_reply": "2024-08-10T12:05:09.006701Z"
    },
    "papermill": {
     "duration": 0.266521,
     "end_time": "2024-08-10T12:05:09.009745",
     "exception": false,
     "start_time": "2024-08-10T12:05:08.743224",
     "status": "completed"
    },
    "tags": []
   },
   "outputs": [],
   "source": [
    "# for (images, metadata), labels in train_ds.take(1):\n",
    "#     print(images.shape,metadata.shape,labels.shape)"
   ]
  },
  {
   "cell_type": "code",
   "execution_count": 114,
   "id": "5e83f506",
   "metadata": {
    "execution": {
     "iopub.execute_input": "2024-08-10T12:05:09.540453Z",
     "iopub.status.busy": "2024-08-10T12:05:09.539877Z",
     "iopub.status.idle": "2024-08-10T12:05:09.547290Z",
     "shell.execute_reply": "2024-08-10T12:05:09.546037Z"
    },
    "papermill": {
     "duration": 0.2784,
     "end_time": "2024-08-10T12:05:09.549933",
     "exception": false,
     "start_time": "2024-08-10T12:05:09.271533",
     "status": "completed"
    },
    "tags": []
   },
   "outputs": [],
   "source": [
    "# !pip install -q focal-loss"
   ]
  },
  {
   "cell_type": "code",
   "execution_count": 115,
   "id": "6c82c255",
   "metadata": {
    "execution": {
     "iopub.execute_input": "2024-08-10T12:05:10.126016Z",
     "iopub.status.busy": "2024-08-10T12:05:10.125026Z",
     "iopub.status.idle": "2024-08-10T12:05:10.131253Z",
     "shell.execute_reply": "2024-08-10T12:05:10.130241Z"
    },
    "papermill": {
     "duration": 0.29644,
     "end_time": "2024-08-10T12:05:10.133844",
     "exception": false,
     "start_time": "2024-08-10T12:05:09.837404",
     "status": "completed"
    },
    "tags": []
   },
   "outputs": [],
   "source": [
    "# from focal_loss import BinaryFocalLoss"
   ]
  },
  {
   "cell_type": "code",
   "execution_count": 116,
   "id": "71dd700b",
   "metadata": {
    "execution": {
     "iopub.execute_input": "2024-08-10T12:05:10.711830Z",
     "iopub.status.busy": "2024-08-10T12:05:10.711011Z",
     "iopub.status.idle": "2024-08-10T12:05:10.715984Z",
     "shell.execute_reply": "2024-08-10T12:05:10.715004Z"
    },
    "papermill": {
     "duration": 0.313928,
     "end_time": "2024-08-10T12:05:10.718082",
     "exception": false,
     "start_time": "2024-08-10T12:05:10.404154",
     "status": "completed"
    },
    "tags": []
   },
   "outputs": [],
   "source": [
    "# def create_table_encoder(\n",
    "#     num_projection_layers, projection_dims, dropout_rate, trainable=False\n",
    "# ):\n",
    "#     table_input = tf.keras.Input(shape=(38,))\n",
    "#     dense_1024 = tf.keras.layers.Dense(1024, activation='relu')(table_input)\n",
    "#     dense_512 = tf.keras.layers.Dense(512, activation='relu')(dense_1024)\n",
    "\n",
    "#     # Project the embeddings produced by the model.\n",
    "#     outputs = ProjectEmbeddings(num_projection_layers, projection_dims, dropout_rate)(dense_512)\n",
    "\n",
    "#     # Create the text encoder model.\n",
    "#     return keras.Model(table_input, outputs, name=\"table_encoder\")"
   ]
  },
  {
   "cell_type": "code",
   "execution_count": 117,
   "id": "adaf3dc3",
   "metadata": {
    "execution": {
     "iopub.execute_input": "2024-08-10T12:05:11.235785Z",
     "iopub.status.busy": "2024-08-10T12:05:11.235430Z",
     "iopub.status.idle": "2024-08-10T12:05:11.239644Z",
     "shell.execute_reply": "2024-08-10T12:05:11.238760Z"
    },
    "papermill": {
     "duration": 0.261758,
     "end_time": "2024-08-10T12:05:11.241776",
     "exception": false,
     "start_time": "2024-08-10T12:05:10.980018",
     "status": "completed"
    },
    "tags": []
   },
   "outputs": [],
   "source": [
    "# table_encoder = create_table_encoder(num_projection_layers=1, projection_dims=256, dropout_rate=0.1)\n",
    "# # keras.utils.plot_model(table_encoder, show_shapes=True)"
   ]
  },
  {
   "cell_type": "code",
   "execution_count": 118,
   "id": "478d8564",
   "metadata": {
    "execution": {
     "iopub.execute_input": "2024-08-10T12:05:11.754744Z",
     "iopub.status.busy": "2024-08-10T12:05:11.754362Z",
     "iopub.status.idle": "2024-08-10T12:05:11.759585Z",
     "shell.execute_reply": "2024-08-10T12:05:11.758557Z"
    },
    "papermill": {
     "duration": 0.261419,
     "end_time": "2024-08-10T12:05:11.761854",
     "exception": false,
     "start_time": "2024-08-10T12:05:11.500435",
     "status": "completed"
    },
    "tags": []
   },
   "outputs": [],
   "source": [
    "# def create_multimodal_model(num_projection_layers=1, projection_dims=256, dropout_rate=0.1, \n",
    "#                      vision_trainable=False, text_trainable=False):\n",
    "#     # Receive the images as inputs.\n",
    "#     image_1 = keras.Input(shape=(139, 139, 3), name=\"image_1\")\n",
    "#     table_input = tf.keras.Input(shape=(38,))\n",
    "\n",
    "    \n",
    "\n",
    "#     # Create the encoders.\n",
    "#     vision_encoder = create_vision_encoder(num_projection_layers, projection_dims, dropout_rate, vision_trainable)\n",
    "#     table_encoder = create_table_encoder(num_projection_layers, projection_dims, dropout_rate, text_trainable)\n",
    "\n",
    "#     # Fetch the embedding projections.\n",
    "#     vision_projections = vision_encoder(image_1)\n",
    "#     table_projections = table_encoder(table_input)\n",
    "\n",
    "#     # Concatenate the projections and pass through the classification layer.\n",
    "#     concatenated = keras.layers.Concatenate()([vision_projections, table_projections])\n",
    "#     outputs = keras.layers.Dense(1, activation=\"sigmoid\")(concatenated)\n",
    "#     return keras.Model([image_1, table_input], outputs)"
   ]
  },
  {
   "cell_type": "code",
   "execution_count": 119,
   "id": "ee21a0e5",
   "metadata": {
    "execution": {
     "iopub.execute_input": "2024-08-10T12:05:12.294939Z",
     "iopub.status.busy": "2024-08-10T12:05:12.294583Z",
     "iopub.status.idle": "2024-08-10T12:05:12.298525Z",
     "shell.execute_reply": "2024-08-10T12:05:12.297647Z"
    },
    "papermill": {
     "duration": 0.264318,
     "end_time": "2024-08-10T12:05:12.300522",
     "exception": false,
     "start_time": "2024-08-10T12:05:12.036204",
     "status": "completed"
    },
    "tags": []
   },
   "outputs": [],
   "source": [
    "# vision_model = create_vision_encoder(2, 256, 0.5,True)\n",
    "# keras.utils.plot_model(vision_model, show_shapes=True)"
   ]
  },
  {
   "cell_type": "code",
   "execution_count": 120,
   "id": "2dad8885",
   "metadata": {
    "execution": {
     "iopub.execute_input": "2024-08-10T12:05:12.821354Z",
     "iopub.status.busy": "2024-08-10T12:05:12.820485Z",
     "iopub.status.idle": "2024-08-10T12:05:12.825008Z",
     "shell.execute_reply": "2024-08-10T12:05:12.824076Z"
    },
    "papermill": {
     "duration": 0.270016,
     "end_time": "2024-08-10T12:05:12.827003",
     "exception": false,
     "start_time": "2024-08-10T12:05:12.556987",
     "status": "completed"
    },
    "tags": []
   },
   "outputs": [],
   "source": [
    "# vision_model.output"
   ]
  },
  {
   "cell_type": "code",
   "execution_count": 121,
   "id": "1f695a01",
   "metadata": {
    "execution": {
     "iopub.execute_input": "2024-08-10T12:05:13.347494Z",
     "iopub.status.busy": "2024-08-10T12:05:13.346820Z",
     "iopub.status.idle": "2024-08-10T12:05:13.351230Z",
     "shell.execute_reply": "2024-08-10T12:05:13.350265Z"
    },
    "papermill": {
     "duration": 0.266974,
     "end_time": "2024-08-10T12:05:13.353364",
     "exception": false,
     "start_time": "2024-08-10T12:05:13.086390",
     "status": "completed"
    },
    "tags": []
   },
   "outputs": [],
   "source": [
    "\n",
    "# multimodal_model = create_multimodal_model(vision_trainable=True, text_trainable=True)\n",
    "# keras.utils.plot_model(multimodal_model, show_shapes=True)"
   ]
  },
  {
   "cell_type": "code",
   "execution_count": 122,
   "id": "dd866ce5",
   "metadata": {
    "execution": {
     "iopub.execute_input": "2024-08-10T12:05:13.875522Z",
     "iopub.status.busy": "2024-08-10T12:05:13.875091Z",
     "iopub.status.idle": "2024-08-10T12:05:13.879777Z",
     "shell.execute_reply": "2024-08-10T12:05:13.878783Z"
    },
    "papermill": {
     "duration": 0.269042,
     "end_time": "2024-08-10T12:05:13.882157",
     "exception": false,
     "start_time": "2024-08-10T12:05:13.613115",
     "status": "completed"
    },
    "tags": []
   },
   "outputs": [],
   "source": [
    "# multimodal_model.compile(optimizer=\"adam\", loss=\"binary_crossentropy\", metrics=METRICS)\n"
   ]
  },
  {
   "cell_type": "code",
   "execution_count": 123,
   "id": "e9ebd978",
   "metadata": {
    "execution": {
     "iopub.execute_input": "2024-08-10T12:05:14.399473Z",
     "iopub.status.busy": "2024-08-10T12:05:14.398598Z",
     "iopub.status.idle": "2024-08-10T12:05:14.403162Z",
     "shell.execute_reply": "2024-08-10T12:05:14.402088Z"
    },
    "papermill": {
     "duration": 0.263363,
     "end_time": "2024-08-10T12:05:14.405293",
     "exception": false,
     "start_time": "2024-08-10T12:05:14.141930",
     "status": "completed"
    },
    "tags": []
   },
   "outputs": [],
   "source": [
    "# history = multimodal_model.fit(\n",
    "#     train_ds,\n",
    "#     validation_data=test_ds,\n",
    "#     epochs=10,\n",
    "#     class_weight=class_weight\n",
    "# )"
   ]
  },
  {
   "cell_type": "code",
   "execution_count": 124,
   "id": "57df5bd3",
   "metadata": {
    "execution": {
     "iopub.execute_input": "2024-08-10T12:05:14.982628Z",
     "iopub.status.busy": "2024-08-10T12:05:14.981797Z",
     "iopub.status.idle": "2024-08-10T12:05:14.986422Z",
     "shell.execute_reply": "2024-08-10T12:05:14.985287Z"
    },
    "papermill": {
     "duration": 0.264554,
     "end_time": "2024-08-10T12:05:14.988540",
     "exception": false,
     "start_time": "2024-08-10T12:05:14.723986",
     "status": "completed"
    },
    "tags": []
   },
   "outputs": [],
   "source": [
    "# from focal_loss import BinaryFocalLoss"
   ]
  },
  {
   "cell_type": "code",
   "execution_count": 125,
   "id": "8697c1cc",
   "metadata": {
    "execution": {
     "iopub.execute_input": "2024-08-10T12:05:15.515588Z",
     "iopub.status.busy": "2024-08-10T12:05:15.514830Z",
     "iopub.status.idle": "2024-08-10T12:05:15.519090Z",
     "shell.execute_reply": "2024-08-10T12:05:15.518173Z"
    },
    "papermill": {
     "duration": 0.274151,
     "end_time": "2024-08-10T12:05:15.521114",
     "exception": false,
     "start_time": "2024-08-10T12:05:15.246963",
     "status": "completed"
    },
    "tags": []
   },
   "outputs": [],
   "source": [
    "# multimodal_model_focal = create_multimodal_model()\n",
    "# multimodal_model_focal.compile(\n",
    "#     optimizer=\"adam\", loss=BinaryFocalLoss(gamma=2), metrics=METRICS\n",
    "# )\n",
    "# history = multimodal_model_focal.fit(\n",
    "#     train_ds,\n",
    "#     validation_data=test_ds,\n",
    "#     epochs=10\n",
    "# )"
   ]
  },
  {
   "cell_type": "code",
   "execution_count": null,
   "id": "cd3082e9",
   "metadata": {
    "papermill": {
     "duration": 0.274101,
     "end_time": "2024-08-10T12:05:16.049368",
     "exception": false,
     "start_time": "2024-08-10T12:05:15.775267",
     "status": "completed"
    },
    "tags": []
   },
   "outputs": [],
   "source": []
  },
  {
   "cell_type": "code",
   "execution_count": null,
   "id": "f701f6e2",
   "metadata": {
    "papermill": {
     "duration": 0.261852,
     "end_time": "2024-08-10T12:05:16.582468",
     "exception": false,
     "start_time": "2024-08-10T12:05:16.320616",
     "status": "completed"
    },
    "tags": []
   },
   "outputs": [],
   "source": []
  }
 ],
 "metadata": {
  "kaggle": {
   "accelerator": "nvidiaTeslaT4",
   "dataSources": [
    {
     "databundleVersionId": 9094797,
     "sourceId": 63056,
     "sourceType": "competition"
    },
    {
     "datasetId": 5295517,
     "sourceId": 8805063,
     "sourceType": "datasetVersion"
    },
    {
     "datasetId": 5295538,
     "sourceId": 8805089,
     "sourceType": "datasetVersion"
    },
    {
     "datasetId": 5295507,
     "sourceId": 8805188,
     "sourceType": "datasetVersion"
    },
    {
     "datasetId": 5524357,
     "sourceId": 9146005,
     "sourceType": "datasetVersion"
    }
   ],
   "dockerImageVersionId": 30746,
   "isGpuEnabled": true,
   "isInternetEnabled": false,
   "language": "python",
   "sourceType": "notebook"
  },
  "kernelspec": {
   "display_name": "Python 3",
   "language": "python",
   "name": "python3"
  },
  "language_info": {
   "codemirror_mode": {
    "name": "ipython",
    "version": 3
   },
   "file_extension": ".py",
   "mimetype": "text/x-python",
   "name": "python",
   "nbconvert_exporter": "python",
   "pygments_lexer": "ipython3",
   "version": "3.10.13"
  },
  "papermill": {
   "default_parameters": {},
   "duration": 340.633832,
   "end_time": "2024-08-10T12:05:20.127679",
   "environment_variables": {},
   "exception": null,
   "input_path": "__notebook__.ipynb",
   "output_path": "__notebook__.ipynb",
   "parameters": {},
   "start_time": "2024-08-10T11:59:39.493847",
   "version": "2.5.0"
  }
 },
 "nbformat": 4,
 "nbformat_minor": 5
}
